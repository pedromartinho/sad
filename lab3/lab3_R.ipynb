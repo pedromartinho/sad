{
 "cells": [
  {
   "cell_type": "markdown",
   "metadata": {},
   "source": [
    "## Import packages"
   ]
  },
  {
   "cell_type": "code",
   "execution_count": 6,
   "metadata": {},
   "outputs": [
    {
     "name": "stderr",
     "output_type": "stream",
     "text": [
      "Installing package into ‘/home/martinho/R/x86_64-pc-linux-gnu-library/3.3’\n",
      "(as ‘lib’ is unspecified)\n"
     ]
    }
   ],
   "source": [
    "install.packages(\"arules\")\n",
    "library(arules)"
   ]
  },
  {
   "cell_type": "code",
   "execution_count": 25,
   "metadata": {},
   "outputs": [
    {
     "name": "stderr",
     "output_type": "stream",
     "text": [
      "Installing package into ‘/home/martinho/R/x86_64-pc-linux-gnu-library/3.3’\n",
      "(as ‘lib’ is unspecified)\n"
     ]
    }
   ],
   "source": [
    "install.packages(\"ggplot2\")"
   ]
  },
  {
   "cell_type": "code",
   "execution_count": 7,
   "metadata": {},
   "outputs": [
    {
     "name": "stderr",
     "output_type": "stream",
     "text": [
      "Installing package into ‘/home/martinho/R/x86_64-pc-linux-gnu-library/3.3’\n",
      "(as ‘lib’ is unspecified)\n"
     ]
    }
   ],
   "source": [
    "install.packages(\"clv\")"
   ]
  },
  {
   "cell_type": "code",
   "execution_count": 8,
   "metadata": {},
   "outputs": [
    {
     "name": "stderr",
     "output_type": "stream",
     "text": [
      "Installing package into ‘/home/martinho/R/x86_64-pc-linux-gnu-library/3.3’\n",
      "(as ‘lib’ is unspecified)\n"
     ]
    }
   ],
   "source": [
    "install.packages(\"klaR\")"
   ]
  },
  {
   "cell_type": "code",
   "execution_count": 9,
   "metadata": {},
   "outputs": [
    {
     "name": "stderr",
     "output_type": "stream",
     "text": [
      "Installing package into ‘/home/martinho/R/x86_64-pc-linux-gnu-library/3.3’\n",
      "(as ‘lib’ is unspecified)\n"
     ]
    }
   ],
   "source": [
    "install.packages(\"caret\")"
   ]
  },
  {
   "cell_type": "code",
   "execution_count": 12,
   "metadata": {
    "scrolled": true
   },
   "outputs": [
    {
     "name": "stderr",
     "output_type": "stream",
     "text": [
      "Installing package into ‘/home/martinho/R/x86_64-pc-linux-gnu-library/3.3’\n",
      "(as ‘lib’ is unspecified)\n"
     ]
    }
   ],
   "source": [
    "install.packages(\"dplyr\")"
   ]
  },
  {
   "cell_type": "code",
   "execution_count": 11,
   "metadata": {},
   "outputs": [],
   "source": [
    "discretize_all = function(table_d, type, n){\n",
    "    for (i in 1:ncol(table_d)) {\n",
    "        if (is.numeric(table_d[[i]])) {\n",
    "            table_d[[i]]  =  discretize(table_d[[i]],  method  =  type,  categories  =  n, ordered=TRUE)\n",
    "        }\n",
    "    }\n",
    "    print(summary(table_d))\n",
    "    return(table_d);\n",
    "}"
   ]
  },
  {
   "cell_type": "markdown",
   "metadata": {},
   "source": [
    "#### Change directory"
   ]
  },
  {
   "cell_type": "code",
   "execution_count": 13,
   "metadata": {},
   "outputs": [],
   "source": [
    "setwd(\"~/Documents/IST/SAD/lab3\")"
   ]
  },
  {
   "cell_type": "markdown",
   "metadata": {},
   "source": [
    "## 1. - example.csv e adult.csv\n",
    "### a."
   ]
  },
  {
   "cell_type": "code",
   "execution_count": 22,
   "metadata": {},
   "outputs": [
    {
     "name": "stderr",
     "output_type": "stream",
     "text": [
      "Parsed with column specification:\n",
      "cols(\n",
      "  sepallength = col_double(),\n",
      "  sepalwidth = col_double(),\n",
      "  petallength = col_double(),\n",
      "  petalwidth = col_double(),\n",
      "  class = col_character()\n",
      ")\n"
     ]
    },
    {
     "data": {
      "text/html": [
       "<ol class=list-inline>\n",
       "\t<li>'tbl_df'</li>\n",
       "\t<li>'tbl'</li>\n",
       "\t<li>'data.frame'</li>\n",
       "</ol>\n"
      ],
      "text/latex": [
       "\\begin{enumerate*}\n",
       "\\item 'tbl\\_df'\n",
       "\\item 'tbl'\n",
       "\\item 'data.frame'\n",
       "\\end{enumerate*}\n"
      ],
      "text/markdown": [
       "1. 'tbl_df'\n",
       "2. 'tbl'\n",
       "3. 'data.frame'\n",
       "\n",
       "\n"
      ],
      "text/plain": [
       "[1] \"tbl_df\"     \"tbl\"        \"data.frame\""
      ]
     },
     "metadata": {},
     "output_type": "display_data"
    }
   ],
   "source": [
    "library(readr)\n",
    "iris = read_csv(\"data/iris.csv\")\n",
    "class(iris)"
   ]
  },
  {
   "cell_type": "code",
   "execution_count": 28,
   "metadata": {},
   "outputs": [
    {
     "data": {},
     "metadata": {},
     "output_type": "display_data"
    },
    {
     "data": {
      "image/png": "[encoded data removed]",
      "text/plain": [
       "plot without title"
      ]
     },
     "metadata": {},
     "output_type": "display_data"
    }
   ],
   "source": [
    "library(ggplot2)\n",
    "ggplot(iris, aes(petallength, petalwidth, idth, color = class)) + geom_point()"
   ]
  },
  {
   "cell_type": "code",
   "execution_count": null,
   "metadata": {},
   "outputs": [],
   "source": [
    "irisCluster <- kmeans(iris[, 3:4], 3, nstart = 20)"
   ]
  },
  {
   "cell_type": "code",
   "execution_count": null,
   "metadata": {},
   "outputs": [],
   "source": [
    "irisCluster$cluster <-as.factor(irisCluster$cluster)"
   ]
  },
  {
   "cell_type": "code",
   "execution_count": null,
   "metadata": {},
   "outputs": [],
   "source": []
  },
  {
   "cell_type": "code",
   "execution_count": null,
   "metadata": {},
   "outputs": [],
   "source": [
    "inspect(example)"
   ]
  },
  {
   "cell_type": "code",
   "execution_count": null,
   "metadata": {},
   "outputs": [],
   "source": [
    "is <- apriori(example, parameter = list(support= 0.2, target=\"frequent\"))\n",
    "inspect(is)"
   ]
  },
  {
   "cell_type": "markdown",
   "metadata": {},
   "source": [
    "### b."
   ]
  },
  {
   "cell_type": "code",
   "execution_count": null,
   "metadata": {},
   "outputs": [],
   "source": [
    "adult = read.transactions(\"data/adult.csv\",format=\"basket\", sep=\",\")"
   ]
  },
  {
   "cell_type": "code",
   "execution_count": null,
   "metadata": {},
   "outputs": [],
   "source": [
    "adult_rules <- apriori(adult, parameter = list(supp = 0.5, conf = 0.9, target = \"rules\")) "
   ]
  },
  {
   "cell_type": "code",
   "execution_count": null,
   "metadata": {},
   "outputs": [],
   "source": [
    "inspect(adult_rules)"
   ]
  },
  {
   "cell_type": "markdown",
   "metadata": {},
   "source": [
    "## 2. - vote.csv\n",
    "### a."
   ]
  },
  {
   "cell_type": "code",
   "execution_count": null,
   "metadata": {},
   "outputs": [],
   "source": [
    "library(readr)\n",
    "vote <-read_csv(\"data/vote.csv\")"
   ]
  },
  {
   "cell_type": "markdown",
   "metadata": {},
   "source": [
    "#### Este comando dá erro e é previsto dar erro, pelo menos é o que a stora diz no doc de apoio. Mas não percebo bem porque é que isso acontece"
   ]
  },
  {
   "cell_type": "code",
   "execution_count": null,
   "metadata": {},
   "outputs": [],
   "source": [
    "rules_vote <-apriori(vote, parameter = list(supp = 0.1, conf = 1, target = \"rules\")"
   ]
  },
  {
   "cell_type": "code",
   "execution_count": null,
   "metadata": {},
   "outputs": [],
   "source": [
    "library(dplyr)\n",
    "vote = mutate_if(vote, is.character, as.factor)\n",
    "head(vote,n=5)"
   ]
  },
  {
   "cell_type": "code",
   "execution_count": null,
   "metadata": {},
   "outputs": [],
   "source": [
    "vote_rules_sup_0_1 <-apriori(vote, parameter = list(supp = 0.1, conf = 0.8,maxlen=100)) \n",
    "vote_rules_sup_0_2 <-apriori(vote, parameter = list(supp = 0.2, conf = 0.8,maxlen=100)) \n",
    "vote_rules_sup_0_5 <-apriori(vote, parameter = list(supp = 0.5, conf = 0.8,maxlen=100)) \n",
    "vote_rules_conf_0_1 <-apriori(vote, parameter = list(supp = 0.1, conf = 0.1,maxlen=100)) \n",
    "vote_rules_conf_0_2 <-apriori(vote, parameter = list(supp = 0.2, conf = 0.2,maxlen=100)) \n",
    "vote_rules_conf_0_5 <-apriori(vote, parameter = list(supp = 0.5, conf = 0.5,maxlen=100))  "
   ]
  },
  {
   "cell_type": "markdown",
   "metadata": {},
   "source": [
    "### b."
   ]
  },
  {
   "cell_type": "code",
   "execution_count": null,
   "metadata": {},
   "outputs": [],
   "source": [
    "inspect(head(sort(vote_rules_sup_0_1,by=\"lift\",decreasing = FALSE),n=3))"
   ]
  },
  {
   "cell_type": "code",
   "execution_count": null,
   "metadata": {},
   "outputs": [],
   "source": [
    "inspect(head(sort(vote_rules_sup_0_2,by=\"lift\",decreasing = FALSE),n=3))"
   ]
  },
  {
   "cell_type": "code",
   "execution_count": null,
   "metadata": {},
   "outputs": [],
   "source": [
    "inspect(head(sort(vote_rules_sup_0_5,by=\"lift\",decreasing = FALSE),n=3))"
   ]
  },
  {
   "cell_type": "code",
   "execution_count": null,
   "metadata": {},
   "outputs": [],
   "source": [
    "inspect(head(sort(vote_rules_conf_0_1,by=\"lift\",decreasing = FALSE),n=3))"
   ]
  },
  {
   "cell_type": "code",
   "execution_count": null,
   "metadata": {},
   "outputs": [],
   "source": [
    "inspect(head(sort(vote_rules_conf_0_2,by=\"lift\",decreasing = FALSE),n=3))"
   ]
  },
  {
   "cell_type": "code",
   "execution_count": null,
   "metadata": {},
   "outputs": [],
   "source": [
    "inspect(head(sort(vote_rules_conf_0_5,by=\"lift\",decreasing = FALSE),n=3))"
   ]
  },
  {
   "cell_type": "markdown",
   "metadata": {},
   "source": [
    "### c."
   ]
  },
  {
   "cell_type": "markdown",
   "metadata": {},
   "source": [
    "Case não funciona porque convictio = NaN"
   ]
  },
  {
   "cell_type": "code",
   "execution_count": null,
   "metadata": {},
   "outputs": [],
   "source": [
    "case1 = cbind(as(vote_rules_sup_0_1, \"data.frame\"), conviction=interestMeasure(vote_rules_sup_0_1, \"conviction\", vote))\n",
    "case1 = case1[complete.cases(case1), ]\n",
    "dim(case1)\n",
    "head(case1,n=3)\n",
    "n1 = which(case1$conviction >= 1)\n",
    "length(n1)"
   ]
  },
  {
   "cell_type": "code",
   "execution_count": null,
   "metadata": {},
   "outputs": [],
   "source": [
    "case2 = cbind(as(vote_rules_sup_0_2, \"data.frame\"), conviction=interestMeasure(vote_rules_sup_0_2, \"conviction\", vote))\n",
    "case2 = case2[complete.cases(case2), ]\n",
    "dim(case2)\n",
    "head(case2,n=3)\n",
    "n2 = which(case2$conviction >= 1)\n",
    "length(n2)"
   ]
  },
  {
   "cell_type": "code",
   "execution_count": null,
   "metadata": {},
   "outputs": [],
   "source": [
    "case3 = cbind(as(vote_rules_sup_0_5, \"data.frame\"), conviction=interestMeasure(vote_rules_sup_0_5, \"conviction\", vote))\n",
    "case3 = case1[complete.cases(case3), ]\n",
    "dim(case3)\n",
    "head(case3,n=3)\n",
    "n3 = which(case3$conviction >= 1)\n",
    "length(n3)"
   ]
  },
  {
   "cell_type": "code",
   "execution_count": null,
   "metadata": {},
   "outputs": [],
   "source": [
    "case4 = cbind(as(vote_rules_conf_0_1, \"data.frame\"), conviction=interestMeasure(vote_rules_conf_0_1, \"conviction\", vote))\n",
    "case4 = case4[complete.cases(case4), ]\n",
    "dim(case4)\n",
    "head(case4,n=3)\n",
    "n4 = which(case4$conviction >= 1)\n",
    "length(n4)"
   ]
  },
  {
   "cell_type": "code",
   "execution_count": null,
   "metadata": {},
   "outputs": [],
   "source": [
    "case5 = cbind(as(vote_rules_conf_0_2, \"data.frame\"), conviction=interestMeasure(vote_rules_conf_0_2, \"conviction\", vote))\n",
    "case5 = case5[complete.cases(case5), ]\n",
    "dim(case5)\n",
    "head(case5,n=3)\n",
    "n5 = which(case5$conviction >= 1)\n",
    "length(n5)"
   ]
  },
  {
   "cell_type": "code",
   "execution_count": null,
   "metadata": {},
   "outputs": [],
   "source": [
    "case6 = cbind(as(vote_rules_conf_0_5, \"data.frame\"), conviction=interestMeasure(vote_rules_conf_0_5, \"conviction\", vote))\n",
    "case6 = case6[complete.cases(case6), ]\n",
    "dim(case6)\n",
    "head(case6,n=3)\n",
    "n6 = which(case6$conviction >= 1)\n",
    "length(n6)"
   ]
  },
  {
   "cell_type": "markdown",
   "metadata": {},
   "source": [
    "### d."
   ]
  },
  {
   "cell_type": "markdown",
   "metadata": {},
   "source": [
    "Não sei bem o que responder aqui!"
   ]
  },
  {
   "cell_type": "markdown",
   "metadata": {},
   "source": [
    "## 3. - supermarket.csv\n",
    "### a."
   ]
  },
  {
   "cell_type": "code",
   "execution_count": null,
   "metadata": {},
   "outputs": [],
   "source": [
    "supermarket <-read_csv(\"data/supermarket.csv\")\n",
    "head(supermarket,n=5)"
   ]
  },
  {
   "cell_type": "markdown",
   "metadata": {},
   "source": [
    "#### Aqui tambem é previsto dar erro, mas também não percebo bem porquê :o\n"
   ]
  },
  {
   "cell_type": "code",
   "execution_count": null,
   "metadata": {},
   "outputs": [],
   "source": [
    "supermaket_rules <-apriori(supermarket, parameter = list(supp =0.9, conf = 1, maxlen=100, target = \"rules\")) "
   ]
  },
  {
   "cell_type": "code",
   "execution_count": null,
   "metadata": {},
   "outputs": [],
   "source": [
    "supermarket = mutate_if(supermarket, is.character, as.factor)"
   ]
  },
  {
   "cell_type": "code",
   "execution_count": null,
   "metadata": {},
   "outputs": [],
   "source": [
    "supermaket_rules <-apriori(supermarket, parameter = list(supp = 0.9, conf = 1, maxlen=10, target = \"rules\")) "
   ]
  },
  {
   "cell_type": "code",
   "execution_count": null,
   "metadata": {},
   "outputs": [],
   "source": [
    "write(supermaket_rules[1:10],\"\",sep=\"\\n \", quote=TRUE)"
   ]
  },
  {
   "cell_type": "code",
   "execution_count": null,
   "metadata": {},
   "outputs": [],
   "source": []
  },
  {
   "cell_type": "markdown",
   "metadata": {},
   "source": [
    "### b."
   ]
  },
  {
   "cell_type": "code",
   "execution_count": null,
   "metadata": {},
   "outputs": [],
   "source": []
  },
  {
   "cell_type": "markdown",
   "metadata": {},
   "source": [
    "### c."
   ]
  },
  {
   "cell_type": "code",
   "execution_count": null,
   "metadata": {},
   "outputs": [],
   "source": []
  },
  {
   "cell_type": "markdown",
   "metadata": {},
   "source": [
    "## 4. - glass.csv\n",
    "### a."
   ]
  },
  {
   "cell_type": "code",
   "execution_count": null,
   "metadata": {},
   "outputs": [],
   "source": [
    "glass <-read_csv(\"data/glass.csv\")\n",
    "head(glass,n=5)"
   ]
  },
  {
   "cell_type": "code",
   "execution_count": null,
   "metadata": {},
   "outputs": [],
   "source": [
    "glass_d_int = discretize_all(glass, \"interval\",3)\n",
    "class(glass_d_int)"
   ]
  },
  {
   "cell_type": "code",
   "execution_count": null,
   "metadata": {},
   "outputs": [],
   "source": [
    "head(glass_d_int,n=5)"
   ]
  },
  {
   "cell_type": "code",
   "execution_count": null,
   "metadata": {},
   "outputs": [],
   "source": [
    "glass_d_fr = discretize_all(glass, \"frequency\",3)"
   ]
  },
  {
   "cell_type": "code",
   "execution_count": null,
   "metadata": {},
   "outputs": [],
   "source": [
    "head(glass_d_fr,n=5)"
   ]
  },
  {
   "cell_type": "code",
   "execution_count": null,
   "metadata": {},
   "outputs": [],
   "source": [
    "rules <-apriori(supermarket, parameter = list(supp = 0.9, conf = 1, maxlen=10, target = \"rules\")) "
   ]
  }
 ],
 "metadata": {
  "kernelspec": {
   "display_name": "R",
   "language": "R",
   "name": "ir"
  },
  "language_info": {
   "codemirror_mode": "r",
   "file_extension": ".r",
   "mimetype": "text/x-r-source",
   "name": "R",
   "pygments_lexer": "r",
   "version": "3.3.2"
  }
 },
 "nbformat": 4,
 "nbformat_minor": 2
}
