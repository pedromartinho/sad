{
 "cells": [
  {
   "cell_type": "markdown",
   "metadata": {},
   "source": [
    "## Import packages"
   ]
  },
  {
   "cell_type": "code",
   "execution_count": null,
   "metadata": {},
   "outputs": [
    {
     "name": "stderr",
     "output_type": "stream",
     "text": [
      "Installing package into ‘/home/martinho/R/x86_64-pc-linux-gnu-library/3.3’\n",
      "(as ‘lib’ is unspecified)\n"
     ]
    }
   ],
   "source": [
    "install.packages(\"arules\")\n",
    "library(arules)"
   ]
  },
  {
   "cell_type": "code",
   "execution_count": null,
   "metadata": {},
   "outputs": [],
   "source": [
    "install.packges(\"\"\"\")"
   ]
  },
  {
   "cell_type": "code",
   "execution_count": null,
   "metadata": {
    "scrolled": true
   },
   "outputs": [],
   "source": [
    "install.packages(\"dplyr\")"
   ]
  },
  {
   "cell_type": "code",
   "execution_count": 4,
   "metadata": {},
   "outputs": [
    {
     "name": "stderr",
     "output_type": "stream",
     "text": [
      "Installing package into ‘/home/martinho/R/x86_64-pc-linux-gnu-library/3.3’\n",
      "(as ‘lib’ is unspecified)\n",
      "Warning message:\n",
      "“package ‘stats.kmeans’ is not available (for R version 3.3.2)”"
     ]
    }
   ],
   "source": [
    "discretize_all = function(table_d, type, n){\n",
    "    for (i in 1:ncol(table_d)) {\n",
    "        if (is.numeric(table_d[[i]])) {\n",
    "            table_d[[i]]  =  discretize(table_d[[i]],  method  =  type,  categories  =  n, ordered=TRUE)\n",
    "        }\n",
    "    }\n",
    "    print(summary(table_d))\n",
    "    return(table_d);\n",
    "}"
   ]
  },
  {
   "cell_type": "markdown",
   "metadata": {},
   "source": [
    "#### Change directory"
   ]
  },
  {
   "cell_type": "code",
   "execution_count": 5,
   "metadata": {},
   "outputs": [],
   "source": [
    "setwd(\"~/Documents/IST/SAD/lab2\")"
   ]
  },
  {
   "cell_type": "markdown",
   "metadata": {},
   "source": [
    "## 1. - example.csv e adult.csv\n",
    "### a."
   ]
  },
  {
   "cell_type": "code",
   "execution_count": 6,
   "metadata": {},
   "outputs": [
    {
     "name": "stderr",
     "output_type": "stream",
     "text": [
      "Warning message in readLines(file, encoding = encoding):\n",
      "“incomplete final line found on 'data/example.csv'”"
     ]
    }
   ],
   "source": [
    "example = read.transactions(\"data/example.csv\",format=\"basket\", sep=\",\")"
   ]
  },
  {
   "cell_type": "code",
   "execution_count": 7,
   "metadata": {},
   "outputs": [
    {
     "name": "stdout",
     "output_type": "stream",
     "text": [
      "     items  \n",
      "[1]  {A,C,E}\n",
      "[2]  {A,C,E}\n",
      "[3]  {A,C,D}\n",
      "[4]  {A,B}  \n",
      "[5]  {A,B}  \n",
      "[6]  {A,D}  \n",
      "[7]  {B,C}  \n",
      "[8]  {B,E}  \n",
      "[9]  {A,D}  \n",
      "[10] {B,E}  \n"
     ]
    }
   ],
   "source": [
    "inspect(example)"
   ]
  },
  {
   "cell_type": "code",
   "execution_count": 1,
   "metadata": {},
   "outputs": [
    {
     "ename": "ERROR",
     "evalue": "Error in eval(expr, envir, enclos): could not find function \"apriori\"\n",
     "output_type": "error",
     "traceback": [
      "Error in eval(expr, envir, enclos): could not find function \"apriori\"\nTraceback:\n"
     ]
    }
   ],
   "source": [
    "is <- apriori(example, parameter = list(support= 0.2, target=\"frequent\"))\n",
    "inspect(is)"
   ]
  },
  {
   "cell_type": "markdown",
   "metadata": {},
   "source": [
    "### b."
   ]
  },
  {
   "cell_type": "code",
   "execution_count": 9,
   "metadata": {},
   "outputs": [
    {
     "name": "stderr",
     "output_type": "stream",
     "text": [
      "Warning message in readLines(file, encoding = encoding):\n",
      "“incomplete final line found on 'data/adult.csv'”Warning message in asMethod(object):\n",
      "“removing duplicated items in transactions”"
     ]
    }
   ],
   "source": [
    "adult = read.transactions(\"data/adult.csv\",format=\"basket\", sep=\",\")"
   ]
  },
  {
   "cell_type": "code",
   "execution_count": 10,
   "metadata": {},
   "outputs": [
    {
     "name": "stdout",
     "output_type": "stream",
     "text": [
      "Apriori\n",
      "\n",
      "Parameter specification:\n",
      " confidence minval smax arem  aval originalSupport maxtime support minlen\n",
      "        0.9    0.1    1 none FALSE            TRUE       5     0.5      1\n",
      " maxlen target   ext\n",
      "     10  rules FALSE\n",
      "\n",
      "Algorithmic control:\n",
      " filter tree heap memopt load sort verbose\n",
      "    0.1 TRUE TRUE  FALSE TRUE    2    TRUE\n",
      "\n",
      "Absolute minimum support count: 16281 \n",
      "\n",
      "set item appearances ...[0 item(s)] done [0.00s].\n",
      "set transactions ...[22070 item(s), 32562 transaction(s)] done [0.05s].\n",
      "sorting and recoding items ... [6 item(s)] done [0.01s].\n",
      "creating transaction tree ... done [0.01s].\n",
      "checking subsets of size 1 2 3 4 done [0.00s].\n",
      "writing ... [27 rule(s)] done [0.00s].\n",
      "creating S4 object  ... done [0.01s].\n"
     ]
    }
   ],
   "source": [
    "adult_rules <- apriori(adult, parameter = list(supp = 0.5, conf = 0.9, target = \"rules\")) "
   ]
  },
  {
   "cell_type": "code",
   "execution_count": 11,
   "metadata": {},
   "outputs": [
    {
     "name": "stdout",
     "output_type": "stream",
     "text": [
      "     lhs                              rhs             support   confidence\n",
      "[1]  {}                            => {0}             0.9999693 0.9999693 \n",
      "[2]  {Male}                        => {0}             0.6691849 1.0000000 \n",
      "[3]  {Private}                     => {0}             0.6970088 1.0000000 \n",
      "[4]  {<=50K}                       => {0}             0.7591671 1.0000000 \n",
      "[5]  {White}                       => {United-States} 0.7868374 0.9210886 \n",
      "[6]  {White}                       => {0}             0.8542473 1.0000000 \n",
      "[7]  {United-States}               => {0}             0.8958295 1.0000000 \n",
      "[8]  {Male,White}                  => {United-States} 0.5421350 0.9206738 \n",
      "[9]  {Male,United-States}          => {White}         0.5421350 0.9058395 \n",
      "[10] {Male,White}                  => {0}             0.5888459 1.0000000 \n",
      "[11] {Male,United-States}          => {0}             0.5984890 1.0000000 \n",
      "[12] {<=50K,Private}               => {0}             0.5445919 1.0000000 \n",
      "[13] {Private,White}               => {United-States} 0.5444383 0.9136261 \n",
      "[14] {Private,White}               => {0}             0.5959093 1.0000000 \n",
      "[15] {Private,United-States}       => {0}             0.6183588 1.0000000 \n",
      "[16] {<=50K,White}                 => {United-States} 0.5809533 0.9139089 \n",
      "[17] {<=50K,White}                 => {0}             0.6356796 1.0000000 \n",
      "[18] {<=50K,United-States}         => {0}             0.6756035 1.0000000 \n",
      "[19] {United-States,White}         => {0}             0.7868374 1.0000000 \n",
      "[20] {0,White}                     => {United-States} 0.7868374 0.9210886 \n",
      "[21] {Male,United-States,White}    => {0}             0.5421350 1.0000000 \n",
      "[22] {0,Male,White}                => {United-States} 0.5421350 0.9206738 \n",
      "[23] {0,Male,United-States}        => {White}         0.5421350 0.9058395 \n",
      "[24] {Private,United-States,White} => {0}             0.5444383 1.0000000 \n",
      "[25] {0,Private,White}             => {United-States} 0.5444383 0.9136261 \n",
      "[26] {<=50K,United-States,White}   => {0}             0.5809533 1.0000000 \n",
      "[27] {<=50K,0,White}               => {United-States} 0.5809533 0.9139089 \n",
      "     lift     count\n",
      "[1]  1.000000 32561\n",
      "[2]  1.000031 21790\n",
      "[3]  1.000031 22696\n",
      "[4]  1.000031 24720\n",
      "[5]  1.028196 25621\n",
      "[6]  1.000031 27816\n",
      "[7]  1.000031 29170\n",
      "[8]  1.027733 17653\n",
      "[9]  1.060395 17653\n",
      "[10] 1.000031 19174\n",
      "[11] 1.000031 19488\n",
      "[12] 1.000031 17733\n",
      "[13] 1.019866 17728\n",
      "[14] 1.000031 19404\n",
      "[15] 1.000031 20135\n",
      "[16] 1.020182 18917\n",
      "[17] 1.000031 20699\n",
      "[18] 1.000031 21999\n",
      "[19] 1.000031 25621\n",
      "[20] 1.028196 25621\n",
      "[21] 1.000031 17653\n",
      "[22] 1.027733 17653\n",
      "[23] 1.060395 17653\n",
      "[24] 1.000031 17728\n",
      "[25] 1.019866 17728\n",
      "[26] 1.000031 18917\n",
      "[27] 1.020182 18917\n"
     ]
    }
   ],
   "source": [
    "inspect(adult_rules)"
   ]
  },
  {
   "cell_type": "markdown",
   "metadata": {},
   "source": [
    "## 2. - vote.csv\n",
    "### a."
   ]
  },
  {
   "cell_type": "code",
   "execution_count": 13,
   "metadata": {},
   "outputs": [
    {
     "name": "stderr",
     "output_type": "stream",
     "text": [
      "Parsed with column specification:\n",
      "cols(\n",
      "  `handicapped-infants` = col_character(),\n",
      "  `water-project-cost-sharing` = col_character(),\n",
      "  `adoption-of-the-budget-resolution` = col_character(),\n",
      "  `physician-fee-freeze` = col_character(),\n",
      "  `el-salvador-aid` = col_character(),\n",
      "  `religious-groups-in-schools` = col_character(),\n",
      "  `anti-satellite-test-ban` = col_character(),\n",
      "  `aid-to-nicaraguan-contras` = col_character(),\n",
      "  `mx-missile` = col_character(),\n",
      "  immigration = col_character(),\n",
      "  `synfuels-corporation-cutback` = col_character(),\n",
      "  `education-spending` = col_character(),\n",
      "  `superfund-right-to-sue` = col_character(),\n",
      "  crime = col_character(),\n",
      "  `duty-free-exports` = col_character(),\n",
      "  `export-administration-act-south-africa` = col_character(),\n",
      "  Class = col_character()\n",
      ")\n"
     ]
    }
   ],
   "source": [
    "library(readr)\n",
    "vote <-read_csv(\"data/vote.csv\")"
   ]
  },
  {
   "cell_type": "markdown",
   "metadata": {},
   "source": [
    "#### Este comando dá erro e é previsto dar erro, pelo menos é o que a stora diz no doc de apoio. Mas não percebo bem porque é que isso acontece"
   ]
  },
  {
   "cell_type": "code",
   "execution_count": 22,
   "metadata": {},
   "outputs": [
    {
     "ename": "ERROR",
     "evalue": "Error in parse(text = x, srcfile = src): <text>:2:0: unexpected end of input\n1: rules_vote <-apriori(vote, parameter = list(supp = 0.1, conf = 1, target = \"rules\")\n   ^\n",
     "output_type": "error",
     "traceback": [
      "Error in parse(text = x, srcfile = src): <text>:2:0: unexpected end of input\n1: rules_vote <-apriori(vote, parameter = list(supp = 0.1, conf = 1, target = \"rules\")\n   ^\nTraceback:\n"
     ]
    }
   ],
   "source": [
    "rules_vote <-apriori(vote, parameter = list(supp = 0.1, conf = 1, target = \"rules\")"
   ]
  },
  {
   "cell_type": "code",
   "execution_count": 23,
   "metadata": {},
   "outputs": [
    {
     "data": {
      "text/html": [
       "<table>\n",
       "<thead><tr><th scope=col>handicapped-infants</th><th scope=col>water-project-cost-sharing</th><th scope=col>adoption-of-the-budget-resolution</th><th scope=col>physician-fee-freeze</th><th scope=col>el-salvador-aid</th><th scope=col>religious-groups-in-schools</th><th scope=col>anti-satellite-test-ban</th><th scope=col>aid-to-nicaraguan-contras</th><th scope=col>mx-missile</th><th scope=col>immigration</th><th scope=col>synfuels-corporation-cutback</th><th scope=col>education-spending</th><th scope=col>superfund-right-to-sue</th><th scope=col>crime</th><th scope=col>duty-free-exports</th><th scope=col>export-administration-act-south-africa</th><th scope=col>Class</th></tr></thead>\n",
       "<tbody>\n",
       "\t<tr><td>n         </td><td>y         </td><td>n         </td><td>y         </td><td>y         </td><td>y         </td><td>n         </td><td>n         </td><td>n         </td><td>y         </td><td>?         </td><td>y         </td><td>y         </td><td>y         </td><td>n         </td><td>y         </td><td>republican</td></tr>\n",
       "\t<tr><td>n         </td><td>y         </td><td>n         </td><td>y         </td><td>y         </td><td>y         </td><td>n         </td><td>n         </td><td>n         </td><td>n         </td><td>n         </td><td>y         </td><td>y         </td><td>y         </td><td>n         </td><td>?         </td><td>republican</td></tr>\n",
       "\t<tr><td>?         </td><td>y         </td><td>y         </td><td>?         </td><td>y         </td><td>y         </td><td>n         </td><td>n         </td><td>n         </td><td>n         </td><td>y         </td><td>n         </td><td>y         </td><td>y         </td><td>n         </td><td>n         </td><td>democrat  </td></tr>\n",
       "\t<tr><td>n         </td><td>y         </td><td>y         </td><td>n         </td><td>?         </td><td>y         </td><td>n         </td><td>n         </td><td>n         </td><td>n         </td><td>y         </td><td>n         </td><td>y         </td><td>n         </td><td>n         </td><td>y         </td><td>democrat  </td></tr>\n",
       "\t<tr><td>y         </td><td>y         </td><td>y         </td><td>n         </td><td>y         </td><td>y         </td><td>n         </td><td>n         </td><td>n         </td><td>n         </td><td>y         </td><td>?         </td><td>y         </td><td>y         </td><td>y         </td><td>y         </td><td>democrat  </td></tr>\n",
       "</tbody>\n",
       "</table>\n"
      ],
      "text/latex": [
       "\\begin{tabular}{r|lllllllllllllllll}\n",
       " handicapped-infants & water-project-cost-sharing & adoption-of-the-budget-resolution & physician-fee-freeze & el-salvador-aid & religious-groups-in-schools & anti-satellite-test-ban & aid-to-nicaraguan-contras & mx-missile & immigration & synfuels-corporation-cutback & education-spending & superfund-right-to-sue & crime & duty-free-exports & export-administration-act-south-africa & Class\\\\\n",
       "\\hline\n",
       "\t n          & y          & n          & y          & y          & y          & n          & n          & n          & y          & ?          & y          & y          & y          & n          & y          & republican\\\\\n",
       "\t n          & y          & n          & y          & y          & y          & n          & n          & n          & n          & n          & y          & y          & y          & n          & ?          & republican\\\\\n",
       "\t ?          & y          & y          & ?          & y          & y          & n          & n          & n          & n          & y          & n          & y          & y          & n          & n          & democrat  \\\\\n",
       "\t n          & y          & y          & n          & ?          & y          & n          & n          & n          & n          & y          & n          & y          & n          & n          & y          & democrat  \\\\\n",
       "\t y          & y          & y          & n          & y          & y          & n          & n          & n          & n          & y          & ?          & y          & y          & y          & y          & democrat  \\\\\n",
       "\\end{tabular}\n"
      ],
      "text/markdown": [
       "\n",
       "handicapped-infants | water-project-cost-sharing | adoption-of-the-budget-resolution | physician-fee-freeze | el-salvador-aid | religious-groups-in-schools | anti-satellite-test-ban | aid-to-nicaraguan-contras | mx-missile | immigration | synfuels-corporation-cutback | education-spending | superfund-right-to-sue | crime | duty-free-exports | export-administration-act-south-africa | Class | \n",
       "|---|---|---|---|---|\n",
       "| n          | y          | n          | y          | y          | y          | n          | n          | n          | y          | ?          | y          | y          | y          | n          | y          | republican | \n",
       "| n          | y          | n          | y          | y          | y          | n          | n          | n          | n          | n          | y          | y          | y          | n          | ?          | republican | \n",
       "| ?          | y          | y          | ?          | y          | y          | n          | n          | n          | n          | y          | n          | y          | y          | n          | n          | democrat   | \n",
       "| n          | y          | y          | n          | ?          | y          | n          | n          | n          | n          | y          | n          | y          | n          | n          | y          | democrat   | \n",
       "| y          | y          | y          | n          | y          | y          | n          | n          | n          | n          | y          | ?          | y          | y          | y          | y          | democrat   | \n",
       "\n",
       "\n"
      ],
      "text/plain": [
       "  handicapped-infants water-project-cost-sharing\n",
       "1 n                   y                         \n",
       "2 n                   y                         \n",
       "3 ?                   y                         \n",
       "4 n                   y                         \n",
       "5 y                   y                         \n",
       "  adoption-of-the-budget-resolution physician-fee-freeze el-salvador-aid\n",
       "1 n                                 y                    y              \n",
       "2 n                                 y                    y              \n",
       "3 y                                 ?                    y              \n",
       "4 y                                 n                    ?              \n",
       "5 y                                 n                    y              \n",
       "  religious-groups-in-schools anti-satellite-test-ban aid-to-nicaraguan-contras\n",
       "1 y                           n                       n                        \n",
       "2 y                           n                       n                        \n",
       "3 y                           n                       n                        \n",
       "4 y                           n                       n                        \n",
       "5 y                           n                       n                        \n",
       "  mx-missile immigration synfuels-corporation-cutback education-spending\n",
       "1 n          y           ?                            y                 \n",
       "2 n          n           n                            y                 \n",
       "3 n          n           y                            n                 \n",
       "4 n          n           y                            n                 \n",
       "5 n          n           y                            ?                 \n",
       "  superfund-right-to-sue crime duty-free-exports\n",
       "1 y                      y     n                \n",
       "2 y                      y     n                \n",
       "3 y                      y     n                \n",
       "4 y                      n     n                \n",
       "5 y                      y     y                \n",
       "  export-administration-act-south-africa Class     \n",
       "1 y                                      republican\n",
       "2 ?                                      republican\n",
       "3 n                                      democrat  \n",
       "4 y                                      democrat  \n",
       "5 y                                      democrat  "
      ]
     },
     "metadata": {},
     "output_type": "display_data"
    }
   ],
   "source": [
    "library(dplyr)\n",
    "vote = mutate_if(vote, is.character, as.factor)\n",
    "head(vote,n=5)"
   ]
  },
  {
   "cell_type": "code",
   "execution_count": 152,
   "metadata": {},
   "outputs": [
    {
     "name": "stdout",
     "output_type": "stream",
     "text": [
      "Apriori\n",
      "\n",
      "Parameter specification:\n",
      " confidence minval smax arem  aval originalSupport maxtime support minlen\n",
      "        0.8    0.1    1 none FALSE            TRUE       5     0.1      1\n",
      " maxlen target   ext\n",
      "    100  rules FALSE\n",
      "\n",
      "Algorithmic control:\n",
      " filter tree heap memopt load sort verbose\n",
      "    0.1 TRUE TRUE  FALSE TRUE    2    TRUE\n",
      "\n",
      "Absolute minimum support count: 43 \n",
      "\n",
      "set item appearances ...[0 item(s)] done [0.00s].\n",
      "set transactions ...[50 item(s), 435 transaction(s)] done [0.00s].\n",
      "sorting and recoding items ... [36 item(s)] done [0.00s].\n",
      "creating transaction tree ... done [0.00s].\n",
      "checking subsets of size 1 2 3 4 5 6 7 8 9 10 11 12 13 14 done [0.13s].\n",
      "writing ... [492081 rule(s)] done [0.08s].\n",
      "creating S4 object  ... done [0.11s].\n",
      "Apriori\n",
      "\n",
      "Parameter specification:\n",
      " confidence minval smax arem  aval originalSupport maxtime support minlen\n",
      "        0.8    0.1    1 none FALSE            TRUE       5     0.2      1\n",
      " maxlen target   ext\n",
      "    100  rules FALSE\n",
      "\n",
      "Algorithmic control:\n",
      " filter tree heap memopt load sort verbose\n",
      "    0.1 TRUE TRUE  FALSE TRUE    2    TRUE\n",
      "\n",
      "Absolute minimum support count: 87 \n",
      "\n",
      "set item appearances ...[0 item(s)] done [0.00s].\n",
      "set transactions ...[50 item(s), 435 transaction(s)] done [0.00s].\n",
      "sorting and recoding items ... [34 item(s)] done [0.00s].\n",
      "creating transaction tree ... done [0.00s].\n",
      "checking subsets of size 1 2 3 4 5 6 7 8 9 10 11 done [0.02s].\n",
      "writing ... [71078 rule(s)] done [0.01s].\n",
      "creating S4 object  ... done [0.01s].\n",
      "Apriori\n",
      "\n",
      "Parameter specification:\n",
      " confidence minval smax arem  aval originalSupport maxtime support minlen\n",
      "        0.8    0.1    1 none FALSE            TRUE       5     0.5      1\n",
      " maxlen target   ext\n",
      "    100  rules FALSE\n",
      "\n",
      "Algorithmic control:\n",
      " filter tree heap memopt load sort verbose\n",
      "    0.1 TRUE TRUE  FALSE TRUE    2    TRUE\n",
      "\n",
      "Absolute minimum support count: 217 \n",
      "\n",
      "set item appearances ...[0 item(s)] done [0.00s].\n",
      "set transactions ...[50 item(s), 435 transaction(s)] done [0.00s].\n",
      "sorting and recoding items ... [12 item(s)] done [0.00s].\n",
      "creating transaction tree ... done [0.00s].\n",
      "checking subsets of size 1 2 3 done [0.00s].\n",
      "writing ... [11 rule(s)] done [0.00s].\n",
      "creating S4 object  ... done [0.00s].\n",
      "Apriori\n",
      "\n",
      "Parameter specification:\n",
      " confidence minval smax arem  aval originalSupport maxtime support minlen\n",
      "        0.1    0.1    1 none FALSE            TRUE       5     0.1      1\n",
      " maxlen target   ext\n",
      "    100  rules FALSE\n",
      "\n",
      "Algorithmic control:\n",
      " filter tree heap memopt load sort verbose\n",
      "    0.1 TRUE TRUE  FALSE TRUE    2    TRUE\n",
      "\n",
      "Absolute minimum support count: 43 \n",
      "\n",
      "set item appearances ...[0 item(s)] done [0.00s].\n",
      "set transactions ...[50 item(s), 435 transaction(s)] done [0.00s].\n",
      "sorting and recoding items ... [36 item(s)] done [0.00s].\n",
      "creating transaction tree ... done [0.00s].\n",
      "checking subsets of size 1 2 3 4 5 6 7 8 9 10 11 12 13 14 done [0.12s].\n",
      "writing ... [613412 rule(s)] done [0.09s].\n",
      "creating S4 object  ... done [0.14s].\n",
      "Apriori\n",
      "\n",
      "Parameter specification:\n",
      " confidence minval smax arem  aval originalSupport maxtime support minlen\n",
      "        0.2    0.1    1 none FALSE            TRUE       5     0.2      1\n",
      " maxlen target   ext\n",
      "    100  rules FALSE\n",
      "\n",
      "Algorithmic control:\n",
      " filter tree heap memopt load sort verbose\n",
      "    0.1 TRUE TRUE  FALSE TRUE    2    TRUE\n",
      "\n",
      "Absolute minimum support count: 87 \n",
      "\n",
      "set item appearances ...[0 item(s)] done [0.00s].\n",
      "set transactions ...[50 item(s), 435 transaction(s)] done [0.00s].\n",
      "sorting and recoding items ... [34 item(s)] done [0.00s].\n",
      "creating transaction tree ... done [0.00s].\n",
      "checking subsets of size 1 2 3 4 5 6 7 8 9 10 11 done [0.02s].\n",
      "writing ... [77655 rule(s)] done [0.01s].\n",
      "creating S4 object  ... done [0.01s].\n",
      "Apriori\n",
      "\n",
      "Parameter specification:\n",
      " confidence minval smax arem  aval originalSupport maxtime support minlen\n",
      "        0.5    0.1    1 none FALSE            TRUE       5     0.5      1\n",
      " maxlen target   ext\n",
      "    100  rules FALSE\n",
      "\n",
      "Algorithmic control:\n",
      " filter tree heap memopt load sort verbose\n",
      "    0.1 TRUE TRUE  FALSE TRUE    2    TRUE\n",
      "\n",
      "Absolute minimum support count: 217 \n",
      "\n",
      "set item appearances ...[0 item(s)] done [0.00s].\n",
      "set transactions ...[50 item(s), 435 transaction(s)] done [0.00s].\n",
      "sorting and recoding items ... [12 item(s)] done [0.00s].\n",
      "creating transaction tree ... done [0.00s].\n",
      "checking subsets of size 1 2 3 done [0.00s].\n",
      "writing ... [23 rule(s)] done [0.00s].\n",
      "creating S4 object  ... done [0.00s].\n"
     ]
    }
   ],
   "source": [
    "vote_rules_sup_0_1 <-apriori(vote, parameter = list(supp = 0.1, conf = 0.8,maxlen=100)) \n",
    "vote_rules_sup_0_2 <-apriori(vote, parameter = list(supp = 0.2, conf = 0.8,maxlen=100)) \n",
    "vote_rules_sup_0_5 <-apriori(vote, parameter = list(supp = 0.5, conf = 0.8,maxlen=100)) \n",
    "vote_rules_conf_0_1 <-apriori(vote, parameter = list(supp = 0.1, conf = 0.1,maxlen=100)) \n",
    "vote_rules_conf_0_2 <-apriori(vote, parameter = list(supp = 0.2, conf = 0.2,maxlen=100)) \n",
    "vote_rules_conf_0_5 <-apriori(vote, parameter = list(supp = 0.5, conf = 0.5,maxlen=100))  "
   ]
  },
  {
   "cell_type": "markdown",
   "metadata": {},
   "source": [
    "### b."
   ]
  },
  {
   "cell_type": "code",
   "execution_count": 153,
   "metadata": {},
   "outputs": [
    {
     "name": "stdout",
     "output_type": "stream",
     "text": [
      "    lhs                                      rhs                               support confidence     lift count\n",
      "[1] {handicapped-infants=y,                                                                                     \n",
      "     superfund-right-to-sue=y}            => {religious-groups-in-schools=y} 0.1011494        0.8 1.279412    44\n",
      "[2] {water-project-cost-sharing=n,                                                                              \n",
      "     crime=y}                             => {religious-groups-in-schools=y} 0.2114943        0.8 1.279412    92\n",
      "[3] {adoption-of-the-budget-resolution=y,                                                                       \n",
      "     crime=y}                             => {religious-groups-in-schools=y} 0.1563218        0.8 1.279412    68\n"
     ]
    }
   ],
   "source": [
    "inspect(head(sort(vote_rules_sup_0_1,by=\"lift\",decreasing = FALSE),n=3))"
   ]
  },
  {
   "cell_type": "code",
   "execution_count": 154,
   "metadata": {},
   "outputs": [
    {
     "name": "stdout",
     "output_type": "stream",
     "text": [
      "    lhs                               rhs                                          support confidence     lift count\n",
      "[1] {water-project-cost-sharing=n,                                                                                  \n",
      "     crime=y}                      => {religious-groups-in-schools=y}            0.2114943  0.8000000 1.279412    92\n",
      "[2] {handicapped-infants=n}        => {religious-groups-in-schools=y}            0.4367816  0.8050847 1.287544   190\n",
      "[3] {anti-satellite-test-ban=y,                                                                                     \n",
      "     immigration=y}                => {export-administration-act-south-africa=y} 0.2298851  0.8064516 1.304113   100\n"
     ]
    }
   ],
   "source": [
    "inspect(head(sort(vote_rules_sup_0_2,by=\"lift\",decreasing = FALSE),n=3))"
   ]
  },
  {
   "cell_type": "code",
   "execution_count": 155,
   "metadata": {},
   "outputs": [
    {
     "name": "stdout",
     "output_type": "stream",
     "text": [
      "    lhs                              rhs                                     support confidence     lift count\n",
      "[1] {aid-to-nicaraguan-contras=y} => {Class=democrat}                      0.5011494  0.9008264 1.467639   218\n",
      "[2] {Class=democrat}              => {aid-to-nicaraguan-contras=y}         0.5011494  0.8164794 1.467639   218\n",
      "[3] {Class=democrat}              => {adoption-of-the-budget-resolution=y} 0.5310345  0.8651685 1.487543   231\n"
     ]
    }
   ],
   "source": [
    "inspect(head(sort(vote_rules_sup_0_5,by=\"lift\",decreasing = FALSE),n=3))"
   ]
  },
  {
   "cell_type": "code",
   "execution_count": 156,
   "metadata": {},
   "outputs": [
    {
     "name": "stdout",
     "output_type": "stream",
     "text": [
      "    lhs                            rhs                         support  \n",
      "[1] {el-salvador-aid=y,crime=y} => {Class=democrat}            0.1034483\n",
      "[2] {anti-satellite-test-ban=y} => {el-salvador-aid=y}         0.1034483\n",
      "[3] {el-salvador-aid=y}         => {anti-satellite-test-ban=y} 0.1034483\n",
      "    confidence lift      count\n",
      "[1] 0.2319588  0.3779103 45   \n",
      "[2] 0.1882845  0.3863385 45   \n",
      "[3] 0.2122642  0.3863385 45   \n"
     ]
    }
   ],
   "source": [
    "inspect(head(sort(vote_rules_conf_0_1,by=\"lift\",decreasing = FALSE),n=3))"
   ]
  },
  {
   "cell_type": "code",
   "execution_count": 157,
   "metadata": {},
   "outputs": [
    {
     "name": "stdout",
     "output_type": "stream",
     "text": [
      "    lhs                              rhs                               support confidence      lift count\n",
      "[1] {Class=democrat}              => {crime=y}                       0.2068966  0.3370787 0.5912468    90\n",
      "[2] {crime=y}                     => {Class=democrat}                0.2068966  0.3629032 0.5912468    90\n",
      "[3] {aid-to-nicaraguan-contras=y} => {religious-groups-in-schools=y} 0.2160920  0.3884298 0.6212020    94\n"
     ]
    }
   ],
   "source": [
    "inspect(head(sort(vote_rules_conf_0_2,by=\"lift\",decreasing = FALSE),n=3))"
   ]
  },
  {
   "cell_type": "code",
   "execution_count": 158,
   "metadata": {},
   "outputs": [
    {
     "name": "stdout",
     "output_type": "stream",
     "text": [
      "    lhs    rhs                           support   confidence lift count\n",
      "[1] {}  => {anti-satellite-test-ban=y}   0.5494253 0.5494253  1    239  \n",
      "[2] {}  => {aid-to-nicaraguan-contras=y} 0.5563218 0.5563218  1    242  \n",
      "[3] {}  => {physician-fee-freeze=n}      0.5678161 0.5678161  1    247  \n"
     ]
    }
   ],
   "source": [
    "inspect(head(sort(vote_rules_conf_0_5,by=\"lift\",decreasing = FALSE),n=3))"
   ]
  },
  {
   "cell_type": "markdown",
   "metadata": {},
   "source": [
    "### c."
   ]
  },
  {
   "cell_type": "markdown",
   "metadata": {},
   "source": [
    "Case não funciona porque convictio = NaN"
   ]
  },
  {
   "cell_type": "code",
   "execution_count": 178,
   "metadata": {},
   "outputs": [
    {
     "data": {
      "text/html": [
       "<ol class=list-inline>\n",
       "\t<li>428924</li>\n",
       "\t<li>6</li>\n",
       "</ol>\n"
      ],
      "text/latex": [
       "\\begin{enumerate*}\n",
       "\\item 428924\n",
       "\\item 6\n",
       "\\end{enumerate*}\n"
      ],
      "text/markdown": [
       "1. 428924\n",
       "2. 6\n",
       "\n",
       "\n"
      ],
      "text/plain": [
       "[1] 428924      6"
      ]
     },
     "metadata": {},
     "output_type": "display_data"
    },
    {
     "data": {
      "text/html": [
       "<table>\n",
       "<thead><tr><th scope=col>rules</th><th scope=col>support</th><th scope=col>confidence</th><th scope=col>lift</th><th scope=col>count</th><th scope=col>conviction</th></tr></thead>\n",
       "<tbody>\n",
       "\t<tr><td><span style=white-space:pre-wrap>{export-administration-act-south-africa=n} =&gt; {Class=republican}                   </span></td><td>0.1149425                                                                                                                     </td><td>0.8064516                                                                                                                     </td><td>2.088134                                                                                                                      </td><td>50                                                                                                                            </td><td>3.171264                                                                                                                      </td></tr>\n",
       "\t<tr><td>{export-administration-act-south-africa=n} =&gt; {adoption-of-the-budget-resolution=n}</td><td>0.1310345                                                                             </td><td>0.9193548                                                                             </td><td>2.338710                                                                              </td><td>57                                                                                    </td><td>7.525517                                                                              </td></tr>\n",
       "\t<tr><td><span style=white-space:pre-wrap>{export-administration-act-south-africa=n} =&gt; {physician-fee-freeze=y}             </span></td><td>0.1264368                                                                                                                     </td><td>0.8870968                                                                                                                     </td><td>2.180153                                                                                                                      </td><td>55                                                                                                                            </td><td>5.253202                                                                                                                      </td></tr>\n",
       "</tbody>\n",
       "</table>\n"
      ],
      "text/latex": [
       "\\begin{tabular}{r|llllll}\n",
       " rules & support & confidence & lift & count & conviction\\\\\n",
       "\\hline\n",
       "\t \\{export-administration-act-south-africa=n\\} => \\{Class=republican\\}                    & 0.1149425                                                                                   & 0.8064516                                                                                   & 2.088134                                                                                    & 50                                                                                          & 3.171264                                                                                   \\\\\n",
       "\t \\{export-administration-act-south-africa=n\\} => \\{adoption-of-the-budget-resolution=n\\} & 0.1310345                                                                                   & 0.9193548                                                                                   & 2.338710                                                                                    & 57                                                                                          & 7.525517                                                                                   \\\\\n",
       "\t \\{export-administration-act-south-africa=n\\} => \\{physician-fee-freeze=y\\}              & 0.1264368                                                                                   & 0.8870968                                                                                   & 2.180153                                                                                    & 55                                                                                          & 5.253202                                                                                   \\\\\n",
       "\\end{tabular}\n"
      ],
      "text/markdown": [
       "\n",
       "rules | support | confidence | lift | count | conviction | \n",
       "|---|---|---|\n",
       "| {export-administration-act-south-africa=n} => {Class=republican}                    | 0.1149425                                                                           | 0.8064516                                                                           | 2.088134                                                                            | 50                                                                                  | 3.171264                                                                            | \n",
       "| {export-administration-act-south-africa=n} => {adoption-of-the-budget-resolution=n} | 0.1310345                                                                           | 0.9193548                                                                           | 2.338710                                                                            | 57                                                                                  | 7.525517                                                                            | \n",
       "| {export-administration-act-south-africa=n} => {physician-fee-freeze=y}              | 0.1264368                                                                           | 0.8870968                                                                           | 2.180153                                                                            | 55                                                                                  | 5.253202                                                                            | \n",
       "\n",
       "\n"
      ],
      "text/plain": [
       "  rules                                                                              \n",
       "1 {export-administration-act-south-africa=n} => {Class=republican}                   \n",
       "2 {export-administration-act-south-africa=n} => {adoption-of-the-budget-resolution=n}\n",
       "3 {export-administration-act-south-africa=n} => {physician-fee-freeze=y}             \n",
       "  support   confidence lift     count conviction\n",
       "1 0.1149425 0.8064516  2.088134 50    3.171264  \n",
       "2 0.1310345 0.9193548  2.338710 57    7.525517  \n",
       "3 0.1264368 0.8870968  2.180153 55    5.253202  "
      ]
     },
     "metadata": {},
     "output_type": "display_data"
    },
    {
     "data": {
      "text/html": [
       "428924"
      ],
      "text/latex": [
       "428924"
      ],
      "text/markdown": [
       "428924"
      ],
      "text/plain": [
       "[1] 428924"
      ]
     },
     "metadata": {},
     "output_type": "display_data"
    }
   ],
   "source": [
    "case1 = cbind(as(vote_rules_sup_0_1, \"data.frame\"), conviction=interestMeasure(vote_rules_sup_0_1, \"conviction\", vote))\n",
    "case1 = case1[complete.cases(case1), ]\n",
    "dim(case1)\n",
    "head(case1,n=3)\n",
    "n1 = which(case1$conviction >= 1)\n",
    "length(n1)"
   ]
  },
  {
   "cell_type": "code",
   "execution_count": 177,
   "metadata": {},
   "outputs": [
    {
     "data": {
      "text/html": [
       "<ol class=list-inline>\n",
       "\t<li>389931</li>\n",
       "\t<li>6</li>\n",
       "</ol>\n"
      ],
      "text/latex": [
       "\\begin{enumerate*}\n",
       "\\item 389931\n",
       "\\item 6\n",
       "\\end{enumerate*}\n"
      ],
      "text/markdown": [
       "1. 389931\n",
       "2. 6\n",
       "\n",
       "\n"
      ],
      "text/plain": [
       "[1] 389931      6"
      ]
     },
     "metadata": {},
     "output_type": "display_data"
    },
    {
     "data": {
      "text/html": [
       "<table>\n",
       "<thead><tr><th scope=col>rules</th><th scope=col>support</th><th scope=col>confidence</th><th scope=col>lift</th><th scope=col>count</th><th scope=col>conviction</th></tr></thead>\n",
       "<tbody>\n",
       "\t<tr><td><span style=white-space:pre-wrap>{synfuels-corporation-cutback=y} =&gt; {Class=democrat}         </span></td><td>0.2965517                                                                                               </td><td>0.8600000                                                                                               </td><td>1.401124                                                                                                </td><td>129                                                                                                     </td><td>2.758621                                                                                                </td></tr>\n",
       "\t<tr><td>{religious-groups-in-schools=n} =&gt; {superfund-right-to-sue=n}</td><td>0.2896552                                                       </td><td>0.8289474                                                       </td><td>1.793991                                                        </td><td>126                                                             </td><td>3.144828                                                        </td></tr>\n",
       "\t<tr><td><span style=white-space:pre-wrap>{religious-groups-in-schools=n} =&gt; {mx-missile=y}            </span></td><td>0.2965517                                                                                               </td><td>0.8486842                                                                                               </td><td>1.783467                                                                                                </td><td>129                                                                                                     </td><td>3.463868                                                                                                </td></tr>\n",
       "</tbody>\n",
       "</table>\n"
      ],
      "text/latex": [
       "\\begin{tabular}{r|llllll}\n",
       " rules & support & confidence & lift & count & conviction\\\\\n",
       "\\hline\n",
       "\t \\{synfuels-corporation-cutback=y\\} => \\{Class=democrat\\}          & 0.2965517                                                             & 0.8600000                                                             & 1.401124                                                              & 129                                                                   & 2.758621                                                             \\\\\n",
       "\t \\{religious-groups-in-schools=n\\} => \\{superfund-right-to-sue=n\\} & 0.2896552                                                             & 0.8289474                                                             & 1.793991                                                              & 126                                                                   & 3.144828                                                             \\\\\n",
       "\t \\{religious-groups-in-schools=n\\} => \\{mx-missile=y\\}             & 0.2965517                                                             & 0.8486842                                                             & 1.783467                                                              & 129                                                                   & 3.463868                                                             \\\\\n",
       "\\end{tabular}\n"
      ],
      "text/markdown": [
       "\n",
       "rules | support | confidence | lift | count | conviction | \n",
       "|---|---|---|\n",
       "| {synfuels-corporation-cutback=y} => {Class=democrat}          | 0.2965517                                                     | 0.8600000                                                     | 1.401124                                                      | 129                                                           | 2.758621                                                      | \n",
       "| {religious-groups-in-schools=n} => {superfund-right-to-sue=n} | 0.2896552                                                     | 0.8289474                                                     | 1.793991                                                      | 126                                                           | 3.144828                                                      | \n",
       "| {religious-groups-in-schools=n} => {mx-missile=y}             | 0.2965517                                                     | 0.8486842                                                     | 1.783467                                                      | 129                                                           | 3.463868                                                      | \n",
       "\n",
       "\n"
      ],
      "text/plain": [
       "  rules                                                         support  \n",
       "1 {synfuels-corporation-cutback=y} => {Class=democrat}          0.2965517\n",
       "2 {religious-groups-in-schools=n} => {superfund-right-to-sue=n} 0.2896552\n",
       "3 {religious-groups-in-schools=n} => {mx-missile=y}             0.2965517\n",
       "  confidence lift     count conviction\n",
       "1 0.8600000  1.401124 129   2.758621  \n",
       "2 0.8289474  1.793991 126   3.144828  \n",
       "3 0.8486842  1.783467 129   3.463868  "
      ]
     },
     "metadata": {},
     "output_type": "display_data"
    },
    {
     "data": {
      "text/html": [
       "67331"
      ],
      "text/latex": [
       "67331"
      ],
      "text/markdown": [
       "67331"
      ],
      "text/plain": [
       "[1] 67331"
      ]
     },
     "metadata": {},
     "output_type": "display_data"
    }
   ],
   "source": [
    "case2 = cbind(as(vote_rules_sup_0_2, \"data.frame\"), conviction=interestMeasure(vote_rules_sup_0_2, \"conviction\", vote))\n",
    "case2 = case2[complete.cases(case2), ]\n",
    "dim(case2)\n",
    "head(case2,n=3)\n",
    "n2 = which(case2$conviction >= 1)\n",
    "length(n2)"
   ]
  },
  {
   "cell_type": "code",
   "execution_count": 176,
   "metadata": {},
   "outputs": [
    {
     "data": {
      "text/html": [
       "<ol class=list-inline>\n",
       "\t<li>389931</li>\n",
       "\t<li>6</li>\n",
       "</ol>\n"
      ],
      "text/latex": [
       "\\begin{enumerate*}\n",
       "\\item 389931\n",
       "\\item 6\n",
       "\\end{enumerate*}\n"
      ],
      "text/markdown": [
       "1. 389931\n",
       "2. 6\n",
       "\n",
       "\n"
      ],
      "text/plain": [
       "[1] 389931      6"
      ]
     },
     "metadata": {},
     "output_type": "display_data"
    },
    {
     "data": {
      "text/html": [
       "<table>\n",
       "<thead><tr><th scope=col>rules</th><th scope=col>support</th><th scope=col>confidence</th><th scope=col>lift</th><th scope=col>count</th><th scope=col>conviction</th></tr></thead>\n",
       "<tbody>\n",
       "\t<tr><td><span style=white-space:pre-wrap>{export-administration-act-south-africa=n} =&gt; {Class=republican}                   </span></td><td>0.1149425                                                                                                                     </td><td>0.8064516                                                                                                                     </td><td>2.088134                                                                                                                      </td><td>50                                                                                                                            </td><td>3.171264                                                                                                                      </td></tr>\n",
       "\t<tr><td>{export-administration-act-south-africa=n} =&gt; {adoption-of-the-budget-resolution=n}</td><td>0.1310345                                                                             </td><td>0.9193548                                                                             </td><td>2.338710                                                                              </td><td>57                                                                                    </td><td>7.525517                                                                              </td></tr>\n",
       "\t<tr><td><span style=white-space:pre-wrap>{export-administration-act-south-africa=n} =&gt; {physician-fee-freeze=y}             </span></td><td>0.1264368                                                                                                                     </td><td>0.8870968                                                                                                                     </td><td>2.180153                                                                                                                      </td><td>55                                                                                                                            </td><td>5.253202                                                                                                                      </td></tr>\n",
       "</tbody>\n",
       "</table>\n"
      ],
      "text/latex": [
       "\\begin{tabular}{r|llllll}\n",
       " rules & support & confidence & lift & count & conviction\\\\\n",
       "\\hline\n",
       "\t \\{export-administration-act-south-africa=n\\} => \\{Class=republican\\}                    & 0.1149425                                                                                   & 0.8064516                                                                                   & 2.088134                                                                                    & 50                                                                                          & 3.171264                                                                                   \\\\\n",
       "\t \\{export-administration-act-south-africa=n\\} => \\{adoption-of-the-budget-resolution=n\\} & 0.1310345                                                                                   & 0.9193548                                                                                   & 2.338710                                                                                    & 57                                                                                          & 7.525517                                                                                   \\\\\n",
       "\t \\{export-administration-act-south-africa=n\\} => \\{physician-fee-freeze=y\\}              & 0.1264368                                                                                   & 0.8870968                                                                                   & 2.180153                                                                                    & 55                                                                                          & 5.253202                                                                                   \\\\\n",
       "\\end{tabular}\n"
      ],
      "text/markdown": [
       "\n",
       "rules | support | confidence | lift | count | conviction | \n",
       "|---|---|---|\n",
       "| {export-administration-act-south-africa=n} => {Class=republican}                    | 0.1149425                                                                           | 0.8064516                                                                           | 2.088134                                                                            | 50                                                                                  | 3.171264                                                                            | \n",
       "| {export-administration-act-south-africa=n} => {adoption-of-the-budget-resolution=n} | 0.1310345                                                                           | 0.9193548                                                                           | 2.338710                                                                            | 57                                                                                  | 7.525517                                                                            | \n",
       "| {export-administration-act-south-africa=n} => {physician-fee-freeze=y}              | 0.1264368                                                                           | 0.8870968                                                                           | 2.180153                                                                            | 55                                                                                  | 5.253202                                                                            | \n",
       "\n",
       "\n"
      ],
      "text/plain": [
       "  rules                                                                              \n",
       "1 {export-administration-act-south-africa=n} => {Class=republican}                   \n",
       "2 {export-administration-act-south-africa=n} => {adoption-of-the-budget-resolution=n}\n",
       "3 {export-administration-act-south-africa=n} => {physician-fee-freeze=y}             \n",
       "  support   confidence lift     count conviction\n",
       "1 0.1149425 0.8064516  2.088134 50    3.171264  \n",
       "2 0.1310345 0.9193548  2.338710 57    7.525517  \n",
       "3 0.1264368 0.8870968  2.180153 55    5.253202  "
      ]
     },
     "metadata": {},
     "output_type": "display_data"
    },
    {
     "data": {
      "text/html": [
       "389931"
      ],
      "text/latex": [
       "389931"
      ],
      "text/markdown": [
       "389931"
      ],
      "text/plain": [
       "[1] 389931"
      ]
     },
     "metadata": {},
     "output_type": "display_data"
    }
   ],
   "source": [
    "case3 = cbind(as(vote_rules_sup_0_5, \"data.frame\"), conviction=interestMeasure(vote_rules_sup_0_5, \"conviction\", vote))\n",
    "case3 = case1[complete.cases(case3), ]\n",
    "dim(case3)\n",
    "head(case3,n=3)\n",
    "n3 = which(case3$conviction >= 1)\n",
    "length(n3)"
   ]
  },
  {
   "cell_type": "code",
   "execution_count": 179,
   "metadata": {},
   "outputs": [
    {
     "data": {
      "text/html": [
       "<ol class=list-inline>\n",
       "\t<li>550255</li>\n",
       "\t<li>6</li>\n",
       "</ol>\n"
      ],
      "text/latex": [
       "\\begin{enumerate*}\n",
       "\\item 550255\n",
       "\\item 6\n",
       "\\end{enumerate*}\n"
      ],
      "text/markdown": [
       "1. 550255\n",
       "2. 6\n",
       "\n",
       "\n"
      ],
      "text/plain": [
       "[1] 550255      6"
      ]
     },
     "metadata": {},
     "output_type": "display_data"
    },
    {
     "data": {
      "text/html": [
       "<table>\n",
       "<thead><tr><th scope=col>rules</th><th scope=col>support</th><th scope=col>confidence</th><th scope=col>lift</th><th scope=col>count</th><th scope=col>conviction</th></tr></thead>\n",
       "<tbody>\n",
       "\t<tr><td><span style=white-space:pre-wrap>{} =&gt; {water-project-cost-sharing=?}            </span></td><td>0.1103448                                                                                  </td><td>0.1103448                                                                                  </td><td>1                                                                                          </td><td> 48                                                                                        </td><td>1                                                                                          </td></tr>\n",
       "\t<tr><td>{} =&gt; {export-administration-act-south-africa=n}</td><td>0.1425287                                          </td><td>0.1425287                                          </td><td>1                                                  </td><td> 62                                                </td><td>1                                                  </td></tr>\n",
       "\t<tr><td>{} =&gt; {export-administration-act-south-africa=?}</td><td>0.2390805                                          </td><td>0.2390805                                          </td><td>1                                                  </td><td>104                                                </td><td>1                                                  </td></tr>\n",
       "</tbody>\n",
       "</table>\n"
      ],
      "text/latex": [
       "\\begin{tabular}{r|llllll}\n",
       " rules & support & confidence & lift & count & conviction\\\\\n",
       "\\hline\n",
       "\t \\{\\} => \\{water-project-cost-sharing=?\\}             & 0.1103448                                                & 0.1103448                                                & 1                                                        &  48                                                      & 1                                                       \\\\\n",
       "\t \\{\\} => \\{export-administration-act-south-africa=n\\} & 0.1425287                                                & 0.1425287                                                & 1                                                        &  62                                                      & 1                                                       \\\\\n",
       "\t \\{\\} => \\{export-administration-act-south-africa=?\\} & 0.2390805                                                & 0.2390805                                                & 1                                                        & 104                                                      & 1                                                       \\\\\n",
       "\\end{tabular}\n"
      ],
      "text/markdown": [
       "\n",
       "rules | support | confidence | lift | count | conviction | \n",
       "|---|---|---|\n",
       "| {} => {water-project-cost-sharing=?}             | 0.1103448                                        | 0.1103448                                        | 1                                                |  48                                              | 1                                                | \n",
       "| {} => {export-administration-act-south-africa=n} | 0.1425287                                        | 0.1425287                                        | 1                                                |  62                                              | 1                                                | \n",
       "| {} => {export-administration-act-south-africa=?} | 0.2390805                                        | 0.2390805                                        | 1                                                | 104                                              | 1                                                | \n",
       "\n",
       "\n"
      ],
      "text/plain": [
       "  rules                                            support   confidence lift\n",
       "1 {} => {water-project-cost-sharing=?}             0.1103448 0.1103448  1   \n",
       "2 {} => {export-administration-act-south-africa=n} 0.1425287 0.1425287  1   \n",
       "3 {} => {export-administration-act-south-africa=?} 0.2390805 0.2390805  1   \n",
       "  count conviction\n",
       "1  48   1         \n",
       "2  62   1         \n",
       "3 104   1         "
      ]
     },
     "metadata": {},
     "output_type": "display_data"
    },
    {
     "data": {
      "text/html": [
       "526817"
      ],
      "text/latex": [
       "526817"
      ],
      "text/markdown": [
       "526817"
      ],
      "text/plain": [
       "[1] 526817"
      ]
     },
     "metadata": {},
     "output_type": "display_data"
    }
   ],
   "source": [
    "case4 = cbind(as(vote_rules_conf_0_1, \"data.frame\"), conviction=interestMeasure(vote_rules_conf_0_1, \"conviction\", vote))\n",
    "case4 = case4[complete.cases(case4), ]\n",
    "dim(case4)\n",
    "head(case4,n=3)\n",
    "n4 = which(case4$conviction >= 1)\n",
    "length(n4)"
   ]
  },
  {
   "cell_type": "code",
   "execution_count": 181,
   "metadata": {},
   "outputs": [
    {
     "data": {
      "text/html": [
       "<ol class=list-inline>\n",
       "\t<li>73908</li>\n",
       "\t<li>6</li>\n",
       "</ol>\n"
      ],
      "text/latex": [
       "\\begin{enumerate*}\n",
       "\\item 73908\n",
       "\\item 6\n",
       "\\end{enumerate*}\n"
      ],
      "text/markdown": [
       "1. 73908\n",
       "2. 6\n",
       "\n",
       "\n"
      ],
      "text/plain": [
       "[1] 73908     6"
      ]
     },
     "metadata": {},
     "output_type": "display_data"
    },
    {
     "data": {
      "text/html": [
       "<table>\n",
       "<thead><tr><th scope=col>rules</th><th scope=col>support</th><th scope=col>confidence</th><th scope=col>lift</th><th scope=col>count</th><th scope=col>conviction</th></tr></thead>\n",
       "<tbody>\n",
       "\t<tr><td>{} =&gt; {export-administration-act-south-africa=?}</td><td>0.2390805                                          </td><td>0.2390805                                          </td><td>1                                                  </td><td>104                                                </td><td>1                                                  </td></tr>\n",
       "\t<tr><td><span style=white-space:pre-wrap>{} =&gt; {synfuels-corporation-cutback=y}          </span></td><td>0.3448276                                                                                  </td><td>0.3448276                                                                                  </td><td>1                                                                                          </td><td>150                                                                                        </td><td>1                                                                                          </td></tr>\n",
       "\t<tr><td><span style=white-space:pre-wrap>{} =&gt; {religious-groups-in-schools=n}           </span></td><td>0.3494253                                                                                  </td><td>0.3494253                                                                                  </td><td>1                                                                                          </td><td>152                                                                                        </td><td>1                                                                                          </td></tr>\n",
       "</tbody>\n",
       "</table>\n"
      ],
      "text/latex": [
       "\\begin{tabular}{r|llllll}\n",
       " rules & support & confidence & lift & count & conviction\\\\\n",
       "\\hline\n",
       "\t \\{\\} => \\{export-administration-act-south-africa=?\\} & 0.2390805                                                & 0.2390805                                                & 1                                                        & 104                                                      & 1                                                       \\\\\n",
       "\t \\{\\} => \\{synfuels-corporation-cutback=y\\}           & 0.3448276                                                & 0.3448276                                                & 1                                                        & 150                                                      & 1                                                       \\\\\n",
       "\t \\{\\} => \\{religious-groups-in-schools=n\\}            & 0.3494253                                                & 0.3494253                                                & 1                                                        & 152                                                      & 1                                                       \\\\\n",
       "\\end{tabular}\n"
      ],
      "text/markdown": [
       "\n",
       "rules | support | confidence | lift | count | conviction | \n",
       "|---|---|---|\n",
       "| {} => {export-administration-act-south-africa=?} | 0.2390805                                        | 0.2390805                                        | 1                                                | 104                                              | 1                                                | \n",
       "| {} => {synfuels-corporation-cutback=y}           | 0.3448276                                        | 0.3448276                                        | 1                                                | 150                                              | 1                                                | \n",
       "| {} => {religious-groups-in-schools=n}            | 0.3494253                                        | 0.3494253                                        | 1                                                | 152                                              | 1                                                | \n",
       "\n",
       "\n"
      ],
      "text/plain": [
       "  rules                                            support   confidence lift\n",
       "1 {} => {export-administration-act-south-africa=?} 0.2390805 0.2390805  1   \n",
       "2 {} => {synfuels-corporation-cutback=y}           0.3448276 0.3448276  1   \n",
       "3 {} => {religious-groups-in-schools=n}            0.3494253 0.3494253  1   \n",
       "  count conviction\n",
       "1 104   1         \n",
       "2 150   1         \n",
       "3 152   1         "
      ]
     },
     "metadata": {},
     "output_type": "display_data"
    },
    {
     "data": {
      "text/html": [
       "73404"
      ],
      "text/latex": [
       "73404"
      ],
      "text/markdown": [
       "73404"
      ],
      "text/plain": [
       "[1] 73404"
      ]
     },
     "metadata": {},
     "output_type": "display_data"
    }
   ],
   "source": [
    "case5 = cbind(as(vote_rules_conf_0_2, \"data.frame\"), conviction=interestMeasure(vote_rules_conf_0_2, \"conviction\", vote))\n",
    "case5 = case5[complete.cases(case5), ]\n",
    "dim(case5)\n",
    "head(case5,n=3)\n",
    "n5 = which(case5$conviction >= 1)\n",
    "length(n5)"
   ]
  },
  {
   "cell_type": "code",
   "execution_count": 180,
   "metadata": {},
   "outputs": [
    {
     "data": {
      "text/html": [
       "<ol class=list-inline>\n",
       "\t<li>22</li>\n",
       "\t<li>6</li>\n",
       "</ol>\n"
      ],
      "text/latex": [
       "\\begin{enumerate*}\n",
       "\\item 22\n",
       "\\item 6\n",
       "\\end{enumerate*}\n"
      ],
      "text/markdown": [
       "1. 22\n",
       "2. 6\n",
       "\n",
       "\n"
      ],
      "text/plain": [
       "[1] 22  6"
      ]
     },
     "metadata": {},
     "output_type": "display_data"
    },
    {
     "data": {
      "text/html": [
       "<table>\n",
       "<thead><tr><th scope=col>rules</th><th scope=col>support</th><th scope=col>confidence</th><th scope=col>lift</th><th scope=col>count</th><th scope=col>conviction</th></tr></thead>\n",
       "<tbody>\n",
       "\t<tr><td>{} =&gt; {education-spending=n} </td><td>0.5356322                       </td><td>0.5356322                       </td><td>1                               </td><td>233                             </td><td>1                               </td></tr>\n",
       "\t<tr><td><span style=white-space:pre-wrap>{} =&gt; {duty-free-exports=n}  </span></td><td>0.5356322                                                               </td><td>0.5356322                                                               </td><td>1                                                                       </td><td>233                                                                     </td><td>1                                                                       </td></tr>\n",
       "\t<tr><td>{} =&gt; {handicapped-infants=n}</td><td>0.5425287                       </td><td>0.5425287                       </td><td>1                               </td><td>236                             </td><td>1                               </td></tr>\n",
       "</tbody>\n",
       "</table>\n"
      ],
      "text/latex": [
       "\\begin{tabular}{r|llllll}\n",
       " rules & support & confidence & lift & count & conviction\\\\\n",
       "\\hline\n",
       "\t \\{\\} => \\{education-spending=n\\}  & 0.5356322                             & 0.5356322                             & 1                                     & 233                                   & 1                                    \\\\\n",
       "\t \\{\\} => \\{duty-free-exports=n\\}   & 0.5356322                             & 0.5356322                             & 1                                     & 233                                   & 1                                    \\\\\n",
       "\t \\{\\} => \\{handicapped-infants=n\\} & 0.5425287                             & 0.5425287                             & 1                                     & 236                                   & 1                                    \\\\\n",
       "\\end{tabular}\n"
      ],
      "text/markdown": [
       "\n",
       "rules | support | confidence | lift | count | conviction | \n",
       "|---|---|---|\n",
       "| {} => {education-spending=n}  | 0.5356322                     | 0.5356322                     | 1                             | 233                           | 1                             | \n",
       "| {} => {duty-free-exports=n}   | 0.5356322                     | 0.5356322                     | 1                             | 233                           | 1                             | \n",
       "| {} => {handicapped-infants=n} | 0.5425287                     | 0.5425287                     | 1                             | 236                           | 1                             | \n",
       "\n",
       "\n"
      ],
      "text/plain": [
       "  rules                         support   confidence lift count conviction\n",
       "1 {} => {education-spending=n}  0.5356322 0.5356322  1    233   1         \n",
       "2 {} => {duty-free-exports=n}   0.5356322 0.5356322  1    233   1         \n",
       "3 {} => {handicapped-infants=n} 0.5425287 0.5425287  1    236   1         "
      ]
     },
     "metadata": {},
     "output_type": "display_data"
    },
    {
     "data": {
      "text/html": [
       "19"
      ],
      "text/latex": [
       "19"
      ],
      "text/markdown": [
       "19"
      ],
      "text/plain": [
       "[1] 19"
      ]
     },
     "metadata": {},
     "output_type": "display_data"
    }
   ],
   "source": [
    "case6 = cbind(as(vote_rules_conf_0_5, \"data.frame\"), conviction=interestMeasure(vote_rules_conf_0_5, \"conviction\", vote))\n",
    "case6 = case6[complete.cases(case6), ]\n",
    "dim(case6)\n",
    "head(case6,n=3)\n",
    "n6 = which(case6$conviction >= 1)\n",
    "length(n6)"
   ]
  },
  {
   "cell_type": "markdown",
   "metadata": {},
   "source": [
    "### d."
   ]
  },
  {
   "cell_type": "markdown",
   "metadata": {},
   "source": [
    "Não sei bem o que responder aqui!"
   ]
  },
  {
   "cell_type": "markdown",
   "metadata": {},
   "source": [
    "## 3. - supermarket.csv\n",
    "### a."
   ]
  },
  {
   "cell_type": "code",
   "execution_count": null,
   "metadata": {},
   "outputs": [],
   "source": [
    "supermarket <-read_csv(\"data/supermarket.csv\")\n",
    "head(supermarket,n=5)"
   ]
  },
  {
   "cell_type": "markdown",
   "metadata": {},
   "source": [
    "#### Aqui tambem é previsto dar erro, mas também não percebo bem porquê :o\n"
   ]
  },
  {
   "cell_type": "code",
   "execution_count": null,
   "metadata": {},
   "outputs": [],
   "source": [
    "supermaket_rules <-apriori(supermarket, parameter = list(supp =0.9, conf = 1, maxlen=100, target = \"rules\")) "
   ]
  },
  {
   "cell_type": "code",
   "execution_count": null,
   "metadata": {},
   "outputs": [],
   "source": [
    "supermarket = mutate_if(supermarket, is.character, as.factor)"
   ]
  },
  {
   "cell_type": "code",
   "execution_count": null,
   "metadata": {},
   "outputs": [],
   "source": [
    "supermaket_rules <-apriori(supermarket, parameter = list(supp = 0.9, conf = 1, maxlen=10, target = \"rules\")) "
   ]
  },
  {
   "cell_type": "code",
   "execution_count": null,
   "metadata": {},
   "outputs": [],
   "source": [
    "write(supermaket_rules[1:10],\"\",sep=\"\\n \", quote=TRUE)"
   ]
  },
  {
   "cell_type": "code",
   "execution_count": null,
   "metadata": {},
   "outputs": [],
   "source": []
  },
  {
   "cell_type": "markdown",
   "metadata": {},
   "source": [
    "### b."
   ]
  },
  {
   "cell_type": "code",
   "execution_count": null,
   "metadata": {},
   "outputs": [],
   "source": []
  },
  {
   "cell_type": "markdown",
   "metadata": {},
   "source": [
    "### c."
   ]
  },
  {
   "cell_type": "code",
   "execution_count": null,
   "metadata": {},
   "outputs": [],
   "source": []
  },
  {
   "cell_type": "markdown",
   "metadata": {},
   "source": [
    "## 4. - glass.csv\n",
    "### a."
   ]
  },
  {
   "cell_type": "code",
   "execution_count": null,
   "metadata": {},
   "outputs": [],
   "source": [
    "glass <-read_csv(\"data/glass.csv\")\n",
    "head(glass,n=5)"
   ]
  },
  {
   "cell_type": "code",
   "execution_count": null,
   "metadata": {},
   "outputs": [],
   "source": [
    "glass_d_int = discretize_all(glass, \"interval\",3)\n",
    "class(glass_d_int)"
   ]
  },
  {
   "cell_type": "code",
   "execution_count": null,
   "metadata": {},
   "outputs": [],
   "source": [
    "head(glass_d_int,n=5)"
   ]
  },
  {
   "cell_type": "code",
   "execution_count": null,
   "metadata": {},
   "outputs": [],
   "source": [
    "glass_d_fr = discretize_all(glass, \"frequency\",3)"
   ]
  },
  {
   "cell_type": "code",
   "execution_count": null,
   "metadata": {},
   "outputs": [],
   "source": [
    "head(glass_d_fr,n=5)"
   ]
  },
  {
   "cell_type": "code",
   "execution_count": null,
   "metadata": {},
   "outputs": [],
   "source": [
    "rules <-apriori(supermarket, parameter = list(supp = 0.9, conf = 1, maxlen=10, target = \"rules\")) "
   ]
  }
 ],
 "metadata": {
  "kernelspec": {
   "display_name": "R",
   "language": "R",
   "name": "ir"
  },
  "language_info": {
   "codemirror_mode": "r",
   "file_extension": ".r",
   "mimetype": "text/x-r-source",
   "name": "R",
   "pygments_lexer": "r",
   "version": "3.3.2"
  }
 },
 "nbformat": 4,
 "nbformat_minor": 2
}
