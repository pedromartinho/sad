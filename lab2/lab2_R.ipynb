{
 "cells": [
  {
   "cell_type": "markdown",
   "metadata": {},
   "source": [
    "## Import packages"
   ]
  },
  {
   "cell_type": "code",
   "execution_count": 1,
   "metadata": {},
   "outputs": [
    {
     "name": "stderr",
     "output_type": "stream",
     "text": [
      "Installing package into ‘/home/martinho/R/x86_64-pc-linux-gnu-library/3.3’\n",
      "(as ‘lib’ is unspecified)\n",
      "Loading required package: Matrix\n",
      "\n",
      "Attaching package: ‘arules’\n",
      "\n",
      "The following objects are masked from ‘package:base’:\n",
      "\n",
      "    abbreviate, write\n",
      "\n"
     ]
    }
   ],
   "source": [
    "install.packages(\"arules\")\n",
    "library(arules)"
   ]
  },
  {
   "cell_type": "code",
   "execution_count": 16,
   "metadata": {},
   "outputs": [
    {
     "name": "stderr",
     "output_type": "stream",
     "text": [
      "Installing package into ‘/home/martinho/R/x86_64-pc-linux-gnu-library/3.3’\n",
      "(as ‘lib’ is unspecified)\n"
     ]
    }
   ],
   "source": [
    "install.packages(\"dplyr\")"
   ]
  },
  {
   "cell_type": "code",
   "execution_count": 3,
   "metadata": {},
   "outputs": [
    {
     "name": "stderr",
     "output_type": "stream",
     "text": [
      "Installing package into ‘/home/martinho/R/x86_64-pc-linux-gnu-library/3.3’\n",
      "(as ‘lib’ is unspecified)\n",
      "also installing the dependencies ‘colorspace’, ‘mnormt’, ‘bindr’, ‘RColorBrewer’, ‘dichromat’, ‘munsell’, ‘labeling’, ‘viridisLite’, ‘rematch’, ‘plyr’, ‘psych’, ‘reshape2’, ‘assertthat’, ‘bindrcpp’, ‘glue’, ‘pkgconfig’, ‘plogr’, ‘gtable’, ‘scales’, ‘lazyeval’, ‘cellranger’, ‘selectr’, ‘tidyselect’, ‘broom’, ‘dplyr’, ‘forcats’, ‘ggplot2’, ‘haven’, ‘lubridate’, ‘modelr’, ‘purrr’, ‘readxl’, ‘rvest’, ‘tidyr’, ‘xml2’\n",
      "\n",
      "Warning message in install.packages(\"tidyverse\"):\n",
      "“installation of package ‘xml2’ had non-zero exit status”Warning message in install.packages(\"tidyverse\"):\n",
      "“installation of package ‘rvest’ had non-zero exit status”Warning message in install.packages(\"tidyverse\"):\n",
      "“installation of package ‘tidyverse’ had non-zero exit status”"
     ]
    }
   ],
   "source": [
    "install.packages(\"tidyverse\")"
   ]
  },
  {
   "cell_type": "markdown",
   "metadata": {},
   "source": [
    "#### Change directory"
   ]
  },
  {
   "cell_type": "code",
   "execution_count": 17,
   "metadata": {},
   "outputs": [],
   "source": [
    "setwd(\"~/Documents/IST/SAD/lab2\")"
   ]
  },
  {
   "cell_type": "markdown",
   "metadata": {},
   "source": [
    "## 1. - example.csv e adult.csv\n",
    "### a."
   ]
  },
  {
   "cell_type": "code",
   "execution_count": 18,
   "metadata": {},
   "outputs": [
    {
     "name": "stderr",
     "output_type": "stream",
     "text": [
      "Warning message in readLines(file, encoding = encoding):\n",
      "“incomplete final line found on 'data/example.csv'”"
     ]
    }
   ],
   "source": [
    "example = read.transactions(\"data/example.csv\",format=\"basket\", sep=\",\")"
   ]
  },
  {
   "cell_type": "code",
   "execution_count": 19,
   "metadata": {},
   "outputs": [
    {
     "name": "stdout",
     "output_type": "stream",
     "text": [
      "     items  \n",
      "[1]  {A,C,E}\n",
      "[2]  {A,C,E}\n",
      "[3]  {A,C,D}\n",
      "[4]  {A,B}  \n",
      "[5]  {A,B}  \n",
      "[6]  {A,D}  \n",
      "[7]  {B,C}  \n",
      "[8]  {B,E}  \n",
      "[9]  {A,D}  \n",
      "[10] {B,E}  \n"
     ]
    }
   ],
   "source": [
    "inspect(example);"
   ]
  },
  {
   "cell_type": "code",
   "execution_count": 20,
   "metadata": {},
   "outputs": [
    {
     "name": "stdout",
     "output_type": "stream",
     "text": [
      "Apriori\n",
      "\n",
      "Parameter specification:\n",
      " confidence minval smax arem  aval originalSupport maxtime support minlen\n",
      "         NA    0.1    1 none FALSE            TRUE       5     0.2      1\n",
      " maxlen            target   ext\n",
      "     10 frequent itemsets FALSE\n",
      "\n",
      "Algorithmic control:\n",
      " filter tree heap memopt load sort verbose\n",
      "    0.1 TRUE TRUE  FALSE TRUE    2    TRUE\n",
      "\n",
      "Absolute minimum support count: 2 \n",
      "\n",
      "set item appearances ...[0 item(s)] done [0.00s].\n",
      "set transactions ...[5 item(s), 10 transaction(s)] done [0.00s].\n",
      "sorting and recoding items ... [5 item(s)] done [0.00s].\n",
      "creating transaction tree ... done [0.00s].\n",
      "checking subsets of size 1 2 3 done [0.00s].\n",
      "writing ... [12 set(s)] done [0.00s].\n",
      "creating S4 object  ... done [0.00s].\n",
      "     items   support count\n",
      "[1]  {D}     0.3     3    \n",
      "[2]  {E}     0.4     4    \n",
      "[3]  {B}     0.5     5    \n",
      "[4]  {C}     0.4     4    \n",
      "[5]  {A}     0.7     7    \n",
      "[6]  {A,D}   0.3     3    \n",
      "[7]  {B,E}   0.2     2    \n",
      "[8]  {C,E}   0.2     2    \n",
      "[9]  {A,E}   0.2     2    \n",
      "[10] {A,B}   0.2     2    \n",
      "[11] {A,C}   0.3     3    \n",
      "[12] {A,C,E} 0.2     2    \n"
     ]
    }
   ],
   "source": [
    "is <- apriori(example, parameter = list(support= 0.2, target=\"frequent\"))\n",
    "inspect(is)"
   ]
  },
  {
   "cell_type": "markdown",
   "metadata": {},
   "source": [
    "### b."
   ]
  },
  {
   "cell_type": "code",
   "execution_count": 21,
   "metadata": {},
   "outputs": [
    {
     "name": "stderr",
     "output_type": "stream",
     "text": [
      "Warning message in readLines(file, encoding = encoding):\n",
      "“incomplete final line found on 'data/adult.csv'”Warning message in asMethod(object):\n",
      "“removing duplicated items in transactions”"
     ]
    }
   ],
   "source": [
    "adult = read.transactions(\"data/adult.csv\",format=\"basket\", sep=\",\")"
   ]
  },
  {
   "cell_type": "code",
   "execution_count": 22,
   "metadata": {},
   "outputs": [
    {
     "name": "stdout",
     "output_type": "stream",
     "text": [
      "Apriori\n",
      "\n",
      "Parameter specification:\n",
      " confidence minval smax arem  aval originalSupport maxtime support minlen\n",
      "        0.9    0.1    1 none FALSE            TRUE       5     0.5      1\n",
      " maxlen target   ext\n",
      "     10  rules FALSE\n",
      "\n",
      "Algorithmic control:\n",
      " filter tree heap memopt load sort verbose\n",
      "    0.1 TRUE TRUE  FALSE TRUE    2    TRUE\n",
      "\n",
      "Absolute minimum support count: 16281 \n",
      "\n",
      "set item appearances ...[0 item(s)] done [0.00s].\n",
      "set transactions ...[22070 item(s), 32562 transaction(s)] done [0.05s].\n",
      "sorting and recoding items ... [6 item(s)] done [0.01s].\n",
      "creating transaction tree ... done [0.01s].\n",
      "checking subsets of size 1 2 3 4 done [0.00s].\n",
      "writing ... [27 rule(s)] done [0.00s].\n",
      "creating S4 object  ... done [0.01s].\n"
     ]
    }
   ],
   "source": [
    "rules <- apriori(adult, parameter = list(supp = 0.5, conf = 0.9, target = \"rules\")) "
   ]
  },
  {
   "cell_type": "code",
   "execution_count": 23,
   "metadata": {},
   "outputs": [
    {
     "name": "stdout",
     "output_type": "stream",
     "text": [
      "     lhs                              rhs             support   confidence\n",
      "[1]  {}                            => {0}             0.9999693 0.9999693 \n",
      "[2]  {Male}                        => {0}             0.6691849 1.0000000 \n",
      "[3]  {Private}                     => {0}             0.6970088 1.0000000 \n",
      "[4]  {<=50K}                       => {0}             0.7591671 1.0000000 \n",
      "[5]  {White}                       => {United-States} 0.7868374 0.9210886 \n",
      "[6]  {White}                       => {0}             0.8542473 1.0000000 \n",
      "[7]  {United-States}               => {0}             0.8958295 1.0000000 \n",
      "[8]  {Male,White}                  => {United-States} 0.5421350 0.9206738 \n",
      "[9]  {Male,United-States}          => {White}         0.5421350 0.9058395 \n",
      "[10] {Male,White}                  => {0}             0.5888459 1.0000000 \n",
      "[11] {Male,United-States}          => {0}             0.5984890 1.0000000 \n",
      "[12] {<=50K,Private}               => {0}             0.5445919 1.0000000 \n",
      "[13] {Private,White}               => {United-States} 0.5444383 0.9136261 \n",
      "[14] {Private,White}               => {0}             0.5959093 1.0000000 \n",
      "[15] {Private,United-States}       => {0}             0.6183588 1.0000000 \n",
      "[16] {<=50K,White}                 => {United-States} 0.5809533 0.9139089 \n",
      "[17] {<=50K,White}                 => {0}             0.6356796 1.0000000 \n",
      "[18] {<=50K,United-States}         => {0}             0.6756035 1.0000000 \n",
      "[19] {United-States,White}         => {0}             0.7868374 1.0000000 \n",
      "[20] {0,White}                     => {United-States} 0.7868374 0.9210886 \n",
      "[21] {Male,United-States,White}    => {0}             0.5421350 1.0000000 \n",
      "[22] {0,Male,White}                => {United-States} 0.5421350 0.9206738 \n",
      "[23] {0,Male,United-States}        => {White}         0.5421350 0.9058395 \n",
      "[24] {Private,United-States,White} => {0}             0.5444383 1.0000000 \n",
      "[25] {0,Private,White}             => {United-States} 0.5444383 0.9136261 \n",
      "[26] {<=50K,United-States,White}   => {0}             0.5809533 1.0000000 \n",
      "[27] {<=50K,0,White}               => {United-States} 0.5809533 0.9139089 \n",
      "     lift     count\n",
      "[1]  1.000000 32561\n",
      "[2]  1.000031 21790\n",
      "[3]  1.000031 22696\n",
      "[4]  1.000031 24720\n",
      "[5]  1.028196 25621\n",
      "[6]  1.000031 27816\n",
      "[7]  1.000031 29170\n",
      "[8]  1.027733 17653\n",
      "[9]  1.060395 17653\n",
      "[10] 1.000031 19174\n",
      "[11] 1.000031 19488\n",
      "[12] 1.000031 17733\n",
      "[13] 1.019866 17728\n",
      "[14] 1.000031 19404\n",
      "[15] 1.000031 20135\n",
      "[16] 1.020182 18917\n",
      "[17] 1.000031 20699\n",
      "[18] 1.000031 21999\n",
      "[19] 1.000031 25621\n",
      "[20] 1.028196 25621\n",
      "[21] 1.000031 17653\n",
      "[22] 1.027733 17653\n",
      "[23] 1.060395 17653\n",
      "[24] 1.000031 17728\n",
      "[25] 1.019866 17728\n",
      "[26] 1.000031 18917\n",
      "[27] 1.020182 18917\n"
     ]
    }
   ],
   "source": [
    "inspect(rules)"
   ]
  },
  {
   "cell_type": "markdown",
   "metadata": {},
   "source": [
    "## 2. - vote.csv\n",
    "### a."
   ]
  },
  {
   "cell_type": "code",
   "execution_count": 24,
   "metadata": {},
   "outputs": [],
   "source": [
    "#vote=read.transactions(\"data/\",format=\"basket\", sep=\",\")"
   ]
  },
  {
   "cell_type": "code",
   "execution_count": 25,
   "metadata": {},
   "outputs": [
    {
     "name": "stderr",
     "output_type": "stream",
     "text": [
      "Parsed with column specification:\n",
      "cols(\n",
      "  `handicapped-infants` = col_character(),\n",
      "  `water-project-cost-sharing` = col_character(),\n",
      "  `adoption-of-the-budget-resolution` = col_character(),\n",
      "  `physician-fee-freeze` = col_character(),\n",
      "  `el-salvador-aid` = col_character(),\n",
      "  `religious-groups-in-schools` = col_character(),\n",
      "  `anti-satellite-test-ban` = col_character(),\n",
      "  `aid-to-nicaraguan-contras` = col_character(),\n",
      "  `mx-missile` = col_character(),\n",
      "  immigration = col_character(),\n",
      "  `synfuels-corporation-cutback` = col_character(),\n",
      "  `education-spending` = col_character(),\n",
      "  `superfund-right-to-sue` = col_character(),\n",
      "  crime = col_character(),\n",
      "  `duty-free-exports` = col_character(),\n",
      "  `export-administration-act-south-africa` = col_character(),\n",
      "  Class = col_character()\n",
      ")\n"
     ]
    }
   ],
   "source": [
    "library(readr)\n",
    "vote <-read_csv(\"data/vote.csv\")"
   ]
  },
  {
   "cell_type": "code",
   "execution_count": 26,
   "metadata": {},
   "outputs": [
    {
     "ename": "ERROR",
     "evalue": "Error in parse(text = x, srcfile = src): <text>:3:0: unexpected end of input\n1: rules <-apriori(vote, parameter = list(supp = 0.5, conf = 0.9, target = \"rules\")\n2: \n  ^\n",
     "output_type": "error",
     "traceback": [
      "Error in parse(text = x, srcfile = src): <text>:3:0: unexpected end of input\n1: rules <-apriori(vote, parameter = list(supp = 0.5, conf = 0.9, target = \"rules\")\n2: \n  ^\nTraceback:\n"
     ]
    }
   ],
   "source": [
    "rules <-apriori(vote, parameter = list(supp = 0.5, conf = 0.9, target = \"rules\")\n"
   ]
  },
  {
   "cell_type": "code",
   "execution_count": 15,
   "metadata": {},
   "outputs": [
    {
     "ename": "ERROR",
     "evalue": "Error in eval(expr, envir, enclos): could not find function \"mutate_if\"\n",
     "output_type": "error",
     "traceback": [
      "Error in eval(expr, envir, enclos): could not find function \"mutate_if\"\nTraceback:\n"
     ]
    }
   ],
   "source": [
    "vote = mutate_if(vote, is.character, as.factor)"
   ]
  },
  {
   "cell_type": "code",
   "execution_count": null,
   "metadata": {},
   "outputs": [],
   "source": []
  },
  {
   "cell_type": "code",
   "execution_count": null,
   "metadata": {},
   "outputs": [],
   "source": []
  },
  {
   "cell_type": "code",
   "execution_count": null,
   "metadata": {},
   "outputs": [],
   "source": []
  },
  {
   "cell_type": "code",
   "execution_count": null,
   "metadata": {},
   "outputs": [],
   "source": []
  },
  {
   "cell_type": "code",
   "execution_count": null,
   "metadata": {},
   "outputs": [],
   "source": []
  },
  {
   "cell_type": "code",
   "execution_count": null,
   "metadata": {},
   "outputs": [],
   "source": []
  },
  {
   "cell_type": "code",
   "execution_count": null,
   "metadata": {},
   "outputs": [],
   "source": []
  }
 ],
 "metadata": {
  "kernelspec": {
   "display_name": "R",
   "language": "R",
   "name": "ir"
  },
  "language_info": {
   "codemirror_mode": "r",
   "file_extension": ".r",
   "mimetype": "text/x-r-source",
   "name": "R",
   "pygments_lexer": "r",
   "version": "3.3.2"
  }
 },
 "nbformat": 4,
 "nbformat_minor": 2
}
