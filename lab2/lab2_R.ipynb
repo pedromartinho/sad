{
 "cells": [
  {
   "cell_type": "markdown",
   "metadata": {},
   "source": [
    "## Import packages"
   ]
  },
  {
   "cell_type": "code",
   "execution_count": 1,
   "metadata": {},
   "outputs": [
    {
     "name": "stderr",
     "output_type": "stream",
     "text": [
      "Installing package into ‘/home/martinho/R/x86_64-pc-linux-gnu-library/3.3’\n",
      "(as ‘lib’ is unspecified)\n",
      "Loading required package: Matrix\n",
      "\n",
      "Attaching package: ‘arules’\n",
      "\n",
      "The following objects are masked from ‘package:base’:\n",
      "\n",
      "    abbreviate, write\n",
      "\n"
     ]
    }
   ],
   "source": [
    "install.packages(\"arules\")\n",
    "library(arules)"
   ]
  },
  {
   "cell_type": "code",
   "execution_count": 2,
   "metadata": {},
   "outputs": [
    {
     "name": "stderr",
     "output_type": "stream",
     "text": [
      "Installing package into ‘/home/martinho/R/x86_64-pc-linux-gnu-library/3.3’\n",
      "(as ‘lib’ is unspecified)\n"
     ]
    }
   ],
   "source": [
    "install.packages(\"dplyr\")"
   ]
  },
  {
   "cell_type": "code",
   "execution_count": 3,
   "metadata": {},
   "outputs": [
    {
     "name": "stderr",
     "output_type": "stream",
     "text": [
      "Installing package into ‘/home/martinho/R/x86_64-pc-linux-gnu-library/3.3’\n",
      "(as ‘lib’ is unspecified)\n",
      "also installing the dependencies ‘rvest’, ‘xml2’\n",
      "\n",
      "Warning message in install.packages(\"tidyverse\"):\n",
      "“installation of package ‘xml2’ had non-zero exit status”Warning message in install.packages(\"tidyverse\"):\n",
      "“installation of package ‘rvest’ had non-zero exit status”Warning message in install.packages(\"tidyverse\"):\n",
      "“installation of package ‘tidyverse’ had non-zero exit status”"
     ]
    }
   ],
   "source": [
    "install.packages(\"tidyverse\")"
   ]
  },
  {
   "cell_type": "code",
   "execution_count": 40,
   "metadata": {},
   "outputs": [],
   "source": [
    "discretize_all = function(table_d, type, n){\n",
    "    for (i in 1:ncol(table_d)) {\n",
    "        if (is.numeric(table_d[[i]])) {\n",
    "            table_d[[i]]  =  discretize(table_d[[i]],  method  =  type,  categories  =  n, ordered=TRUE)\n",
    "        }\n",
    "    }\n",
    "    print(summary(table_d))\n",
    "    return(table_d);\n",
    "}"
   ]
  },
  {
   "cell_type": "markdown",
   "metadata": {},
   "source": [
    "#### Change directory"
   ]
  },
  {
   "cell_type": "code",
   "execution_count": 4,
   "metadata": {},
   "outputs": [],
   "source": [
    "setwd(\"~/Documents/IST/SAD/lab2\")"
   ]
  },
  {
   "cell_type": "markdown",
   "metadata": {},
   "source": [
    "## 1. - example.csv e adult.csv\n",
    "### a."
   ]
  },
  {
   "cell_type": "code",
   "execution_count": 5,
   "metadata": {},
   "outputs": [
    {
     "name": "stderr",
     "output_type": "stream",
     "text": [
      "Warning message in readLines(file, encoding = encoding):\n",
      "“incomplete final line found on 'data/example.csv'”"
     ]
    }
   ],
   "source": [
    "example = read.transactions(\"data/example.csv\",format=\"basket\", sep=\",\")"
   ]
  },
  {
   "cell_type": "code",
   "execution_count": 6,
   "metadata": {},
   "outputs": [
    {
     "name": "stdout",
     "output_type": "stream",
     "text": [
      "     items  \n",
      "[1]  {A,C,E}\n",
      "[2]  {A,C,E}\n",
      "[3]  {A,C,D}\n",
      "[4]  {A,B}  \n",
      "[5]  {A,B}  \n",
      "[6]  {A,D}  \n",
      "[7]  {B,C}  \n",
      "[8]  {B,E}  \n",
      "[9]  {A,D}  \n",
      "[10] {B,E}  \n"
     ]
    }
   ],
   "source": [
    "inspect(example);"
   ]
  },
  {
   "cell_type": "code",
   "execution_count": 7,
   "metadata": {},
   "outputs": [
    {
     "name": "stdout",
     "output_type": "stream",
     "text": [
      "Apriori\n",
      "\n",
      "Parameter specification:\n",
      " confidence minval smax arem  aval originalSupport maxtime support minlen\n",
      "         NA    0.1    1 none FALSE            TRUE       5     0.2      1\n",
      " maxlen            target   ext\n",
      "     10 frequent itemsets FALSE\n",
      "\n",
      "Algorithmic control:\n",
      " filter tree heap memopt load sort verbose\n",
      "    0.1 TRUE TRUE  FALSE TRUE    2    TRUE\n",
      "\n",
      "Absolute minimum support count: 2 \n",
      "\n",
      "set item appearances ...[0 item(s)] done [0.00s].\n",
      "set transactions ...[5 item(s), 10 transaction(s)] done [0.00s].\n",
      "sorting and recoding items ... [5 item(s)] done [0.00s].\n",
      "creating transaction tree ... done [0.00s].\n",
      "checking subsets of size 1 2 3 done [0.00s].\n",
      "writing ... [12 set(s)] done [0.00s].\n",
      "creating S4 object  ... done [0.00s].\n",
      "     items   support count\n",
      "[1]  {D}     0.3     3    \n",
      "[2]  {E}     0.4     4    \n",
      "[3]  {B}     0.5     5    \n",
      "[4]  {C}     0.4     4    \n",
      "[5]  {A}     0.7     7    \n",
      "[6]  {A,D}   0.3     3    \n",
      "[7]  {B,E}   0.2     2    \n",
      "[8]  {C,E}   0.2     2    \n",
      "[9]  {A,E}   0.2     2    \n",
      "[10] {A,B}   0.2     2    \n",
      "[11] {A,C}   0.3     3    \n",
      "[12] {A,C,E} 0.2     2    \n"
     ]
    }
   ],
   "source": [
    "is <- apriori(example, parameter = list(support= 0.2, target=\"frequent\"))\n",
    "inspect(is)"
   ]
  },
  {
   "cell_type": "markdown",
   "metadata": {},
   "source": [
    "### b."
   ]
  },
  {
   "cell_type": "code",
   "execution_count": 8,
   "metadata": {},
   "outputs": [
    {
     "name": "stderr",
     "output_type": "stream",
     "text": [
      "Warning message in readLines(file, encoding = encoding):\n",
      "“incomplete final line found on 'data/adult.csv'”Warning message in asMethod(object):\n",
      "“removing duplicated items in transactions”"
     ]
    }
   ],
   "source": [
    "adult = read.transactions(\"data/adult.csv\",format=\"basket\", sep=\",\")"
   ]
  },
  {
   "cell_type": "code",
   "execution_count": 9,
   "metadata": {},
   "outputs": [
    {
     "name": "stdout",
     "output_type": "stream",
     "text": [
      "Apriori\n",
      "\n",
      "Parameter specification:\n",
      " confidence minval smax arem  aval originalSupport maxtime support minlen\n",
      "        0.9    0.1    1 none FALSE            TRUE       5     0.5      1\n",
      " maxlen target   ext\n",
      "     10  rules FALSE\n",
      "\n",
      "Algorithmic control:\n",
      " filter tree heap memopt load sort verbose\n",
      "    0.1 TRUE TRUE  FALSE TRUE    2    TRUE\n",
      "\n",
      "Absolute minimum support count: 16281 \n",
      "\n",
      "set item appearances ...[0 item(s)] done [0.00s].\n",
      "set transactions ...[22070 item(s), 32562 transaction(s)] done [0.05s].\n",
      "sorting and recoding items ... [6 item(s)] done [0.01s].\n",
      "creating transaction tree ... done [0.01s].\n",
      "checking subsets of size 1 2 3 4 done [0.00s].\n",
      "writing ... [27 rule(s)] done [0.00s].\n",
      "creating S4 object  ... done [0.01s].\n"
     ]
    }
   ],
   "source": [
    "rules <- apriori(adult, parameter = list(supp = 0.5, conf = 0.9, target = \"rules\")) "
   ]
  },
  {
   "cell_type": "code",
   "execution_count": 10,
   "metadata": {},
   "outputs": [
    {
     "name": "stdout",
     "output_type": "stream",
     "text": [
      "     lhs                              rhs             support   confidence\n",
      "[1]  {}                            => {0}             0.9999693 0.9999693 \n",
      "[2]  {Male}                        => {0}             0.6691849 1.0000000 \n",
      "[3]  {Private}                     => {0}             0.6970088 1.0000000 \n",
      "[4]  {<=50K}                       => {0}             0.7591671 1.0000000 \n",
      "[5]  {White}                       => {United-States} 0.7868374 0.9210886 \n",
      "[6]  {White}                       => {0}             0.8542473 1.0000000 \n",
      "[7]  {United-States}               => {0}             0.8958295 1.0000000 \n",
      "[8]  {Male,White}                  => {United-States} 0.5421350 0.9206738 \n",
      "[9]  {Male,United-States}          => {White}         0.5421350 0.9058395 \n",
      "[10] {Male,White}                  => {0}             0.5888459 1.0000000 \n",
      "[11] {Male,United-States}          => {0}             0.5984890 1.0000000 \n",
      "[12] {<=50K,Private}               => {0}             0.5445919 1.0000000 \n",
      "[13] {Private,White}               => {United-States} 0.5444383 0.9136261 \n",
      "[14] {Private,White}               => {0}             0.5959093 1.0000000 \n",
      "[15] {Private,United-States}       => {0}             0.6183588 1.0000000 \n",
      "[16] {<=50K,White}                 => {United-States} 0.5809533 0.9139089 \n",
      "[17] {<=50K,White}                 => {0}             0.6356796 1.0000000 \n",
      "[18] {<=50K,United-States}         => {0}             0.6756035 1.0000000 \n",
      "[19] {United-States,White}         => {0}             0.7868374 1.0000000 \n",
      "[20] {0,White}                     => {United-States} 0.7868374 0.9210886 \n",
      "[21] {Male,United-States,White}    => {0}             0.5421350 1.0000000 \n",
      "[22] {0,Male,White}                => {United-States} 0.5421350 0.9206738 \n",
      "[23] {0,Male,United-States}        => {White}         0.5421350 0.9058395 \n",
      "[24] {Private,United-States,White} => {0}             0.5444383 1.0000000 \n",
      "[25] {0,Private,White}             => {United-States} 0.5444383 0.9136261 \n",
      "[26] {<=50K,United-States,White}   => {0}             0.5809533 1.0000000 \n",
      "[27] {<=50K,0,White}               => {United-States} 0.5809533 0.9139089 \n",
      "     lift     count\n",
      "[1]  1.000000 32561\n",
      "[2]  1.000031 21790\n",
      "[3]  1.000031 22696\n",
      "[4]  1.000031 24720\n",
      "[5]  1.028196 25621\n",
      "[6]  1.000031 27816\n",
      "[7]  1.000031 29170\n",
      "[8]  1.027733 17653\n",
      "[9]  1.060395 17653\n",
      "[10] 1.000031 19174\n",
      "[11] 1.000031 19488\n",
      "[12] 1.000031 17733\n",
      "[13] 1.019866 17728\n",
      "[14] 1.000031 19404\n",
      "[15] 1.000031 20135\n",
      "[16] 1.020182 18917\n",
      "[17] 1.000031 20699\n",
      "[18] 1.000031 21999\n",
      "[19] 1.000031 25621\n",
      "[20] 1.028196 25621\n",
      "[21] 1.000031 17653\n",
      "[22] 1.027733 17653\n",
      "[23] 1.060395 17653\n",
      "[24] 1.000031 17728\n",
      "[25] 1.019866 17728\n",
      "[26] 1.000031 18917\n",
      "[27] 1.020182 18917\n"
     ]
    }
   ],
   "source": [
    "inspect(rules)"
   ]
  },
  {
   "cell_type": "markdown",
   "metadata": {},
   "source": [
    "## 2. - vote.csv\n",
    "### a."
   ]
  },
  {
   "cell_type": "code",
   "execution_count": 30,
   "metadata": {},
   "outputs": [
    {
     "name": "stderr",
     "output_type": "stream",
     "text": [
      "Warning message in asMethod(object):\n",
      "“removing duplicated items in transactions”"
     ]
    }
   ],
   "source": [
    "vote=read.transactions(\"data/vote.csv\",format=\"basket\", sep=\",\")"
   ]
  },
  {
   "cell_type": "code",
   "execution_count": 29,
   "metadata": {},
   "outputs": [
    {
     "name": "stderr",
     "output_type": "stream",
     "text": [
      "Parsed with column specification:\n",
      "cols(\n",
      "  `handicapped-infants` = col_character(),\n",
      "  `water-project-cost-sharing` = col_character(),\n",
      "  `adoption-of-the-budget-resolution` = col_character(),\n",
      "  `physician-fee-freeze` = col_character(),\n",
      "  `el-salvador-aid` = col_character(),\n",
      "  `religious-groups-in-schools` = col_character(),\n",
      "  `anti-satellite-test-ban` = col_character(),\n",
      "  `aid-to-nicaraguan-contras` = col_character(),\n",
      "  `mx-missile` = col_character(),\n",
      "  immigration = col_character(),\n",
      "  `synfuels-corporation-cutback` = col_character(),\n",
      "  `education-spending` = col_character(),\n",
      "  `superfund-right-to-sue` = col_character(),\n",
      "  crime = col_character(),\n",
      "  `duty-free-exports` = col_character(),\n",
      "  `export-administration-act-south-africa` = col_character(),\n",
      "  Class = col_character()\n",
      ")\n"
     ]
    }
   ],
   "source": [
    "library(readr)\n",
    "vote <-read_csv(\"data/vote.csv\")"
   ]
  },
  {
   "cell_type": "markdown",
   "metadata": {},
   "source": [
    "#### Este comando dá erro e é previsto dar erro, pelo menos é o que a stora diz no doc de apoio. Mas não percebo bem porque é que isso acontece"
   ]
  },
  {
   "cell_type": "code",
   "execution_count": 13,
   "metadata": {},
   "outputs": [
    {
     "ename": "ERROR",
     "evalue": "Error in parse(text = x, srcfile = src): <text>:2:0: unexpected end of input\n1: rules <-apriori(vote, parameter = list(supp = 0.5, conf = 0.9, target = \"rules\")\n   ^\n",
     "output_type": "error",
     "traceback": [
      "Error in parse(text = x, srcfile = src): <text>:2:0: unexpected end of input\n1: rules <-apriori(vote, parameter = list(supp = 0.5, conf = 0.9, target = \"rules\")\n   ^\nTraceback:\n"
     ]
    }
   ],
   "source": [
    "rules <-apriori(vote, parameter = list(supp = 0.5, conf = 0.9, target = \"rules\")"
   ]
  },
  {
   "cell_type": "code",
   "execution_count": 24,
   "metadata": {},
   "outputs": [
    {
     "data": {
      "text/html": [
       "<table>\n",
       "<thead><tr><th scope=col>handicapped-infants</th><th scope=col>water-project-cost-sharing</th><th scope=col>adoption-of-the-budget-resolution</th><th scope=col>physician-fee-freeze</th><th scope=col>el-salvador-aid</th><th scope=col>religious-groups-in-schools</th><th scope=col>anti-satellite-test-ban</th><th scope=col>aid-to-nicaraguan-contras</th><th scope=col>mx-missile</th><th scope=col>immigration</th><th scope=col>synfuels-corporation-cutback</th><th scope=col>education-spending</th><th scope=col>superfund-right-to-sue</th><th scope=col>crime</th><th scope=col>duty-free-exports</th><th scope=col>export-administration-act-south-africa</th><th scope=col>Class</th></tr></thead>\n",
       "<tbody>\n",
       "\t<tr><td>n         </td><td>y         </td><td>n         </td><td>y         </td><td>y         </td><td>y         </td><td>n         </td><td>n         </td><td>n         </td><td>y         </td><td>?         </td><td>y         </td><td>y         </td><td>y         </td><td>n         </td><td>y         </td><td>republican</td></tr>\n",
       "\t<tr><td>n         </td><td>y         </td><td>n         </td><td>y         </td><td>y         </td><td>y         </td><td>n         </td><td>n         </td><td>n         </td><td>n         </td><td>n         </td><td>y         </td><td>y         </td><td>y         </td><td>n         </td><td>?         </td><td>republican</td></tr>\n",
       "\t<tr><td>?         </td><td>y         </td><td>y         </td><td>?         </td><td>y         </td><td>y         </td><td>n         </td><td>n         </td><td>n         </td><td>n         </td><td>y         </td><td>n         </td><td>y         </td><td>y         </td><td>n         </td><td>n         </td><td>democrat  </td></tr>\n",
       "\t<tr><td>n         </td><td>y         </td><td>y         </td><td>n         </td><td>?         </td><td>y         </td><td>n         </td><td>n         </td><td>n         </td><td>n         </td><td>y         </td><td>n         </td><td>y         </td><td>n         </td><td>n         </td><td>y         </td><td>democrat  </td></tr>\n",
       "\t<tr><td>y         </td><td>y         </td><td>y         </td><td>n         </td><td>y         </td><td>y         </td><td>n         </td><td>n         </td><td>n         </td><td>n         </td><td>y         </td><td>?         </td><td>y         </td><td>y         </td><td>y         </td><td>y         </td><td>democrat  </td></tr>\n",
       "</tbody>\n",
       "</table>\n"
      ],
      "text/latex": [
       "\\begin{tabular}{r|lllllllllllllllll}\n",
       " handicapped-infants & water-project-cost-sharing & adoption-of-the-budget-resolution & physician-fee-freeze & el-salvador-aid & religious-groups-in-schools & anti-satellite-test-ban & aid-to-nicaraguan-contras & mx-missile & immigration & synfuels-corporation-cutback & education-spending & superfund-right-to-sue & crime & duty-free-exports & export-administration-act-south-africa & Class\\\\\n",
       "\\hline\n",
       "\t n          & y          & n          & y          & y          & y          & n          & n          & n          & y          & ?          & y          & y          & y          & n          & y          & republican\\\\\n",
       "\t n          & y          & n          & y          & y          & y          & n          & n          & n          & n          & n          & y          & y          & y          & n          & ?          & republican\\\\\n",
       "\t ?          & y          & y          & ?          & y          & y          & n          & n          & n          & n          & y          & n          & y          & y          & n          & n          & democrat  \\\\\n",
       "\t n          & y          & y          & n          & ?          & y          & n          & n          & n          & n          & y          & n          & y          & n          & n          & y          & democrat  \\\\\n",
       "\t y          & y          & y          & n          & y          & y          & n          & n          & n          & n          & y          & ?          & y          & y          & y          & y          & democrat  \\\\\n",
       "\\end{tabular}\n"
      ],
      "text/markdown": [
       "\n",
       "handicapped-infants | water-project-cost-sharing | adoption-of-the-budget-resolution | physician-fee-freeze | el-salvador-aid | religious-groups-in-schools | anti-satellite-test-ban | aid-to-nicaraguan-contras | mx-missile | immigration | synfuels-corporation-cutback | education-spending | superfund-right-to-sue | crime | duty-free-exports | export-administration-act-south-africa | Class | \n",
       "|---|---|---|---|---|\n",
       "| n          | y          | n          | y          | y          | y          | n          | n          | n          | y          | ?          | y          | y          | y          | n          | y          | republican | \n",
       "| n          | y          | n          | y          | y          | y          | n          | n          | n          | n          | n          | y          | y          | y          | n          | ?          | republican | \n",
       "| ?          | y          | y          | ?          | y          | y          | n          | n          | n          | n          | y          | n          | y          | y          | n          | n          | democrat   | \n",
       "| n          | y          | y          | n          | ?          | y          | n          | n          | n          | n          | y          | n          | y          | n          | n          | y          | democrat   | \n",
       "| y          | y          | y          | n          | y          | y          | n          | n          | n          | n          | y          | ?          | y          | y          | y          | y          | democrat   | \n",
       "\n",
       "\n"
      ],
      "text/plain": [
       "  handicapped-infants water-project-cost-sharing\n",
       "1 n                   y                         \n",
       "2 n                   y                         \n",
       "3 ?                   y                         \n",
       "4 n                   y                         \n",
       "5 y                   y                         \n",
       "  adoption-of-the-budget-resolution physician-fee-freeze el-salvador-aid\n",
       "1 n                                 y                    y              \n",
       "2 n                                 y                    y              \n",
       "3 y                                 ?                    y              \n",
       "4 y                                 n                    ?              \n",
       "5 y                                 n                    y              \n",
       "  religious-groups-in-schools anti-satellite-test-ban aid-to-nicaraguan-contras\n",
       "1 y                           n                       n                        \n",
       "2 y                           n                       n                        \n",
       "3 y                           n                       n                        \n",
       "4 y                           n                       n                        \n",
       "5 y                           n                       n                        \n",
       "  mx-missile immigration synfuels-corporation-cutback education-spending\n",
       "1 n          y           ?                            y                 \n",
       "2 n          n           n                            y                 \n",
       "3 n          n           y                            n                 \n",
       "4 n          n           y                            n                 \n",
       "5 n          n           y                            ?                 \n",
       "  superfund-right-to-sue crime duty-free-exports\n",
       "1 y                      y     n                \n",
       "2 y                      y     n                \n",
       "3 y                      y     n                \n",
       "4 y                      n     n                \n",
       "5 y                      y     y                \n",
       "  export-administration-act-south-africa Class     \n",
       "1 y                                      republican\n",
       "2 ?                                      republican\n",
       "3 n                                      democrat  \n",
       "4 y                                      democrat  \n",
       "5 y                                      democrat  "
      ]
     },
     "metadata": {},
     "output_type": "display_data"
    }
   ],
   "source": [
    "library(dplyr)\n",
    "vote = mutate_if(vote, is.character, as.factor)\n",
    "head(vote,n=5)"
   ]
  },
  {
   "cell_type": "code",
   "execution_count": 55,
   "metadata": {},
   "outputs": [
    {
     "name": "stdout",
     "output_type": "stream",
     "text": [
      "Apriori\n",
      "\n",
      "Parameter specification:\n",
      " confidence minval smax arem  aval originalSupport maxtime support minlen\n",
      "          1    0.1    1 none FALSE            TRUE       5     0.1      1\n",
      " maxlen target   ext\n",
      "    100  rules FALSE\n",
      "\n",
      "Algorithmic control:\n",
      " filter tree heap memopt load sort verbose\n",
      "    0.1 TRUE TRUE  FALSE TRUE    2    TRUE\n",
      "\n",
      "Absolute minimum support count: 43 \n",
      "\n",
      "set item appearances ...[0 item(s)] done [0.00s].\n",
      "set transactions ...[22 item(s), 436 transaction(s)] done [0.00s].\n",
      "sorting and recoding items ... [5 item(s)] done [0.00s].\n",
      "creating transaction tree ... done [0.00s].\n",
      "checking subsets of size 1 2 3 4 done [0.00s].\n",
      "writing ... [10 rule(s)] done [0.00s].\n",
      "creating S4 object  ... done [0.00s].\n"
     ]
    }
   ],
   "source": [
    "rules <-apriori(vote, parameter = list(supp = 0.1, conf = 1,maxlen=100,target = \"rules\")) "
   ]
  },
  {
   "cell_type": "markdown",
   "metadata": {},
   "source": [
    "### b."
   ]
  },
  {
   "cell_type": "code",
   "execution_count": 76,
   "metadata": {},
   "outputs": [
    {
     "name": "stdout",
     "output_type": "stream",
     "text": [
      "    lhs                 rhs support   confidence lift     count\n",
      "[1] {?,democrat,n}   => {y} 0.3256881 1          1.004608 142  \n",
      "[2] {?,n,republican} => {y} 0.1353211 1          1.004608  59  \n",
      "[3] {?,republican,y} => {n} 0.1353211 1          1.006928  59  \n"
     ]
    }
   ],
   "source": [
    "inspect(tail(sort(rules,by=\"count\"),3))"
   ]
  },
  {
   "cell_type": "code",
   "execution_count": 58,
   "metadata": {},
   "outputs": [
    {
     "name": "stdout",
     "output_type": "stream",
     "text": [
      "    lhs                 rhs support   confidence lift     count\n",
      "[1] {republican,y}   => {n} 0.3830275 1          1.006928 167  \n",
      "[2] {?,republican,y} => {n} 0.1353211 1          1.006928  59  \n",
      "[3] {democrat}       => {y} 0.6123853 1          1.004608 267  \n"
     ]
    }
   ],
   "source": [
    "inspect(head(sort(rules, by=\"lift\"),n=3))"
   ]
  },
  {
   "cell_type": "markdown",
   "metadata": {},
   "source": [
    "### c."
   ]
  },
  {
   "cell_type": "code",
   "execution_count": null,
   "metadata": {},
   "outputs": [],
   "source": []
  },
  {
   "cell_type": "markdown",
   "metadata": {},
   "source": [
    "### d."
   ]
  },
  {
   "cell_type": "code",
   "execution_count": null,
   "metadata": {},
   "outputs": [],
   "source": []
  },
  {
   "cell_type": "markdown",
   "metadata": {},
   "source": [
    "## 3. - supermarket.csv\n",
    "### a."
   ]
  },
  {
   "cell_type": "code",
   "execution_count": 43,
   "metadata": {},
   "outputs": [
    {
     "name": "stderr",
     "output_type": "stream",
     "text": [
      "Parsed with column specification:\n",
      "cols(\n",
      "  .default = col_character()\n",
      ")\n",
      "See spec(...) for full column specifications.\n"
     ]
    },
    {
     "data": {
      "text/html": [
       "<table>\n",
       "<thead><tr><th scope=col>department1</th><th scope=col>department2</th><th scope=col>department3</th><th scope=col>department4</th><th scope=col>department5</th><th scope=col>department6</th><th scope=col>department7</th><th scope=col>department8</th><th scope=col>department9</th><th scope=col>'grocery misc'</th><th scope=col>⋯</th><th scope=col>department208</th><th scope=col>department209</th><th scope=col>department210</th><th scope=col>department211</th><th scope=col>department212</th><th scope=col>department213</th><th scope=col>department214</th><th scope=col>department215</th><th scope=col>department216</th><th scope=col>total</th></tr></thead>\n",
       "<tbody>\n",
       "\t<tr><td>?   </td><td>?   </td><td>?   </td><td>?   </td><td>?   </td><td>?   </td><td>?   </td><td>?   </td><td>?   </td><td>?   </td><td>⋯   </td><td>?   </td><td>?   </td><td>?   </td><td>?   </td><td>?   </td><td>?   </td><td>?   </td><td>?   </td><td>?   </td><td>high</td></tr>\n",
       "\t<tr><td>t   </td><td>?   </td><td>?   </td><td>?   </td><td>?   </td><td>?   </td><td>?   </td><td>?   </td><td>?   </td><td>?   </td><td>⋯   </td><td>?   </td><td>?   </td><td>?   </td><td>?   </td><td>?   </td><td>?   </td><td>?   </td><td>?   </td><td>?   </td><td>low </td></tr>\n",
       "\t<tr><td>?   </td><td>?   </td><td>?   </td><td>?   </td><td>?   </td><td>?   </td><td>?   </td><td>?   </td><td>?   </td><td>?   </td><td>⋯   </td><td>?   </td><td>?   </td><td>?   </td><td>?   </td><td>?   </td><td>?   </td><td>?   </td><td>?   </td><td>?   </td><td>low </td></tr>\n",
       "\t<tr><td>t   </td><td>?   </td><td>?   </td><td>?   </td><td>?   </td><td>?   </td><td>?   </td><td>?   </td><td>?   </td><td>?   </td><td>⋯   </td><td>?   </td><td>?   </td><td>?   </td><td>?   </td><td>?   </td><td>?   </td><td>?   </td><td>?   </td><td>?   </td><td>low </td></tr>\n",
       "\t<tr><td>?   </td><td>?   </td><td>?   </td><td>?   </td><td>?   </td><td>?   </td><td>?   </td><td>?   </td><td>?   </td><td>?   </td><td>⋯   </td><td>?   </td><td>?   </td><td>?   </td><td>?   </td><td>?   </td><td>?   </td><td>?   </td><td>?   </td><td>?   </td><td>low </td></tr>\n",
       "</tbody>\n",
       "</table>\n"
      ],
      "text/latex": [
       "\\begin{tabular}{r|lllllllllllllllllllllllllllllllllllllllllllllllllllllllllllllllllllllllllllllllllllllllllllllllllllllllllllllllllllllllllllllllllllllllllllllllllllllllllllllllllllllllllllllllllllllllllllllllllllllllllllllllllllllllll}\n",
       " department1 & department2 & department3 & department4 & department5 & department6 & department7 & department8 & department9 & 'grocery misc' & ⋯ & department208 & department209 & department210 & department211 & department212 & department213 & department214 & department215 & department216 & total\\\\\n",
       "\\hline\n",
       "\t ?    & ?    & ?    & ?    & ?    & ?    & ?    & ?    & ?    & ?    & ⋯    & ?    & ?    & ?    & ?    & ?    & ?    & ?    & ?    & ?    & high\\\\\n",
       "\t t    & ?    & ?    & ?    & ?    & ?    & ?    & ?    & ?    & ?    & ⋯    & ?    & ?    & ?    & ?    & ?    & ?    & ?    & ?    & ?    & low \\\\\n",
       "\t ?    & ?    & ?    & ?    & ?    & ?    & ?    & ?    & ?    & ?    & ⋯    & ?    & ?    & ?    & ?    & ?    & ?    & ?    & ?    & ?    & low \\\\\n",
       "\t t    & ?    & ?    & ?    & ?    & ?    & ?    & ?    & ?    & ?    & ⋯    & ?    & ?    & ?    & ?    & ?    & ?    & ?    & ?    & ?    & low \\\\\n",
       "\t ?    & ?    & ?    & ?    & ?    & ?    & ?    & ?    & ?    & ?    & ⋯    & ?    & ?    & ?    & ?    & ?    & ?    & ?    & ?    & ?    & low \\\\\n",
       "\\end{tabular}\n"
      ],
      "text/markdown": [
       "\n",
       "department1 | department2 | department3 | department4 | department5 | department6 | department7 | department8 | department9 | 'grocery misc' | ⋯ | department208 | department209 | department210 | department211 | department212 | department213 | department214 | department215 | department216 | total | \n",
       "|---|---|---|---|---|\n",
       "| ?    | ?    | ?    | ?    | ?    | ?    | ?    | ?    | ?    | ?    | ⋯    | ?    | ?    | ?    | ?    | ?    | ?    | ?    | ?    | ?    | high | \n",
       "| t    | ?    | ?    | ?    | ?    | ?    | ?    | ?    | ?    | ?    | ⋯    | ?    | ?    | ?    | ?    | ?    | ?    | ?    | ?    | ?    | low  | \n",
       "| ?    | ?    | ?    | ?    | ?    | ?    | ?    | ?    | ?    | ?    | ⋯    | ?    | ?    | ?    | ?    | ?    | ?    | ?    | ?    | ?    | low  | \n",
       "| t    | ?    | ?    | ?    | ?    | ?    | ?    | ?    | ?    | ?    | ⋯    | ?    | ?    | ?    | ?    | ?    | ?    | ?    | ?    | ?    | low  | \n",
       "| ?    | ?    | ?    | ?    | ?    | ?    | ?    | ?    | ?    | ?    | ⋯    | ?    | ?    | ?    | ?    | ?    | ?    | ?    | ?    | ?    | low  | \n",
       "\n",
       "\n"
      ],
      "text/plain": [
       "  department1 department2 department3 department4 department5 department6\n",
       "1 ?           ?           ?           ?           ?           ?          \n",
       "2 t           ?           ?           ?           ?           ?          \n",
       "3 ?           ?           ?           ?           ?           ?          \n",
       "4 t           ?           ?           ?           ?           ?          \n",
       "5 ?           ?           ?           ?           ?           ?          \n",
       "  department7 department8 department9 'grocery misc' ⋯ department208\n",
       "1 ?           ?           ?           ?              ⋯ ?            \n",
       "2 ?           ?           ?           ?              ⋯ ?            \n",
       "3 ?           ?           ?           ?              ⋯ ?            \n",
       "4 ?           ?           ?           ?              ⋯ ?            \n",
       "5 ?           ?           ?           ?              ⋯ ?            \n",
       "  department209 department210 department211 department212 department213\n",
       "1 ?             ?             ?             ?             ?            \n",
       "2 ?             ?             ?             ?             ?            \n",
       "3 ?             ?             ?             ?             ?            \n",
       "4 ?             ?             ?             ?             ?            \n",
       "5 ?             ?             ?             ?             ?            \n",
       "  department214 department215 department216 total\n",
       "1 ?             ?             ?             high \n",
       "2 ?             ?             ?             low  \n",
       "3 ?             ?             ?             low  \n",
       "4 ?             ?             ?             low  \n",
       "5 ?             ?             ?             low  "
      ]
     },
     "metadata": {},
     "output_type": "display_data"
    }
   ],
   "source": [
    "supermarket <-read_csv(\"data/supermarket.csv\")\n",
    "head(supermarket,n=5)"
   ]
  },
  {
   "cell_type": "markdown",
   "metadata": {},
   "source": [
    "#### Aqui tambem é previsto dar erro, mas também não percebo bem porquê :o\n"
   ]
  },
  {
   "cell_type": "code",
   "execution_count": 36,
   "metadata": {},
   "outputs": [
    {
     "ename": "ERROR",
     "evalue": "Error in asMethod(object): column(s) 1, 2, 3, 4, 5, 6, 7, 8, 9, 10, 11, 12, 13, 14, 15, 16, 17, 18, 19, 20, 21, 22, 23, 24, 25, 26, 27, 28, 29, 30, 31, 32, 33, 34, 35, 36, 37, 38, 39, 40, 41, 42, 43, 44, 45, 46, 47, 48, 49, 50, 51, 52, 53, 54, 55, 56, 57, 58, 59, 60, 61, 62, 63, 64, 65, 66, 67, 68, 69, 70, 71, 72, 73, 74, 75, 76, 77, 78, 79, 80, 81, 82, 83, 84, 85, 86, 87, 88, 89, 90, 91, 92, 93, 94, 95, 96, 97, 98, 99, 100, 101, 102, 103, 104, 105, 106, 107, 108, 109, 110, 111, 112, 113, 114, 115, 116, 117, 118, 119, 120, 121, 122, 123, 124, 125, 126, 127, 128, 129, 130, 131, 132, 133, 134, 135, 136, 137, 138, 139, 140, 141, 142, 143, 144, 145, 146, 147, 148, 149, 150, 151, 152, 153, 154, 155, 156, 157, 158, 159, 160, 161, 162, 163, 164, 165, 166, 167, 168, 169, 170, 171, 172, 173, 174, 175, 176, 177, 178, 179, 180, 181, 182, 183, 184, 185, 186, 187, 188, 189, 190, 191, 192, 193, 194, 195, 196, 197, 198, 199, 200, 201, 202, 203, 204, 205, 206, 207, 208, 209, 210, 211, 212, 213, 214, 215, 216, 217 not logical or a factor. Discretize the columns first.\n",
     "output_type": "error",
     "traceback": [
      "Error in asMethod(object): column(s) 1, 2, 3, 4, 5, 6, 7, 8, 9, 10, 11, 12, 13, 14, 15, 16, 17, 18, 19, 20, 21, 22, 23, 24, 25, 26, 27, 28, 29, 30, 31, 32, 33, 34, 35, 36, 37, 38, 39, 40, 41, 42, 43, 44, 45, 46, 47, 48, 49, 50, 51, 52, 53, 54, 55, 56, 57, 58, 59, 60, 61, 62, 63, 64, 65, 66, 67, 68, 69, 70, 71, 72, 73, 74, 75, 76, 77, 78, 79, 80, 81, 82, 83, 84, 85, 86, 87, 88, 89, 90, 91, 92, 93, 94, 95, 96, 97, 98, 99, 100, 101, 102, 103, 104, 105, 106, 107, 108, 109, 110, 111, 112, 113, 114, 115, 116, 117, 118, 119, 120, 121, 122, 123, 124, 125, 126, 127, 128, 129, 130, 131, 132, 133, 134, 135, 136, 137, 138, 139, 140, 141, 142, 143, 144, 145, 146, 147, 148, 149, 150, 151, 152, 153, 154, 155, 156, 157, 158, 159, 160, 161, 162, 163, 164, 165, 166, 167, 168, 169, 170, 171, 172, 173, 174, 175, 176, 177, 178, 179, 180, 181, 182, 183, 184, 185, 186, 187, 188, 189, 190, 191, 192, 193, 194, 195, 196, 197, 198, 199, 200, 201, 202, 203, 204, 205, 206, 207, 208, 209, 210, 211, 212, 213, 214, 215, 216, 217 not logical or a factor. Discretize the columns first.\nTraceback:\n",
      "1. apriori(supermarket, parameter = list(supp = 0.9, conf = 1, maxlen = 100, \n .     target = \"rules\"))",
      "2. as(data, \"transactions\")",
      "3. asMethod(object)",
      "4. stop(\"column(s) \", paste(which(!p), collapse = \", \"), \" not logical or a factor. Discretize the columns first.\")"
     ]
    }
   ],
   "source": [
    "rules <-apriori(supermarket, parameter = list(supp =0.9, conf = 1, maxlen=100, target = \"rules\")) "
   ]
  },
  {
   "cell_type": "code",
   "execution_count": 37,
   "metadata": {},
   "outputs": [],
   "source": [
    "supermarket = mutate_if(supermarket, is.character, as.factor)"
   ]
  },
  {
   "cell_type": "code",
   "execution_count": 38,
   "metadata": {},
   "outputs": [
    {
     "name": "stdout",
     "output_type": "stream",
     "text": [
      "Apriori\n",
      "\n",
      "Parameter specification:\n",
      " confidence minval smax arem  aval originalSupport maxtime support minlen\n",
      "          1    0.1    1 none FALSE            TRUE       5     0.9      1\n",
      " maxlen target   ext\n",
      "     10  rules FALSE\n",
      "\n",
      "Algorithmic control:\n",
      " filter tree heap memopt load sort verbose\n",
      "    0.1 TRUE TRUE  FALSE TRUE    2    TRUE\n",
      "\n",
      "Absolute minimum support count: 4164 \n",
      "\n",
      "set item appearances ...[0 item(s)] done [0.00s].\n",
      "set transactions ...[340 item(s), 4627 transaction(s)] done [0.05s].\n",
      "sorting and recoding items ... [166 item(s)] done [0.02s].\n",
      "creating transaction tree ... done [0.01s].\n",
      "checking subsets of size 1 2 3"
     ]
    },
    {
     "name": "stderr",
     "output_type": "stream",
     "text": [
      "Warning message in apriori(supermarket, parameter = list(supp = 0.9, conf = 1, maxlen = 10, :\n",
      "“Mining stopped (time limit reached). Only patterns up to a length of 3 returned!”"
     ]
    },
    {
     "name": "stdout",
     "output_type": "stream",
     "text": [
      " done [6.91s].\n",
      "writing ... [1244278 rule(s)] done [0.12s].\n",
      "creating S4 object  ... done [0.15s].\n"
     ]
    }
   ],
   "source": [
    "rules <-apriori(supermarket, parameter = list(supp = 0.9, conf = 1, maxlen=10, target = \"rules\")) "
   ]
  },
  {
   "cell_type": "code",
   "execution_count": 39,
   "metadata": {},
   "outputs": [
    {
     "name": "stdout",
     "output_type": "stream",
     "text": [
      "\"rules\"\n",
      " \"support\"\n",
      " \"confidence\"\n",
      " \"lift\"\n",
      " \"count\"\n",
      "\"1\"\n",
      " \"{} => {department129=?}\"\n",
      " 1\n",
      " 1\n",
      " 1\n",
      " 4627\n",
      "\"2\"\n",
      " \"{} => {department153=?}\"\n",
      " 1\n",
      " 1\n",
      " 1\n",
      " 4627\n",
      "\"3\"\n",
      " \"{} => {department201=?}\"\n",
      " 1\n",
      " 1\n",
      " 1\n",
      " 4627\n",
      "\"4\"\n",
      " \"{} => {department138=?}\"\n",
      " 1\n",
      " 1\n",
      " 1\n",
      " 4627\n",
      "\"5\"\n",
      " \"{} => {department139=?}\"\n",
      " 1\n",
      " 1\n",
      " 1\n",
      " 4627\n",
      "\"6\"\n",
      " \"{} => {department140=?}\"\n",
      " 1\n",
      " 1\n",
      " 1\n",
      " 4627\n",
      "\"7\"\n",
      " \"{} => {department142=?}\"\n",
      " 1\n",
      " 1\n",
      " 1\n",
      " 4627\n",
      "\"8\"\n",
      " \"{} => {department143=?}\"\n",
      " 1\n",
      " 1\n",
      " 1\n",
      " 4627\n",
      "\"9\"\n",
      " \"{} => {department144=?}\"\n",
      " 1\n",
      " 1\n",
      " 1\n",
      " 4627\n",
      "\"10\"\n",
      " \"{} => {department145=?}\"\n",
      " 1\n",
      " 1\n",
      " 1\n",
      " 4627\n"
     ]
    }
   ],
   "source": [
    "write(rules[1:10],\"\",sep=\"\\n \", quote=TRUE)"
   ]
  },
  {
   "cell_type": "code",
   "execution_count": null,
   "metadata": {},
   "outputs": [],
   "source": []
  },
  {
   "cell_type": "markdown",
   "metadata": {},
   "source": [
    "### b."
   ]
  },
  {
   "cell_type": "code",
   "execution_count": null,
   "metadata": {},
   "outputs": [],
   "source": []
  },
  {
   "cell_type": "markdown",
   "metadata": {},
   "source": [
    "### c."
   ]
  },
  {
   "cell_type": "code",
   "execution_count": null,
   "metadata": {},
   "outputs": [],
   "source": []
  },
  {
   "cell_type": "markdown",
   "metadata": {},
   "source": [
    "## 4. - glass.csv\n",
    "### a."
   ]
  },
  {
   "cell_type": "code",
   "execution_count": 48,
   "metadata": {},
   "outputs": [
    {
     "name": "stderr",
     "output_type": "stream",
     "text": [
      "Parsed with column specification:\n",
      "cols(\n",
      "  RI = col_double(),\n",
      "  Na = col_double(),\n",
      "  Mg = col_double(),\n",
      "  Al = col_double(),\n",
      "  Si = col_double(),\n",
      "  K = col_double(),\n",
      "  Ca = col_double(),\n",
      "  Ba = col_double(),\n",
      "  Fe = col_double(),\n",
      "  Type = col_character()\n",
      ")\n"
     ]
    },
    {
     "data": {
      "text/html": [
       "<table>\n",
       "<thead><tr><th scope=col>RI</th><th scope=col>Na</th><th scope=col>Mg</th><th scope=col>Al</th><th scope=col>Si</th><th scope=col>K</th><th scope=col>Ca</th><th scope=col>Ba</th><th scope=col>Fe</th><th scope=col>Type</th></tr></thead>\n",
       "<tbody>\n",
       "\t<tr><td>1.51793               </td><td>12.79                 </td><td>3.50                  </td><td>1.12                  </td><td>73.03                 </td><td>0.64                  </td><td> 8.77                 </td><td>0                     </td><td>0.00                  </td><td>'build wind float'    </td></tr>\n",
       "\t<tr><td>1.51643               </td><td>12.16                 </td><td>3.52                  </td><td>1.35                  </td><td>72.89                 </td><td>0.57                  </td><td> 8.53                 </td><td>0                     </td><td>0.00                  </td><td>'vehic wind float'    </td></tr>\n",
       "\t<tr><td>1.51793               </td><td>13.21                 </td><td>3.48                  </td><td>1.41                  </td><td>72.64                 </td><td>0.59                  </td><td> 8.43                 </td><td>0                     </td><td>0.00                  </td><td>'build wind float'    </td></tr>\n",
       "\t<tr><td>1.51299               </td><td>14.40                 </td><td>1.74                  </td><td>1.54                  </td><td>74.55                 </td><td>0.00                  </td><td> 7.59                 </td><td>0                     </td><td>0.00                  </td><td>tableware             </td></tr>\n",
       "\t<tr><td>1.53393               </td><td>12.30                 </td><td>0.00                  </td><td>1.00                  </td><td>70.16                 </td><td>0.12                  </td><td>16.19                 </td><td>0                     </td><td>0.24                  </td><td>'build wind non-float'</td></tr>\n",
       "</tbody>\n",
       "</table>\n"
      ],
      "text/latex": [
       "\\begin{tabular}{r|llllllllll}\n",
       " RI & Na & Mg & Al & Si & K & Ca & Ba & Fe & Type\\\\\n",
       "\\hline\n",
       "\t 1.51793                & 12.79                  & 3.50                   & 1.12                   & 73.03                  & 0.64                   &  8.77                  & 0                      & 0.00                   & 'build wind float'    \\\\\n",
       "\t 1.51643                & 12.16                  & 3.52                   & 1.35                   & 72.89                  & 0.57                   &  8.53                  & 0                      & 0.00                   & 'vehic wind float'    \\\\\n",
       "\t 1.51793                & 13.21                  & 3.48                   & 1.41                   & 72.64                  & 0.59                   &  8.43                  & 0                      & 0.00                   & 'build wind float'    \\\\\n",
       "\t 1.51299                & 14.40                  & 1.74                   & 1.54                   & 74.55                  & 0.00                   &  7.59                  & 0                      & 0.00                   & tableware             \\\\\n",
       "\t 1.53393                & 12.30                  & 0.00                   & 1.00                   & 70.16                  & 0.12                   & 16.19                  & 0                      & 0.24                   & 'build wind non-float'\\\\\n",
       "\\end{tabular}\n"
      ],
      "text/markdown": [
       "\n",
       "RI | Na | Mg | Al | Si | K | Ca | Ba | Fe | Type | \n",
       "|---|---|---|---|---|\n",
       "| 1.51793                | 12.79                  | 3.50                   | 1.12                   | 73.03                  | 0.64                   |  8.77                  | 0                      | 0.00                   | 'build wind float'     | \n",
       "| 1.51643                | 12.16                  | 3.52                   | 1.35                   | 72.89                  | 0.57                   |  8.53                  | 0                      | 0.00                   | 'vehic wind float'     | \n",
       "| 1.51793                | 13.21                  | 3.48                   | 1.41                   | 72.64                  | 0.59                   |  8.43                  | 0                      | 0.00                   | 'build wind float'     | \n",
       "| 1.51299                | 14.40                  | 1.74                   | 1.54                   | 74.55                  | 0.00                   |  7.59                  | 0                      | 0.00                   | tableware              | \n",
       "| 1.53393                | 12.30                  | 0.00                   | 1.00                   | 70.16                  | 0.12                   | 16.19                  | 0                      | 0.24                   | 'build wind non-float' | \n",
       "\n",
       "\n"
      ],
      "text/plain": [
       "  RI      Na    Mg   Al   Si    K    Ca    Ba Fe   Type                  \n",
       "1 1.51793 12.79 3.50 1.12 73.03 0.64  8.77 0  0.00 'build wind float'    \n",
       "2 1.51643 12.16 3.52 1.35 72.89 0.57  8.53 0  0.00 'vehic wind float'    \n",
       "3 1.51793 13.21 3.48 1.41 72.64 0.59  8.43 0  0.00 'build wind float'    \n",
       "4 1.51299 14.40 1.74 1.54 74.55 0.00  7.59 0  0.00 tableware             \n",
       "5 1.53393 12.30 0.00 1.00 70.16 0.12 16.19 0  0.24 'build wind non-float'"
      ]
     },
     "metadata": {},
     "output_type": "display_data"
    }
   ],
   "source": [
    "glass <-read_csv(\"data/glass.csv\")\n",
    "head(glass,n=5)"
   ]
  },
  {
   "cell_type": "code",
   "execution_count": 46,
   "metadata": {},
   "outputs": [
    {
     "name": "stdout",
     "output_type": "stream",
     "text": [
      "           RI                Na                Mg                Al     \n",
      " [1.51,1.52):151   [10.7,12.9): 58   [0.00,1.50): 46   [0.29,1.36):104  \n",
      " [1.52,1.53): 56   [12.9,15.2):154   [1.50,2.99): 25   [1.36,2.43):100  \n",
      " [1.53,1.53]:  7   [15.2,17.4]:  2   [2.99,4.49]:143   [2.43,3.50]: 10  \n",
      "           Si                K                   Ca                Ba     \n",
      " [69.8,71.7): 16   [0.00,2.07):211   [ 5.43, 9.02):149   [0.00,1.05):198  \n",
      " [71.7,73.5):187   [2.07,4.14):  1   [ 9.02,12.60): 58   [1.05,2.10): 13  \n",
      " [73.5,75.4]: 11   [4.14,6.21]:  2   [12.60,16.19]:  7   [2.10,3.15]:  3  \n",
      "           Fe          Type          \n",
      " [0.00,0.17):179   Length:214        \n",
      " [0.17,0.34): 31   Class :character  \n",
      " [0.34,0.51]:  4   Mode  :character  \n"
     ]
    },
    {
     "data": {
      "text/html": [
       "<ol class=list-inline>\n",
       "\t<li>'tbl_df'</li>\n",
       "\t<li>'tbl'</li>\n",
       "\t<li>'data.frame'</li>\n",
       "</ol>\n"
      ],
      "text/latex": [
       "\\begin{enumerate*}\n",
       "\\item 'tbl\\_df'\n",
       "\\item 'tbl'\n",
       "\\item 'data.frame'\n",
       "\\end{enumerate*}\n"
      ],
      "text/markdown": [
       "1. 'tbl_df'\n",
       "2. 'tbl'\n",
       "3. 'data.frame'\n",
       "\n",
       "\n"
      ],
      "text/plain": [
       "[1] \"tbl_df\"     \"tbl\"        \"data.frame\""
      ]
     },
     "metadata": {},
     "output_type": "display_data"
    }
   ],
   "source": [
    "glass_d_int = discretize_all(glass, \"interval\",3)\n",
    "class(glass_d_int)"
   ]
  },
  {
   "cell_type": "code",
   "execution_count": 47,
   "metadata": {},
   "outputs": [
    {
     "data": {
      "text/html": [
       "<table>\n",
       "<thead><tr><th scope=col>RI</th><th scope=col>Na</th><th scope=col>Mg</th><th scope=col>Al</th><th scope=col>Si</th><th scope=col>K</th><th scope=col>Ca</th><th scope=col>Ba</th><th scope=col>Fe</th><th scope=col>Type</th></tr></thead>\n",
       "<tbody>\n",
       "\t<tr><td>[1.51,1.52)           </td><td>[10.7,12.9)           </td><td>[2.99,4.49]           </td><td>[0.29,1.36)           </td><td>[71.7,73.5)           </td><td>[0.00,2.07)           </td><td>[ 5.43, 9.02)         </td><td>[0.00,1.05)           </td><td>[0.00,0.17)           </td><td>'build wind float'    </td></tr>\n",
       "\t<tr><td>[1.51,1.52)           </td><td>[10.7,12.9)           </td><td>[2.99,4.49]           </td><td>[0.29,1.36)           </td><td>[71.7,73.5)           </td><td>[0.00,2.07)           </td><td>[ 5.43, 9.02)         </td><td>[0.00,1.05)           </td><td>[0.00,0.17)           </td><td>'vehic wind float'    </td></tr>\n",
       "\t<tr><td>[1.51,1.52)           </td><td>[12.9,15.2)           </td><td>[2.99,4.49]           </td><td>[1.36,2.43)           </td><td>[71.7,73.5)           </td><td>[0.00,2.07)           </td><td>[ 5.43, 9.02)         </td><td>[0.00,1.05)           </td><td>[0.00,0.17)           </td><td>'build wind float'    </td></tr>\n",
       "\t<tr><td>[1.51,1.52)           </td><td>[12.9,15.2)           </td><td>[1.50,2.99)           </td><td>[1.36,2.43)           </td><td>[73.5,75.4]           </td><td>[0.00,2.07)           </td><td>[ 5.43, 9.02)         </td><td>[0.00,1.05)           </td><td>[0.00,0.17)           </td><td>tableware             </td></tr>\n",
       "\t<tr><td>[1.53,1.53]           </td><td>[10.7,12.9)           </td><td>[0.00,1.50)           </td><td>[0.29,1.36)           </td><td>[69.8,71.7)           </td><td>[0.00,2.07)           </td><td>[12.60,16.19]         </td><td>[0.00,1.05)           </td><td>[0.17,0.34)           </td><td>'build wind non-float'</td></tr>\n",
       "</tbody>\n",
       "</table>\n"
      ],
      "text/latex": [
       "\\begin{tabular}{r|llllllllll}\n",
       " RI & Na & Mg & Al & Si & K & Ca & Ba & Fe & Type\\\\\n",
       "\\hline\n",
       "\t {[}1.51,1.52)          & {[}10.7,12.9)          & {[}2.99,4.49{]}        & {[}0.29,1.36)          & {[}71.7,73.5)          & {[}0.00,2.07)          & {[} 5.43, 9.02)        & {[}0.00,1.05)          & {[}0.00,0.17)          & 'build wind float'    \\\\\n",
       "\t {[}1.51,1.52)          & {[}10.7,12.9)          & {[}2.99,4.49{]}        & {[}0.29,1.36)          & {[}71.7,73.5)          & {[}0.00,2.07)          & {[} 5.43, 9.02)        & {[}0.00,1.05)          & {[}0.00,0.17)          & 'vehic wind float'    \\\\\n",
       "\t {[}1.51,1.52)          & {[}12.9,15.2)          & {[}2.99,4.49{]}        & {[}1.36,2.43)          & {[}71.7,73.5)          & {[}0.00,2.07)          & {[} 5.43, 9.02)        & {[}0.00,1.05)          & {[}0.00,0.17)          & 'build wind float'    \\\\\n",
       "\t {[}1.51,1.52)          & {[}12.9,15.2)          & {[}1.50,2.99)          & {[}1.36,2.43)          & {[}73.5,75.4{]}        & {[}0.00,2.07)          & {[} 5.43, 9.02)        & {[}0.00,1.05)          & {[}0.00,0.17)          & tableware             \\\\\n",
       "\t {[}1.53,1.53{]}        & {[}10.7,12.9)          & {[}0.00,1.50)          & {[}0.29,1.36)          & {[}69.8,71.7)          & {[}0.00,2.07)          & {[}12.60,16.19{]}      & {[}0.00,1.05)          & {[}0.17,0.34)          & 'build wind non-float'\\\\\n",
       "\\end{tabular}\n"
      ],
      "text/markdown": [
       "\n",
       "RI | Na | Mg | Al | Si | K | Ca | Ba | Fe | Type | \n",
       "|---|---|---|---|---|\n",
       "| [1.51,1.52)            | [10.7,12.9)            | [2.99,4.49]            | [0.29,1.36)            | [71.7,73.5)            | [0.00,2.07)            | [ 5.43, 9.02)          | [0.00,1.05)            | [0.00,0.17)            | 'build wind float'     | \n",
       "| [1.51,1.52)            | [10.7,12.9)            | [2.99,4.49]            | [0.29,1.36)            | [71.7,73.5)            | [0.00,2.07)            | [ 5.43, 9.02)          | [0.00,1.05)            | [0.00,0.17)            | 'vehic wind float'     | \n",
       "| [1.51,1.52)            | [12.9,15.2)            | [2.99,4.49]            | [1.36,2.43)            | [71.7,73.5)            | [0.00,2.07)            | [ 5.43, 9.02)          | [0.00,1.05)            | [0.00,0.17)            | 'build wind float'     | \n",
       "| [1.51,1.52)            | [12.9,15.2)            | [1.50,2.99)            | [1.36,2.43)            | [73.5,75.4]            | [0.00,2.07)            | [ 5.43, 9.02)          | [0.00,1.05)            | [0.00,0.17)            | tableware              | \n",
       "| [1.53,1.53]            | [10.7,12.9)            | [0.00,1.50)            | [0.29,1.36)            | [69.8,71.7)            | [0.00,2.07)            | [12.60,16.19]          | [0.00,1.05)            | [0.17,0.34)            | 'build wind non-float' | \n",
       "\n",
       "\n"
      ],
      "text/plain": [
       "  RI          Na          Mg          Al          Si          K          \n",
       "1 [1.51,1.52) [10.7,12.9) [2.99,4.49] [0.29,1.36) [71.7,73.5) [0.00,2.07)\n",
       "2 [1.51,1.52) [10.7,12.9) [2.99,4.49] [0.29,1.36) [71.7,73.5) [0.00,2.07)\n",
       "3 [1.51,1.52) [12.9,15.2) [2.99,4.49] [1.36,2.43) [71.7,73.5) [0.00,2.07)\n",
       "4 [1.51,1.52) [12.9,15.2) [1.50,2.99) [1.36,2.43) [73.5,75.4] [0.00,2.07)\n",
       "5 [1.53,1.53] [10.7,12.9) [0.00,1.50) [0.29,1.36) [69.8,71.7) [0.00,2.07)\n",
       "  Ca            Ba          Fe          Type                  \n",
       "1 [ 5.43, 9.02) [0.00,1.05) [0.00,0.17) 'build wind float'    \n",
       "2 [ 5.43, 9.02) [0.00,1.05) [0.00,0.17) 'vehic wind float'    \n",
       "3 [ 5.43, 9.02) [0.00,1.05) [0.00,0.17) 'build wind float'    \n",
       "4 [ 5.43, 9.02) [0.00,1.05) [0.00,0.17) tableware             \n",
       "5 [12.60,16.19] [0.00,1.05) [0.17,0.34) 'build wind non-float'"
      ]
     },
     "metadata": {},
     "output_type": "display_data"
    }
   ],
   "source": [
    "head(glass_d_int,n=5)"
   ]
  },
  {
   "cell_type": "code",
   "execution_count": 49,
   "metadata": {},
   "outputs": [
    {
     "name": "stdout",
     "output_type": "stream",
     "text": [
      "           RI               Na               Mg               Al    \n",
      " [1.51,1.52):72   [10.7,13.0):74   [0.00,3.15):72   [0.29,1.26):72  \n",
      " [1.52,1.52):71   [13.0,13.7):72   [3.15,3.57):71   [1.26,1.55):73  \n",
      " [1.52,1.53]:71   [13.7,17.4]:68   [3.57,4.49]:71   [1.55,3.50]:69  \n",
      "           Si               K                 Ca               Ba     \n",
      " [69.8,72.5):72   [0.00,0.35):73   [5.43, 8.40):72   0.00       :176  \n",
      " [72.5,73.0):71   [0.35,0.60):74   [8.40, 8.95):72   [0.06,3.15]: 38  \n",
      " [73.0,75.4]:71   [0.60,6.21]:67   [8.95,16.19]:70                    \n",
      "           Fe          Type          \n",
      " 0.00       :144   Length:214        \n",
      " [0.01,0.51]: 70   Class :character  \n",
      "                   Mode  :character  \n"
     ]
    }
   ],
   "source": [
    "glass_d_fr = discretize_all(glass, \"frequency\",3)"
   ]
  },
  {
   "cell_type": "code",
   "execution_count": 50,
   "metadata": {},
   "outputs": [
    {
     "data": {
      "text/html": [
       "<table>\n",
       "<thead><tr><th scope=col>RI</th><th scope=col>Na</th><th scope=col>Mg</th><th scope=col>Al</th><th scope=col>Si</th><th scope=col>K</th><th scope=col>Ca</th><th scope=col>Ba</th><th scope=col>Fe</th><th scope=col>Type</th></tr></thead>\n",
       "<tbody>\n",
       "\t<tr><td>[1.52,1.52)           </td><td>[10.7,13.0)           </td><td>[3.15,3.57)           </td><td>[0.29,1.26)           </td><td>[73.0,75.4]           </td><td>[0.60,6.21]           </td><td>[8.40, 8.95)          </td><td>0.00                  </td><td>0.00                  </td><td>'build wind float'    </td></tr>\n",
       "\t<tr><td>[1.51,1.52)           </td><td>[10.7,13.0)           </td><td>[3.15,3.57)           </td><td>[1.26,1.55)           </td><td>[72.5,73.0)           </td><td>[0.35,0.60)           </td><td>[8.40, 8.95)          </td><td>0.00                  </td><td>0.00                  </td><td>'vehic wind float'    </td></tr>\n",
       "\t<tr><td>[1.52,1.52)           </td><td>[13.0,13.7)           </td><td>[3.15,3.57)           </td><td>[1.26,1.55)           </td><td>[72.5,73.0)           </td><td>[0.35,0.60)           </td><td>[8.40, 8.95)          </td><td>0.00                  </td><td>0.00                  </td><td>'build wind float'    </td></tr>\n",
       "\t<tr><td>[1.51,1.52)           </td><td>[13.7,17.4]           </td><td>[0.00,3.15)           </td><td>[1.26,1.55)           </td><td>[73.0,75.4]           </td><td>[0.00,0.35)           </td><td>[5.43, 8.40)          </td><td>0.00                  </td><td>0.00                  </td><td>tableware             </td></tr>\n",
       "\t<tr><td>[1.52,1.53]           </td><td>[10.7,13.0)           </td><td>[0.00,3.15)           </td><td>[0.29,1.26)           </td><td>[69.8,72.5)           </td><td>[0.00,0.35)           </td><td>[8.95,16.19]          </td><td>0.00                  </td><td>[0.01,0.51]           </td><td>'build wind non-float'</td></tr>\n",
       "</tbody>\n",
       "</table>\n"
      ],
      "text/latex": [
       "\\begin{tabular}{r|llllllllll}\n",
       " RI & Na & Mg & Al & Si & K & Ca & Ba & Fe & Type\\\\\n",
       "\\hline\n",
       "\t {[}1.52,1.52)          & {[}10.7,13.0)          & {[}3.15,3.57)          & {[}0.29,1.26)          & {[}73.0,75.4{]}        & {[}0.60,6.21{]}        & {[}8.40, 8.95)         & 0.00                   & 0.00                   & 'build wind float'    \\\\\n",
       "\t {[}1.51,1.52)          & {[}10.7,13.0)          & {[}3.15,3.57)          & {[}1.26,1.55)          & {[}72.5,73.0)          & {[}0.35,0.60)          & {[}8.40, 8.95)         & 0.00                   & 0.00                   & 'vehic wind float'    \\\\\n",
       "\t {[}1.52,1.52)          & {[}13.0,13.7)          & {[}3.15,3.57)          & {[}1.26,1.55)          & {[}72.5,73.0)          & {[}0.35,0.60)          & {[}8.40, 8.95)         & 0.00                   & 0.00                   & 'build wind float'    \\\\\n",
       "\t {[}1.51,1.52)          & {[}13.7,17.4{]}        & {[}0.00,3.15)          & {[}1.26,1.55)          & {[}73.0,75.4{]}        & {[}0.00,0.35)          & {[}5.43, 8.40)         & 0.00                   & 0.00                   & tableware             \\\\\n",
       "\t {[}1.52,1.53{]}        & {[}10.7,13.0)          & {[}0.00,3.15)          & {[}0.29,1.26)          & {[}69.8,72.5)          & {[}0.00,0.35)          & {[}8.95,16.19{]}       & 0.00                   & {[}0.01,0.51{]}        & 'build wind non-float'\\\\\n",
       "\\end{tabular}\n"
      ],
      "text/markdown": [
       "\n",
       "RI | Na | Mg | Al | Si | K | Ca | Ba | Fe | Type | \n",
       "|---|---|---|---|---|\n",
       "| [1.52,1.52)            | [10.7,13.0)            | [3.15,3.57)            | [0.29,1.26)            | [73.0,75.4]            | [0.60,6.21]            | [8.40, 8.95)           | 0.00                   | 0.00                   | 'build wind float'     | \n",
       "| [1.51,1.52)            | [10.7,13.0)            | [3.15,3.57)            | [1.26,1.55)            | [72.5,73.0)            | [0.35,0.60)            | [8.40, 8.95)           | 0.00                   | 0.00                   | 'vehic wind float'     | \n",
       "| [1.52,1.52)            | [13.0,13.7)            | [3.15,3.57)            | [1.26,1.55)            | [72.5,73.0)            | [0.35,0.60)            | [8.40, 8.95)           | 0.00                   | 0.00                   | 'build wind float'     | \n",
       "| [1.51,1.52)            | [13.7,17.4]            | [0.00,3.15)            | [1.26,1.55)            | [73.0,75.4]            | [0.00,0.35)            | [5.43, 8.40)           | 0.00                   | 0.00                   | tableware              | \n",
       "| [1.52,1.53]            | [10.7,13.0)            | [0.00,3.15)            | [0.29,1.26)            | [69.8,72.5)            | [0.00,0.35)            | [8.95,16.19]           | 0.00                   | [0.01,0.51]            | 'build wind non-float' | \n",
       "\n",
       "\n"
      ],
      "text/plain": [
       "  RI          Na          Mg          Al          Si          K          \n",
       "1 [1.52,1.52) [10.7,13.0) [3.15,3.57) [0.29,1.26) [73.0,75.4] [0.60,6.21]\n",
       "2 [1.51,1.52) [10.7,13.0) [3.15,3.57) [1.26,1.55) [72.5,73.0) [0.35,0.60)\n",
       "3 [1.52,1.52) [13.0,13.7) [3.15,3.57) [1.26,1.55) [72.5,73.0) [0.35,0.60)\n",
       "4 [1.51,1.52) [13.7,17.4] [0.00,3.15) [1.26,1.55) [73.0,75.4] [0.00,0.35)\n",
       "5 [1.52,1.53] [10.7,13.0) [0.00,3.15) [0.29,1.26) [69.8,72.5) [0.00,0.35)\n",
       "  Ca           Ba   Fe          Type                  \n",
       "1 [8.40, 8.95) 0.00 0.00        'build wind float'    \n",
       "2 [8.40, 8.95) 0.00 0.00        'vehic wind float'    \n",
       "3 [8.40, 8.95) 0.00 0.00        'build wind float'    \n",
       "4 [5.43, 8.40) 0.00 0.00        tableware             \n",
       "5 [8.95,16.19] 0.00 [0.01,0.51] 'build wind non-float'"
      ]
     },
     "metadata": {},
     "output_type": "display_data"
    }
   ],
   "source": [
    "head(glass_d_fr,n=5)"
   ]
  },
  {
   "cell_type": "code",
   "execution_count": null,
   "metadata": {},
   "outputs": [],
   "source": [
    "rules <-apriori(supermarket, parameter = list(supp = 0.9, conf = 1, maxlen=10, target = \"rules\")) "
   ]
  }
 ],
 "metadata": {
  "kernelspec": {
   "display_name": "R",
   "language": "R",
   "name": "ir"
  },
  "language_info": {
   "codemirror_mode": "r",
   "file_extension": ".r",
   "mimetype": "text/x-r-source",
   "name": "R",
   "pygments_lexer": "r",
   "version": "3.3.2"
  }
 },
 "nbformat": 4,
 "nbformat_minor": 2
}
