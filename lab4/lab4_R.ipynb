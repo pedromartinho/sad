{
 "cells": [
  {
   "cell_type": "code",
   "execution_count": 1,
   "metadata": {},
   "outputs": [
    {
     "name": "stderr",
     "output_type": "stream",
     "text": [
      "Installing package into ‘/home/martinho/R/x86_64-pc-linux-gnu-library/3.3’\n",
      "(as ‘lib’ is unspecified)\n"
     ]
    }
   ],
   "source": [
    "install.packages(\"caret\")"
   ]
  },
  {
   "cell_type": "code",
   "execution_count": 2,
   "metadata": {},
   "outputs": [
    {
     "name": "stderr",
     "output_type": "stream",
     "text": [
      "Installing package into ‘/home/martinho/R/x86_64-pc-linux-gnu-library/3.3’\n",
      "(as ‘lib’ is unspecified)\n"
     ]
    }
   ],
   "source": [
    "install.packages(\"e1071\")"
   ]
  },
  {
   "cell_type": "code",
   "execution_count": 3,
   "metadata": {},
   "outputs": [],
   "source": [
    "setwd(\"~/Documents/IST/SAD/lab3\")"
   ]
  },
  {
   "cell_type": "markdown",
   "metadata": {},
   "source": [
    "## Load data"
   ]
  },
  {
   "cell_type": "code",
   "execution_count": 6,
   "metadata": {},
   "outputs": [
    {
     "name": "stderr",
     "output_type": "stream",
     "text": [
      "Parsed with column specification:\n",
      "cols(\n",
      "  sepallength = col_double(),\n",
      "  sepalwidth = col_double(),\n",
      "  petallength = col_double(),\n",
      "  petalwidth = col_double(),\n",
      "  class = col_character()\n",
      ")\n"
     ]
    },
    {
     "data": {
      "text/html": [
       "<table>\n",
       "<thead><tr><th scope=col>sepallength</th><th scope=col>sepalwidth</th><th scope=col>petallength</th><th scope=col>petalwidth</th><th scope=col>class</th></tr></thead>\n",
       "<tbody>\n",
       "\t<tr><td>5.1        </td><td>3.5        </td><td>1.4        </td><td>0.2        </td><td>Iris-setosa</td></tr>\n",
       "\t<tr><td>4.9        </td><td>3.0        </td><td>1.4        </td><td>0.2        </td><td>Iris-setosa</td></tr>\n",
       "\t<tr><td>4.7        </td><td>3.2        </td><td>1.3        </td><td>0.2        </td><td>Iris-setosa</td></tr>\n",
       "</tbody>\n",
       "</table>\n"
      ],
      "text/latex": [
       "\\begin{tabular}{r|lllll}\n",
       " sepallength & sepalwidth & petallength & petalwidth & class\\\\\n",
       "\\hline\n",
       "\t 5.1         & 3.5         & 1.4         & 0.2         & Iris-setosa\\\\\n",
       "\t 4.9         & 3.0         & 1.4         & 0.2         & Iris-setosa\\\\\n",
       "\t 4.7         & 3.2         & 1.3         & 0.2         & Iris-setosa\\\\\n",
       "\\end{tabular}\n"
      ],
      "text/markdown": [
       "\n",
       "sepallength | sepalwidth | petallength | petalwidth | class | \n",
       "|---|---|---|\n",
       "| 5.1         | 3.5         | 1.4         | 0.2         | Iris-setosa | \n",
       "| 4.9         | 3.0         | 1.4         | 0.2         | Iris-setosa | \n",
       "| 4.7         | 3.2         | 1.3         | 0.2         | Iris-setosa | \n",
       "\n",
       "\n"
      ],
      "text/plain": [
       "  sepallength sepalwidth petallength petalwidth class      \n",
       "1 5.1         3.5        1.4         0.2        Iris-setosa\n",
       "2 4.9         3.0        1.4         0.2        Iris-setosa\n",
       "3 4.7         3.2        1.3         0.2        Iris-setosa"
      ]
     },
     "metadata": {},
     "output_type": "display_data"
    }
   ],
   "source": [
    "library(readr)\n",
    "iris = read_csv(\"data/iris.csv\")\n",
    "head(iris,n=3)"
   ]
  },
  {
   "cell_type": "code",
   "execution_count": 8,
   "metadata": {},
   "outputs": [
    {
     "name": "stderr",
     "output_type": "stream",
     "text": [
      "Parsed with column specification:\n",
      "cols(\n",
      "  RI = col_double(),\n",
      "  Na = col_double(),\n",
      "  Mg = col_double(),\n",
      "  Al = col_double(),\n",
      "  Si = col_double(),\n",
      "  K = col_double(),\n",
      "  Ca = col_double(),\n",
      "  Ba = col_double(),\n",
      "  Fe = col_double(),\n",
      "  Type = col_character()\n",
      ")\n"
     ]
    },
    {
     "data": {
      "text/html": [
       "<table>\n",
       "<thead><tr><th scope=col>RI</th><th scope=col>Na</th><th scope=col>Mg</th><th scope=col>Al</th><th scope=col>Si</th><th scope=col>K</th><th scope=col>Ca</th><th scope=col>Ba</th><th scope=col>Fe</th><th scope=col>Type</th></tr></thead>\n",
       "<tbody>\n",
       "\t<tr><td>1.51793           </td><td>12.79             </td><td>3.50              </td><td>1.12              </td><td>73.03             </td><td>0.64              </td><td>8.77              </td><td>0                 </td><td>0                 </td><td>'build wind float'</td></tr>\n",
       "\t<tr><td>1.51643           </td><td>12.16             </td><td>3.52              </td><td>1.35              </td><td>72.89             </td><td>0.57              </td><td>8.53              </td><td>0                 </td><td>0                 </td><td>'vehic wind float'</td></tr>\n",
       "\t<tr><td>1.51793           </td><td>13.21             </td><td>3.48              </td><td>1.41              </td><td>72.64             </td><td>0.59              </td><td>8.43              </td><td>0                 </td><td>0                 </td><td>'build wind float'</td></tr>\n",
       "</tbody>\n",
       "</table>\n"
      ],
      "text/latex": [
       "\\begin{tabular}{r|llllllllll}\n",
       " RI & Na & Mg & Al & Si & K & Ca & Ba & Fe & Type\\\\\n",
       "\\hline\n",
       "\t 1.51793            & 12.79              & 3.50               & 1.12               & 73.03              & 0.64               & 8.77               & 0                  & 0                  & 'build wind float'\\\\\n",
       "\t 1.51643            & 12.16              & 3.52               & 1.35               & 72.89              & 0.57               & 8.53               & 0                  & 0                  & 'vehic wind float'\\\\\n",
       "\t 1.51793            & 13.21              & 3.48               & 1.41               & 72.64              & 0.59               & 8.43               & 0                  & 0                  & 'build wind float'\\\\\n",
       "\\end{tabular}\n"
      ],
      "text/markdown": [
       "\n",
       "RI | Na | Mg | Al | Si | K | Ca | Ba | Fe | Type | \n",
       "|---|---|---|\n",
       "| 1.51793            | 12.79              | 3.50               | 1.12               | 73.03              | 0.64               | 8.77               | 0                  | 0                  | 'build wind float' | \n",
       "| 1.51643            | 12.16              | 3.52               | 1.35               | 72.89              | 0.57               | 8.53               | 0                  | 0                  | 'vehic wind float' | \n",
       "| 1.51793            | 13.21              | 3.48               | 1.41               | 72.64              | 0.59               | 8.43               | 0                  | 0                  | 'build wind float' | \n",
       "\n",
       "\n"
      ],
      "text/plain": [
       "  RI      Na    Mg   Al   Si    K    Ca   Ba Fe Type              \n",
       "1 1.51793 12.79 3.50 1.12 73.03 0.64 8.77 0  0  'build wind float'\n",
       "2 1.51643 12.16 3.52 1.35 72.89 0.57 8.53 0  0  'vehic wind float'\n",
       "3 1.51793 13.21 3.48 1.41 72.64 0.59 8.43 0  0  'build wind float'"
      ]
     },
     "metadata": {},
     "output_type": "display_data"
    }
   ],
   "source": [
    "glass = read_csv(\"data/glass.csv\")\n",
    "head(glass,n=3)"
   ]
  },
  {
   "cell_type": "markdown",
   "metadata": {},
   "source": [
    "## Iris.csv"
   ]
  },
  {
   "cell_type": "markdown",
   "metadata": {},
   "source": [
    "### Partitioning datasets"
   ]
  },
  {
   "cell_type": "code",
   "execution_count": 12,
   "metadata": {},
   "outputs": [
    {
     "name": "stdout",
     "output_type": "stream",
     "text": [
      "Classes ‘tbl_df’, ‘tbl’ and 'data.frame':\t150 obs. of  5 variables:\n",
      " $ sepallength: num  5.1 4.9 4.7 4.6 5 5.4 4.6 5 4.4 4.9 ...\n",
      " $ sepalwidth : num  3.5 3 3.2 3.1 3.6 3.9 3.4 3.4 2.9 3.1 ...\n",
      " $ petallength: num  1.4 1.4 1.3 1.5 1.4 1.7 1.4 1.5 1.4 1.5 ...\n",
      " $ petalwidth : num  0.2 0.2 0.2 0.2 0.2 0.4 0.3 0.2 0.2 0.1 ...\n",
      " $ class      : Factor w/ 3 levels \"Iris-setosa\",..: 1 1 1 1 1 1 1 1 1 1 ...\n"
     ]
    }
   ],
   "source": [
    "library(dplyr)\n",
    "iris = mutate_if(iris, is.character, as.factor)"
   ]
  },
  {
   "cell_type": "code",
   "execution_count": 13,
   "metadata": {},
   "outputs": [],
   "source": [
    "set.seed(1234)"
   ]
  },
  {
   "cell_type": "code",
   "execution_count": 18,
   "metadata": {},
   "outputs": [
    {
     "data": {
      "text/html": [
       "<table>\n",
       "<thead><tr><th scope=col>sepallength</th><th scope=col>sepalwidth</th><th scope=col>petallength</th><th scope=col>petalwidth</th><th scope=col>class</th></tr></thead>\n",
       "<tbody>\n",
       "\t<tr><td>4.9        </td><td>3.0        </td><td>1.4        </td><td>0.2        </td><td>Iris-setosa</td></tr>\n",
       "\t<tr><td>4.7        </td><td>3.2        </td><td>1.3        </td><td>0.2        </td><td>Iris-setosa</td></tr>\n",
       "\t<tr><td>5.0        </td><td>3.6        </td><td>1.4        </td><td>0.2        </td><td>Iris-setosa</td></tr>\n",
       "</tbody>\n",
       "</table>\n"
      ],
      "text/latex": [
       "\\begin{tabular}{r|lllll}\n",
       " sepallength & sepalwidth & petallength & petalwidth & class\\\\\n",
       "\\hline\n",
       "\t 4.9         & 3.0         & 1.4         & 0.2         & Iris-setosa\\\\\n",
       "\t 4.7         & 3.2         & 1.3         & 0.2         & Iris-setosa\\\\\n",
       "\t 5.0         & 3.6         & 1.4         & 0.2         & Iris-setosa\\\\\n",
       "\\end{tabular}\n"
      ],
      "text/markdown": [
       "\n",
       "sepallength | sepalwidth | petallength | petalwidth | class | \n",
       "|---|---|---|\n",
       "| 4.9         | 3.0         | 1.4         | 0.2         | Iris-setosa | \n",
       "| 4.7         | 3.2         | 1.3         | 0.2         | Iris-setosa | \n",
       "| 5.0         | 3.6         | 1.4         | 0.2         | Iris-setosa | \n",
       "\n",
       "\n"
      ],
      "text/plain": [
       "  sepallength sepalwidth petallength petalwidth class      \n",
       "1 4.9         3.0        1.4         0.2        Iris-setosa\n",
       "2 4.7         3.2        1.3         0.2        Iris-setosa\n",
       "3 5.0         3.6        1.4         0.2        Iris-setosa"
      ]
     },
     "metadata": {},
     "output_type": "display_data"
    }
   ],
   "source": [
    "library(caret) \n",
    "index <- createDataPartition(iris$class, p=0.70, list=FALSE)\n",
    "trainData = iris[index,]\n",
    "testData = iris[-index,]\n",
    "head(trainData,n=3)"
   ]
  },
  {
   "cell_type": "markdown",
   "metadata": {},
   "source": [
    "### Training models"
   ]
  },
  {
   "cell_type": "code",
   "execution_count": 20,
   "metadata": {},
   "outputs": [
    {
     "name": "stderr",
     "output_type": "stream",
     "text": [
      "Warning message:\n",
      "“Setting row names on a tibble is deprecated.”Warning message:\n",
      "“Setting row names on a tibble is deprecated.”Warning message:\n",
      "“Setting row names on a tibble is deprecated.”Warning message:\n",
      "“Setting row names on a tibble is deprecated.”Warning message:\n",
      "“Setting row names on a tibble is deprecated.”Warning message:\n",
      "“Setting row names on a tibble is deprecated.”Warning message:\n",
      "“Setting row names on a tibble is deprecated.”Warning message:\n",
      "“Setting row names on a tibble is deprecated.”Warning message:\n",
      "“Setting row names on a tibble is deprecated.”Warning message:\n",
      "“Setting row names on a tibble is deprecated.”Warning message:\n",
      "“Setting row names on a tibble is deprecated.”Warning message:\n",
      "“Setting row names on a tibble is deprecated.”Warning message:\n",
      "“Setting row names on a tibble is deprecated.”Warning message:\n",
      "“Setting row names on a tibble is deprecated.”Warning message:\n",
      "“Setting row names on a tibble is deprecated.”Warning message:\n",
      "“Setting row names on a tibble is deprecated.”Warning message:\n",
      "“Setting row names on a tibble is deprecated.”Warning message:\n",
      "“Setting row names on a tibble is deprecated.”Warning message:\n",
      "“Setting row names on a tibble is deprecated.”Warning message:\n",
      "“Setting row names on a tibble is deprecated.”Warning message:\n",
      "“Setting row names on a tibble is deprecated.”Warning message:\n",
      "“Setting row names on a tibble is deprecated.”Warning message:\n",
      "“Setting row names on a tibble is deprecated.”Warning message:\n",
      "“Setting row names on a tibble is deprecated.”Warning message:\n",
      "“Setting row names on a tibble is deprecated.”Warning message:\n",
      "“Setting row names on a tibble is deprecated.”Warning message:\n",
      "“Setting row names on a tibble is deprecated.”Warning message:\n",
      "“Setting row names on a tibble is deprecated.”Warning message:\n",
      "“Setting row names on a tibble is deprecated.”Warning message:\n",
      "“Setting row names on a tibble is deprecated.”Warning message:\n",
      "“Setting row names on a tibble is deprecated.”Warning message:\n",
      "“Setting row names on a tibble is deprecated.”Warning message:\n",
      "“Setting row names on a tibble is deprecated.”Warning message:\n",
      "“Setting row names on a tibble is deprecated.”Warning message:\n",
      "“Setting row names on a tibble is deprecated.”Warning message:\n",
      "“Setting row names on a tibble is deprecated.”Warning message:\n",
      "“Setting row names on a tibble is deprecated.”Warning message:\n",
      "“Setting row names on a tibble is deprecated.”Warning message:\n",
      "“Setting row names on a tibble is deprecated.”Warning message:\n",
      "“Setting row names on a tibble is deprecated.”Warning message:\n",
      "“Setting row names on a tibble is deprecated.”Warning message:\n",
      "“Setting row names on a tibble is deprecated.”Warning message:\n",
      "“Setting row names on a tibble is deprecated.”Warning message:\n",
      "“Setting row names on a tibble is deprecated.”Warning message:\n",
      "“Setting row names on a tibble is deprecated.”Warning message:\n",
      "“Setting row names on a tibble is deprecated.”Warning message:\n",
      "“Setting row names on a tibble is deprecated.”Warning message:\n",
      "“Setting row names on a tibble is deprecated.”Warning message:\n",
      "“Setting row names on a tibble is deprecated.”Warning message:\n",
      "“Setting row names on a tibble is deprecated.”Warning message:\n",
      "“Setting row names on a tibble is deprecated.”Warning message:\n",
      "“Setting row names on a tibble is deprecated.”Warning message:\n",
      "“Setting row names on a tibble is deprecated.”Warning message:\n",
      "“Setting row names on a tibble is deprecated.”Warning message:\n",
      "“Setting row names on a tibble is deprecated.”Warning message:\n",
      "“Setting row names on a tibble is deprecated.”Warning message:\n",
      "“Setting row names on a tibble is deprecated.”Warning message:\n",
      "“Setting row names on a tibble is deprecated.”Warning message:\n",
      "“Setting row names on a tibble is deprecated.”Warning message:\n",
      "“Setting row names on a tibble is deprecated.”Warning message:\n",
      "“Setting row names on a tibble is deprecated.”Warning message:\n",
      "“Setting row names on a tibble is deprecated.”Warning message:\n",
      "“Setting row names on a tibble is deprecated.”Warning message:\n",
      "“Setting row names on a tibble is deprecated.”Warning message:\n",
      "“Setting row names on a tibble is deprecated.”Warning message:\n",
      "“Setting row names on a tibble is deprecated.”Warning message:\n",
      "“Setting row names on a tibble is deprecated.”Warning message:\n",
      "“Setting row names on a tibble is deprecated.”Warning message:\n",
      "“Setting row names on a tibble is deprecated.”Warning message:\n",
      "“Setting row names on a tibble is deprecated.”Warning message:\n",
      "“Setting row names on a tibble is deprecated.”Warning message:\n",
      "“Setting row names on a tibble is deprecated.”Warning message:\n",
      "“Setting row names on a tibble is deprecated.”Warning message:\n",
      "“Setting row names on a tibble is deprecated.”Warning message:\n",
      "“Setting row names on a tibble is deprecated.”Warning message:\n",
      "“Setting row names on a tibble is deprecated.”"
     ]
    }
   ],
   "source": [
    "model_knn = train(trainData[1:4], trainData$class,method=\"knn\")"
   ]
  },
  {
   "cell_type": "code",
   "execution_count": 21,
   "metadata": {},
   "outputs": [
    {
     "name": "stderr",
     "output_type": "stream",
     "text": [
      "Warning message:\n",
      "“Setting row names on a tibble is deprecated.”Warning message:\n",
      "“Setting row names on a tibble is deprecated.”Warning message:\n",
      "“Setting row names on a tibble is deprecated.”Warning message:\n",
      "“Setting row names on a tibble is deprecated.”Warning message:\n",
      "“Setting row names on a tibble is deprecated.”Warning message:\n",
      "“Setting row names on a tibble is deprecated.”Warning message:\n",
      "“Setting row names on a tibble is deprecated.”Warning message:\n",
      "“Setting row names on a tibble is deprecated.”Warning message:\n",
      "“Setting row names on a tibble is deprecated.”Warning message:\n",
      "“Setting row names on a tibble is deprecated.”Warning message:\n",
      "“Setting row names on a tibble is deprecated.”Warning message:\n",
      "“Setting row names on a tibble is deprecated.”Warning message:\n",
      "“Setting row names on a tibble is deprecated.”Warning message:\n",
      "“Setting row names on a tibble is deprecated.”Warning message:\n",
      "“Setting row names on a tibble is deprecated.”Warning message:\n",
      "“Setting row names on a tibble is deprecated.”Warning message:\n",
      "“Setting row names on a tibble is deprecated.”Warning message:\n",
      "“Setting row names on a tibble is deprecated.”Warning message:\n",
      "“Setting row names on a tibble is deprecated.”Warning message:\n",
      "“Setting row names on a tibble is deprecated.”Warning message:\n",
      "“Setting row names on a tibble is deprecated.”Warning message:\n",
      "“Setting row names on a tibble is deprecated.”Warning message:\n",
      "“Setting row names on a tibble is deprecated.”Warning message:\n",
      "“Setting row names on a tibble is deprecated.”Warning message:\n",
      "“Setting row names on a tibble is deprecated.”Warning message:\n",
      "“Setting row names on a tibble is deprecated.”Warning message:\n",
      "“Setting row names on a tibble is deprecated.”Warning message:\n",
      "“Setting row names on a tibble is deprecated.”Warning message:\n",
      "“Setting row names on a tibble is deprecated.”Warning message:\n",
      "“Setting row names on a tibble is deprecated.”Warning message:\n",
      "“Setting row names on a tibble is deprecated.”Warning message:\n",
      "“Setting row names on a tibble is deprecated.”Warning message:\n",
      "“Setting row names on a tibble is deprecated.”Warning message:\n",
      "“Setting row names on a tibble is deprecated.”Warning message:\n",
      "“Setting row names on a tibble is deprecated.”Warning message:\n",
      "“Setting row names on a tibble is deprecated.”Warning message:\n",
      "“Setting row names on a tibble is deprecated.”Warning message:\n",
      "“Setting row names on a tibble is deprecated.”Warning message:\n",
      "“Setting row names on a tibble is deprecated.”Warning message:\n",
      "“Setting row names on a tibble is deprecated.”Warning message:\n",
      "“Setting row names on a tibble is deprecated.”Warning message:\n",
      "“Setting row names on a tibble is deprecated.”Warning message:\n",
      "“Setting row names on a tibble is deprecated.”Warning message:\n",
      "“Setting row names on a tibble is deprecated.”Warning message:\n",
      "“Setting row names on a tibble is deprecated.”Warning message:\n",
      "“Setting row names on a tibble is deprecated.”Warning message:\n",
      "“Setting row names on a tibble is deprecated.”Warning message:\n",
      "“Setting row names on a tibble is deprecated.”Warning message:\n",
      "“Setting row names on a tibble is deprecated.”Warning message:\n",
      "“Setting row names on a tibble is deprecated.”Warning message:\n",
      "“Setting row names on a tibble is deprecated.”Warning message:\n",
      "“Setting row names on a tibble is deprecated.”Warning message:\n",
      "“Setting row names on a tibble is deprecated.”Warning message:\n",
      "“Setting row names on a tibble is deprecated.”Warning message:\n",
      "“Setting row names on a tibble is deprecated.”Warning message:\n",
      "“Setting row names on a tibble is deprecated.”Warning message:\n",
      "“Setting row names on a tibble is deprecated.”Warning message:\n",
      "“Setting row names on a tibble is deprecated.”Warning message:\n",
      "“Setting row names on a tibble is deprecated.”Warning message:\n",
      "“Setting row names on a tibble is deprecated.”Warning message:\n",
      "“Setting row names on a tibble is deprecated.”Warning message:\n",
      "“Setting row names on a tibble is deprecated.”Warning message:\n",
      "“Setting row names on a tibble is deprecated.”Warning message:\n",
      "“Setting row names on a tibble is deprecated.”Warning message:\n",
      "“Setting row names on a tibble is deprecated.”Warning message:\n",
      "“Setting row names on a tibble is deprecated.”Warning message:\n",
      "“Setting row names on a tibble is deprecated.”Warning message:\n",
      "“Setting row names on a tibble is deprecated.”Warning message:\n",
      "“Setting row names on a tibble is deprecated.”Warning message:\n",
      "“Setting row names on a tibble is deprecated.”Warning message:\n",
      "“Setting row names on a tibble is deprecated.”Warning message:\n",
      "“Setting row names on a tibble is deprecated.”Warning message:\n",
      "“Setting row names on a tibble is deprecated.”Warning message:\n",
      "“Setting row names on a tibble is deprecated.”Warning message:\n",
      "“Setting row names on a tibble is deprecated.”Warning message:\n",
      "“Setting row names on a tibble is deprecated.”"
     ]
    }
   ],
   "source": [
    "model_knn_pp <- train(trainData[1:4], trainData$class,\n",
    "method='knn', preProcess=c(\"center\", \"scale\"))"
   ]
  },
  {
   "cell_type": "code",
   "execution_count": 22,
   "metadata": {},
   "outputs": [
    {
     "data": {
      "text/plain": [
       "k-Nearest Neighbors \n",
       "\n",
       "105 samples\n",
       "  4 predictor\n",
       "  3 classes: 'Iris-setosa', 'Iris-versicolor', 'Iris-virginica' \n",
       "\n",
       "No pre-processing\n",
       "Resampling: Bootstrapped (25 reps) \n",
       "Summary of sample sizes: 105, 105, 105, 105, 105, 105, ... \n",
       "Resampling results across tuning parameters:\n",
       "\n",
       "  k  Accuracy   Kappa    \n",
       "  5  0.9675516  0.9503553\n",
       "  7  0.9635190  0.9443810\n",
       "  9  0.9640067  0.9452335\n",
       "\n",
       "Accuracy was used to select the optimal model using  the largest value.\n",
       "The final value used for the model was k = 5."
      ]
     },
     "metadata": {},
     "output_type": "display_data"
    }
   ],
   "source": [
    "model_knn"
   ]
  },
  {
   "cell_type": "code",
   "execution_count": 23,
   "metadata": {},
   "outputs": [],
   "source": [
    "model_knn1 = knn3(trainData[,1:4], testData$class,\n",
    "cl=trainData$class, k=1)"
   ]
  },
  {
   "cell_type": "markdown",
   "metadata": {},
   "source": [
    "### Evaluate"
   ]
  },
  {
   "cell_type": "code",
   "execution_count": 26,
   "metadata": {},
   "outputs": [
    {
     "ename": "ERROR",
     "evalue": "Error in knn3Train(train = structure(c(4.9, 4.7, 5, 5.4, 4.6, 5, 4.4, : formal argument \"cl\" matched by multiple actual arguments\n",
     "output_type": "error",
     "traceback": [
      "Error in knn3Train(train = structure(c(4.9, 4.7, 5, 5.4, 4.6, 5, 4.4, : formal argument \"cl\" matched by multiple actual arguments\nTraceback:\n",
      "1. predict(object = model_knn1, testData[, 1:4])",
      "2. predict.knn3(object = model_knn1, testData[, 1:4])",
      "3. do.call(\"knn3Train\", argList)",
      "4. knn3Train(train = structure(c(4.9, 4.7, 5, 5.4, 4.6, 5, 4.4, \n . 4.9, 5.4, 4.3, 5.8, 5.7, 5.4, 5.1, 5.7, 5.1, 5.4, 5.1, 4.8, 5, \n . 5.2, 4.7, 4.8, 5.4, 5.2, 5.5, 4.9, 5.5, 4.9, 5.1, 5, 4.4, 5, \n . 5.1, 5.3, 6.4, 6.9, 5.5, 5.7, 6.3, 4.9, 6.6, 5, 5.9, 6, 6.7, \n . 5.6, 5.8, 5.9, 6.3, 6.1, 6.4, 6.6, 6.8, 6.7, 6, 5.7, 5.5, 5.5, \n . 5.8, 5.4, 6.7, 5.6, 5.5, 6.1, 5.8, 5, 5.7, 6.2, 5.1, 6.3, 6.3, \n . 6.5, 7.6, 7.3, 6.4, 6.8, 5.7, 5.8, 6.4, 6.5, 6.9, 5.6, 7.7, 6.7, \n . 7.2, 6.2, 6.4, 7.2, 7.4, 7.9, 6.4, 6.3, 6.1, 7.7, 6.3, 6.4, 6.9, \n . 6.9, 5.8, 6.8, 6.3, 6.5, 6.2, 5.9, 3, 3.2, 3.6, 3.9, 3.4, 3.4, \n . 2.9, 3.1, 3.7, 3, 4, 4.4, 3.9, 3.5, 3.8, 3.8, 3.4, 3.7, 3.4, \n . 3.4, 3.4, 3.2, 3.1, 3.4, 4.1, 4.2, 3.1, 3.5, 3.1, 3.4, 3.5, 3.2, \n . 3.5, 3.8, 3.7, 3.2, 3.1, 2.3, 2.8, 3.3, 2.4, 2.9, 2, 3, 2.2, \n . 3.1, 3, 2.7, 3.2, 2.5, 2.8, 2.9, 3, 2.8, 3, 2.9, 2.6, 2.4, 2.4, \n . 2.7, 3, 3.1, 3, 2.5, 3, 2.6, 2.3, 3, 2.9, 2.5, 3.3, 2.9, 3, 3, \n . 2.9, 2.7, 3, 2.5, 2.8, 3.2, 3, 3.2, 2.8, 2.8, 3.3, 3.2, 2.8, \n . 2.8, 3, 2.8, 3.8, 2.8, 2.8, 2.6, 3, 3.4, 3.1, 3.1, 3.1, 2.7, \n . 3.2, 2.5, 3, 3.4, 3, 1.4, 1.3, 1.4, 1.7, 1.4, 1.5, 1.4, 1.5, \n . 1.5, 1.1, 1.2, 1.5, 1.3, 1.4, 1.7, 1.5, 1.7, 1.5, 1.9, 1.6, 1.4, \n . 1.6, 1.6, 1.5, 1.5, 1.4, 1.5, 1.3, 1.5, 1.5, 1.3, 1.3, 1.6, 1.9, \n . 1.5, 4.5, 4.9, 4, 4.5, 4.7, 3.3, 4.6, 3.5, 4.2, 4, 4.4, 4.5, \n . 4.1, 4.8, 4.9, 4.7, 4.3, 4.4, 4.8, 5, 4.5, 3.5, 3.8, 3.7, 3.9, \n . 4.5, 4.7, 4.1, 4, 4.6, 4, 3.3, 4.2, 4.3, 3, 6, 5.6, 5.8, 6.6, \n . 6.3, 5.3, 5.5, 5, 5.1, 5.3, 5.5, 5.7, 4.9, 6.7, 5.7, 6, 4.8, \n . 5.6, 5.8, 6.1, 6.4, 5.6, 5.1, 5.6, 6.1, 5.6, 5.5, 5.4, 5.1, 5.1, \n . 5.9, 5, 5.2, 5.4, 5.1, 0.2, 0.2, 0.2, 0.4, 0.3, 0.2, 0.2, 0.1, \n . 0.2, 0.1, 0.2, 0.4, 0.4, 0.3, 0.3, 0.3, 0.2, 0.4, 0.2, 0.4, 0.2, \n . 0.2, 0.2, 0.4, 0.1, 0.2, 0.1, 0.2, 0.1, 0.2, 0.3, 0.2, 0.6, 0.4, \n . 0.2, 1.5, 1.5, 1.3, 1.3, 1.6, 1, 1.3, 1, 1.5, 1, 1.4, 1.5, 1, \n . 1.8, 1.5, 1.2, 1.3, 1.4, 1.4, 1.7, 1.5, 1, 1.1, 1, 1.2, 1.5, \n . 1.5, 1.3, 1.3, 1.4, 1.2, 1, 1.2, 1.3, 1.1, 2.5, 1.8, 2.2, 2.1, \n . 1.8, 1.9, 2.1, 2, 2.4, 2.3, 1.8, 2.3, 2, 2, 2.1, 1.8, 1.8, 2.1, \n . 1.6, 1.9, 2, 2.2, 1.5, 1.4, 2.3, 2.4, 1.8, 2.1, 2.3, 1.9, 2.3, \n . 1.9, 2, 2.3, 1.8), .Dim = c(105L, 4L), .Dimnames = list(NULL, \n .     c(\"sepallength\", \"sepalwidth\", \"petallength\", \"petalwidth\"\n .     ))), test = structure(c(5.1, 4.6, 4.8, 4.8, 4.6, 5.1, 5, \n . 5.2, 5, 4.4, 4.5, 4.8, 5.1, 4.6, 5, 7, 6.5, 5.2, 6.1, 5.6, 6.2, \n . 5.6, 6.1, 6, 6, 6.3, 5.5, 5.6, 5.7, 5.7, 5.8, 7.1, 4.9, 6.7, \n . 7.2, 6.5, 7.7, 7.7, 6, 6.3, 6.1, 6, 6.7, 6.7, 6.7, 3.5, 3.1, \n . 3.4, 3, 3.6, 3.3, 3, 3.5, 3.2, 3, 2.3, 3, 3.8, 3.2, 3.3, 3.2, \n . 2.8, 2.7, 2.9, 2.9, 2.2, 2.5, 2.8, 2.7, 3.4, 2.3, 2.6, 2.7, 2.9, \n . 2.8, 2.7, 3, 2.5, 2.5, 3.6, 3.2, 3.8, 2.6, 2.2, 2.7, 3, 3, 3.1, \n . 3.3, 3, 1.4, 1.5, 1.6, 1.4, 1, 1.7, 1.6, 1.5, 1.2, 1.3, 1.3, \n . 1.4, 1.6, 1.4, 1.4, 4.7, 4.6, 3.9, 4.7, 3.6, 4.5, 3.9, 4, 5.1, \n . 4.5, 4.4, 4.4, 4.2, 4.2, 4.1, 5.1, 5.9, 4.5, 5.8, 6.1, 5.1, 6.7, \n . 6.9, 5, 4.9, 4.9, 4.8, 5.6, 5.7, 5.2, 0.2, 0.2, 0.2, 0.1, 0.2, \n . 0.5, 0.2, 0.2, 0.2, 0.2, 0.3, 0.3, 0.2, 0.2, 0.2, 1.4, 1.5, 1.4, \n . 1.4, 1.3, 1.5, 1.1, 1.3, 1.6, 1.6, 1.3, 1.2, 1.3, 1.3, 1.3, 1.9, \n . 2.1, 1.7, 1.8, 2.5, 2, 2.2, 2.3, 1.5, 1.8, 1.8, 1.8, 2.4, 2.5, \n . 2.3), .Dim = c(45L, 4L), .Dimnames = list(NULL, c(\"sepallength\", \n . \"sepalwidth\", \"petallength\", \"petalwidth\"))), cl = structure(c(1L, \n . 1L, 1L, 1L, 1L, 1L, 1L, 1L, 1L, 1L, 1L, 1L, 1L, 1L, 1L, 2L, 2L, \n . 2L, 2L, 2L, 2L, 2L, 2L, 2L, 2L, 2L, 2L, 2L, 2L, 2L, 3L, 3L, 3L, \n . 3L, 3L, 3L, 3L, 3L, 3L, 3L, 3L, 3L, 3L, 3L, 3L), .Label = c(\"Iris-setosa\", \n . \"Iris-versicolor\", \"Iris-virginica\"), class = \"factor\"), k = 1, \n .     cl = structure(c(1L, 1L, 1L, 1L, 1L, 1L, 1L, 1L, 1L, 1L, \n .     1L, 1L, 1L, 1L, 1L, 1L, 1L, 1L, 1L, 1L, 1L, 1L, 1L, 1L, 1L, \n .     1L, 1L, 1L, 1L, 1L, 1L, 1L, 1L, 1L, 1L, 2L, 2L, 2L, 2L, 2L, \n .     2L, 2L, 2L, 2L, 2L, 2L, 2L, 2L, 2L, 2L, 2L, 2L, 2L, 2L, 2L, \n .     2L, 2L, 2L, 2L, 2L, 2L, 2L, 2L, 2L, 2L, 2L, 2L, 2L, 2L, 2L, \n .     3L, 3L, 3L, 3L, 3L, 3L, 3L, 3L, 3L, 3L, 3L, 3L, 3L, 3L, 3L, \n .     3L, 3L, 3L, 3L, 3L, 3L, 3L, 3L, 3L, 3L, 3L, 3L, 3L, 3L, 3L, \n .     3L, 3L, 3L, 3L, 3L), .Label = c(\"Iris-setosa\", \"Iris-versicolor\", \n .     \"Iris-virginica\"), class = \"factor\"))"
     ]
    }
   ],
   "source": [
    "predictions<-predict(object=model_knn1,testData[,1:4])"
   ]
  },
  {
   "cell_type": "code",
   "execution_count": 27,
   "metadata": {},
   "outputs": [
    {
     "ename": "ERROR",
     "evalue": "Error in table(predictions): object 'predictions' not found\n",
     "output_type": "error",
     "traceback": [
      "Error in table(predictions): object 'predictions' not found\nTraceback:\n",
      "1. table(predictions)"
     ]
    }
   ],
   "source": [
    "table(predictions)"
   ]
  },
  {
   "cell_type": "code",
   "execution_count": null,
   "metadata": {},
   "outputs": [],
   "source": []
  }
 ],
 "metadata": {
  "kernelspec": {
   "display_name": "R",
   "language": "R",
   "name": "ir"
  },
  "language_info": {
   "codemirror_mode": "r",
   "file_extension": ".r",
   "mimetype": "text/x-r-source",
   "name": "R",
   "pygments_lexer": "r",
   "version": "3.3.2"
  }
 },
 "nbformat": 4,
 "nbformat_minor": 2
}
