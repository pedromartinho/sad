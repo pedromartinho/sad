{
 "cells": [
  {
   "cell_type": "code",
   "execution_count": 1,
   "metadata": {},
   "outputs": [
    {
     "name": "stderr",
     "output_type": "stream",
     "text": [
      "Installing package into ‘/home/martinho/R/x86_64-pc-linux-gnu-library/3.3’\n",
      "(as ‘lib’ is unspecified)\n"
     ]
    }
   ],
   "source": [
    "install.packages(\"caret\")"
   ]
  },
  {
   "cell_type": "code",
   "execution_count": 2,
   "metadata": {},
   "outputs": [
    {
     "name": "stderr",
     "output_type": "stream",
     "text": [
      "Installing package into ‘/home/martinho/R/x86_64-pc-linux-gnu-library/3.3’\n",
      "(as ‘lib’ is unspecified)\n"
     ]
    }
   ],
   "source": [
    "install.packages(\"e1071\")"
   ]
  },
  {
   "cell_type": "code",
   "execution_count": 4,
   "metadata": {},
   "outputs": [
    {
     "name": "stderr",
     "output_type": "stream",
     "text": [
      "\n",
      "Attaching package: ‘dplyr’\n",
      "\n",
      "The following objects are masked from ‘package:stats’:\n",
      "\n",
      "    filter, lag\n",
      "\n",
      "The following objects are masked from ‘package:base’:\n",
      "\n",
      "    intersect, setdiff, setequal, union\n",
      "\n",
      "Loading required package: lattice\n",
      "Loading required package: ggplot2\n"
     ]
    }
   ],
   "source": [
    "setwd(\"~/Documents/IST/SAD/lab3\")\n",
    "library(readr)\n",
    "library(dplyr)\n",
    "library(caret)"
   ]
  },
  {
   "cell_type": "markdown",
   "metadata": {},
   "source": [
    "## Load data"
   ]
  },
  {
   "cell_type": "code",
   "execution_count": 5,
   "metadata": {},
   "outputs": [
    {
     "name": "stderr",
     "output_type": "stream",
     "text": [
      "Parsed with column specification:\n",
      "cols(\n",
      "  sepallength = col_double(),\n",
      "  sepalwidth = col_double(),\n",
      "  petallength = col_double(),\n",
      "  petalwidth = col_double(),\n",
      "  class = col_character()\n",
      ")\n"
     ]
    },
    {
     "data": {
      "text/html": [
       "<table>\n",
       "<thead><tr><th scope=col>sepallength</th><th scope=col>sepalwidth</th><th scope=col>petallength</th><th scope=col>petalwidth</th><th scope=col>class</th></tr></thead>\n",
       "<tbody>\n",
       "\t<tr><td>5.1        </td><td>3.5        </td><td>1.4        </td><td>0.2        </td><td>Iris-setosa</td></tr>\n",
       "\t<tr><td>4.9        </td><td>3.0        </td><td>1.4        </td><td>0.2        </td><td>Iris-setosa</td></tr>\n",
       "\t<tr><td>4.7        </td><td>3.2        </td><td>1.3        </td><td>0.2        </td><td>Iris-setosa</td></tr>\n",
       "</tbody>\n",
       "</table>\n"
      ],
      "text/latex": [
       "\\begin{tabular}{r|lllll}\n",
       " sepallength & sepalwidth & petallength & petalwidth & class\\\\\n",
       "\\hline\n",
       "\t 5.1         & 3.5         & 1.4         & 0.2         & Iris-setosa\\\\\n",
       "\t 4.9         & 3.0         & 1.4         & 0.2         & Iris-setosa\\\\\n",
       "\t 4.7         & 3.2         & 1.3         & 0.2         & Iris-setosa\\\\\n",
       "\\end{tabular}\n"
      ],
      "text/markdown": [
       "\n",
       "sepallength | sepalwidth | petallength | petalwidth | class | \n",
       "|---|---|---|\n",
       "| 5.1         | 3.5         | 1.4         | 0.2         | Iris-setosa | \n",
       "| 4.9         | 3.0         | 1.4         | 0.2         | Iris-setosa | \n",
       "| 4.7         | 3.2         | 1.3         | 0.2         | Iris-setosa | \n",
       "\n",
       "\n"
      ],
      "text/plain": [
       "  sepallength sepalwidth petallength petalwidth class      \n",
       "1 5.1         3.5        1.4         0.2        Iris-setosa\n",
       "2 4.9         3.0        1.4         0.2        Iris-setosa\n",
       "3 4.7         3.2        1.3         0.2        Iris-setosa"
      ]
     },
     "metadata": {},
     "output_type": "display_data"
    }
   ],
   "source": [
    "iris = read_csv(\"data/iris.csv\")\n",
    "head(iris,n=3)"
   ]
  },
  {
   "cell_type": "code",
   "execution_count": 6,
   "metadata": {},
   "outputs": [
    {
     "name": "stderr",
     "output_type": "stream",
     "text": [
      "Parsed with column specification:\n",
      "cols(\n",
      "  RI = col_double(),\n",
      "  Na = col_double(),\n",
      "  Mg = col_double(),\n",
      "  Al = col_double(),\n",
      "  Si = col_double(),\n",
      "  K = col_double(),\n",
      "  Ca = col_double(),\n",
      "  Ba = col_double(),\n",
      "  Fe = col_double(),\n",
      "  Type = col_character()\n",
      ")\n"
     ]
    },
    {
     "data": {
      "text/html": [
       "<table>\n",
       "<thead><tr><th scope=col>RI</th><th scope=col>Na</th><th scope=col>Mg</th><th scope=col>Al</th><th scope=col>Si</th><th scope=col>K</th><th scope=col>Ca</th><th scope=col>Ba</th><th scope=col>Fe</th><th scope=col>Type</th></tr></thead>\n",
       "<tbody>\n",
       "\t<tr><td>1.51793           </td><td>12.79             </td><td>3.50              </td><td>1.12              </td><td>73.03             </td><td>0.64              </td><td>8.77              </td><td>0                 </td><td>0                 </td><td>'build wind float'</td></tr>\n",
       "\t<tr><td>1.51643           </td><td>12.16             </td><td>3.52              </td><td>1.35              </td><td>72.89             </td><td>0.57              </td><td>8.53              </td><td>0                 </td><td>0                 </td><td>'vehic wind float'</td></tr>\n",
       "\t<tr><td>1.51793           </td><td>13.21             </td><td>3.48              </td><td>1.41              </td><td>72.64             </td><td>0.59              </td><td>8.43              </td><td>0                 </td><td>0                 </td><td>'build wind float'</td></tr>\n",
       "</tbody>\n",
       "</table>\n"
      ],
      "text/latex": [
       "\\begin{tabular}{r|llllllllll}\n",
       " RI & Na & Mg & Al & Si & K & Ca & Ba & Fe & Type\\\\\n",
       "\\hline\n",
       "\t 1.51793            & 12.79              & 3.50               & 1.12               & 73.03              & 0.64               & 8.77               & 0                  & 0                  & 'build wind float'\\\\\n",
       "\t 1.51643            & 12.16              & 3.52               & 1.35               & 72.89              & 0.57               & 8.53               & 0                  & 0                  & 'vehic wind float'\\\\\n",
       "\t 1.51793            & 13.21              & 3.48               & 1.41               & 72.64              & 0.59               & 8.43               & 0                  & 0                  & 'build wind float'\\\\\n",
       "\\end{tabular}\n"
      ],
      "text/markdown": [
       "\n",
       "RI | Na | Mg | Al | Si | K | Ca | Ba | Fe | Type | \n",
       "|---|---|---|\n",
       "| 1.51793            | 12.79              | 3.50               | 1.12               | 73.03              | 0.64               | 8.77               | 0                  | 0                  | 'build wind float' | \n",
       "| 1.51643            | 12.16              | 3.52               | 1.35               | 72.89              | 0.57               | 8.53               | 0                  | 0                  | 'vehic wind float' | \n",
       "| 1.51793            | 13.21              | 3.48               | 1.41               | 72.64              | 0.59               | 8.43               | 0                  | 0                  | 'build wind float' | \n",
       "\n",
       "\n"
      ],
      "text/plain": [
       "  RI      Na    Mg   Al   Si    K    Ca   Ba Fe Type              \n",
       "1 1.51793 12.79 3.50 1.12 73.03 0.64 8.77 0  0  'build wind float'\n",
       "2 1.51643 12.16 3.52 1.35 72.89 0.57 8.53 0  0  'vehic wind float'\n",
       "3 1.51793 13.21 3.48 1.41 72.64 0.59 8.43 0  0  'build wind float'"
      ]
     },
     "metadata": {},
     "output_type": "display_data"
    }
   ],
   "source": [
    "glass = read_csv(\"data/glass.csv\")\n",
    "head(glass,n=3)"
   ]
  },
  {
   "cell_type": "markdown",
   "metadata": {},
   "source": [
    "## Iris.csv"
   ]
  },
  {
   "cell_type": "markdown",
   "metadata": {},
   "source": [
    "### Partitioning datasets"
   ]
  },
  {
   "cell_type": "code",
   "execution_count": 7,
   "metadata": {},
   "outputs": [],
   "source": [
    "iris = mutate_if(iris, is.character, as.factor)"
   ]
  },
  {
   "cell_type": "code",
   "execution_count": 8,
   "metadata": {},
   "outputs": [],
   "source": [
    "set.seed(1234)"
   ]
  },
  {
   "cell_type": "code",
   "execution_count": 9,
   "metadata": {},
   "outputs": [
    {
     "data": {
      "text/html": [
       "<table>\n",
       "<thead><tr><th scope=col>sepallength</th><th scope=col>sepalwidth</th><th scope=col>petallength</th><th scope=col>petalwidth</th><th scope=col>class</th></tr></thead>\n",
       "<tbody>\n",
       "\t<tr><td>5.1        </td><td>3.5        </td><td>1.4        </td><td>0.2        </td><td>Iris-setosa</td></tr>\n",
       "\t<tr><td>4.9        </td><td>3.0        </td><td>1.4        </td><td>0.2        </td><td>Iris-setosa</td></tr>\n",
       "\t<tr><td>4.7        </td><td>3.2        </td><td>1.3        </td><td>0.2        </td><td>Iris-setosa</td></tr>\n",
       "</tbody>\n",
       "</table>\n"
      ],
      "text/latex": [
       "\\begin{tabular}{r|lllll}\n",
       " sepallength & sepalwidth & petallength & petalwidth & class\\\\\n",
       "\\hline\n",
       "\t 5.1         & 3.5         & 1.4         & 0.2         & Iris-setosa\\\\\n",
       "\t 4.9         & 3.0         & 1.4         & 0.2         & Iris-setosa\\\\\n",
       "\t 4.7         & 3.2         & 1.3         & 0.2         & Iris-setosa\\\\\n",
       "\\end{tabular}\n"
      ],
      "text/markdown": [
       "\n",
       "sepallength | sepalwidth | petallength | petalwidth | class | \n",
       "|---|---|---|\n",
       "| 5.1         | 3.5         | 1.4         | 0.2         | Iris-setosa | \n",
       "| 4.9         | 3.0         | 1.4         | 0.2         | Iris-setosa | \n",
       "| 4.7         | 3.2         | 1.3         | 0.2         | Iris-setosa | \n",
       "\n",
       "\n"
      ],
      "text/plain": [
       "  sepallength sepalwidth petallength petalwidth class      \n",
       "1 5.1         3.5        1.4         0.2        Iris-setosa\n",
       "2 4.9         3.0        1.4         0.2        Iris-setosa\n",
       "3 4.7         3.2        1.3         0.2        Iris-setosa"
      ]
     },
     "metadata": {},
     "output_type": "display_data"
    }
   ],
   "source": [
    "index <- createDataPartition(iris$class, p=0.70, list=FALSE)\n",
    "trainData = iris[index,]\n",
    "testData = iris[-index,]\n",
    "head(trainData,n=3)"
   ]
  },
  {
   "cell_type": "markdown",
   "metadata": {},
   "source": [
    "### Training models"
   ]
  },
  {
   "cell_type": "code",
   "execution_count": 26,
   "metadata": {},
   "outputs": [
    {
     "name": "stderr",
     "output_type": "stream",
     "text": [
      "Warning message:\n",
      "“Setting row names on a tibble is deprecated.”Warning message:\n",
      "“Setting row names on a tibble is deprecated.”Warning message:\n",
      "“Setting row names on a tibble is deprecated.”Warning message:\n",
      "“Setting row names on a tibble is deprecated.”Warning message:\n",
      "“Setting row names on a tibble is deprecated.”Warning message:\n",
      "“Setting row names on a tibble is deprecated.”Warning message:\n",
      "“Setting row names on a tibble is deprecated.”Warning message:\n",
      "“Setting row names on a tibble is deprecated.”Warning message:\n",
      "“Setting row names on a tibble is deprecated.”Warning message:\n",
      "“Setting row names on a tibble is deprecated.”Warning message:\n",
      "“Setting row names on a tibble is deprecated.”Warning message:\n",
      "“Setting row names on a tibble is deprecated.”Warning message:\n",
      "“Setting row names on a tibble is deprecated.”Warning message:\n",
      "“Setting row names on a tibble is deprecated.”Warning message:\n",
      "“Setting row names on a tibble is deprecated.”Warning message:\n",
      "“Setting row names on a tibble is deprecated.”Warning message:\n",
      "“Setting row names on a tibble is deprecated.”Warning message:\n",
      "“Setting row names on a tibble is deprecated.”Warning message:\n",
      "“Setting row names on a tibble is deprecated.”Warning message:\n",
      "“Setting row names on a tibble is deprecated.”Warning message:\n",
      "“Setting row names on a tibble is deprecated.”Warning message:\n",
      "“Setting row names on a tibble is deprecated.”Warning message:\n",
      "“Setting row names on a tibble is deprecated.”Warning message:\n",
      "“Setting row names on a tibble is deprecated.”Warning message:\n",
      "“Setting row names on a tibble is deprecated.”Warning message:\n",
      "“Setting row names on a tibble is deprecated.”Warning message:\n",
      "“Setting row names on a tibble is deprecated.”Warning message:\n",
      "“Setting row names on a tibble is deprecated.”Warning message:\n",
      "“Setting row names on a tibble is deprecated.”Warning message:\n",
      "“Setting row names on a tibble is deprecated.”Warning message:\n",
      "“Setting row names on a tibble is deprecated.”Warning message:\n",
      "“Setting row names on a tibble is deprecated.”Warning message:\n",
      "“Setting row names on a tibble is deprecated.”Warning message:\n",
      "“Setting row names on a tibble is deprecated.”Warning message:\n",
      "“Setting row names on a tibble is deprecated.”Warning message:\n",
      "“Setting row names on a tibble is deprecated.”Warning message:\n",
      "“Setting row names on a tibble is deprecated.”Warning message:\n",
      "“Setting row names on a tibble is deprecated.”Warning message:\n",
      "“Setting row names on a tibble is deprecated.”Warning message:\n",
      "“Setting row names on a tibble is deprecated.”Warning message:\n",
      "“Setting row names on a tibble is deprecated.”Warning message:\n",
      "“Setting row names on a tibble is deprecated.”Warning message:\n",
      "“Setting row names on a tibble is deprecated.”Warning message:\n",
      "“Setting row names on a tibble is deprecated.”Warning message:\n",
      "“Setting row names on a tibble is deprecated.”Warning message:\n",
      "“Setting row names on a tibble is deprecated.”Warning message:\n",
      "“Setting row names on a tibble is deprecated.”Warning message:\n",
      "“Setting row names on a tibble is deprecated.”Warning message:\n",
      "“Setting row names on a tibble is deprecated.”Warning message:\n",
      "“Setting row names on a tibble is deprecated.”Warning message:\n",
      "“Setting row names on a tibble is deprecated.”Warning message:\n",
      "“Setting row names on a tibble is deprecated.”Warning message:\n",
      "“Setting row names on a tibble is deprecated.”Warning message:\n",
      "“Setting row names on a tibble is deprecated.”Warning message:\n",
      "“Setting row names on a tibble is deprecated.”Warning message:\n",
      "“Setting row names on a tibble is deprecated.”Warning message:\n",
      "“Setting row names on a tibble is deprecated.”Warning message:\n",
      "“Setting row names on a tibble is deprecated.”Warning message:\n",
      "“Setting row names on a tibble is deprecated.”Warning message:\n",
      "“Setting row names on a tibble is deprecated.”Warning message:\n",
      "“Setting row names on a tibble is deprecated.”Warning message:\n",
      "“Setting row names on a tibble is deprecated.”Warning message:\n",
      "“Setting row names on a tibble is deprecated.”Warning message:\n",
      "“Setting row names on a tibble is deprecated.”Warning message:\n",
      "“Setting row names on a tibble is deprecated.”Warning message:\n",
      "“Setting row names on a tibble is deprecated.”Warning message:\n",
      "“Setting row names on a tibble is deprecated.”Warning message:\n",
      "“Setting row names on a tibble is deprecated.”Warning message:\n",
      "“Setting row names on a tibble is deprecated.”Warning message:\n",
      "“Setting row names on a tibble is deprecated.”Warning message:\n",
      "“Setting row names on a tibble is deprecated.”Warning message:\n",
      "“Setting row names on a tibble is deprecated.”Warning message:\n",
      "“Setting row names on a tibble is deprecated.”Warning message:\n",
      "“Setting row names on a tibble is deprecated.”Warning message:\n",
      "“Setting row names on a tibble is deprecated.”Warning message:\n",
      "“Setting row names on a tibble is deprecated.”"
     ]
    },
    {
     "data": {
      "text/html": [
       "<ol class=list-inline>\n",
       "\t<li>'tbl_df'</li>\n",
       "\t<li>'tbl'</li>\n",
       "\t<li>'data.frame'</li>\n",
       "</ol>\n"
      ],
      "text/latex": [
       "\\begin{enumerate*}\n",
       "\\item 'tbl\\_df'\n",
       "\\item 'tbl'\n",
       "\\item 'data.frame'\n",
       "\\end{enumerate*}\n"
      ],
      "text/markdown": [
       "1. 'tbl_df'\n",
       "2. 'tbl'\n",
       "3. 'data.frame'\n",
       "\n",
       "\n"
      ],
      "text/plain": [
       "[1] \"tbl_df\"     \"tbl\"        \"data.frame\""
      ]
     },
     "metadata": {},
     "output_type": "display_data"
    }
   ],
   "source": [
    "model_knn = train(trainData[1:4], trainData$class,method=\"knn\")\n",
    "class(trainData)"
   ]
  },
  {
   "cell_type": "code",
   "execution_count": 11,
   "metadata": {},
   "outputs": [
    {
     "name": "stderr",
     "output_type": "stream",
     "text": [
      "Warning message:\n",
      "“Setting row names on a tibble is deprecated.”Warning message:\n",
      "“Setting row names on a tibble is deprecated.”Warning message:\n",
      "“Setting row names on a tibble is deprecated.”Warning message:\n",
      "“Setting row names on a tibble is deprecated.”Warning message:\n",
      "“Setting row names on a tibble is deprecated.”Warning message:\n",
      "“Setting row names on a tibble is deprecated.”Warning message:\n",
      "“Setting row names on a tibble is deprecated.”Warning message:\n",
      "“Setting row names on a tibble is deprecated.”Warning message:\n",
      "“Setting row names on a tibble is deprecated.”Warning message:\n",
      "“Setting row names on a tibble is deprecated.”Warning message:\n",
      "“Setting row names on a tibble is deprecated.”Warning message:\n",
      "“Setting row names on a tibble is deprecated.”Warning message:\n",
      "“Setting row names on a tibble is deprecated.”Warning message:\n",
      "“Setting row names on a tibble is deprecated.”Warning message:\n",
      "“Setting row names on a tibble is deprecated.”Warning message:\n",
      "“Setting row names on a tibble is deprecated.”Warning message:\n",
      "“Setting row names on a tibble is deprecated.”Warning message:\n",
      "“Setting row names on a tibble is deprecated.”Warning message:\n",
      "“Setting row names on a tibble is deprecated.”Warning message:\n",
      "“Setting row names on a tibble is deprecated.”Warning message:\n",
      "“Setting row names on a tibble is deprecated.”Warning message:\n",
      "“Setting row names on a tibble is deprecated.”Warning message:\n",
      "“Setting row names on a tibble is deprecated.”Warning message:\n",
      "“Setting row names on a tibble is deprecated.”Warning message:\n",
      "“Setting row names on a tibble is deprecated.”Warning message:\n",
      "“Setting row names on a tibble is deprecated.”Warning message:\n",
      "“Setting row names on a tibble is deprecated.”Warning message:\n",
      "“Setting row names on a tibble is deprecated.”Warning message:\n",
      "“Setting row names on a tibble is deprecated.”Warning message:\n",
      "“Setting row names on a tibble is deprecated.”Warning message:\n",
      "“Setting row names on a tibble is deprecated.”Warning message:\n",
      "“Setting row names on a tibble is deprecated.”Warning message:\n",
      "“Setting row names on a tibble is deprecated.”Warning message:\n",
      "“Setting row names on a tibble is deprecated.”Warning message:\n",
      "“Setting row names on a tibble is deprecated.”Warning message:\n",
      "“Setting row names on a tibble is deprecated.”Warning message:\n",
      "“Setting row names on a tibble is deprecated.”Warning message:\n",
      "“Setting row names on a tibble is deprecated.”Warning message:\n",
      "“Setting row names on a tibble is deprecated.”Warning message:\n",
      "“Setting row names on a tibble is deprecated.”Warning message:\n",
      "“Setting row names on a tibble is deprecated.”Warning message:\n",
      "“Setting row names on a tibble is deprecated.”Warning message:\n",
      "“Setting row names on a tibble is deprecated.”Warning message:\n",
      "“Setting row names on a tibble is deprecated.”Warning message:\n",
      "“Setting row names on a tibble is deprecated.”Warning message:\n",
      "“Setting row names on a tibble is deprecated.”Warning message:\n",
      "“Setting row names on a tibble is deprecated.”Warning message:\n",
      "“Setting row names on a tibble is deprecated.”Warning message:\n",
      "“Setting row names on a tibble is deprecated.”Warning message:\n",
      "“Setting row names on a tibble is deprecated.”Warning message:\n",
      "“Setting row names on a tibble is deprecated.”Warning message:\n",
      "“Setting row names on a tibble is deprecated.”Warning message:\n",
      "“Setting row names on a tibble is deprecated.”Warning message:\n",
      "“Setting row names on a tibble is deprecated.”Warning message:\n",
      "“Setting row names on a tibble is deprecated.”Warning message:\n",
      "“Setting row names on a tibble is deprecated.”Warning message:\n",
      "“Setting row names on a tibble is deprecated.”Warning message:\n",
      "“Setting row names on a tibble is deprecated.”Warning message:\n",
      "“Setting row names on a tibble is deprecated.”Warning message:\n",
      "“Setting row names on a tibble is deprecated.”Warning message:\n",
      "“Setting row names on a tibble is deprecated.”Warning message:\n",
      "“Setting row names on a tibble is deprecated.”Warning message:\n",
      "“Setting row names on a tibble is deprecated.”Warning message:\n",
      "“Setting row names on a tibble is deprecated.”Warning message:\n",
      "“Setting row names on a tibble is deprecated.”Warning message:\n",
      "“Setting row names on a tibble is deprecated.”Warning message:\n",
      "“Setting row names on a tibble is deprecated.”Warning message:\n",
      "“Setting row names on a tibble is deprecated.”Warning message:\n",
      "“Setting row names on a tibble is deprecated.”Warning message:\n",
      "“Setting row names on a tibble is deprecated.”Warning message:\n",
      "“Setting row names on a tibble is deprecated.”Warning message:\n",
      "“Setting row names on a tibble is deprecated.”Warning message:\n",
      "“Setting row names on a tibble is deprecated.”Warning message:\n",
      "“Setting row names on a tibble is deprecated.”Warning message:\n",
      "“Setting row names on a tibble is deprecated.”Warning message:\n",
      "“Setting row names on a tibble is deprecated.”"
     ]
    }
   ],
   "source": [
    "model_knn_pp <- train(trainData[1:4], trainData$class,\n",
    "method='knn', preProcess=c(\"center\", \"scale\"))"
   ]
  },
  {
   "cell_type": "code",
   "execution_count": 12,
   "metadata": {},
   "outputs": [
    {
     "data": {
      "text/plain": [
       "k-Nearest Neighbors \n",
       "\n",
       "105 samples\n",
       "  4 predictor\n",
       "  3 classes: 'Iris-setosa', 'Iris-versicolor', 'Iris-virginica' \n",
       "\n",
       "No pre-processing\n",
       "Resampling: Bootstrapped (25 reps) \n",
       "Summary of sample sizes: 105, 105, 105, 105, 105, 105, ... \n",
       "Resampling results across tuning parameters:\n",
       "\n",
       "  k  Accuracy   Kappa    \n",
       "  5  0.9540635  0.9297079\n",
       "  7  0.9539301  0.9295592\n",
       "  9  0.9513272  0.9253630\n",
       "\n",
       "Accuracy was used to select the optimal model using  the largest value.\n",
       "The final value used for the model was k = 5."
      ]
     },
     "metadata": {},
     "output_type": "display_data"
    }
   ],
   "source": [
    "model_knn"
   ]
  },
  {
   "cell_type": "code",
   "execution_count": 13,
   "metadata": {},
   "outputs": [],
   "source": [
    "model_knn1 = knn3(trainData[,1:4], testData$class,\n",
    "cl=trainData$class, k=1)"
   ]
  },
  {
   "cell_type": "markdown",
   "metadata": {},
   "source": [
    "### Evaluate"
   ]
  },
  {
   "cell_type": "code",
   "execution_count": 16,
   "metadata": {},
   "outputs": [],
   "source": [
    "predictions<-predict(object=model_knn,testData[,1:4])"
   ]
  },
  {
   "cell_type": "code",
   "execution_count": 17,
   "metadata": {},
   "outputs": [
    {
     "data": {
      "text/plain": [
       "predictions\n",
       "    Iris-setosa Iris-versicolor  Iris-virginica \n",
       "             15              14              16 "
      ]
     },
     "metadata": {},
     "output_type": "display_data"
    }
   ],
   "source": [
    "table(predictions)"
   ]
  },
  {
   "cell_type": "code",
   "execution_count": 18,
   "metadata": {},
   "outputs": [
    {
     "data": {
      "text/plain": [
       "Confusion Matrix and Statistics\n",
       "\n",
       "                 Reference\n",
       "Prediction        Iris-setosa Iris-versicolor Iris-virginica\n",
       "  Iris-setosa              15               0              0\n",
       "  Iris-versicolor           0              14              0\n",
       "  Iris-virginica            0               1             15\n",
       "\n",
       "Overall Statistics\n",
       "                                          \n",
       "               Accuracy : 0.9778          \n",
       "                 95% CI : (0.8823, 0.9994)\n",
       "    No Information Rate : 0.3333          \n",
       "    P-Value [Acc > NIR] : < 2.2e-16       \n",
       "                                          \n",
       "                  Kappa : 0.9667          \n",
       " Mcnemar's Test P-Value : NA              \n",
       "\n",
       "Statistics by Class:\n",
       "\n",
       "                     Class: Iris-setosa Class: Iris-versicolor\n",
       "Sensitivity                      1.0000                 0.9333\n",
       "Specificity                      1.0000                 1.0000\n",
       "Pos Pred Value                   1.0000                 1.0000\n",
       "Neg Pred Value                   1.0000                 0.9677\n",
       "Prevalence                       0.3333                 0.3333\n",
       "Detection Rate                   0.3333                 0.3111\n",
       "Detection Prevalence             0.3333                 0.3111\n",
       "Balanced Accuracy                1.0000                 0.9667\n",
       "                     Class: Iris-virginica\n",
       "Sensitivity                         1.0000\n",
       "Specificity                         0.9667\n",
       "Pos Pred Value                      0.9375\n",
       "Neg Pred Value                      1.0000\n",
       "Prevalence                          0.3333\n",
       "Detection Rate                      0.3333\n",
       "Detection Prevalence                0.3556\n",
       "Balanced Accuracy                   0.9833"
      ]
     },
     "metadata": {},
     "output_type": "display_data"
    }
   ],
   "source": [
    "confusionMatrix(predictions,testData$class)"
   ]
  },
  {
   "cell_type": "markdown",
   "metadata": {},
   "source": [
    "### Using k-fold cross Validation"
   ]
  },
  {
   "cell_type": "code",
   "execution_count": 19,
   "metadata": {},
   "outputs": [],
   "source": [
    "train_control <- trainControl(method=\"cv\", number=10)"
   ]
  },
  {
   "cell_type": "code",
   "execution_count": 23,
   "metadata": {},
   "outputs": [],
   "source": [
    "grid <- expand.grid(k = c(1:30))"
   ]
  },
  {
   "cell_type": "code",
   "execution_count": 24,
   "metadata": {},
   "outputs": [
    {
     "name": "stderr",
     "output_type": "stream",
     "text": [
      "Warning message:\n",
      "“Setting row names on a tibble is deprecated.”Warning message:\n",
      "“Setting row names on a tibble is deprecated.”Warning message:\n",
      "“Setting row names on a tibble is deprecated.”Warning message:\n",
      "“Setting row names on a tibble is deprecated.”Warning message:\n",
      "“Setting row names on a tibble is deprecated.”Warning message:\n",
      "“Setting row names on a tibble is deprecated.”Warning message:\n",
      "“Setting row names on a tibble is deprecated.”Warning message:\n",
      "“Setting row names on a tibble is deprecated.”Warning message:\n",
      "“Setting row names on a tibble is deprecated.”Warning message:\n",
      "“Setting row names on a tibble is deprecated.”Warning message:\n",
      "“Setting row names on a tibble is deprecated.”Warning message:\n",
      "“Setting row names on a tibble is deprecated.”Warning message:\n",
      "“Setting row names on a tibble is deprecated.”Warning message:\n",
      "“Setting row names on a tibble is deprecated.”Warning message:\n",
      "“Setting row names on a tibble is deprecated.”Warning message:\n",
      "“Setting row names on a tibble is deprecated.”Warning message:\n",
      "“Setting row names on a tibble is deprecated.”Warning message:\n",
      "“Setting row names on a tibble is deprecated.”Warning message:\n",
      "“Setting row names on a tibble is deprecated.”Warning message:\n",
      "“Setting row names on a tibble is deprecated.”Warning message:\n",
      "“Setting row names on a tibble is deprecated.”Warning message:\n",
      "“Setting row names on a tibble is deprecated.”Warning message:\n",
      "“Setting row names on a tibble is deprecated.”Warning message:\n",
      "“Setting row names on a tibble is deprecated.”Warning message:\n",
      "“Setting row names on a tibble is deprecated.”Warning message:\n",
      "“Setting row names on a tibble is deprecated.”Warning message:\n",
      "“Setting row names on a tibble is deprecated.”Warning message:\n",
      "“Setting row names on a tibble is deprecated.”Warning message:\n",
      "“Setting row names on a tibble is deprecated.”Warning message:\n",
      "“Setting row names on a tibble is deprecated.”Warning message:\n",
      "“Setting row names on a tibble is deprecated.”Warning message:\n",
      "“Setting row names on a tibble is deprecated.”Warning message:\n",
      "“Setting row names on a tibble is deprecated.”Warning message:\n",
      "“Setting row names on a tibble is deprecated.”Warning message:\n",
      "“Setting row names on a tibble is deprecated.”Warning message:\n",
      "“Setting row names on a tibble is deprecated.”Warning message:\n",
      "“Setting row names on a tibble is deprecated.”Warning message:\n",
      "“Setting row names on a tibble is deprecated.”Warning message:\n",
      "“Setting row names on a tibble is deprecated.”Warning message:\n",
      "“Setting row names on a tibble is deprecated.”Warning message:\n",
      "“Setting row names on a tibble is deprecated.”Warning message:\n",
      "“Setting row names on a tibble is deprecated.”Warning message:\n",
      "“Setting row names on a tibble is deprecated.”Warning message:\n",
      "“Setting row names on a tibble is deprecated.”Warning message:\n",
      "“Setting row names on a tibble is deprecated.”Warning message:\n",
      "“Setting row names on a tibble is deprecated.”Warning message:\n",
      "“Setting row names on a tibble is deprecated.”Warning message:\n",
      "“Setting row names on a tibble is deprecated.”Warning message:\n",
      "“Setting row names on a tibble is deprecated.”Warning message:\n",
      "“Setting row names on a tibble is deprecated.”Warning message:\n",
      "“Setting row names on a tibble is deprecated.”Warning message:\n",
      "“Setting row names on a tibble is deprecated.”Warning message:\n",
      "“Setting row names on a tibble is deprecated.”Warning message:\n",
      "“Setting row names on a tibble is deprecated.”Warning message:\n",
      "“Setting row names on a tibble is deprecated.”Warning message:\n",
      "“Setting row names on a tibble is deprecated.”Warning message:\n",
      "“Setting row names on a tibble is deprecated.”Warning message:\n",
      "“Setting row names on a tibble is deprecated.”Warning message:\n",
      "“Setting row names on a tibble is deprecated.”Warning message:\n",
      "“Setting row names on a tibble is deprecated.”Warning message:\n",
      "“Setting row names on a tibble is deprecated.”Warning message:\n",
      "“Setting row names on a tibble is deprecated.”Warning message:\n",
      "“Setting row names on a tibble is deprecated.”Warning message:\n",
      "“Setting row names on a tibble is deprecated.”Warning message:\n",
      "“Setting row names on a tibble is deprecated.”Warning message:\n",
      "“Setting row names on a tibble is deprecated.”Warning message:\n",
      "“Setting row names on a tibble is deprecated.”Warning message:\n",
      "“Setting row names on a tibble is deprecated.”Warning message:\n",
      "“Setting row names on a tibble is deprecated.”Warning message:\n",
      "“Setting row names on a tibble is deprecated.”Warning message:\n",
      "“Setting row names on a tibble is deprecated.”Warning message:\n",
      "“Setting row names on a tibble is deprecated.”Warning message:\n",
      "“Setting row names on a tibble is deprecated.”Warning message:\n",
      "“Setting row names on a tibble is deprecated.”Warning message:\n",
      "“Setting row names on a tibble is deprecated.”Warning message:\n",
      "“Setting row names on a tibble is deprecated.”Warning message:\n",
      "“Setting row names on a tibble is deprecated.”Warning message:\n",
      "“Setting row names on a tibble is deprecated.”Warning message:\n",
      "“Setting row names on a tibble is deprecated.”Warning message:\n",
      "“Setting row names on a tibble is deprecated.”Warning message:\n",
      "“Setting row names on a tibble is deprecated.”Warning message:\n",
      "“Setting row names on a tibble is deprecated.”Warning message:\n",
      "“Setting row names on a tibble is deprecated.”Warning message:\n",
      "“Setting row names on a tibble is deprecated.”Warning message:\n",
      "“Setting row names on a tibble is deprecated.”Warning message:\n",
      "“Setting row names on a tibble is deprecated.”Warning message:\n",
      "“Setting row names on a tibble is deprecated.”Warning message:\n",
      "“Setting row names on a tibble is deprecated.”Warning message:\n",
      "“Setting row names on a tibble is deprecated.”Warning message:\n",
      "“Setting row names on a tibble is deprecated.”Warning message:\n",
      "“Setting row names on a tibble is deprecated.”Warning message:\n",
      "“Setting row names on a tibble is deprecated.”Warning message:\n",
      "“Setting row names on a tibble is deprecated.”Warning message:\n",
      "“Setting row names on a tibble is deprecated.”Warning message:\n",
      "“Setting row names on a tibble is deprecated.”Warning message:\n",
      "“Setting row names on a tibble is deprecated.”Warning message:\n",
      "“Setting row names on a tibble is deprecated.”Warning message:\n",
      "“Setting row names on a tibble is deprecated.”Warning message:\n",
      "“Setting row names on a tibble is deprecated.”Warning message:\n",
      "“Setting row names on a tibble is deprecated.”Warning message:\n",
      "“Setting row names on a tibble is deprecated.”Warning message:\n",
      "“Setting row names on a tibble is deprecated.”Warning message:\n",
      "“Setting row names on a tibble is deprecated.”Warning message:\n",
      "“Setting row names on a tibble is deprecated.”Warning message:\n",
      "“Setting row names on a tibble is deprecated.”Warning message:\n",
      "“Setting row names on a tibble is deprecated.”Warning message:\n",
      "“Setting row names on a tibble is deprecated.”Warning message:\n",
      "“Setting row names on a tibble is deprecated.”Warning message:\n",
      "“Setting row names on a tibble is deprecated.”Warning message:\n",
      "“Setting row names on a tibble is deprecated.”Warning message:\n",
      "“Setting row names on a tibble is deprecated.”Warning message:\n",
      "“Setting row names on a tibble is deprecated.”Warning message:\n",
      "“Setting row names on a tibble is deprecated.”Warning message:\n",
      "“Setting row names on a tibble is deprecated.”Warning message:\n",
      "“Setting row names on a tibble is deprecated.”Warning message:\n",
      "“Setting row names on a tibble is deprecated.”Warning message:\n",
      "“Setting row names on a tibble is deprecated.”Warning message:\n",
      "“Setting row names on a tibble is deprecated.”Warning message:\n",
      "“Setting row names on a tibble is deprecated.”Warning message:\n",
      "“Setting row names on a tibble is deprecated.”Warning message:\n",
      "“Setting row names on a tibble is deprecated.”Warning message:\n",
      "“Setting row names on a tibble is deprecated.”Warning message:\n",
      "“Setting row names on a tibble is deprecated.”Warning message:\n",
      "“Setting row names on a tibble is deprecated.”Warning message:\n",
      "“Setting row names on a tibble is deprecated.”Warning message:\n",
      "“Setting row names on a tibble is deprecated.”Warning message:\n",
      "“Setting row names on a tibble is deprecated.”Warning message:\n",
      "“Setting row names on a tibble is deprecated.”Warning message:\n",
      "“Setting row names on a tibble is deprecated.”Warning message:\n",
      "“Setting row names on a tibble is deprecated.”Warning message:\n"
     ]
    },
    {
     "name": "stderr",
     "output_type": "stream",
     "text": [
      "“Setting row names on a tibble is deprecated.”Warning message:\n",
      "“Setting row names on a tibble is deprecated.”Warning message:\n",
      "“Setting row names on a tibble is deprecated.”Warning message:\n",
      "“Setting row names on a tibble is deprecated.”Warning message:\n",
      "“Setting row names on a tibble is deprecated.”Warning message:\n",
      "“Setting row names on a tibble is deprecated.”Warning message:\n",
      "“Setting row names on a tibble is deprecated.”Warning message:\n",
      "“Setting row names on a tibble is deprecated.”Warning message:\n",
      "“Setting row names on a tibble is deprecated.”Warning message:\n",
      "“Setting row names on a tibble is deprecated.”Warning message:\n",
      "“Setting row names on a tibble is deprecated.”Warning message:\n",
      "“Setting row names on a tibble is deprecated.”Warning message:\n",
      "“Setting row names on a tibble is deprecated.”Warning message:\n",
      "“Setting row names on a tibble is deprecated.”Warning message:\n",
      "“Setting row names on a tibble is deprecated.”Warning message:\n",
      "“Setting row names on a tibble is deprecated.”Warning message:\n",
      "“Setting row names on a tibble is deprecated.”Warning message:\n",
      "“Setting row names on a tibble is deprecated.”Warning message:\n",
      "“Setting row names on a tibble is deprecated.”Warning message:\n",
      "“Setting row names on a tibble is deprecated.”Warning message:\n",
      "“Setting row names on a tibble is deprecated.”Warning message:\n",
      "“Setting row names on a tibble is deprecated.”Warning message:\n",
      "“Setting row names on a tibble is deprecated.”Warning message:\n",
      "“Setting row names on a tibble is deprecated.”Warning message:\n",
      "“Setting row names on a tibble is deprecated.”Warning message:\n",
      "“Setting row names on a tibble is deprecated.”Warning message:\n",
      "“Setting row names on a tibble is deprecated.”Warning message:\n",
      "“Setting row names on a tibble is deprecated.”Warning message:\n",
      "“Setting row names on a tibble is deprecated.”Warning message:\n",
      "“Setting row names on a tibble is deprecated.”Warning message:\n",
      "“Setting row names on a tibble is deprecated.”Warning message:\n",
      "“Setting row names on a tibble is deprecated.”Warning message:\n",
      "“Setting row names on a tibble is deprecated.”Warning message:\n",
      "“Setting row names on a tibble is deprecated.”Warning message:\n",
      "“Setting row names on a tibble is deprecated.”Warning message:\n",
      "“Setting row names on a tibble is deprecated.”Warning message:\n",
      "“Setting row names on a tibble is deprecated.”Warning message:\n",
      "“Setting row names on a tibble is deprecated.”Warning message:\n",
      "“Setting row names on a tibble is deprecated.”Warning message:\n",
      "“Setting row names on a tibble is deprecated.”Warning message:\n",
      "“Setting row names on a tibble is deprecated.”Warning message:\n",
      "“Setting row names on a tibble is deprecated.”Warning message:\n",
      "“Setting row names on a tibble is deprecated.”Warning message:\n",
      "“Setting row names on a tibble is deprecated.”Warning message:\n",
      "“Setting row names on a tibble is deprecated.”Warning message:\n",
      "“Setting row names on a tibble is deprecated.”Warning message:\n",
      "“Setting row names on a tibble is deprecated.”Warning message:\n",
      "“Setting row names on a tibble is deprecated.”Warning message:\n",
      "“Setting row names on a tibble is deprecated.”Warning message:\n",
      "“Setting row names on a tibble is deprecated.”Warning message:\n",
      "“Setting row names on a tibble is deprecated.”Warning message:\n",
      "“Setting row names on a tibble is deprecated.”Warning message:\n",
      "“Setting row names on a tibble is deprecated.”Warning message:\n",
      "“Setting row names on a tibble is deprecated.”Warning message:\n",
      "“Setting row names on a tibble is deprecated.”Warning message:\n",
      "“Setting row names on a tibble is deprecated.”Warning message:\n",
      "“Setting row names on a tibble is deprecated.”Warning message:\n",
      "“Setting row names on a tibble is deprecated.”Warning message:\n",
      "“Setting row names on a tibble is deprecated.”Warning message:\n",
      "“Setting row names on a tibble is deprecated.”Warning message:\n",
      "“Setting row names on a tibble is deprecated.”Warning message:\n",
      "“Setting row names on a tibble is deprecated.”Warning message:\n",
      "“Setting row names on a tibble is deprecated.”Warning message:\n",
      "“Setting row names on a tibble is deprecated.”Warning message:\n",
      "“Setting row names on a tibble is deprecated.”Warning message:\n",
      "“Setting row names on a tibble is deprecated.”Warning message:\n",
      "“Setting row names on a tibble is deprecated.”Warning message:\n",
      "“Setting row names on a tibble is deprecated.”Warning message:\n",
      "“Setting row names on a tibble is deprecated.”Warning message:\n",
      "“Setting row names on a tibble is deprecated.”Warning message:\n",
      "“Setting row names on a tibble is deprecated.”Warning message:\n",
      "“Setting row names on a tibble is deprecated.”Warning message:\n",
      "“Setting row names on a tibble is deprecated.”Warning message:\n",
      "“Setting row names on a tibble is deprecated.”Warning message:\n",
      "“Setting row names on a tibble is deprecated.”Warning message:\n",
      "“Setting row names on a tibble is deprecated.”Warning message:\n",
      "“Setting row names on a tibble is deprecated.”Warning message:\n",
      "“Setting row names on a tibble is deprecated.”Warning message:\n",
      "“Setting row names on a tibble is deprecated.”Warning message:\n",
      "“Setting row names on a tibble is deprecated.”Warning message:\n",
      "“Setting row names on a tibble is deprecated.”Warning message:\n",
      "“Setting row names on a tibble is deprecated.”Warning message:\n",
      "“Setting row names on a tibble is deprecated.”Warning message:\n",
      "“Setting row names on a tibble is deprecated.”Warning message:\n",
      "“Setting row names on a tibble is deprecated.”Warning message:\n",
      "“Setting row names on a tibble is deprecated.”Warning message:\n",
      "“Setting row names on a tibble is deprecated.”Warning message:\n",
      "“Setting row names on a tibble is deprecated.”Warning message:\n",
      "“Setting row names on a tibble is deprecated.”Warning message:\n",
      "“Setting row names on a tibble is deprecated.”Warning message:\n",
      "“Setting row names on a tibble is deprecated.”Warning message:\n",
      "“Setting row names on a tibble is deprecated.”Warning message:\n",
      "“Setting row names on a tibble is deprecated.”Warning message:\n",
      "“Setting row names on a tibble is deprecated.”Warning message:\n",
      "“Setting row names on a tibble is deprecated.”Warning message:\n",
      "“Setting row names on a tibble is deprecated.”Warning message:\n",
      "“Setting row names on a tibble is deprecated.”Warning message:\n",
      "“Setting row names on a tibble is deprecated.”Warning message:\n",
      "“Setting row names on a tibble is deprecated.”Warning message:\n",
      "“Setting row names on a tibble is deprecated.”Warning message:\n",
      "“Setting row names on a tibble is deprecated.”Warning message:\n",
      "“Setting row names on a tibble is deprecated.”Warning message:\n",
      "“Setting row names on a tibble is deprecated.”Warning message:\n",
      "“Setting row names on a tibble is deprecated.”Warning message:\n",
      "“Setting row names on a tibble is deprecated.”Warning message:\n",
      "“Setting row names on a tibble is deprecated.”Warning message:\n",
      "“Setting row names on a tibble is deprecated.”Warning message:\n",
      "“Setting row names on a tibble is deprecated.”Warning message:\n",
      "“Setting row names on a tibble is deprecated.”Warning message:\n",
      "“Setting row names on a tibble is deprecated.”Warning message:\n",
      "“Setting row names on a tibble is deprecated.”Warning message:\n",
      "“Setting row names on a tibble is deprecated.”Warning message:\n",
      "“Setting row names on a tibble is deprecated.”Warning message:\n",
      "“Setting row names on a tibble is deprecated.”Warning message:\n",
      "“Setting row names on a tibble is deprecated.”Warning message:\n",
      "“Setting row names on a tibble is deprecated.”Warning message:\n",
      "“Setting row names on a tibble is deprecated.”Warning message:\n",
      "“Setting row names on a tibble is deprecated.”Warning message:\n",
      "“Setting row names on a tibble is deprecated.”Warning message:\n",
      "“Setting row names on a tibble is deprecated.”Warning message:\n",
      "“Setting row names on a tibble is deprecated.”Warning message:\n",
      "“Setting row names on a tibble is deprecated.”Warning message:\n",
      "“Setting row names on a tibble is deprecated.”Warning message:\n",
      "“Setting row names on a tibble is deprecated.”Warning message:\n",
      "“Setting row names on a tibble is deprecated.”Warning message:\n",
      "“Setting row names on a tibble is deprecated.”Warning message:\n",
      "“Setting row names on a tibble is deprecated.”Warning message:\n",
      "“Setting row names on a tibble is deprecated.”Warning message:\n",
      "“Setting row names on a tibble is deprecated.”Warning message:\n",
      "“Setting row names on a tibble is deprecated.”Warning message:\n"
     ]
    },
    {
     "name": "stderr",
     "output_type": "stream",
     "text": [
      "“Setting row names on a tibble is deprecated.”Warning message:\n",
      "“Setting row names on a tibble is deprecated.”Warning message:\n",
      "“Setting row names on a tibble is deprecated.”Warning message:\n",
      "“Setting row names on a tibble is deprecated.”Warning message:\n",
      "“Setting row names on a tibble is deprecated.”Warning message:\n",
      "“Setting row names on a tibble is deprecated.”Warning message:\n",
      "“Setting row names on a tibble is deprecated.”Warning message:\n",
      "“Setting row names on a tibble is deprecated.”Warning message:\n",
      "“Setting row names on a tibble is deprecated.”Warning message:\n",
      "“Setting row names on a tibble is deprecated.”Warning message:\n",
      "“Setting row names on a tibble is deprecated.”Warning message:\n",
      "“Setting row names on a tibble is deprecated.”Warning message:\n",
      "“Setting row names on a tibble is deprecated.”Warning message:\n",
      "“Setting row names on a tibble is deprecated.”Warning message:\n",
      "“Setting row names on a tibble is deprecated.”Warning message:\n",
      "“Setting row names on a tibble is deprecated.”Warning message:\n",
      "“Setting row names on a tibble is deprecated.”Warning message:\n",
      "“Setting row names on a tibble is deprecated.”Warning message:\n",
      "“Setting row names on a tibble is deprecated.”Warning message:\n",
      "“Setting row names on a tibble is deprecated.”Warning message:\n",
      "“Setting row names on a tibble is deprecated.”Warning message:\n",
      "“Setting row names on a tibble is deprecated.”Warning message:\n",
      "“Setting row names on a tibble is deprecated.”Warning message:\n",
      "“Setting row names on a tibble is deprecated.”Warning message:\n",
      "“Setting row names on a tibble is deprecated.”Warning message:\n",
      "“Setting row names on a tibble is deprecated.”Warning message:\n",
      "“Setting row names on a tibble is deprecated.”Warning message:\n",
      "“Setting row names on a tibble is deprecated.”Warning message:\n",
      "“Setting row names on a tibble is deprecated.”Warning message:\n",
      "“Setting row names on a tibble is deprecated.”Warning message:\n",
      "“Setting row names on a tibble is deprecated.”Warning message:\n",
      "“Setting row names on a tibble is deprecated.”Warning message:\n",
      "“Setting row names on a tibble is deprecated.”Warning message:\n",
      "“Setting row names on a tibble is deprecated.”Warning message:\n",
      "“Setting row names on a tibble is deprecated.”Warning message:\n",
      "“Setting row names on a tibble is deprecated.”Warning message:\n",
      "“Setting row names on a tibble is deprecated.”Warning message:\n",
      "“Setting row names on a tibble is deprecated.”Warning message:\n",
      "“Setting row names on a tibble is deprecated.”Warning message:\n",
      "“Setting row names on a tibble is deprecated.”Warning message:\n",
      "“Setting row names on a tibble is deprecated.”"
     ]
    }
   ],
   "source": [
    "model_cv <- train(trainData[1:4], trainData$class,trControl=train_control, method=\"knn\", tuneGrid=grid)"
   ]
  },
  {
   "cell_type": "code",
   "execution_count": 25,
   "metadata": {},
   "outputs": [
    {
     "data": {
      "text/plain": [
       "k-Nearest Neighbors \n",
       "\n",
       "105 samples\n",
       "  4 predictor\n",
       "  3 classes: 'Iris-setosa', 'Iris-versicolor', 'Iris-virginica' \n",
       "\n",
       "No pre-processing\n",
       "Resampling: Cross-Validated (10 fold) \n",
       "Summary of sample sizes: 95, 95, 94, 95, 94, 95, ... \n",
       "Resampling results across tuning parameters:\n",
       "\n",
       "  k   Accuracy   Kappa    \n",
       "   1  0.9709091  0.9558836\n",
       "   2  0.9409091  0.9106622\n",
       "   3  0.9509091  0.9255806\n",
       "   4  0.9609091  0.9407321\n",
       "   5  0.9609091  0.9409652\n",
       "   6  0.9609091  0.9409652\n",
       "   7  0.9800000  0.9696970\n",
       "   8  0.9800000  0.9696970\n",
       "   9  0.9800000  0.9696970\n",
       "  10  0.9509091  0.9256439\n",
       "  11  0.9509091  0.9256439\n",
       "  12  0.9509091  0.9256439\n",
       "  13  0.9509091  0.9256439\n",
       "  14  0.9509091  0.9256439\n",
       "  15  0.9509091  0.9256439\n",
       "  16  0.9509091  0.9256439\n",
       "  17  0.9509091  0.9256439\n",
       "  18  0.9609091  0.9407955\n",
       "  19  0.9509091  0.9256439\n",
       "  20  0.9509091  0.9256439\n",
       "  21  0.9509091  0.9256439\n",
       "  22  0.9509091  0.9256439\n",
       "  23  0.9509091  0.9256439\n",
       "  24  0.9609091  0.9407955\n",
       "  25  0.9609091  0.9407955\n",
       "  26  0.9609091  0.9407955\n",
       "  27  0.9418182  0.9118939\n",
       "  28  0.9418182  0.9118939\n",
       "  29  0.9418182  0.9118939\n",
       "  30  0.9518182  0.9270455\n",
       "\n",
       "Accuracy was used to select the optimal model using  the largest value.\n",
       "The final value used for the model was k = 9."
      ]
     },
     "metadata": {},
     "output_type": "display_data"
    }
   ],
   "source": [
    "model_cv"
   ]
  },
  {
   "cell_type": "code",
   "execution_count": null,
   "metadata": {},
   "outputs": [],
   "source": []
  },
  {
   "cell_type": "code",
   "execution_count": null,
   "metadata": {},
   "outputs": [],
   "source": []
  },
  {
   "cell_type": "code",
   "execution_count": null,
   "metadata": {},
   "outputs": [],
   "source": []
  }
 ],
 "metadata": {
  "kernelspec": {
   "display_name": "R",
   "language": "R",
   "name": "ir"
  },
  "language_info": {
   "codemirror_mode": "r",
   "file_extension": ".r",
   "mimetype": "text/x-r-source",
   "name": "R",
   "pygments_lexer": "r",
   "version": "3.3.2"
  }
 },
 "nbformat": 4,
 "nbformat_minor": 2
}
