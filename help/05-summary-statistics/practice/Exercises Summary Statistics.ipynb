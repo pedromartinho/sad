{
 "cells": [
  {
   "cell_type": "markdown",
   "metadata": {},
   "source": [
    "# Summary Statistics - Exercises\n",
    "In these exercises you'll use a real life medical dataset to learn how to obtain basic statistics from the data. This dataset comes from [Gluegrant](https://www.gluegrant.org/), an American project that aims to find a which genes are more important for the recovery of severely injured patients! It was sightly edited to remove some complexities, but if you wish to check it out in it's full glory, it's available on the website and I can show it to you! \n",
    "\n",
    "Have fun being a biostaticist for 1 hour! :)\n",
    "\n",
    "## Objectives\n",
    "\n",
    "In this exercise the objective if for you to learn how to use Pandas functions to obtain simple statistics of Datasets.\n",
    "\n",
    "## Dataset information\n",
    "\n",
    "The dataset is a medical dataset with 184 patients, distributed into 2 test groups where each group divided in 2, patients and control.\n",
    "The dataset is composed of clinical values:\n",
    "* Patient.id\n",
    "* Age\n",
    "* Sex\n",
    "* Group (to what group they belong)\n",
    "* Results (outcome of the patient)\n",
    "\n",
    "and of the gene expression (higher = more expressed):\n",
    "* Gene1: [MMP9](https://www.ncbi.nlm.nih.gov/gene/4318)\n",
    "* Gene2: [S100A12](https://www.ncbi.nlm.nih.gov/gene/6283)\n",
    "* Gene3: [MCEMP1](https://www.ncbi.nlm.nih.gov/gene/199675)\n",
    "* Gene4: [ACSL1](https://www.ncbi.nlm.nih.gov/gene/2180)\n",
    "* Gene5: [SLC7A2](https://www.ncbi.nlm.nih.gov/gene/6542)\n",
    "* Gene6: [CDC14B](https://www.ncbi.nlm.nih.gov/gene/8555)\n",
    "\n",
    "### Remarks for people without bio background\n",
    "\n",
    "**Don't worry if you are not from a biological background**, consider that these genes are simply numeric values related to the patient. We will not delve into the biological meaning of any of the genes, we'll only try to find if there are differences between the gene values for the different groups! \n",
    "\n",
    "**If you are still not confortable using this dataset**, imagine this situation instead:\n",
    "\n",
    "You can consider that this dataset comes from a online shopping service like Amazon. Imagine that they were conducting an A/B test, where a small part of their website was changed, like the related items suggestions. You have 2 groups, the \"control group\" that is the group that is experiencing the original website (without modifications) and Group 1 that is using the website with the new suggestions.\n",
    "\n",
    "Consider also that the genes are products or product categories where the customers buy a certain ammount of products. Your objective now is to find if there is a significant difference between the __control group__ and __Group 1__.\n",
    "\n",
    "### Start\n",
    "\n",
    "Ok, introductions aside, **please have fun being a biostaticist for 45 minutes! :P** Any doubt, please call me or any of the other professors!\n",
    "\n",
    "### Import Data"
   ]
  },
  {
   "cell_type": "code",
   "execution_count": 1,
   "metadata": {
    "collapsed": false
   },
   "outputs": [
    {
     "data": {
      "text/html": [
       "<div>\n",
       "<table border=\"1\" class=\"dataframe\">\n",
       "  <thead>\n",
       "    <tr style=\"text-align: right;\">\n",
       "      <th></th>\n",
       "      <th>Patient_id</th>\n",
       "      <th>Age</th>\n",
       "      <th>Sex</th>\n",
       "      <th>Result</th>\n",
       "      <th>Group</th>\n",
       "      <th>Gene1</th>\n",
       "      <th>Gene2</th>\n",
       "      <th>Gene3</th>\n",
       "      <th>Gene4</th>\n",
       "      <th>Gene5</th>\n",
       "      <th>Gene6</th>\n",
       "    </tr>\n",
       "  </thead>\n",
       "  <tbody>\n",
       "    <tr>\n",
       "      <th>0</th>\n",
       "      <td>1</td>\n",
       "      <td>20</td>\n",
       "      <td>male</td>\n",
       "      <td>control</td>\n",
       "      <td>Control</td>\n",
       "      <td>950.444</td>\n",
       "      <td>5609.021</td>\n",
       "      <td>530.861</td>\n",
       "      <td>56.001</td>\n",
       "      <td>38.539</td>\n",
       "      <td>32.496</td>\n",
       "    </tr>\n",
       "    <tr>\n",
       "      <th>1</th>\n",
       "      <td>2</td>\n",
       "      <td>34</td>\n",
       "      <td>female</td>\n",
       "      <td>control</td>\n",
       "      <td>Control</td>\n",
       "      <td>728.066</td>\n",
       "      <td>3337.738</td>\n",
       "      <td>271.314</td>\n",
       "      <td>60.238</td>\n",
       "      <td>37.117</td>\n",
       "      <td>30.645</td>\n",
       "    </tr>\n",
       "    <tr>\n",
       "      <th>2</th>\n",
       "      <td>3</td>\n",
       "      <td>40</td>\n",
       "      <td>female</td>\n",
       "      <td>control</td>\n",
       "      <td>Control</td>\n",
       "      <td>1208.076</td>\n",
       "      <td>4430.424</td>\n",
       "      <td>520.859</td>\n",
       "      <td>67.374</td>\n",
       "      <td>41.698</td>\n",
       "      <td>29.476</td>\n",
       "    </tr>\n",
       "    <tr>\n",
       "      <th>3</th>\n",
       "      <td>4</td>\n",
       "      <td>31</td>\n",
       "      <td>male</td>\n",
       "      <td>control</td>\n",
       "      <td>Control</td>\n",
       "      <td>3426.842</td>\n",
       "      <td>6524.846</td>\n",
       "      <td>842.426</td>\n",
       "      <td>68.772</td>\n",
       "      <td>36.682</td>\n",
       "      <td>32.125</td>\n",
       "    </tr>\n",
       "    <tr>\n",
       "      <th>4</th>\n",
       "      <td>5</td>\n",
       "      <td>21</td>\n",
       "      <td>female</td>\n",
       "      <td>control</td>\n",
       "      <td>Control</td>\n",
       "      <td>3781.265</td>\n",
       "      <td>7916.231</td>\n",
       "      <td>574.768</td>\n",
       "      <td>70.522</td>\n",
       "      <td>34.877</td>\n",
       "      <td>27.416</td>\n",
       "    </tr>\n",
       "    <tr>\n",
       "      <th>5</th>\n",
       "      <td>6</td>\n",
       "      <td>43</td>\n",
       "      <td>male</td>\n",
       "      <td>control</td>\n",
       "      <td>Control</td>\n",
       "      <td>1703.384</td>\n",
       "      <td>4357.178</td>\n",
       "      <td>353.565</td>\n",
       "      <td>65.353</td>\n",
       "      <td>49.992</td>\n",
       "      <td>30.783</td>\n",
       "    </tr>\n",
       "    <tr>\n",
       "      <th>6</th>\n",
       "      <td>7</td>\n",
       "      <td>18</td>\n",
       "      <td>female</td>\n",
       "      <td>control</td>\n",
       "      <td>Control</td>\n",
       "      <td>1502.371</td>\n",
       "      <td>3193.682</td>\n",
       "      <td>401.264</td>\n",
       "      <td>77.627</td>\n",
       "      <td>42.537</td>\n",
       "      <td>24.348</td>\n",
       "    </tr>\n",
       "    <tr>\n",
       "      <th>7</th>\n",
       "      <td>8</td>\n",
       "      <td>26</td>\n",
       "      <td>male</td>\n",
       "      <td>control</td>\n",
       "      <td>Control</td>\n",
       "      <td>1388.631</td>\n",
       "      <td>4444.465</td>\n",
       "      <td>253.831</td>\n",
       "      <td>66.540</td>\n",
       "      <td>40.037</td>\n",
       "      <td>34.706</td>\n",
       "    </tr>\n",
       "    <tr>\n",
       "      <th>8</th>\n",
       "      <td>9</td>\n",
       "      <td>29</td>\n",
       "      <td>female</td>\n",
       "      <td>88: Other (specify)</td>\n",
       "      <td>Control</td>\n",
       "      <td>1042.387</td>\n",
       "      <td>4655.064</td>\n",
       "      <td>406.189</td>\n",
       "      <td>68.843</td>\n",
       "      <td>37.599</td>\n",
       "      <td>33.580</td>\n",
       "    </tr>\n",
       "    <tr>\n",
       "      <th>9</th>\n",
       "      <td>10</td>\n",
       "      <td>31</td>\n",
       "      <td>male</td>\n",
       "      <td>06: Home</td>\n",
       "      <td>Control</td>\n",
       "      <td>2132.907</td>\n",
       "      <td>4355.431</td>\n",
       "      <td>598.725</td>\n",
       "      <td>67.033</td>\n",
       "      <td>46.335</td>\n",
       "      <td>24.663</td>\n",
       "    </tr>\n",
       "    <tr>\n",
       "      <th>10</th>\n",
       "      <td>11</td>\n",
       "      <td>50</td>\n",
       "      <td>male</td>\n",
       "      <td>09: Death</td>\n",
       "      <td>Patient</td>\n",
       "      <td>15494.843</td>\n",
       "      <td>16961.662</td>\n",
       "      <td>11995.318</td>\n",
       "      <td>129.001</td>\n",
       "      <td>42.332</td>\n",
       "      <td>37.569</td>\n",
       "    </tr>\n",
       "    <tr>\n",
       "      <th>11</th>\n",
       "      <td>12</td>\n",
       "      <td>21</td>\n",
       "      <td>male</td>\n",
       "      <td>06: Home</td>\n",
       "      <td>Patient</td>\n",
       "      <td>11552.082</td>\n",
       "      <td>15188.086</td>\n",
       "      <td>6865.925</td>\n",
       "      <td>65.618</td>\n",
       "      <td>43.052</td>\n",
       "      <td>29.758</td>\n",
       "    </tr>\n",
       "    <tr>\n",
       "      <th>12</th>\n",
       "      <td>13</td>\n",
       "      <td>34</td>\n",
       "      <td>male</td>\n",
       "      <td>02: Skilled nursing facility</td>\n",
       "      <td>Patient</td>\n",
       "      <td>10715.555</td>\n",
       "      <td>9251.250</td>\n",
       "      <td>5222.819</td>\n",
       "      <td>72.452</td>\n",
       "      <td>40.345</td>\n",
       "      <td>32.355</td>\n",
       "    </tr>\n",
       "    <tr>\n",
       "      <th>13</th>\n",
       "      <td>14</td>\n",
       "      <td>33</td>\n",
       "      <td>female</td>\n",
       "      <td>01: Inpatient rehabilitation facility</td>\n",
       "      <td>Patient</td>\n",
       "      <td>18198.984</td>\n",
       "      <td>21313.277</td>\n",
       "      <td>12692.989</td>\n",
       "      <td>89.830</td>\n",
       "      <td>42.024</td>\n",
       "      <td>32.864</td>\n",
       "    </tr>\n",
       "    <tr>\n",
       "      <th>14</th>\n",
       "      <td>15</td>\n",
       "      <td>26</td>\n",
       "      <td>male</td>\n",
       "      <td>02: Skilled nursing facility</td>\n",
       "      <td>Patient</td>\n",
       "      <td>14710.218</td>\n",
       "      <td>18082.855</td>\n",
       "      <td>7494.986</td>\n",
       "      <td>107.252</td>\n",
       "      <td>50.554</td>\n",
       "      <td>34.681</td>\n",
       "    </tr>\n",
       "    <tr>\n",
       "      <th>15</th>\n",
       "      <td>16</td>\n",
       "      <td>21</td>\n",
       "      <td>male</td>\n",
       "      <td>88: Other (specify)</td>\n",
       "      <td>Patient</td>\n",
       "      <td>14459.366</td>\n",
       "      <td>19545.643</td>\n",
       "      <td>9714.643</td>\n",
       "      <td>85.327</td>\n",
       "      <td>44.578</td>\n",
       "      <td>34.875</td>\n",
       "    </tr>\n",
       "    <tr>\n",
       "      <th>16</th>\n",
       "      <td>17</td>\n",
       "      <td>47</td>\n",
       "      <td>male</td>\n",
       "      <td>02: Skilled nursing facility</td>\n",
       "      <td>Patient</td>\n",
       "      <td>14548.644</td>\n",
       "      <td>19663.951</td>\n",
       "      <td>8879.405</td>\n",
       "      <td>73.529</td>\n",
       "      <td>36.102</td>\n",
       "      <td>33.445</td>\n",
       "    </tr>\n",
       "    <tr>\n",
       "      <th>17</th>\n",
       "      <td>18</td>\n",
       "      <td>40</td>\n",
       "      <td>male</td>\n",
       "      <td>09: Death</td>\n",
       "      <td>Patient</td>\n",
       "      <td>15661.511</td>\n",
       "      <td>18217.162</td>\n",
       "      <td>6390.778</td>\n",
       "      <td>86.948</td>\n",
       "      <td>51.013</td>\n",
       "      <td>32.258</td>\n",
       "    </tr>\n",
       "    <tr>\n",
       "      <th>18</th>\n",
       "      <td>19</td>\n",
       "      <td>48</td>\n",
       "      <td>female</td>\n",
       "      <td>01: Inpatient rehabilitation facility</td>\n",
       "      <td>Patient</td>\n",
       "      <td>11133.813</td>\n",
       "      <td>13610.244</td>\n",
       "      <td>7114.876</td>\n",
       "      <td>84.882</td>\n",
       "      <td>49.488</td>\n",
       "      <td>25.497</td>\n",
       "    </tr>\n",
       "    <tr>\n",
       "      <th>19</th>\n",
       "      <td>20</td>\n",
       "      <td>45</td>\n",
       "      <td>male</td>\n",
       "      <td>02: Skilled nursing facility</td>\n",
       "      <td>Patient</td>\n",
       "      <td>12642.160</td>\n",
       "      <td>13577.802</td>\n",
       "      <td>7925.469</td>\n",
       "      <td>95.027</td>\n",
       "      <td>41.377</td>\n",
       "      <td>29.546</td>\n",
       "    </tr>\n",
       "  </tbody>\n",
       "</table>\n",
       "</div>"
      ],
      "text/plain": [
       "    Patient_id  Age     Sex                                 Result    Group  \\\n",
       "0            1   20    male                                control  Control   \n",
       "1            2   34  female                                control  Control   \n",
       "2            3   40  female                                control  Control   \n",
       "3            4   31    male                                control  Control   \n",
       "4            5   21  female                                control  Control   \n",
       "5            6   43    male                                control  Control   \n",
       "6            7   18  female                                control  Control   \n",
       "7            8   26    male                                control  Control   \n",
       "8            9   29  female                    88: Other (specify)  Control   \n",
       "9           10   31    male                               06: Home  Control   \n",
       "10          11   50    male                              09: Death  Patient   \n",
       "11          12   21    male                               06: Home  Patient   \n",
       "12          13   34    male           02: Skilled nursing facility  Patient   \n",
       "13          14   33  female  01: Inpatient rehabilitation facility  Patient   \n",
       "14          15   26    male           02: Skilled nursing facility  Patient   \n",
       "15          16   21    male                    88: Other (specify)  Patient   \n",
       "16          17   47    male           02: Skilled nursing facility  Patient   \n",
       "17          18   40    male                              09: Death  Patient   \n",
       "18          19   48  female  01: Inpatient rehabilitation facility  Patient   \n",
       "19          20   45    male           02: Skilled nursing facility  Patient   \n",
       "\n",
       "        Gene1      Gene2      Gene3    Gene4   Gene5   Gene6  \n",
       "0     950.444   5609.021    530.861   56.001  38.539  32.496  \n",
       "1     728.066   3337.738    271.314   60.238  37.117  30.645  \n",
       "2    1208.076   4430.424    520.859   67.374  41.698  29.476  \n",
       "3    3426.842   6524.846    842.426   68.772  36.682  32.125  \n",
       "4    3781.265   7916.231    574.768   70.522  34.877  27.416  \n",
       "5    1703.384   4357.178    353.565   65.353  49.992  30.783  \n",
       "6    1502.371   3193.682    401.264   77.627  42.537  24.348  \n",
       "7    1388.631   4444.465    253.831   66.540  40.037  34.706  \n",
       "8    1042.387   4655.064    406.189   68.843  37.599  33.580  \n",
       "9    2132.907   4355.431    598.725   67.033  46.335  24.663  \n",
       "10  15494.843  16961.662  11995.318  129.001  42.332  37.569  \n",
       "11  11552.082  15188.086   6865.925   65.618  43.052  29.758  \n",
       "12  10715.555   9251.250   5222.819   72.452  40.345  32.355  \n",
       "13  18198.984  21313.277  12692.989   89.830  42.024  32.864  \n",
       "14  14710.218  18082.855   7494.986  107.252  50.554  34.681  \n",
       "15  14459.366  19545.643   9714.643   85.327  44.578  34.875  \n",
       "16  14548.644  19663.951   8879.405   73.529  36.102  33.445  \n",
       "17  15661.511  18217.162   6390.778   86.948  51.013  32.258  \n",
       "18  11133.813  13610.244   7114.876   84.882  49.488  25.497  \n",
       "19  12642.160  13577.802   7925.469   95.027  41.377  29.546  "
      ]
     },
     "execution_count": 1,
     "metadata": {},
     "output_type": "execute_result"
    }
   ],
   "source": [
    "import pandas as pd\n",
    "import numpy as np\n",
    "from IPython.display import display, HTML\n",
    "from IPython.core.display import Image, display\n",
    "\n",
    "CSS = \"\"\"\n",
    ".output {\n",
    "    flex-direction: row;\n",
    "}\n",
    "\"\"\"\n",
    "\n",
    "patient_data = pd.read_csv(\"../data/Exercises_Summary_Statistics_Data.csv\")\n",
    "\n",
    "patient_data.head(n=20)"
   ]
  },
  {
   "cell_type": "markdown",
   "metadata": {},
   "source": [
    "# Exercise 1 - Lets get a quick look at the groups\n",
    "\n",
    "Ok, first lets get a quick look at who is in each of the groups. In medical studies it's important that the control and patient groups aren't too different from each other, so that we can draw relevant results.\n",
    "\n",
    "### Separate the patients and control into 2 dataframes\n",
    "Since we are going to perform multiple statistics on the patient and control groups, we should create a variable for each one of the groups, so that we mantain our code readable!\n",
    "\n",
    "_Remember:_ If you want to subset the comand is: Name_of_dataframe[Name_of_dataframe.column == \"Value\"]"
   ]
  },
  {
   "cell_type": "code",
   "execution_count": 2,
   "metadata": {
    "collapsed": true
   },
   "outputs": [],
   "source": [
    "patients = patient_data[patient_data['Group']!='Control']\n",
    "control = patient_data[patient_data['Group']=='Control']\n"
   ]
  },
  {
   "cell_type": "markdown",
   "metadata": {},
   "source": [
    "### Find out the Age means for each of the groups\n",
    "_Remember_: To find the mean of a dataframe column, just use Name_of_dataframe.column.mean()"
   ]
  },
  {
   "cell_type": "code",
   "execution_count": 3,
   "metadata": {
    "collapsed": false
   },
   "outputs": [
    {
     "name": "stdout",
     "output_type": "stream",
     "text": [
      "The patient mean age is: 33.6455696203 and the control mean age is: 29.8846153846 \t\n"
     ]
    }
   ],
   "source": [
    "patient_mean = patients.Age.mean()\n",
    "control_mean = control.Age.mean()\n",
    "\n",
    "print(\"The patient mean age is:\", patient_mean, \"and the control mean age is:\", control_mean, \"\\t\")"
   ]
  },
  {
   "cell_type": "markdown",
   "metadata": {},
   "source": [
    "### Find the Median of each group\n",
    "As seen on the presentation, the mean can affected by outliers on the data, lets check that out with the median.\n",
    "\n",
    "_Remember_: To find the median of a dataframecolumn, just use Name_of_dataframe.column.median()"
   ]
  },
  {
   "cell_type": "code",
   "execution_count": 4,
   "metadata": {
    "collapsed": false
   },
   "outputs": [
    {
     "name": "stdout",
     "output_type": "stream",
     "text": [
      "The patient median age is: 33.0 and the control median age is: 28.0 \t\n"
     ]
    }
   ],
   "source": [
    "patient_median = patients.Age.median()\n",
    "control_median = control.Age.median()\n",
    "\n",
    "print(\"The patient median age is:\", patient_median, \"and the control median age is:\", control_median, \"\\t\")"
   ]
  },
  {
   "cell_type": "markdown",
   "metadata": {},
   "source": [
    "### Results - Mean / Median\n",
    "Is there a significant difference of the mean and median?"
   ]
  },
  {
   "cell_type": "raw",
   "metadata": {},
   "source": []
  },
  {
   "cell_type": "markdown",
   "metadata": {},
   "source": [
    "(_Optional_): Is there a significant difference between the age of the Patients and Control? Consider that this dataset is composed mainly of people injured using powertools or other type of machinery, therefore, it's composed mainly of people in working age 20-ish to 60-ish."
   ]
  },
  {
   "cell_type": "raw",
   "metadata": {},
   "source": []
  },
  {
   "cell_type": "markdown",
   "metadata": {},
   "source": [
    "### Find the Standard deviation of each group\n",
    "Let's see if there is a large deviation from the mean in each of the groups.\n",
    "\n",
    "_Remember:_ The standard deviation is taken as Name_of_dataframe.column.std()"
   ]
  },
  {
   "cell_type": "code",
   "execution_count": 5,
   "metadata": {
    "collapsed": false
   },
   "outputs": [
    {
     "name": "stdout",
     "output_type": "stream",
     "text": [
      "The patient std is: 11.1669872594 and the control std is: 10.1953986605 \t\n"
     ]
    }
   ],
   "source": [
    "patient_std = patients.Age.std()\n",
    "control_std = control.Age.std()\n",
    "\n",
    "print(\"The patient std is:\", patient_std, \"and the control std is:\", control_std, \"\\t\")"
   ]
  },
  {
   "cell_type": "markdown",
   "metadata": {},
   "source": [
    "### Find the quantiles\n",
    "Let's use the quantiles to obtain the dispersion of the groups. Get the 0, 0.25, 0.5, 0.75 and 1 quantiles.\n",
    "\n",
    "_Remember:_ The quantiles are obtained using the comand Name_of_dataframe.column.quantile(q=[percentages])"
   ]
  },
  {
   "cell_type": "code",
   "execution_count": 6,
   "metadata": {
    "collapsed": false
   },
   "outputs": [
    {
     "name": "stdout",
     "output_type": "stream",
     "text": [
      "Patients:\f",
      "\n"
     ]
    },
    {
     "data": {
      "text/html": [
       "<div>\n",
       "<table border=\"1\" class=\"dataframe\">\n",
       "  <thead>\n",
       "    <tr style=\"text-align: right;\">\n",
       "      <th></th>\n",
       "      <th>Age</th>\n",
       "    </tr>\n",
       "  </thead>\n",
       "  <tbody>\n",
       "    <tr>\n",
       "      <th>0.00</th>\n",
       "      <td>16.0</td>\n",
       "    </tr>\n",
       "    <tr>\n",
       "      <th>0.25</th>\n",
       "      <td>24.0</td>\n",
       "    </tr>\n",
       "    <tr>\n",
       "      <th>0.50</th>\n",
       "      <td>33.0</td>\n",
       "    </tr>\n",
       "    <tr>\n",
       "      <th>0.75</th>\n",
       "      <td>43.0</td>\n",
       "    </tr>\n",
       "    <tr>\n",
       "      <th>1.00</th>\n",
       "      <td>55.0</td>\n",
       "    </tr>\n",
       "  </tbody>\n",
       "</table>\n",
       "</div>"
      ],
      "text/plain": [
       "       Age\n",
       "0.00  16.0\n",
       "0.25  24.0\n",
       "0.50  33.0\n",
       "0.75  43.0\n",
       "1.00  55.0"
      ]
     },
     "metadata": {},
     "output_type": "display_data"
    },
    {
     "name": "stdout",
     "output_type": "stream",
     "text": [
      "Control:\f",
      "\n"
     ]
    },
    {
     "data": {
      "text/html": [
       "<div>\n",
       "<table border=\"1\" class=\"dataframe\">\n",
       "  <thead>\n",
       "    <tr style=\"text-align: right;\">\n",
       "      <th></th>\n",
       "      <th>Age</th>\n",
       "    </tr>\n",
       "  </thead>\n",
       "  <tbody>\n",
       "    <tr>\n",
       "      <th>0.00</th>\n",
       "      <td>17.0</td>\n",
       "    </tr>\n",
       "    <tr>\n",
       "      <th>0.25</th>\n",
       "      <td>21.5</td>\n",
       "    </tr>\n",
       "    <tr>\n",
       "      <th>0.50</th>\n",
       "      <td>28.0</td>\n",
       "    </tr>\n",
       "    <tr>\n",
       "      <th>0.75</th>\n",
       "      <td>34.0</td>\n",
       "    </tr>\n",
       "    <tr>\n",
       "      <th>1.00</th>\n",
       "      <td>54.0</td>\n",
       "    </tr>\n",
       "  </tbody>\n",
       "</table>\n",
       "</div>"
      ],
      "text/plain": [
       "       Age\n",
       "0.00  17.0\n",
       "0.25  21.5\n",
       "0.50  28.0\n",
       "0.75  34.0\n",
       "1.00  54.0"
      ]
     },
     "metadata": {},
     "output_type": "display_data"
    },
    {
     "data": {
      "text/html": [
       "<style>\n",
       ".output {\n",
       "    flex-direction: row;\n",
       "}\n",
       "</style>"
      ],
      "text/plain": [
       "<IPython.core.display.HTML object>"
      ]
     },
     "execution_count": 6,
     "metadata": {},
     "output_type": "execute_result"
    }
   ],
   "source": [
    "patient_quantiles = patients.Age.quantile(q=[ 0, 0.25, 0.5, 0.75 , 1])\n",
    "control_quantiles = control.Age.quantile(q=[ 0, 0.25, 0.5, 0.75 , 1])\n",
    "print(\"Patients:\\f\")\n",
    "display(pd.DataFrame(patient_quantiles))\n",
    "print(\"Control:\\f\")\n",
    "display(pd.DataFrame(control_quantiles))\n",
    "HTML('<style>{}</style>'.format(CSS))"
   ]
  },
  {
   "cell_type": "markdown",
   "metadata": {},
   "source": [
    "### Results - Interval Statistics"
   ]
  },
  {
   "cell_type": "markdown",
   "metadata": {},
   "source": [
    "(_Options_): Do the dispersion statistics show a significant difference in the dispersion of the data?"
   ]
  },
  {
   "cell_type": "raw",
   "metadata": {},
   "source": []
  },
  {
   "cell_type": "markdown",
   "metadata": {},
   "source": [
    "### Find out how many patients are male and how many are female\n",
    "\n",
    "Next, let's try to find out the number or each of the sexes and the prercantage of males in each of the groups.\n",
    "\n",
    "_Remember:_ To get a frequency table, use Name_of_dataframe.column.value_counts(). To one way to get the number of a certain group do Name_of_dataframe.column.value_counts()[\"name_of_group\"]\n",
    "\n",
    "#### Number of male patients"
   ]
  },
  {
   "cell_type": "code",
   "execution_count": 8,
   "metadata": {
    "collapsed": false
   },
   "outputs": [
    {
     "name": "stdout",
     "output_type": "stream",
     "text": [
      "The number of male patients is: 98 \n",
      "The number of female patients is: 60 \n",
      "And the percentage of males is: 0.620253164557 \t\n"
     ]
    }
   ],
   "source": [
    "num_male_patients = patients[patients['Sex']=='male'].count()['Sex']\n",
    "num_female_patients = patients[patients['Sex']=='female'].count()['Sex']\n",
    "\n",
    "print(\"The number of male patients is:\", num_male_patients, \\\n",
    "      \"\\nThe number of female patients is:\", num_female_patients, \\\n",
    "      \"\\nAnd the percentage of males is:\", num_male_patients / (num_male_patients + num_female_patients), \"\\t\")"
   ]
  },
  {
   "cell_type": "markdown",
   "metadata": {},
   "source": [
    "#### Number of male *control* patients"
   ]
  },
  {
   "cell_type": "code",
   "execution_count": 9,
   "metadata": {
    "collapsed": false
   },
   "outputs": [
    {
     "name": "stdout",
     "output_type": "stream",
     "text": [
      "The number of male control patients is: 17 \n",
      "The number of female control patients is: 9 \n",
      "And the percentage of males is: 0.653846153846 \t\n"
     ]
    }
   ],
   "source": [
    "num_male_control = control[control['Sex']=='male'].count()['Sex']\n",
    "num_female_control = control[control['Sex']=='female'].count()['Sex']\n",
    "\n",
    "print(\"The number of male control patients is:\", num_male_control, \\\n",
    "      \"\\nThe number of female control patients is:\", num_female_control, \\\n",
    "      \"\\nAnd the percentage of males is:\", num_male_control / (num_male_control + num_female_control), \"\\t\")"
   ]
  },
  {
   "cell_type": "markdown",
   "metadata": {},
   "source": [
    "## Results - Percentage of the sexes\n",
    "(_Optional_): Is there a significant difference between the percentage of male patients and male control patients?"
   ]
  },
  {
   "cell_type": "raw",
   "metadata": {},
   "source": []
  },
  {
   "cell_type": "markdown",
   "metadata": {},
   "source": [
    "# Exercise 2 - Let the Biostatistics begin\n",
    "\n",
    "I have selected 6 genes from a total of ~55000. The objective here is for you to try to find genes that are different from the patient group and control group using the tools that you learned on exercise 1.\n",
    "\n",
    "### Gene 1"
   ]
  },
  {
   "cell_type": "code",
   "execution_count": 10,
   "metadata": {
    "collapsed": false
   },
   "outputs": [
    {
     "name": "stdout",
     "output_type": "stream",
     "text": [
      "Patients: Mean = 13676.3952658 Median = 13555.230500000001 Std = 3092.69814423 \t\n",
      "Control:  Mean = 1156.07392308 Median = 947.1095 Std = 854.975520722 \t\n"
     ]
    }
   ],
   "source": [
    "gene1_patients = patients.Gene1\n",
    "gene1_control = control.Gene1\n",
    "\n",
    "# Mean\n",
    "mean_gene1_patients = patients.Gene1.mean()\n",
    "mean_gene1_control = control.Gene1.mean()\n",
    "\n",
    "# Median\n",
    "median_gene1_patients = patients.Gene1.median()\n",
    "median_gene1_control = control.Gene1.median()\n",
    "\n",
    "# Std\n",
    "std_gene1_patients = patients.Gene1.std()\n",
    "std_gene1_control = control.Gene1.std()\n",
    "\n",
    "print(\"Patients: Mean =\", mean_gene1_patients, \"Median =\", median_gene1_patients, \"Std =\", std_gene1_patients, \"\\t\")\n",
    "print(\"Control:  Mean =\", mean_gene1_control, \"Median =\", median_gene1_control, \"Std =\", std_gene1_control, \"\\t\")"
   ]
  },
  {
   "cell_type": "markdown",
   "metadata": {},
   "source": [
    "### Gene 2"
   ]
  },
  {
   "cell_type": "code",
   "execution_count": 11,
   "metadata": {
    "collapsed": false
   },
   "outputs": [
    {
     "name": "stdout",
     "output_type": "stream",
     "text": [
      "Patients: Mean = 16955.4325 Median = 17023.491 Std = 2743.73048829 \t\n",
      "Control:  Mean = 3439.741 Median = 3067.3015 Std = 1549.33554924 \t\n"
     ]
    }
   ],
   "source": [
    "gene2_patients = patients.Gene2\n",
    "gene2_control = control.Gene2\n",
    "\n",
    "# Mean\n",
    "mean_gene2_patients = patients.Gene2.mean()\n",
    "mean_gene2_control = control.Gene2.mean()\n",
    "\n",
    "# Median\n",
    "median_gene2_patients = patients.Gene2.median()\n",
    "median_gene2_control = control.Gene2.median()\n",
    "\n",
    "# Std\n",
    "std_gene2_patients = patients.Gene2.std()\n",
    "std_gene2_control = control.Gene2.std()\n",
    "\n",
    "print(\"Patients: Mean =\", mean_gene2_patients, \"Median =\", median_gene2_patients, \"Std =\", std_gene2_patients, \"\\t\")\n",
    "print(\"Control:  Mean =\", mean_gene2_control, \"Median =\", median_gene2_control, \"Std =\", std_gene2_control, \"\\t\")"
   ]
  },
  {
   "cell_type": "markdown",
   "metadata": {},
   "source": [
    "I will just **ask for one more gene**, since the process is entirely the same!\n",
    "\n",
    "### Gene 6"
   ]
  },
  {
   "cell_type": "code",
   "execution_count": 13,
   "metadata": {
    "collapsed": false
   },
   "outputs": [
    {
     "name": "stdout",
     "output_type": "stream",
     "text": [
      "Patients: Mean = 30.2401898734 Median = 29.8615 Std = 4.90305300853 \t\n",
      "Control:  Mean = 30.0185384615 Median = 29.8885 Std = 3.68313407012 \t\n"
     ]
    }
   ],
   "source": [
    "gene6_patients = patients.Gene6\n",
    "gene6_control = control.Gene6\n",
    "\n",
    "# Mean\n",
    "mean_gene6_patients = patients.Gene6.mean()\n",
    "mean_gene6_control = control.Gene6.mean()\n",
    "\n",
    "# Median\n",
    "median_gene6_patients = patients.Gene6.median()\n",
    "median_gene6_control = control.Gene6.median()\n",
    "\n",
    "# Std\n",
    "std_gene6_patients = patients.Gene6.std()\n",
    "std_gene6_control = control.Gene6.std()\n",
    "\n",
    "print(\"Patients: Mean =\", mean_gene6_patients, \"Median =\", median_gene6_patients, \"Std =\", std_gene6_patients, \"\\t\")\n",
    "print(\"Control:  Mean =\", mean_gene6_control, \"Median =\", median_gene6_control, \"Std =\", std_gene6_control, \"\\t\")"
   ]
  },
  {
   "cell_type": "markdown",
   "metadata": {},
   "source": [
    "### Results - Genes 1, 2 and 6\n",
    "\n",
    "Of the 3 genes, which ones do you believe are involved in the process of recovery?\n",
    "\n",
    "_Help:_ Recall that we have 2 groups, a group of patients that is recovering from a severe accident and a control group that are fine. You should look at the statistics for the 3 genes (mean, median and standard deviation [this last one is skippable]) and try to find differences!"
   ]
  },
  {
   "cell_type": "code",
   "execution_count": null,
   "metadata": {
    "collapsed": true
   },
   "outputs": [],
   "source": []
  },
  {
   "cell_type": "markdown",
   "metadata": {},
   "source": [
    "## Can we do this without so much code?\n",
    "\n",
    "Can we obtain the previous statistics for the 6 genes without all the effort?\n",
    "\n",
    "_Remember:_ Have u checked out the .describe() method? "
   ]
  },
  {
   "cell_type": "code",
   "execution_count": 15,
   "metadata": {
    "collapsed": false
   },
   "outputs": [
    {
     "data": {
      "text/html": [
       "<div>\n",
       "<table border=\"1\" class=\"dataframe\">\n",
       "  <thead>\n",
       "    <tr style=\"text-align: right;\">\n",
       "      <th></th>\n",
       "      <th>Gene1</th>\n",
       "      <th>Gene2</th>\n",
       "      <th>Gene3</th>\n",
       "      <th>Gene4</th>\n",
       "      <th>Gene5</th>\n",
       "      <th>Gene6</th>\n",
       "    </tr>\n",
       "  </thead>\n",
       "  <tbody>\n",
       "    <tr>\n",
       "      <th>count</th>\n",
       "      <td>158.000000</td>\n",
       "      <td>158.000000</td>\n",
       "      <td>158.000000</td>\n",
       "      <td>158.000000</td>\n",
       "      <td>158.000000</td>\n",
       "      <td>158.000000</td>\n",
       "    </tr>\n",
       "    <tr>\n",
       "      <th>mean</th>\n",
       "      <td>13676.395266</td>\n",
       "      <td>16955.432500</td>\n",
       "      <td>8545.115209</td>\n",
       "      <td>88.850810</td>\n",
       "      <td>40.589082</td>\n",
       "      <td>30.240190</td>\n",
       "    </tr>\n",
       "    <tr>\n",
       "      <th>std</th>\n",
       "      <td>3092.698144</td>\n",
       "      <td>2743.730488</td>\n",
       "      <td>2468.762672</td>\n",
       "      <td>93.839906</td>\n",
       "      <td>4.982023</td>\n",
       "      <td>4.903053</td>\n",
       "    </tr>\n",
       "    <tr>\n",
       "      <th>min</th>\n",
       "      <td>4216.792000</td>\n",
       "      <td>9000.672000</td>\n",
       "      <td>2076.031000</td>\n",
       "      <td>57.577000</td>\n",
       "      <td>29.299000</td>\n",
       "      <td>20.265000</td>\n",
       "    </tr>\n",
       "    <tr>\n",
       "      <th>25%</th>\n",
       "      <td>12070.063000</td>\n",
       "      <td>15299.686750</td>\n",
       "      <td>7216.896000</td>\n",
       "      <td>73.195250</td>\n",
       "      <td>37.408500</td>\n",
       "      <td>26.898750</td>\n",
       "    </tr>\n",
       "    <tr>\n",
       "      <th>50%</th>\n",
       "      <td>13555.230500</td>\n",
       "      <td>17023.491000</td>\n",
       "      <td>8901.650500</td>\n",
       "      <td>80.864500</td>\n",
       "      <td>40.286500</td>\n",
       "      <td>29.861500</td>\n",
       "    </tr>\n",
       "    <tr>\n",
       "      <th>75%</th>\n",
       "      <td>15900.685750</td>\n",
       "      <td>18742.657750</td>\n",
       "      <td>10240.829000</td>\n",
       "      <td>87.737750</td>\n",
       "      <td>43.019000</td>\n",
       "      <td>33.386000</td>\n",
       "    </tr>\n",
       "    <tr>\n",
       "      <th>max</th>\n",
       "      <td>21642.619000</td>\n",
       "      <td>23432.793000</td>\n",
       "      <td>13809.735000</td>\n",
       "      <td>1252.313000</td>\n",
       "      <td>54.990000</td>\n",
       "      <td>56.933000</td>\n",
       "    </tr>\n",
       "  </tbody>\n",
       "</table>\n",
       "</div>"
      ],
      "text/plain": [
       "              Gene1         Gene2         Gene3        Gene4       Gene5  \\\n",
       "count    158.000000    158.000000    158.000000   158.000000  158.000000   \n",
       "mean   13676.395266  16955.432500   8545.115209    88.850810   40.589082   \n",
       "std     3092.698144   2743.730488   2468.762672    93.839906    4.982023   \n",
       "min     4216.792000   9000.672000   2076.031000    57.577000   29.299000   \n",
       "25%    12070.063000  15299.686750   7216.896000    73.195250   37.408500   \n",
       "50%    13555.230500  17023.491000   8901.650500    80.864500   40.286500   \n",
       "75%    15900.685750  18742.657750  10240.829000    87.737750   43.019000   \n",
       "max    21642.619000  23432.793000  13809.735000  1252.313000   54.990000   \n",
       "\n",
       "            Gene6  \n",
       "count  158.000000  \n",
       "mean    30.240190  \n",
       "std      4.903053  \n",
       "min     20.265000  \n",
       "25%     26.898750  \n",
       "50%     29.861500  \n",
       "75%     33.386000  \n",
       "max     56.933000  "
      ]
     },
     "metadata": {},
     "output_type": "display_data"
    },
    {
     "data": {
      "text/html": [
       "<div>\n",
       "<table border=\"1\" class=\"dataframe\">\n",
       "  <thead>\n",
       "    <tr style=\"text-align: right;\">\n",
       "      <th></th>\n",
       "      <th>Gene1</th>\n",
       "      <th>Gene2</th>\n",
       "      <th>Gene3</th>\n",
       "      <th>Gene4</th>\n",
       "      <th>Gene5</th>\n",
       "      <th>Gene6</th>\n",
       "    </tr>\n",
       "  </thead>\n",
       "  <tbody>\n",
       "    <tr>\n",
       "      <th>count</th>\n",
       "      <td>26.000000</td>\n",
       "      <td>26.000000</td>\n",
       "      <td>26.000000</td>\n",
       "      <td>26.000000</td>\n",
       "      <td>26.000000</td>\n",
       "      <td>26.000000</td>\n",
       "    </tr>\n",
       "    <tr>\n",
       "      <th>mean</th>\n",
       "      <td>1156.073923</td>\n",
       "      <td>3439.741000</td>\n",
       "      <td>469.361115</td>\n",
       "      <td>67.455538</td>\n",
       "      <td>40.434962</td>\n",
       "      <td>30.018538</td>\n",
       "    </tr>\n",
       "    <tr>\n",
       "      <th>std</th>\n",
       "      <td>854.975521</td>\n",
       "      <td>1549.335549</td>\n",
       "      <td>146.219868</td>\n",
       "      <td>6.643712</td>\n",
       "      <td>4.406569</td>\n",
       "      <td>3.683134</td>\n",
       "    </tr>\n",
       "    <tr>\n",
       "      <th>min</th>\n",
       "      <td>308.670000</td>\n",
       "      <td>1729.328000</td>\n",
       "      <td>253.831000</td>\n",
       "      <td>52.941000</td>\n",
       "      <td>34.290000</td>\n",
       "      <td>23.870000</td>\n",
       "    </tr>\n",
       "    <tr>\n",
       "      <th>25%</th>\n",
       "      <td>659.561000</td>\n",
       "      <td>2273.990000</td>\n",
       "      <td>388.347500</td>\n",
       "      <td>63.032500</td>\n",
       "      <td>37.237500</td>\n",
       "      <td>28.234250</td>\n",
       "    </tr>\n",
       "    <tr>\n",
       "      <th>50%</th>\n",
       "      <td>947.109500</td>\n",
       "      <td>3067.301500</td>\n",
       "      <td>428.851500</td>\n",
       "      <td>68.073000</td>\n",
       "      <td>39.957500</td>\n",
       "      <td>29.888500</td>\n",
       "    </tr>\n",
       "    <tr>\n",
       "      <th>75%</th>\n",
       "      <td>1343.492250</td>\n",
       "      <td>4356.741250</td>\n",
       "      <td>528.360500</td>\n",
       "      <td>70.778500</td>\n",
       "      <td>42.326250</td>\n",
       "      <td>32.834250</td>\n",
       "    </tr>\n",
       "    <tr>\n",
       "      <th>max</th>\n",
       "      <td>3781.265000</td>\n",
       "      <td>7916.231000</td>\n",
       "      <td>842.426000</td>\n",
       "      <td>81.252000</td>\n",
       "      <td>50.098000</td>\n",
       "      <td>38.250000</td>\n",
       "    </tr>\n",
       "  </tbody>\n",
       "</table>\n",
       "</div>"
      ],
      "text/plain": [
       "             Gene1        Gene2       Gene3      Gene4      Gene5      Gene6\n",
       "count    26.000000    26.000000   26.000000  26.000000  26.000000  26.000000\n",
       "mean   1156.073923  3439.741000  469.361115  67.455538  40.434962  30.018538\n",
       "std     854.975521  1549.335549  146.219868   6.643712   4.406569   3.683134\n",
       "min     308.670000  1729.328000  253.831000  52.941000  34.290000  23.870000\n",
       "25%     659.561000  2273.990000  388.347500  63.032500  37.237500  28.234250\n",
       "50%     947.109500  3067.301500  428.851500  68.073000  39.957500  29.888500\n",
       "75%    1343.492250  4356.741250  528.360500  70.778500  42.326250  32.834250\n",
       "max    3781.265000  7916.231000  842.426000  81.252000  50.098000  38.250000"
      ]
     },
     "metadata": {},
     "output_type": "display_data"
    }
   ],
   "source": [
    "gene_names = [\"Gene1\", \"Gene2\", \"Gene3\", \"Gene4\", \"Gene5\", \"Gene6\"]\n",
    "\n",
    "display(patients[gene_names].describe())\n",
    "display(control[gene_names].describe())"
   ]
  },
  {
   "cell_type": "markdown",
   "metadata": {},
   "source": [
    "What if we want the a measure of difference for each gene?"
   ]
  },
  {
   "cell_type": "code",
   "execution_count": 16,
   "metadata": {
    "collapsed": false
   },
   "outputs": [
    {
     "data": {
      "text/plain": [
       "Gene1    11.830035\n",
       "Gene2     4.929276\n",
       "Gene3    18.205844\n",
       "Gene4     1.317176\n",
       "Gene5     1.003812\n",
       "Gene6     1.007384\n",
       "dtype: float64"
      ]
     },
     "metadata": {},
     "output_type": "display_data"
    }
   ],
   "source": [
    "display(patients[gene_names].mean() / control[gene_names].mean() )"
   ]
  },
  {
   "cell_type": "code",
   "execution_count": null,
   "metadata": {
    "collapsed": true
   },
   "outputs": [],
   "source": []
  }
 ],
 "metadata": {
  "kernelspec": {
   "display_name": "Python 3",
   "language": "python",
   "name": "python3"
  },
  "language_info": {
   "codemirror_mode": {
    "name": "ipython",
    "version": 3
   },
   "file_extension": ".py",
   "mimetype": "text/x-python",
   "name": "python",
   "nbconvert_exporter": "python",
   "pygments_lexer": "ipython3",
   "version": "3.6.0"
  }
 },
 "nbformat": 4,
 "nbformat_minor": 2
}
