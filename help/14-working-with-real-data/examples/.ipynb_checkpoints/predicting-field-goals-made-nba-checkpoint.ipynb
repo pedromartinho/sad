{
 "cells": [
  {
   "cell_type": "markdown",
   "metadata": {},
   "source": [
    "# Predicting field goals made from NBA shot logs"
   ]
  },
  {
   "cell_type": "markdown",
   "metadata": {},
   "source": [
    "## 1 Imports"
   ]
  },
  {
   "cell_type": "markdown",
   "metadata": {},
   "source": [
    "We will state our imports, as usual. You will find that we are using the `preprocessing` module of `sklearn`, in addition to `pandas` and `numpy`."
   ]
  },
  {
   "cell_type": "code",
   "execution_count": 1,
   "metadata": {
    "collapsed": true
   },
   "outputs": [],
   "source": [
    "import pandas as pd \n",
    "import numpy  as np\n",
    "\n",
    "% matplotlib inline\n",
    "from matplotlib import pyplot as plt\n",
    "from sklearn import preprocessing as pp"
   ]
  },
  {
   "cell_type": "markdown",
   "metadata": {},
   "source": [
    "## 2 Read data"
   ]
  },
  {
   "cell_type": "markdown",
   "metadata": {},
   "source": [
    "Let's start by loading the data. For convenience, we will make all column names upper case, so we don't have to consider that throughout the analysis."
   ]
  },
  {
   "cell_type": "code",
   "execution_count": 2,
   "metadata": {
    "collapsed": true
   },
   "outputs": [],
   "source": [
    "def read_data(path, with_preview=False):\n",
    "    \n",
    "    data = pd.read_csv(path)\n",
    "    data.columns = data.columns.str.upper()\n",
    "    \n",
    "    return data\n",
    "\n",
    "\n",
    "data = read_data(\"../data/shot_logs.csv\")"
   ]
  },
  {
   "cell_type": "markdown",
   "metadata": {},
   "source": [
    "## 3 Extracting features from the `MATCHUP` column"
   ]
  },
  {
   "cell_type": "markdown",
   "metadata": {},
   "source": [
    "As in many real world problems, we have a column holding information about more than one feature.\n",
    "\n",
    "So we can use them throughout the example and the practice exercise we need to extract all the feature to separate columns."
   ]
  },
  {
   "cell_type": "code",
   "execution_count": 3,
   "metadata": {
    "collapsed": true
   },
   "outputs": [],
   "source": [
    "def extract_features(string):\n",
    "    \n",
    "    (date, string) = string.split('-')\n",
    "    \n",
    "    if '@' in string:\n",
    "        (away, home) = string.split('@')\n",
    "    if 'vs.' in string:\n",
    "        (away, home) = string.split('vs.')\n",
    "   \n",
    "    date = date.strip()\n",
    "    away = away.strip()\n",
    "    home = home.strip()\n",
    "    \n",
    "    return (date, away, home)\n",
    "    \n",
    "    \n",
    "def extract_date(string):\n",
    "    \n",
    "    features = extract_features(string)\n",
    "    \n",
    "    date = features[0]\n",
    "    date = pd.to_datetime(date)\n",
    "    date = date\n",
    "    \n",
    "    return date\n",
    "\n",
    "\n",
    "def extract_away_team(string):\n",
    "    \n",
    "    features = extract_features(string)\n",
    "    away = features[1]\n",
    "    \n",
    "    return away\n",
    "\n",
    "\n",
    "def extract_home_team(string):\n",
    "    \n",
    "    features = extract_features(string)\n",
    "    home = features[2]\n",
    "    \n",
    "    return home\n",
    "    \n",
    "    \n",
    "def expand_matchup_column(data, with_preview=False):\n",
    "    \n",
    "    data['MATCHUP_DATE']      = data['MATCHUP'].apply(extract_date)\n",
    "    data['MATCHUP_DATE']      = data['MATCHUP_DATE'].astype(np.int64) / int(1e6)\n",
    "    data['MATCHUP_AWAY_TEAM'] = data['MATCHUP'].apply(extract_away_team)\n",
    "    data['MATCHUP_HOME_TEAM'] = data['MATCHUP'].apply(extract_home_team)\n",
    "    \n",
    "    data = data.drop('MATCHUP', axis=1)\n",
    "    \n",
    "    return data\n",
    "\n",
    "\n",
    "data = expand_matchup_column(data)"
   ]
  },
  {
   "cell_type": "markdown",
   "metadata": {},
   "source": [
    "## 3 Dealing categorical features"
   ]
  },
  {
   "cell_type": "markdown",
   "metadata": {},
   "source": [
    "As you can see below, there are plenty of categorical features in our dataset.\n",
    "\n",
    "We will grab one of them, the `MATCHUP_AWAY_TEAM`, and perform different types of encoding on it, so you can get a sense of what they do."
   ]
  },
  {
   "cell_type": "code",
   "execution_count": 4,
   "metadata": {
    "collapsed": false
   },
   "outputs": [
    {
     "data": {
      "text/html": [
       "<div>\n",
       "<table border=\"1\" class=\"dataframe\">\n",
       "  <thead>\n",
       "    <tr style=\"text-align: right;\">\n",
       "      <th></th>\n",
       "      <th>GAME_ID</th>\n",
       "      <th>LOCATION</th>\n",
       "      <th>W</th>\n",
       "      <th>FINAL_MARGIN</th>\n",
       "      <th>SHOT_NUMBER</th>\n",
       "      <th>PERIOD</th>\n",
       "      <th>GAME_CLOCK</th>\n",
       "      <th>SHOT_CLOCK</th>\n",
       "      <th>DRIBBLES</th>\n",
       "      <th>TOUCH_TIME</th>\n",
       "      <th>...</th>\n",
       "      <th>CLOSEST_DEFENDER</th>\n",
       "      <th>CLOSEST_DEFENDER_PLAYER_ID</th>\n",
       "      <th>CLOSE_DEF_DIST</th>\n",
       "      <th>FGM</th>\n",
       "      <th>PTS</th>\n",
       "      <th>PLAYER_NAME</th>\n",
       "      <th>PLAYER_ID</th>\n",
       "      <th>MATCHUP_DATE</th>\n",
       "      <th>MATCHUP_AWAY_TEAM</th>\n",
       "      <th>MATCHUP_HOME_TEAM</th>\n",
       "    </tr>\n",
       "  </thead>\n",
       "  <tbody>\n",
       "    <tr>\n",
       "      <th>0</th>\n",
       "      <td>21400899</td>\n",
       "      <td>A</td>\n",
       "      <td>W</td>\n",
       "      <td>24</td>\n",
       "      <td>1</td>\n",
       "      <td>1</td>\n",
       "      <td>1:09</td>\n",
       "      <td>10.8</td>\n",
       "      <td>2</td>\n",
       "      <td>1.9</td>\n",
       "      <td>...</td>\n",
       "      <td>Anderson, Alan</td>\n",
       "      <td>101187</td>\n",
       "      <td>1.3</td>\n",
       "      <td>1</td>\n",
       "      <td>2</td>\n",
       "      <td>brian roberts</td>\n",
       "      <td>203148</td>\n",
       "      <td>1.425427e+12</td>\n",
       "      <td>CHA</td>\n",
       "      <td>BKN</td>\n",
       "    </tr>\n",
       "    <tr>\n",
       "      <th>1</th>\n",
       "      <td>21400899</td>\n",
       "      <td>A</td>\n",
       "      <td>W</td>\n",
       "      <td>24</td>\n",
       "      <td>2</td>\n",
       "      <td>1</td>\n",
       "      <td>0:14</td>\n",
       "      <td>3.4</td>\n",
       "      <td>0</td>\n",
       "      <td>0.8</td>\n",
       "      <td>...</td>\n",
       "      <td>Bogdanovic, Bojan</td>\n",
       "      <td>202711</td>\n",
       "      <td>6.1</td>\n",
       "      <td>0</td>\n",
       "      <td>0</td>\n",
       "      <td>brian roberts</td>\n",
       "      <td>203148</td>\n",
       "      <td>1.425427e+12</td>\n",
       "      <td>CHA</td>\n",
       "      <td>BKN</td>\n",
       "    </tr>\n",
       "    <tr>\n",
       "      <th>2</th>\n",
       "      <td>21400899</td>\n",
       "      <td>A</td>\n",
       "      <td>W</td>\n",
       "      <td>24</td>\n",
       "      <td>3</td>\n",
       "      <td>1</td>\n",
       "      <td>0:00</td>\n",
       "      <td>NaN</td>\n",
       "      <td>3</td>\n",
       "      <td>2.7</td>\n",
       "      <td>...</td>\n",
       "      <td>Bogdanovic, Bojan</td>\n",
       "      <td>202711</td>\n",
       "      <td>0.9</td>\n",
       "      <td>0</td>\n",
       "      <td>0</td>\n",
       "      <td>brian roberts</td>\n",
       "      <td>203148</td>\n",
       "      <td>1.425427e+12</td>\n",
       "      <td>CHA</td>\n",
       "      <td>BKN</td>\n",
       "    </tr>\n",
       "  </tbody>\n",
       "</table>\n",
       "<p>3 rows × 23 columns</p>\n",
       "</div>"
      ],
      "text/plain": [
       "    GAME_ID LOCATION  W  FINAL_MARGIN  SHOT_NUMBER  PERIOD GAME_CLOCK  \\\n",
       "0  21400899        A  W            24            1       1       1:09   \n",
       "1  21400899        A  W            24            2       1       0:14   \n",
       "2  21400899        A  W            24            3       1       0:00   \n",
       "\n",
       "   SHOT_CLOCK  DRIBBLES  TOUCH_TIME        ...           CLOSEST_DEFENDER  \\\n",
       "0        10.8         2         1.9        ...             Anderson, Alan   \n",
       "1         3.4         0         0.8        ...          Bogdanovic, Bojan   \n",
       "2         NaN         3         2.7        ...          Bogdanovic, Bojan   \n",
       "\n",
       "   CLOSEST_DEFENDER_PLAYER_ID CLOSE_DEF_DIST FGM  PTS    PLAYER_NAME  \\\n",
       "0                      101187            1.3   1    2  brian roberts   \n",
       "1                      202711            6.1   0    0  brian roberts   \n",
       "2                      202711            0.9   0    0  brian roberts   \n",
       "\n",
       "   PLAYER_ID  MATCHUP_DATE MATCHUP_AWAY_TEAM  MATCHUP_HOME_TEAM  \n",
       "0     203148  1.425427e+12               CHA                BKN  \n",
       "1     203148  1.425427e+12               CHA                BKN  \n",
       "2     203148  1.425427e+12               CHA                BKN  \n",
       "\n",
       "[3 rows x 23 columns]"
      ]
     },
     "metadata": {},
     "output_type": "display_data"
    },
    {
     "data": {
      "text/plain": [
       "array(['GAME_ID', 'LOCATION', 'W', 'FINAL_MARGIN', 'SHOT_NUMBER', 'PERIOD',\n",
       "       'GAME_CLOCK', 'SHOT_CLOCK', 'DRIBBLES', 'TOUCH_TIME', 'SHOT_DIST',\n",
       "       'PTS_TYPE', 'SHOT_RESULT', 'CLOSEST_DEFENDER',\n",
       "       'CLOSEST_DEFENDER_PLAYER_ID', 'CLOSE_DEF_DIST', 'FGM', 'PTS',\n",
       "       'PLAYER_NAME', 'PLAYER_ID', 'MATCHUP_DATE', 'MATCHUP_AWAY_TEAM',\n",
       "       'MATCHUP_HOME_TEAM'], dtype=object)"
      ]
     },
     "execution_count": 4,
     "metadata": {},
     "output_type": "execute_result"
    }
   ],
   "source": [
    "display(data.head(n=3))\n",
    "data.columns.values"
   ]
  },
  {
   "cell_type": "markdown",
   "metadata": {},
   "source": [
    "### 3.1 Factorizing"
   ]
  },
  {
   "cell_type": "markdown",
   "metadata": {},
   "source": [
    "One of the categorical features in our dataset is the `MATCHUP_AWAY_TEAM`.\n",
    "\n",
    "Let's label encoding it using factorization, and preview the results in a new dataframe with two columns: the old nominal values and the new, numeric ones.\n",
    "\n",
    "We will sample 5 rows from the resulting dataframe to interpret the results."
   ]
  },
  {
   "cell_type": "code",
   "execution_count": 5,
   "metadata": {
    "collapsed": false
   },
   "outputs": [
    {
     "data": {
      "text/html": [
       "<div>\n",
       "<table border=\"1\" class=\"dataframe\">\n",
       "  <thead>\n",
       "    <tr style=\"text-align: right;\">\n",
       "      <th></th>\n",
       "      <th>NOMINAL</th>\n",
       "      <th>ORDINAL</th>\n",
       "    </tr>\n",
       "  </thead>\n",
       "  <tbody>\n",
       "    <tr>\n",
       "      <th>28154</th>\n",
       "      <td>NOP</td>\n",
       "      <td>9</td>\n",
       "    </tr>\n",
       "    <tr>\n",
       "      <th>11719</th>\n",
       "      <td>LAL</td>\n",
       "      <td>4</td>\n",
       "    </tr>\n",
       "    <tr>\n",
       "      <th>29497</th>\n",
       "      <td>NOP</td>\n",
       "      <td>9</td>\n",
       "    </tr>\n",
       "    <tr>\n",
       "      <th>65283</th>\n",
       "      <td>DEN</td>\n",
       "      <td>20</td>\n",
       "    </tr>\n",
       "    <tr>\n",
       "      <th>44982</th>\n",
       "      <td>CLE</td>\n",
       "      <td>13</td>\n",
       "    </tr>\n",
       "  </tbody>\n",
       "</table>\n",
       "</div>"
      ],
      "text/plain": [
       "      NOMINAL  ORDINAL\n",
       "28154     NOP        9\n",
       "11719     LAL        4\n",
       "29497     NOP        9\n",
       "65283     DEN       20\n",
       "44982     CLE       13"
      ]
     },
     "execution_count": 5,
     "metadata": {},
     "output_type": "execute_result"
    }
   ],
   "source": [
    "def factorize_column(data, colname):\n",
    "    \n",
    "    categorical_feature = data[colname]\n",
    " \n",
    "    categorical_feature_encoded = pd.factorize(categorical_feature)[0]\n",
    "    \n",
    "    return categorical_feature_encoded\n",
    "\n",
    "\n",
    "def compare_with_original_column(data, colname, encoded_column):\n",
    "\n",
    "    comparison = pd.DataFrame()\n",
    "    comparison['NOMINAL'] = data[colname]\n",
    "    comparison['ORDINAL'] = encoded_column\n",
    "    \n",
    "    comparison_sample = comparison.sample(n=5)\n",
    "    \n",
    "    return comparison_sample\n",
    "\n",
    "\n",
    "encoded_column = factorize_column(data, 'MATCHUP_AWAY_TEAM')\n",
    "compare_with_original_column(data, 'MATCHUP_AWAY_TEAM', encoded_column)"
   ]
  },
  {
   "cell_type": "markdown",
   "metadata": {},
   "source": [
    "As we can see, all our nominal labels were now replaced by numeric values."
   ]
  },
  {
   "cell_type": "markdown",
   "metadata": {},
   "source": [
    "### 3.2 Label encoding"
   ]
  },
  {
   "cell_type": "markdown",
   "metadata": {},
   "source": [
    "Now, we will try to do the exact same thing, only using label encoding."
   ]
  },
  {
   "cell_type": "code",
   "execution_count": 6,
   "metadata": {
    "collapsed": false
   },
   "outputs": [
    {
     "data": {
      "text/html": [
       "<div>\n",
       "<table border=\"1\" class=\"dataframe\">\n",
       "  <thead>\n",
       "    <tr style=\"text-align: right;\">\n",
       "      <th></th>\n",
       "      <th>NOMINAL</th>\n",
       "      <th>ORDINAL</th>\n",
       "    </tr>\n",
       "  </thead>\n",
       "  <tbody>\n",
       "    <tr>\n",
       "      <th>112396</th>\n",
       "      <td>CHI</td>\n",
       "      <td>4</td>\n",
       "    </tr>\n",
       "    <tr>\n",
       "      <th>39849</th>\n",
       "      <td>DAL</td>\n",
       "      <td>6</td>\n",
       "    </tr>\n",
       "    <tr>\n",
       "      <th>105317</th>\n",
       "      <td>OKC</td>\n",
       "      <td>20</td>\n",
       "    </tr>\n",
       "    <tr>\n",
       "      <th>18886</th>\n",
       "      <td>ATL</td>\n",
       "      <td>0</td>\n",
       "    </tr>\n",
       "    <tr>\n",
       "      <th>88368</th>\n",
       "      <td>DET</td>\n",
       "      <td>8</td>\n",
       "    </tr>\n",
       "  </tbody>\n",
       "</table>\n",
       "</div>"
      ],
      "text/plain": [
       "       NOMINAL  ORDINAL\n",
       "112396     CHI        4\n",
       "39849      DAL        6\n",
       "105317     OKC       20\n",
       "18886      ATL        0\n",
       "88368      DET        8"
      ]
     },
     "execution_count": 6,
     "metadata": {},
     "output_type": "execute_result"
    }
   ],
   "source": [
    "def label_encode_column(data, colname):\n",
    "    \n",
    "    categorical_feature = data[colname]\n",
    "    \n",
    "    encoder = pp.LabelEncoder()\n",
    "    categorical_feature_encoded = encoder.fit_transform(categorical_feature)\n",
    "    \n",
    "    return categorical_feature_encoded\n",
    "\n",
    "\n",
    "encoded_column = label_encode_column(data, 'MATCHUP_AWAY_TEAM')\n",
    "compare_with_original_column(data, 'MATCHUP_AWAY_TEAM', encoded_column)"
   ]
  },
  {
   "cell_type": "markdown",
   "metadata": {},
   "source": [
    "As we can see, we get similar results: our nominal categorical variable is transformed into a numerical one.\n",
    "\n",
    "As we know, this is a problem: we assume that teams have a natural order, meaning that Miami is great than Cleveland, for example. \n",
    "\n",
    "We also assume that the distances between cities are known, which they are not.\n",
    "\n",
    "Thus, this is a call for us to use dummy encoding, as we have seen in the lecture!"
   ]
  },
  {
   "cell_type": "markdown",
   "metadata": {},
   "source": [
    "### 3.3 Dummy encoding"
   ]
  },
  {
   "cell_type": "markdown",
   "metadata": {},
   "source": [
    "As stated above, the away team is not an ordinal feature: it has no natural order, nor known distances.\n",
    "\n",
    "Therefore we will use dummy encoding to binary encode each level, using 0 or 1 to indicate the absence or presence of some label for each sample."
   ]
  },
  {
   "cell_type": "code",
   "execution_count": 7,
   "metadata": {
    "collapsed": false
   },
   "outputs": [
    {
     "name": "stdout",
     "output_type": "stream",
     "text": [
      "There are 30 total levels for the categorical variable MATCHUP_AWAY_TEAM.\n",
      "There are 29 (n-1) columns in the dummy encoded dataframe.\n"
     ]
    },
    {
     "data": {
      "text/html": [
       "<div>\n",
       "<table border=\"1\" class=\"dataframe\">\n",
       "  <thead>\n",
       "    <tr style=\"text-align: right;\">\n",
       "      <th></th>\n",
       "      <th>BKN</th>\n",
       "      <th>BOS</th>\n",
       "      <th>CHA</th>\n",
       "      <th>CHI</th>\n",
       "      <th>CLE</th>\n",
       "      <th>DAL</th>\n",
       "      <th>DEN</th>\n",
       "      <th>DET</th>\n",
       "      <th>GSW</th>\n",
       "      <th>HOU</th>\n",
       "      <th>...</th>\n",
       "      <th>OKC</th>\n",
       "      <th>ORL</th>\n",
       "      <th>PHI</th>\n",
       "      <th>PHX</th>\n",
       "      <th>POR</th>\n",
       "      <th>SAC</th>\n",
       "      <th>SAS</th>\n",
       "      <th>TOR</th>\n",
       "      <th>UTA</th>\n",
       "      <th>WAS</th>\n",
       "    </tr>\n",
       "  </thead>\n",
       "  <tbody>\n",
       "    <tr>\n",
       "      <th>7480</th>\n",
       "      <td>0</td>\n",
       "      <td>0</td>\n",
       "      <td>0</td>\n",
       "      <td>0</td>\n",
       "      <td>0</td>\n",
       "      <td>0</td>\n",
       "      <td>0</td>\n",
       "      <td>0</td>\n",
       "      <td>0</td>\n",
       "      <td>0</td>\n",
       "      <td>...</td>\n",
       "      <td>0</td>\n",
       "      <td>0</td>\n",
       "      <td>0</td>\n",
       "      <td>0</td>\n",
       "      <td>0</td>\n",
       "      <td>0</td>\n",
       "      <td>0</td>\n",
       "      <td>0</td>\n",
       "      <td>1</td>\n",
       "      <td>0</td>\n",
       "    </tr>\n",
       "    <tr>\n",
       "      <th>83629</th>\n",
       "      <td>0</td>\n",
       "      <td>0</td>\n",
       "      <td>0</td>\n",
       "      <td>0</td>\n",
       "      <td>0</td>\n",
       "      <td>0</td>\n",
       "      <td>0</td>\n",
       "      <td>0</td>\n",
       "      <td>0</td>\n",
       "      <td>0</td>\n",
       "      <td>...</td>\n",
       "      <td>0</td>\n",
       "      <td>0</td>\n",
       "      <td>0</td>\n",
       "      <td>0</td>\n",
       "      <td>0</td>\n",
       "      <td>0</td>\n",
       "      <td>0</td>\n",
       "      <td>0</td>\n",
       "      <td>0</td>\n",
       "      <td>0</td>\n",
       "    </tr>\n",
       "    <tr>\n",
       "      <th>2314</th>\n",
       "      <td>0</td>\n",
       "      <td>0</td>\n",
       "      <td>1</td>\n",
       "      <td>0</td>\n",
       "      <td>0</td>\n",
       "      <td>0</td>\n",
       "      <td>0</td>\n",
       "      <td>0</td>\n",
       "      <td>0</td>\n",
       "      <td>0</td>\n",
       "      <td>...</td>\n",
       "      <td>0</td>\n",
       "      <td>0</td>\n",
       "      <td>0</td>\n",
       "      <td>0</td>\n",
       "      <td>0</td>\n",
       "      <td>0</td>\n",
       "      <td>0</td>\n",
       "      <td>0</td>\n",
       "      <td>0</td>\n",
       "      <td>0</td>\n",
       "    </tr>\n",
       "    <tr>\n",
       "      <th>89355</th>\n",
       "      <td>0</td>\n",
       "      <td>0</td>\n",
       "      <td>0</td>\n",
       "      <td>0</td>\n",
       "      <td>0</td>\n",
       "      <td>0</td>\n",
       "      <td>0</td>\n",
       "      <td>1</td>\n",
       "      <td>0</td>\n",
       "      <td>0</td>\n",
       "      <td>...</td>\n",
       "      <td>0</td>\n",
       "      <td>0</td>\n",
       "      <td>0</td>\n",
       "      <td>0</td>\n",
       "      <td>0</td>\n",
       "      <td>0</td>\n",
       "      <td>0</td>\n",
       "      <td>0</td>\n",
       "      <td>0</td>\n",
       "      <td>0</td>\n",
       "    </tr>\n",
       "    <tr>\n",
       "      <th>106885</th>\n",
       "      <td>0</td>\n",
       "      <td>0</td>\n",
       "      <td>0</td>\n",
       "      <td>0</td>\n",
       "      <td>0</td>\n",
       "      <td>0</td>\n",
       "      <td>0</td>\n",
       "      <td>0</td>\n",
       "      <td>0</td>\n",
       "      <td>0</td>\n",
       "      <td>...</td>\n",
       "      <td>0</td>\n",
       "      <td>0</td>\n",
       "      <td>0</td>\n",
       "      <td>0</td>\n",
       "      <td>0</td>\n",
       "      <td>0</td>\n",
       "      <td>0</td>\n",
       "      <td>0</td>\n",
       "      <td>0</td>\n",
       "      <td>0</td>\n",
       "    </tr>\n",
       "  </tbody>\n",
       "</table>\n",
       "<p>5 rows × 29 columns</p>\n",
       "</div>"
      ],
      "text/plain": [
       "        BKN  BOS  CHA  CHI  CLE  DAL  DEN  DET  GSW  HOU ...   OKC  ORL  PHI  \\\n",
       "7480      0    0    0    0    0    0    0    0    0    0 ...     0    0    0   \n",
       "83629     0    0    0    0    0    0    0    0    0    0 ...     0    0    0   \n",
       "2314      0    0    1    0    0    0    0    0    0    0 ...     0    0    0   \n",
       "89355     0    0    0    0    0    0    0    1    0    0 ...     0    0    0   \n",
       "106885    0    0    0    0    0    0    0    0    0    0 ...     0    0    0   \n",
       "\n",
       "        PHX  POR  SAC  SAS  TOR  UTA  WAS  \n",
       "7480      0    0    0    0    0    1    0  \n",
       "83629     0    0    0    0    0    0    0  \n",
       "2314      0    0    0    0    0    0    0  \n",
       "89355     0    0    0    0    0    0    0  \n",
       "106885    0    0    0    0    0    0    0  \n",
       "\n",
       "[5 rows x 29 columns]"
      ]
     },
     "execution_count": 7,
     "metadata": {},
     "output_type": "execute_result"
    }
   ],
   "source": [
    "def dummy_encode_column(data, colname):\n",
    "    \n",
    "    categorical_feature = data[colname]\n",
    "    number_of_levels = len(categorical_feature.unique())\n",
    "    \n",
    "    dummy_encode_example = pd.get_dummies(categorical_feature, drop_first=True)\n",
    "    dummy_encode_number_of_cols = dummy_encode_example.shape[1]\n",
    "    \n",
    "    dummy_encode_sample = dummy_encode_example\n",
    "    print(\"There are %s total levels for the categorical variable %s.\" % (number_of_levels, colname))\n",
    "    print(\"There are %s (n-1) columns in the dummy encoded dataframe.\" % dummy_encode_number_of_cols)\n",
    "    \n",
    "    return dummy_encode_sample\n",
    "\n",
    "\n",
    "dummy_encode_column(data, 'MATCHUP_AWAY_TEAM').sample(n=5)"
   ]
  },
  {
   "cell_type": "markdown",
   "metadata": {},
   "source": [
    "Please note that we need to explicitly use `drop_first=True` to get n-1 (leave one out) columns in the encoded dataframe.\n",
    "\n",
    "Also, we are using `get_dummies` directly on a categorical feature containing strings; this is something we will not be able to do in our next example."
   ]
  },
  {
   "cell_type": "markdown",
   "metadata": {},
   "source": [
    "### 3.4. One Hot Encoding"
   ]
  },
  {
   "cell_type": "markdown",
   "metadata": {},
   "source": [
    "Let's try to apply the one hot encoding similarly to what we did with the label encoding above. \n",
    "\n",
    "Try to uncomment the line below."
   ]
  },
  {
   "cell_type": "code",
   "execution_count": 10,
   "metadata": {
    "collapsed": true
   },
   "outputs": [],
   "source": [
    "def one_hot_encode_column(data, colname):\n",
    "    \n",
    "    categorical_feature = data[colname]\n",
    "    number_of_levels = len(np.unique(categorical_feature))\n",
    "    \n",
    "    encoder = pp.OneHotEncoder()\n",
    "    \n",
    "    one_hot_encode_feature = encoder.fit_transform(categorical_feature)\n",
    "    \n",
    "    return one_hot_encode_feature\n",
    "\n",
    " #one_hot_encode_column(data, 'MATCHUP_AWAY_TEAM')"
   ]
  },
  {
   "cell_type": "markdown",
   "metadata": {},
   "source": [
    "Oops! Could not convert string to float! Looks like we will have to label encode our variable first, to make it numeric."
   ]
  },
  {
   "cell_type": "code",
   "execution_count": 11,
   "metadata": {
    "collapsed": false
   },
   "outputs": [
    {
     "data": {
      "text/html": [
       "<div>\n",
       "<table border=\"1\" class=\"dataframe\">\n",
       "  <thead>\n",
       "    <tr style=\"text-align: right;\">\n",
       "      <th></th>\n",
       "      <th>0</th>\n",
       "      <th>1</th>\n",
       "      <th>2</th>\n",
       "      <th>3</th>\n",
       "      <th>4</th>\n",
       "      <th>5</th>\n",
       "      <th>6</th>\n",
       "      <th>7</th>\n",
       "      <th>8</th>\n",
       "      <th>9</th>\n",
       "      <th>...</th>\n",
       "      <th>20</th>\n",
       "      <th>21</th>\n",
       "      <th>22</th>\n",
       "      <th>23</th>\n",
       "      <th>24</th>\n",
       "      <th>25</th>\n",
       "      <th>26</th>\n",
       "      <th>27</th>\n",
       "      <th>28</th>\n",
       "      <th>29</th>\n",
       "    </tr>\n",
       "  </thead>\n",
       "  <tbody>\n",
       "    <tr>\n",
       "      <th>70742</th>\n",
       "      <td>0.0</td>\n",
       "      <td>0.0</td>\n",
       "      <td>0.0</td>\n",
       "      <td>0.0</td>\n",
       "      <td>0.0</td>\n",
       "      <td>0.0</td>\n",
       "      <td>0.0</td>\n",
       "      <td>0.0</td>\n",
       "      <td>0.0</td>\n",
       "      <td>0.0</td>\n",
       "      <td>...</td>\n",
       "      <td>0.0</td>\n",
       "      <td>0.0</td>\n",
       "      <td>0.0</td>\n",
       "      <td>1.0</td>\n",
       "      <td>0.0</td>\n",
       "      <td>0.0</td>\n",
       "      <td>0.0</td>\n",
       "      <td>0.0</td>\n",
       "      <td>0.0</td>\n",
       "      <td>0.0</td>\n",
       "    </tr>\n",
       "    <tr>\n",
       "      <th>118069</th>\n",
       "      <td>0.0</td>\n",
       "      <td>0.0</td>\n",
       "      <td>0.0</td>\n",
       "      <td>0.0</td>\n",
       "      <td>0.0</td>\n",
       "      <td>0.0</td>\n",
       "      <td>0.0</td>\n",
       "      <td>0.0</td>\n",
       "      <td>0.0</td>\n",
       "      <td>0.0</td>\n",
       "      <td>...</td>\n",
       "      <td>0.0</td>\n",
       "      <td>0.0</td>\n",
       "      <td>0.0</td>\n",
       "      <td>0.0</td>\n",
       "      <td>1.0</td>\n",
       "      <td>0.0</td>\n",
       "      <td>0.0</td>\n",
       "      <td>0.0</td>\n",
       "      <td>0.0</td>\n",
       "      <td>0.0</td>\n",
       "    </tr>\n",
       "    <tr>\n",
       "      <th>12035</th>\n",
       "      <td>0.0</td>\n",
       "      <td>0.0</td>\n",
       "      <td>0.0</td>\n",
       "      <td>0.0</td>\n",
       "      <td>0.0</td>\n",
       "      <td>0.0</td>\n",
       "      <td>0.0</td>\n",
       "      <td>0.0</td>\n",
       "      <td>0.0</td>\n",
       "      <td>0.0</td>\n",
       "      <td>...</td>\n",
       "      <td>0.0</td>\n",
       "      <td>0.0</td>\n",
       "      <td>0.0</td>\n",
       "      <td>0.0</td>\n",
       "      <td>0.0</td>\n",
       "      <td>0.0</td>\n",
       "      <td>0.0</td>\n",
       "      <td>0.0</td>\n",
       "      <td>0.0</td>\n",
       "      <td>0.0</td>\n",
       "    </tr>\n",
       "    <tr>\n",
       "      <th>30437</th>\n",
       "      <td>0.0</td>\n",
       "      <td>0.0</td>\n",
       "      <td>0.0</td>\n",
       "      <td>0.0</td>\n",
       "      <td>0.0</td>\n",
       "      <td>0.0</td>\n",
       "      <td>0.0</td>\n",
       "      <td>0.0</td>\n",
       "      <td>0.0</td>\n",
       "      <td>0.0</td>\n",
       "      <td>...</td>\n",
       "      <td>0.0</td>\n",
       "      <td>0.0</td>\n",
       "      <td>0.0</td>\n",
       "      <td>0.0</td>\n",
       "      <td>0.0</td>\n",
       "      <td>0.0</td>\n",
       "      <td>0.0</td>\n",
       "      <td>0.0</td>\n",
       "      <td>0.0</td>\n",
       "      <td>0.0</td>\n",
       "    </tr>\n",
       "    <tr>\n",
       "      <th>8720</th>\n",
       "      <td>0.0</td>\n",
       "      <td>0.0</td>\n",
       "      <td>0.0</td>\n",
       "      <td>0.0</td>\n",
       "      <td>0.0</td>\n",
       "      <td>0.0</td>\n",
       "      <td>0.0</td>\n",
       "      <td>0.0</td>\n",
       "      <td>0.0</td>\n",
       "      <td>0.0</td>\n",
       "      <td>...</td>\n",
       "      <td>0.0</td>\n",
       "      <td>0.0</td>\n",
       "      <td>0.0</td>\n",
       "      <td>0.0</td>\n",
       "      <td>0.0</td>\n",
       "      <td>0.0</td>\n",
       "      <td>0.0</td>\n",
       "      <td>0.0</td>\n",
       "      <td>0.0</td>\n",
       "      <td>0.0</td>\n",
       "    </tr>\n",
       "  </tbody>\n",
       "</table>\n",
       "<p>5 rows × 30 columns</p>\n",
       "</div>"
      ],
      "text/plain": [
       "         0    1    2    3    4    5    6    7    8    9  ...    20   21   22  \\\n",
       "70742   0.0  0.0  0.0  0.0  0.0  0.0  0.0  0.0  0.0  0.0 ...   0.0  0.0  0.0   \n",
       "118069  0.0  0.0  0.0  0.0  0.0  0.0  0.0  0.0  0.0  0.0 ...   0.0  0.0  0.0   \n",
       "12035   0.0  0.0  0.0  0.0  0.0  0.0  0.0  0.0  0.0  0.0 ...   0.0  0.0  0.0   \n",
       "30437   0.0  0.0  0.0  0.0  0.0  0.0  0.0  0.0  0.0  0.0 ...   0.0  0.0  0.0   \n",
       "8720    0.0  0.0  0.0  0.0  0.0  0.0  0.0  0.0  0.0  0.0 ...   0.0  0.0  0.0   \n",
       "\n",
       "         23   24   25   26   27   28   29  \n",
       "70742   1.0  0.0  0.0  0.0  0.0  0.0  0.0  \n",
       "118069  0.0  1.0  0.0  0.0  0.0  0.0  0.0  \n",
       "12035   0.0  0.0  0.0  0.0  0.0  0.0  0.0  \n",
       "30437   0.0  0.0  0.0  0.0  0.0  0.0  0.0  \n",
       "8720    0.0  0.0  0.0  0.0  0.0  0.0  0.0  \n",
       "\n",
       "[5 rows x 30 columns]"
      ]
     },
     "execution_count": 11,
     "metadata": {},
     "output_type": "execute_result"
    }
   ],
   "source": [
    "def one_hot_encode_column(data, colname):\n",
    "    \n",
    "    data_to_encode = pd.DataFrame()\n",
    "    data_to_encode[colname] = label_encode_column(data, colname)\n",
    "    number_of_levels = len(data_to_encode[colname].unique())\n",
    "    \n",
    "    encoder = pp.OneHotEncoder(categorical_features=[0])\n",
    "    \n",
    "    one_hot_encoded_feature = encoder.fit_transform(data_to_encode).toarray()\n",
    "    one_hot_encoded_feature = pd.DataFrame(one_hot_encoded_feature)\n",
    "    \n",
    "    return one_hot_encoded_feature\n",
    "\n",
    "\n",
    "one_hot_encode_column(data, 'MATCHUP_AWAY_TEAM').sample(n=5)"
   ]
  },
  {
   "cell_type": "markdown",
   "metadata": {},
   "source": [
    "### 3.5 Binarizing labels"
   ]
  },
  {
   "cell_type": "markdown",
   "metadata": {},
   "source": [
    "In alternative, we can use a label binarizer, that will return an array of binary variables, indicating whether the label is present for each observation or not."
   ]
  },
  {
   "cell_type": "code",
   "execution_count": 12,
   "metadata": {
    "collapsed": false
   },
   "outputs": [
    {
     "data": {
      "text/plain": [
       "array([[0, 0, 0, ..., 0, 0, 0],\n",
       "       [0, 0, 0, ..., 0, 0, 0],\n",
       "       [0, 0, 0, ..., 0, 0, 0],\n",
       "       ..., \n",
       "       [0, 1, 0, ..., 0, 0, 0],\n",
       "       [0, 1, 0, ..., 0, 0, 0],\n",
       "       [0, 1, 0, ..., 0, 0, 0]])"
      ]
     },
     "execution_count": 12,
     "metadata": {},
     "output_type": "execute_result"
    }
   ],
   "source": [
    "def binarize_labels_column(data, colname):\n",
    "    \n",
    "    categorical_feature = data[colname]\n",
    "    \n",
    "    encoder = pp.LabelBinarizer()\n",
    "    \n",
    "    return encoder.fit_transform(categorical_feature)\n",
    "\n",
    "binarize_labels_column(data, 'MATCHUP_AWAY_TEAM')"
   ]
  },
  {
   "cell_type": "markdown",
   "metadata": {},
   "source": [
    "Converted to a dataframe, the output is similar to that of the one hot encoder above.\n",
    "\n",
    "Such a binarizer can be useful to apply a so-called one-vs-all scheme, that consists in learning a model per class, when combined with `sklearn`'s pipelines."
   ]
  },
  {
   "cell_type": "code",
   "execution_count": 13,
   "metadata": {
    "collapsed": false
   },
   "outputs": [
    {
     "data": {
      "text/html": [
       "<div>\n",
       "<table border=\"1\" class=\"dataframe\">\n",
       "  <thead>\n",
       "    <tr style=\"text-align: right;\">\n",
       "      <th></th>\n",
       "      <th>0</th>\n",
       "      <th>1</th>\n",
       "      <th>2</th>\n",
       "      <th>3</th>\n",
       "      <th>4</th>\n",
       "      <th>5</th>\n",
       "      <th>6</th>\n",
       "      <th>7</th>\n",
       "      <th>8</th>\n",
       "      <th>9</th>\n",
       "      <th>...</th>\n",
       "      <th>20</th>\n",
       "      <th>21</th>\n",
       "      <th>22</th>\n",
       "      <th>23</th>\n",
       "      <th>24</th>\n",
       "      <th>25</th>\n",
       "      <th>26</th>\n",
       "      <th>27</th>\n",
       "      <th>28</th>\n",
       "      <th>29</th>\n",
       "    </tr>\n",
       "  </thead>\n",
       "  <tbody>\n",
       "    <tr>\n",
       "      <th>69071</th>\n",
       "      <td>0</td>\n",
       "      <td>0</td>\n",
       "      <td>0</td>\n",
       "      <td>0</td>\n",
       "      <td>0</td>\n",
       "      <td>0</td>\n",
       "      <td>0</td>\n",
       "      <td>0</td>\n",
       "      <td>0</td>\n",
       "      <td>0</td>\n",
       "      <td>...</td>\n",
       "      <td>0</td>\n",
       "      <td>0</td>\n",
       "      <td>0</td>\n",
       "      <td>1</td>\n",
       "      <td>0</td>\n",
       "      <td>0</td>\n",
       "      <td>0</td>\n",
       "      <td>0</td>\n",
       "      <td>0</td>\n",
       "      <td>0</td>\n",
       "    </tr>\n",
       "    <tr>\n",
       "      <th>32591</th>\n",
       "      <td>0</td>\n",
       "      <td>0</td>\n",
       "      <td>0</td>\n",
       "      <td>0</td>\n",
       "      <td>0</td>\n",
       "      <td>0</td>\n",
       "      <td>0</td>\n",
       "      <td>0</td>\n",
       "      <td>0</td>\n",
       "      <td>0</td>\n",
       "      <td>...</td>\n",
       "      <td>0</td>\n",
       "      <td>0</td>\n",
       "      <td>0</td>\n",
       "      <td>0</td>\n",
       "      <td>0</td>\n",
       "      <td>0</td>\n",
       "      <td>0</td>\n",
       "      <td>1</td>\n",
       "      <td>0</td>\n",
       "      <td>0</td>\n",
       "    </tr>\n",
       "    <tr>\n",
       "      <th>108615</th>\n",
       "      <td>0</td>\n",
       "      <td>0</td>\n",
       "      <td>0</td>\n",
       "      <td>0</td>\n",
       "      <td>0</td>\n",
       "      <td>0</td>\n",
       "      <td>0</td>\n",
       "      <td>0</td>\n",
       "      <td>0</td>\n",
       "      <td>0</td>\n",
       "      <td>...</td>\n",
       "      <td>0</td>\n",
       "      <td>0</td>\n",
       "      <td>0</td>\n",
       "      <td>0</td>\n",
       "      <td>0</td>\n",
       "      <td>0</td>\n",
       "      <td>0</td>\n",
       "      <td>0</td>\n",
       "      <td>0</td>\n",
       "      <td>0</td>\n",
       "    </tr>\n",
       "    <tr>\n",
       "      <th>63955</th>\n",
       "      <td>0</td>\n",
       "      <td>0</td>\n",
       "      <td>0</td>\n",
       "      <td>0</td>\n",
       "      <td>0</td>\n",
       "      <td>0</td>\n",
       "      <td>0</td>\n",
       "      <td>1</td>\n",
       "      <td>0</td>\n",
       "      <td>0</td>\n",
       "      <td>...</td>\n",
       "      <td>0</td>\n",
       "      <td>0</td>\n",
       "      <td>0</td>\n",
       "      <td>0</td>\n",
       "      <td>0</td>\n",
       "      <td>0</td>\n",
       "      <td>0</td>\n",
       "      <td>0</td>\n",
       "      <td>0</td>\n",
       "      <td>0</td>\n",
       "    </tr>\n",
       "    <tr>\n",
       "      <th>46224</th>\n",
       "      <td>0</td>\n",
       "      <td>0</td>\n",
       "      <td>0</td>\n",
       "      <td>0</td>\n",
       "      <td>0</td>\n",
       "      <td>1</td>\n",
       "      <td>0</td>\n",
       "      <td>0</td>\n",
       "      <td>0</td>\n",
       "      <td>0</td>\n",
       "      <td>...</td>\n",
       "      <td>0</td>\n",
       "      <td>0</td>\n",
       "      <td>0</td>\n",
       "      <td>0</td>\n",
       "      <td>0</td>\n",
       "      <td>0</td>\n",
       "      <td>0</td>\n",
       "      <td>0</td>\n",
       "      <td>0</td>\n",
       "      <td>0</td>\n",
       "    </tr>\n",
       "  </tbody>\n",
       "</table>\n",
       "<p>5 rows × 30 columns</p>\n",
       "</div>"
      ],
      "text/plain": [
       "        0   1   2   3   4   5   6   7   8   9  ...  20  21  22  23  24  25  \\\n",
       "69071    0   0   0   0   0   0   0   0   0   0 ...   0   0   0   1   0   0   \n",
       "32591    0   0   0   0   0   0   0   0   0   0 ...   0   0   0   0   0   0   \n",
       "108615   0   0   0   0   0   0   0   0   0   0 ...   0   0   0   0   0   0   \n",
       "63955    0   0   0   0   0   0   0   1   0   0 ...   0   0   0   0   0   0   \n",
       "46224    0   0   0   0   0   1   0   0   0   0 ...   0   0   0   0   0   0   \n",
       "\n",
       "        26  27  28  29  \n",
       "69071    0   0   0   0  \n",
       "32591    0   1   0   0  \n",
       "108615   0   0   0   0  \n",
       "63955    0   0   0   0  \n",
       "46224    0   0   0   0  \n",
       "\n",
       "[5 rows x 30 columns]"
      ]
     },
     "execution_count": 13,
     "metadata": {},
     "output_type": "execute_result"
    }
   ],
   "source": [
    "pd.DataFrame(binarize_labels_column(data, 'MATCHUP_AWAY_TEAM')).sample(n=5)"
   ]
  },
  {
   "cell_type": "markdown",
   "metadata": {},
   "source": [
    "Please note that, unlike in `Pandas`, there is no automatic way to apply a leave-one-out approach (n-1 features), which may lead to collinearity problems."
   ]
  },
  {
   "cell_type": "markdown",
   "metadata": {},
   "source": [
    "## 4 Feature scaling"
   ]
  },
  {
   "cell_type": "markdown",
   "metadata": {},
   "source": [
    "Let's take two features in very different scales. As told in the presentation, many machine learning algorithms employ distances, which are sensitive to scale.\n",
    "\n",
    "This way, features on a bigger scale will have a disproportionate impact.\n",
    "\n",
    "Let's take two features, touch time and shot distance, and try to get the on the same scale.\n",
    "\n",
    "Please note there are input errors in the touch time column (negative touch time), and we will clean them before starting."
   ]
  },
  {
   "cell_type": "code",
   "execution_count": 22,
   "metadata": {
    "collapsed": false
   },
   "outputs": [
    {
     "data": {
      "text/plain": [
       "<matplotlib.collections.PathCollection at 0x7fe7e1cf4eb8>"
      ]
     },
     "execution_count": 22,
     "metadata": {},
     "output_type": "execute_result"
    },
    {
     "data": {
      "image/png": "[encoded data removed]",
      "text/plain": [
       "<matplotlib.figure.Figure at 0x7fe7e1b55e48>"
      ]
     },
     "metadata": {},
     "output_type": "display_data"
    }
   ],
   "source": [
    "data = data[data['TOUCH_TIME'] > 0].copy() \n",
    "\n",
    "def scatter_plot_two_features(data, colnames, total_samples):\n",
    "\n",
    "    scatter_plot_data = data[[colnames[0], colnames[1]]].sample(n=total_samples)\n",
    "    x = scatter_plot_data[colnames[0]]\n",
    "    y = scatter_plot_data[colnames[1]]\n",
    "    \n",
    "    plot = plt.scatter(x, y)\n",
    "    \n",
    "    return plot\n",
    "\n",
    "\n",
    "cols = ['TOUCH_TIME', 'SHOT_DIST']\n",
    "scatter_plot_two_features(data, cols, 1000)"
   ]
  },
  {
   "cell_type": "markdown",
   "metadata": {
    "collapsed": true
   },
   "source": [
    "### 4.1 Rescaling"
   ]
  },
  {
   "cell_type": "markdown",
   "metadata": {},
   "source": [
    "A possible standardization technique is scaling features between a given minimum and maximum value, often between zero and one."
   ]
  },
  {
   "cell_type": "code",
   "execution_count": 23,
   "metadata": {
    "collapsed": false
   },
   "outputs": [
    {
     "data": {
      "text/html": [
       "<div>\n",
       "<table border=\"1\" class=\"dataframe\">\n",
       "  <thead>\n",
       "    <tr style=\"text-align: right;\">\n",
       "      <th></th>\n",
       "      <th>TOUCH_TIME</th>\n",
       "      <th>SHOT_DIST</th>\n",
       "    </tr>\n",
       "  </thead>\n",
       "  <tbody>\n",
       "    <tr>\n",
       "      <th>49423</th>\n",
       "      <td>0.028226</td>\n",
       "      <td>0.396186</td>\n",
       "    </tr>\n",
       "    <tr>\n",
       "      <th>93734</th>\n",
       "      <td>0.064516</td>\n",
       "      <td>0.044492</td>\n",
       "    </tr>\n",
       "    <tr>\n",
       "      <th>117236</th>\n",
       "      <td>0.064516</td>\n",
       "      <td>0.188559</td>\n",
       "    </tr>\n",
       "    <tr>\n",
       "      <th>80968</th>\n",
       "      <td>0.028226</td>\n",
       "      <td>0.434322</td>\n",
       "    </tr>\n",
       "    <tr>\n",
       "      <th>38722</th>\n",
       "      <td>0.024194</td>\n",
       "      <td>0.531780</td>\n",
       "    </tr>\n",
       "  </tbody>\n",
       "</table>\n",
       "</div>"
      ],
      "text/plain": [
       "        TOUCH_TIME  SHOT_DIST\n",
       "49423     0.028226   0.396186\n",
       "93734     0.064516   0.044492\n",
       "117236    0.064516   0.188559\n",
       "80968     0.028226   0.434322\n",
       "38722     0.024194   0.531780"
      ]
     },
     "execution_count": 23,
     "metadata": {},
     "output_type": "execute_result"
    },
    {
     "data": {
      "image/png": "[encoded data removed]",
      "text/plain": [
       "<matplotlib.figure.Figure at 0x7fe7e1b50128>"
      ]
     },
     "metadata": {},
     "output_type": "display_data"
    }
   ],
   "source": [
    "def rescale_columns(data, colnames, total_samples_preview):\n",
    "    \n",
    "    scaler = pp.MinMaxScaler()\n",
    "    \n",
    "    rescaled_data = data[colnames]\n",
    "    rescaled_data = scaler.fit_transform(rescaled_data)\n",
    "    rescaled_data = pd.DataFrame(rescaled_data, columns=colnames)\n",
    "    \n",
    "    rescaled_data_sample = rescaled_data.sample(n=5)\n",
    "    \n",
    "    scatter_plot_two_features(rescaled_data, colnames, total_samples_preview)\n",
    "    \n",
    "    return rescaled_data_sample\n",
    "\n",
    "\n",
    "rescale_columns(data, cols, 500)"
   ]
  },
  {
   "cell_type": "markdown",
   "metadata": {},
   "source": [
    "Alternatively, the `MaxAbsScaler()` scaler (used in similar fashion) would return data in the range [-1, 1]."
   ]
  },
  {
   "cell_type": "markdown",
   "metadata": {},
   "source": [
    "### 4.2 Standardizing"
   ]
  },
  {
   "cell_type": "markdown",
   "metadata": {},
   "source": [
    "Standardization is a common to make features look more or less look like standard normally distributed data: Gaussian with 0 mean and unit variance.\n",
    "\n",
    "In practice, we often ignore the shape of the distribution and just transform the data to:\n",
    "\n",
    "* Center it by removing the mean value of each feature\n",
    "* Scale it by dividing non-constant features by their standard deviation.\n",
    "\n",
    "One can assume that, if the data size is huge, both training and validation sets can be approximately viewed as normal distribution."
   ]
  },
  {
   "cell_type": "code",
   "execution_count": 16,
   "metadata": {
    "collapsed": false
   },
   "outputs": [
    {
     "data": {
      "text/html": [
       "<div>\n",
       "<table border=\"1\" class=\"dataframe\">\n",
       "  <thead>\n",
       "    <tr style=\"text-align: right;\">\n",
       "      <th></th>\n",
       "      <th>TOUCH_TIME</th>\n",
       "      <th>SHOT_DIST</th>\n",
       "    </tr>\n",
       "  </thead>\n",
       "  <tbody>\n",
       "    <tr>\n",
       "      <th>87022</th>\n",
       "      <td>-0.684177</td>\n",
       "      <td>1.012068</td>\n",
       "    </tr>\n",
       "    <tr>\n",
       "      <th>736</th>\n",
       "      <td>-0.483597</td>\n",
       "      <td>-0.468494</td>\n",
       "    </tr>\n",
       "    <tr>\n",
       "      <th>5157</th>\n",
       "      <td>-0.650747</td>\n",
       "      <td>1.464148</td>\n",
       "    </tr>\n",
       "    <tr>\n",
       "      <th>54257</th>\n",
       "      <td>-0.684177</td>\n",
       "      <td>0.345250</td>\n",
       "    </tr>\n",
       "    <tr>\n",
       "      <th>63296</th>\n",
       "      <td>-0.717607</td>\n",
       "      <td>1.305920</td>\n",
       "    </tr>\n",
       "  </tbody>\n",
       "</table>\n",
       "</div>"
      ],
      "text/plain": [
       "       TOUCH_TIME  SHOT_DIST\n",
       "87022   -0.684177   1.012068\n",
       "736     -0.483597  -0.468494\n",
       "5157    -0.650747   1.464148\n",
       "54257   -0.684177   0.345250\n",
       "63296   -0.717607   1.305920"
      ]
     },
     "execution_count": 16,
     "metadata": {},
     "output_type": "execute_result"
    },
    {
     "data": {
      "image/png": "[encoded data removed]",
      "text/plain": [
       "<matplotlib.figure.Figure at 0x7fe7e1d04b38>"
      ]
     },
     "metadata": {},
     "output_type": "display_data"
    }
   ],
   "source": [
    "def standardize_columns(data, colnames, total_samples_preview):\n",
    "    \n",
    "    scaler = pp.StandardScaler()\n",
    "    \n",
    "    rescaled_data = data[colnames]\n",
    "    rescaled_data = scaler.fit_transform(rescaled_data)\n",
    "    rescaled_data = pd.DataFrame(rescaled_data, columns=colnames)\n",
    "    \n",
    "    rescaled_data_sample = rescaled_data.sample(n=5)\n",
    "    \n",
    "    scatter_plot_two_features(rescaled_data, colnames, total_samples_preview)\n",
    "    \n",
    "    return rescaled_data_sample\n",
    "\n",
    "\n",
    "standardize_columns(data, cols, 500)"
   ]
  },
  {
   "cell_type": "markdown",
   "metadata": {},
   "source": [
    "### 4.3 Normalizing"
   ]
  },
  {
   "cell_type": "markdown",
   "metadata": {},
   "source": [
    "Normalization is the process of scaling individual samples to have unit norm, i.e. into a vector of length 1.\n",
    "\n",
    "This process can be useful if you plan to quantify the similarity of any pair of samples, using a dot-product for example."
   ]
  },
  {
   "cell_type": "code",
   "execution_count": 17,
   "metadata": {
    "collapsed": false
   },
   "outputs": [
    {
     "data": {
      "text/html": [
       "<div>\n",
       "<table border=\"1\" class=\"dataframe\">\n",
       "  <thead>\n",
       "    <tr style=\"text-align: right;\">\n",
       "      <th></th>\n",
       "      <th>TOUCH_TIME</th>\n",
       "      <th>SHOT_DIST</th>\n",
       "    </tr>\n",
       "  </thead>\n",
       "  <tbody>\n",
       "    <tr>\n",
       "      <th>32152</th>\n",
       "      <td>0.231621</td>\n",
       "      <td>0.972806</td>\n",
       "    </tr>\n",
       "    <tr>\n",
       "      <th>119732</th>\n",
       "      <td>0.234641</td>\n",
       "      <td>0.972082</td>\n",
       "    </tr>\n",
       "    <tr>\n",
       "      <th>27992</th>\n",
       "      <td>0.274721</td>\n",
       "      <td>0.961524</td>\n",
       "    </tr>\n",
       "    <tr>\n",
       "      <th>18635</th>\n",
       "      <td>0.992486</td>\n",
       "      <td>0.122361</td>\n",
       "    </tr>\n",
       "    <tr>\n",
       "      <th>27496</th>\n",
       "      <td>0.432329</td>\n",
       "      <td>0.901716</td>\n",
       "    </tr>\n",
       "  </tbody>\n",
       "</table>\n",
       "</div>"
      ],
      "text/plain": [
       "        TOUCH_TIME  SHOT_DIST\n",
       "32152     0.231621   0.972806\n",
       "119732    0.234641   0.972082\n",
       "27992     0.274721   0.961524\n",
       "18635     0.992486   0.122361\n",
       "27496     0.432329   0.901716"
      ]
     },
     "execution_count": 17,
     "metadata": {},
     "output_type": "execute_result"
    },
    {
     "data": {
      "image/png": "[encoded data removed]",
      "text/plain": [
       "<matplotlib.figure.Figure at 0x7fe7e1c784a8>"
      ]
     },
     "metadata": {},
     "output_type": "display_data"
    }
   ],
   "source": [
    "def normalize_columns(data, colnames, total_samples_preview):\n",
    "    \n",
    "    scaler = pp.Normalizer()\n",
    "    \n",
    "    rescaled_data = data[colnames]\n",
    "    rescaled_data = scaler.fit_transform(rescaled_data)\n",
    "    rescaled_data = pd.DataFrame(rescaled_data, columns=colnames)\n",
    "    \n",
    "    rescaled_data_sample = rescaled_data.sample(n=5)\n",
    "    \n",
    "    scatter_plot_two_features(rescaled_data, colnames, total_samples_preview)\n",
    "    \n",
    "    return rescaled_data_sample\n",
    "\n",
    "\n",
    "normalize_columns(data, cols, 500)"
   ]
  },
  {
   "cell_type": "markdown",
   "metadata": {},
   "source": [
    "### 4.4 Binarizing"
   ]
  },
  {
   "cell_type": "markdown",
   "metadata": {},
   "source": [
    "Another strategy we can use is binarization.\n",
    "\n",
    "Feature binarization is the process of thresholding numerical features to get boolean values.\n",
    "\n",
    "Here, for example, we can place a threshold in shot distance at 23.9 feet to create a new binary variables: the three point line."
   ]
  },
  {
   "cell_type": "code",
   "execution_count": 20,
   "metadata": {
    "collapsed": false
   },
   "outputs": [
    {
     "data": {
      "text/html": [
       "<div>\n",
       "<table border=\"1\" class=\"dataframe\">\n",
       "  <thead>\n",
       "    <tr style=\"text-align: right;\">\n",
       "      <th></th>\n",
       "      <th>SHOT_DIST</th>\n",
       "      <th>3_POINTER</th>\n",
       "    </tr>\n",
       "  </thead>\n",
       "  <tbody>\n",
       "    <tr>\n",
       "      <th>51240</th>\n",
       "      <td>8.6</td>\n",
       "      <td>0.0</td>\n",
       "    </tr>\n",
       "    <tr>\n",
       "      <th>72343</th>\n",
       "      <td>21.9</td>\n",
       "      <td>0.0</td>\n",
       "    </tr>\n",
       "    <tr>\n",
       "      <th>70873</th>\n",
       "      <td>15.6</td>\n",
       "      <td>0.0</td>\n",
       "    </tr>\n",
       "    <tr>\n",
       "      <th>67365</th>\n",
       "      <td>5.4</td>\n",
       "      <td>0.0</td>\n",
       "    </tr>\n",
       "    <tr>\n",
       "      <th>51299</th>\n",
       "      <td>7.8</td>\n",
       "      <td>0.0</td>\n",
       "    </tr>\n",
       "  </tbody>\n",
       "</table>\n",
       "</div>"
      ],
      "text/plain": [
       "       SHOT_DIST  3_POINTER\n",
       "51240        8.6        0.0\n",
       "72343       21.9        0.0\n",
       "70873       15.6        0.0\n",
       "67365        5.4        0.0\n",
       "51299        7.8        0.0"
      ]
     },
     "execution_count": 20,
     "metadata": {},
     "output_type": "execute_result"
    }
   ],
   "source": [
    "def binarize_columns(data, colnames, threshold):\n",
    "    \n",
    "    scaler = pp.Binarizer(threshold=threshold)\n",
    "\n",
    "    binarized_data = data\n",
    "    binarized_data['3_POINTER'] = scaler.fit_transform(binarized_data[colnames].values.reshape(-1, 1))\n",
    "    binarized_data = binarized_data[[colnames, '3_POINTER']]\n",
    "    binarized_data_sample = binarized_data.sample(n=5)\n",
    "    \n",
    "    return binarized_data_sample\n",
    "\n",
    "three_point_line = 23.9\n",
    "binarize_columns(data, 'SHOT_DIST', three_point_line)"
   ]
  },
  {
   "cell_type": "code",
   "execution_count": null,
   "metadata": {
    "collapsed": true
   },
   "outputs": [],
   "source": []
  }
 ],
 "metadata": {
  "kernelspec": {
   "display_name": "Python 3",
   "language": "python",
   "name": "python3"
  },
  "language_info": {
   "codemirror_mode": {
    "name": "ipython",
    "version": 3
   },
   "file_extension": ".py",
   "mimetype": "text/x-python",
   "name": "python",
   "nbconvert_exporter": "python",
   "pygments_lexer": "ipython3",
   "version": "3.6.0"
  }
 },
 "nbformat": 4,
 "nbformat_minor": 2
}
