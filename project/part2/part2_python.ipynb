{
 "cells": [
  {
   "cell_type": "code",
   "execution_count": 1,
   "metadata": {},
   "outputs": [],
   "source": [
    "# Import pandas and numpy\n",
    "import pandas as pd\n",
    "import numpy as np\n",
    "import matplotlib.pyplot as plt\n",
    "\n",
    "# Import the classifiers we will be using\n",
    "from sklearn.naive_bayes import GaussianNB\n",
    "from sklearn.neighbors import KNeighborsClassifier\n",
    "from sklearn.tree import DecisionTreeClassifier\n",
    "from sklearn.ensemble import RandomForestClassifier\n",
    "\n",
    "from sklearn import tree\n",
    "\n",
    "# Import train/test split function\n",
    "from sklearn.model_selection import train_test_split\n",
    "\n",
    "# Import cross validation scorer\n",
    "from sklearn.model_selection import cross_val_score\n",
    "\n",
    "# Import ROC AUC scoring function\n",
    "from sklearn.metrics import roc_auc_score\n",
    "\n",
    "from sklearn.model_selection import train_test_split, RandomizedSearchCV, GridSearchCV\n",
    "from sklearn.metrics import classification_report\n",
    "\n",
    "from scipy.stats import randint\n",
    "\n",
    "from sklearn import preprocessing as pp\n",
    "\n",
    "from imblearn.over_sampling import SMOTE "
   ]
  },
  {
   "cell_type": "code",
   "execution_count": 2,
   "metadata": {},
   "outputs": [],
   "source": [
    "def dummy_encode_column(data, colname):\n",
    "    \n",
    "    categorical_feature = data[colname]\n",
    "    data_wd = data.drop(colname,axis=1)\n",
    "    number_of_levels = len(categorical_feature.unique())\n",
    "    \n",
    "    dummy_encode_example = pd.get_dummies(categorical_feature, drop_first=True)\n",
    "    dummy_encode_number_of_cols = dummy_encode_example.shape[1]\n",
    "    \n",
    "    dummy_encode_sample = dummy_encode_example\n",
    "    print(\"There are %s total levels for the categorical variable %s.\" % (number_of_levels, colname))\n",
    "    print(\"There are %s (n-1) columns in the dummy encoded dataframe.\" % dummy_encode_number_of_cols)\n",
    "    data_wd = pd.concat([data_wd, dummy_encode_sample],axis=1)\n",
    "    return data_wd"
   ]
  },
  {
   "cell_type": "code",
   "execution_count": 3,
   "metadata": {},
   "outputs": [],
   "source": [
    "def rescaling_columns(data, colnames):\n",
    "    \n",
    "    scaler = pp.MinMaxScaler()\n",
    "    rescaled_data = data[colnames]\n",
    "    rescaled_data = scaler.fit_transform(rescaled_data)\n",
    "    rescaled_data = pd.DataFrame(rescaled_data, columns=colnames)    \n",
    "    \n",
    "    return rescaled_data"
   ]
  },
  {
   "cell_type": "code",
   "execution_count": 4,
   "metadata": {},
   "outputs": [],
   "source": [
    "def get_knn_parameters(x_train,y_train):\n",
    "    parameter_space = [{\"n_neighbors\":[1,3,5,7,9,11]}]\n",
    "    knn = KNeighborsClassifier()\n",
    "    grid_search = GridSearchCV(knn, parameter_space, cv=10)\n",
    "    grid_search.fit(x_train, y_train)\n",
    "    return grid_search"
   ]
  },
  {
   "cell_type": "code",
   "execution_count": 5,
   "metadata": {},
   "outputs": [],
   "source": [
    "def get_knn_parameters(x_train,y_train):\n",
    "    parameter_space = [{\"n_neighbors\":[1,3,5,7,9,11]}]\n",
    "    knn = KNeighborsClassifier()\n",
    "    grid_search = GridSearchCV(knn, parameter_space, cv=10)\n",
    "    grid_search.fit(x_train, y_train)\n",
    "    return grid_search"
   ]
  },
  {
   "cell_type": "code",
   "execution_count": 6,
   "metadata": {},
   "outputs": [],
   "source": [
    "def pre_processing_knn_crabs():\n",
    "    crabs =  pd.read_csv('../data/crabs.csv')\n",
    "    p_crabs = dummy_encode_column(crabs, 'sex')\n",
    "    #p_crabs = p_crabs.drop(['M'], axis=1)\n",
    "    p_crabs = dummy_encode_column(p_crabs, 'sp')\n",
    "    p_crabs = p_crabs.drop('index',axis=1)\n",
    "    p_crabs = rescaling_columns(p_crabs,p_crabs.columns)\n",
    "    return p_crabs"
   ]
  },
  {
   "cell_type": "code",
   "execution_count": 7,
   "metadata": {},
   "outputs": [],
   "source": [
    "def pre_processing_tree_crabs():\n",
    "    crabs =  pd.read_csv('../data/crabs.csv')\n",
    "    p_crabs = dummy_encode_column(crabs, 'sex')\n",
    "    #p_crabs = crabs.drop(['sex'], axis=1)\n",
    "    p_crabs = dummy_encode_column(p_crabs, 'sp')\n",
    "    p_crabs = p_crabs.drop('index',axis=1)\n",
    "    return p_crabs"
   ]
  },
  {
   "cell_type": "code",
   "execution_count": 8,
   "metadata": {},
   "outputs": [],
   "source": [
    "def pre_processing_naive_crabs():\n",
    "    crabs =  pd.read_csv('../data/crabs.csv')\n",
    "    p_crabs = dummy_encode_column(crabs, 'sex')\n",
    "    #p_crabs = p_crabs.drop(['M'], axis=1)\n",
    "    p_crabs = dummy_encode_column(p_crabs, 'sp')\n",
    "    p_crabs = p_crabs.drop('index',axis=1)\n",
    "    return p_crabs"
   ]
  },
  {
   "cell_type": "code",
   "execution_count": 9,
   "metadata": {},
   "outputs": [],
   "source": [
    "def pre_processing_knn_noshows():\n",
    "    noshows =  pd.read_csv('../data/noshows.csv')\n",
    "    p_noshows = noshows.drop(['PatientId', 'AppointmentID','ScheduledDay'],axis=1)\n",
    "    p_noshows['AppointmentDay'] = p_noshows['AppointmentDay'].apply(lambda x: str(x).split(\"T\")[0])\n",
    "    p_noshows['AppointmentDay'] = p_noshows['AppointmentDay'].apply(lambda x: str(x).split(\"2016-\")[1])\n",
    "    p_noshows = dummy_encode_column(p_noshows, 'AppointmentDay')\n",
    "    p_noshows = dummy_encode_column(p_noshows, 'Neighbourhood')\n",
    "    p_noshows['No-show'] = p_noshows['No-show'].map({'Yes':1,'No':0})\n",
    "    p_noshows['Gender'] = p_noshows['Gender'].map({'M':1,'F':0})\n",
    "    return p_noshows"
   ]
  },
  {
   "cell_type": "code",
   "execution_count": 10,
   "metadata": {},
   "outputs": [],
   "source": [
    "%matplotlib notebook\n",
    "plt.style.use('seaborn')"
   ]
  },
  {
   "cell_type": "markdown",
   "metadata": {},
   "source": [
    "## load data"
   ]
  },
  {
   "cell_type": "code",
   "execution_count": 11,
   "metadata": {},
   "outputs": [
    {
     "data": {
      "text/plain": [
       "(200, 8)"
      ]
     },
     "execution_count": 11,
     "metadata": {},
     "output_type": "execute_result"
    }
   ],
   "source": [
    "crabs =  pd.read_csv('../data/crabs.csv')\n",
    "crabs.shape"
   ]
  },
  {
   "cell_type": "code",
   "execution_count": 12,
   "metadata": {},
   "outputs": [
    {
     "data": {
      "text/html": [
       "<div>\n",
       "<style>\n",
       "    .dataframe thead tr:only-child th {\n",
       "        text-align: right;\n",
       "    }\n",
       "\n",
       "    .dataframe thead th {\n",
       "        text-align: left;\n",
       "    }\n",
       "\n",
       "    .dataframe tbody tr th {\n",
       "        vertical-align: top;\n",
       "    }\n",
       "</style>\n",
       "<table border=\"1\" class=\"dataframe\">\n",
       "  <thead>\n",
       "    <tr style=\"text-align: right;\">\n",
       "      <th></th>\n",
       "      <th>sp</th>\n",
       "      <th>sex</th>\n",
       "      <th>index</th>\n",
       "      <th>FL</th>\n",
       "      <th>RW</th>\n",
       "      <th>CL</th>\n",
       "      <th>CW</th>\n",
       "      <th>BD</th>\n",
       "    </tr>\n",
       "  </thead>\n",
       "  <tbody>\n",
       "    <tr>\n",
       "      <th>0</th>\n",
       "      <td>B</td>\n",
       "      <td>M</td>\n",
       "      <td>1</td>\n",
       "      <td>8.1</td>\n",
       "      <td>6.7</td>\n",
       "      <td>16.1</td>\n",
       "      <td>19.0</td>\n",
       "      <td>7.0</td>\n",
       "    </tr>\n",
       "    <tr>\n",
       "      <th>1</th>\n",
       "      <td>B</td>\n",
       "      <td>M</td>\n",
       "      <td>2</td>\n",
       "      <td>8.8</td>\n",
       "      <td>7.7</td>\n",
       "      <td>18.1</td>\n",
       "      <td>20.8</td>\n",
       "      <td>7.4</td>\n",
       "    </tr>\n",
       "    <tr>\n",
       "      <th>2</th>\n",
       "      <td>B</td>\n",
       "      <td>M</td>\n",
       "      <td>3</td>\n",
       "      <td>9.2</td>\n",
       "      <td>7.8</td>\n",
       "      <td>19.0</td>\n",
       "      <td>22.4</td>\n",
       "      <td>7.7</td>\n",
       "    </tr>\n",
       "  </tbody>\n",
       "</table>\n",
       "</div>"
      ],
      "text/plain": [
       "  sp sex  index   FL   RW    CL    CW   BD\n",
       "0  B   M      1  8.1  6.7  16.1  19.0  7.0\n",
       "1  B   M      2  8.8  7.7  18.1  20.8  7.4\n",
       "2  B   M      3  9.2  7.8  19.0  22.4  7.7"
      ]
     },
     "execution_count": 12,
     "metadata": {},
     "output_type": "execute_result"
    }
   ],
   "source": [
    "crabs.head(3)"
   ]
  },
  {
   "cell_type": "code",
   "execution_count": 13,
   "metadata": {},
   "outputs": [
    {
     "data": {
      "text/plain": [
       "(110527, 14)"
      ]
     },
     "execution_count": 13,
     "metadata": {},
     "output_type": "execute_result"
    }
   ],
   "source": [
    "noshows =  pd.read_csv('../data/noshows.csv')\n",
    "noshows.shape"
   ]
  },
  {
   "cell_type": "code",
   "execution_count": 14,
   "metadata": {},
   "outputs": [
    {
     "data": {
      "text/html": [
       "<div>\n",
       "<style>\n",
       "    .dataframe thead tr:only-child th {\n",
       "        text-align: right;\n",
       "    }\n",
       "\n",
       "    .dataframe thead th {\n",
       "        text-align: left;\n",
       "    }\n",
       "\n",
       "    .dataframe tbody tr th {\n",
       "        vertical-align: top;\n",
       "    }\n",
       "</style>\n",
       "<table border=\"1\" class=\"dataframe\">\n",
       "  <thead>\n",
       "    <tr style=\"text-align: right;\">\n",
       "      <th></th>\n",
       "      <th>PatientId</th>\n",
       "      <th>AppointmentID</th>\n",
       "      <th>Gender</th>\n",
       "      <th>ScheduledDay</th>\n",
       "      <th>AppointmentDay</th>\n",
       "      <th>Age</th>\n",
       "      <th>Neighbourhood</th>\n",
       "      <th>Scholarship</th>\n",
       "      <th>Hipertension</th>\n",
       "      <th>Diabetes</th>\n",
       "      <th>Alcoholism</th>\n",
       "      <th>Handcap</th>\n",
       "      <th>SMS_received</th>\n",
       "      <th>No-show</th>\n",
       "    </tr>\n",
       "  </thead>\n",
       "  <tbody>\n",
       "    <tr>\n",
       "      <th>0</th>\n",
       "      <td>2.987250e+13</td>\n",
       "      <td>5642903</td>\n",
       "      <td>F</td>\n",
       "      <td>2016-04-29T18:38:08Z</td>\n",
       "      <td>2016-04-29T00:00:00Z</td>\n",
       "      <td>62</td>\n",
       "      <td>JARDIM DA PENHA</td>\n",
       "      <td>0</td>\n",
       "      <td>1</td>\n",
       "      <td>0</td>\n",
       "      <td>0</td>\n",
       "      <td>0</td>\n",
       "      <td>0</td>\n",
       "      <td>No</td>\n",
       "    </tr>\n",
       "    <tr>\n",
       "      <th>1</th>\n",
       "      <td>5.589980e+14</td>\n",
       "      <td>5642503</td>\n",
       "      <td>M</td>\n",
       "      <td>2016-04-29T16:08:27Z</td>\n",
       "      <td>2016-04-29T00:00:00Z</td>\n",
       "      <td>56</td>\n",
       "      <td>JARDIM DA PENHA</td>\n",
       "      <td>0</td>\n",
       "      <td>0</td>\n",
       "      <td>0</td>\n",
       "      <td>0</td>\n",
       "      <td>0</td>\n",
       "      <td>0</td>\n",
       "      <td>No</td>\n",
       "    </tr>\n",
       "    <tr>\n",
       "      <th>2</th>\n",
       "      <td>4.262960e+12</td>\n",
       "      <td>5642549</td>\n",
       "      <td>F</td>\n",
       "      <td>2016-04-29T16:19:04Z</td>\n",
       "      <td>2016-04-29T00:00:00Z</td>\n",
       "      <td>62</td>\n",
       "      <td>MATA DA PRAIA</td>\n",
       "      <td>0</td>\n",
       "      <td>0</td>\n",
       "      <td>0</td>\n",
       "      <td>0</td>\n",
       "      <td>0</td>\n",
       "      <td>0</td>\n",
       "      <td>No</td>\n",
       "    </tr>\n",
       "  </tbody>\n",
       "</table>\n",
       "</div>"
      ],
      "text/plain": [
       "      PatientId  AppointmentID Gender          ScheduledDay  \\\n",
       "0  2.987250e+13        5642903      F  2016-04-29T18:38:08Z   \n",
       "1  5.589980e+14        5642503      M  2016-04-29T16:08:27Z   \n",
       "2  4.262960e+12        5642549      F  2016-04-29T16:19:04Z   \n",
       "\n",
       "         AppointmentDay  Age    Neighbourhood  Scholarship  Hipertension  \\\n",
       "0  2016-04-29T00:00:00Z   62  JARDIM DA PENHA            0             1   \n",
       "1  2016-04-29T00:00:00Z   56  JARDIM DA PENHA            0             0   \n",
       "2  2016-04-29T00:00:00Z   62    MATA DA PRAIA            0             0   \n",
       "\n",
       "   Diabetes  Alcoholism  Handcap  SMS_received No-show  \n",
       "0         0           0        0             0      No  \n",
       "1         0           0        0             0      No  \n",
       "2         0           0        0             0      No  "
      ]
     },
     "execution_count": 14,
     "metadata": {},
     "output_type": "execute_result"
    }
   ],
   "source": [
    "noshows.head(3)"
   ]
  },
  {
   "cell_type": "markdown",
   "metadata": {},
   "source": [
    "## 1 - Pre-processing"
   ]
  },
  {
   "cell_type": "markdown",
   "metadata": {},
   "source": [
    "### 1.1 crabs"
   ]
  },
  {
   "cell_type": "markdown",
   "metadata": {},
   "source": [
    "#### 1.1.1 knn"
   ]
  },
  {
   "cell_type": "code",
   "execution_count": 15,
   "metadata": {},
   "outputs": [
    {
     "name": "stdout",
     "output_type": "stream",
     "text": [
      "There are 2 total levels for the categorical variable sex.\n",
      "There are 1 (n-1) columns in the dummy encoded dataframe.\n",
      "There are 2 total levels for the categorical variable sp.\n",
      "There are 1 (n-1) columns in the dummy encoded dataframe.\n"
     ]
    },
    {
     "data": {
      "text/html": [
       "<div>\n",
       "<style>\n",
       "    .dataframe thead tr:only-child th {\n",
       "        text-align: right;\n",
       "    }\n",
       "\n",
       "    .dataframe thead th {\n",
       "        text-align: left;\n",
       "    }\n",
       "\n",
       "    .dataframe tbody tr th {\n",
       "        vertical-align: top;\n",
       "    }\n",
       "</style>\n",
       "<table border=\"1\" class=\"dataframe\">\n",
       "  <thead>\n",
       "    <tr style=\"text-align: right;\">\n",
       "      <th></th>\n",
       "      <th>FL</th>\n",
       "      <th>RW</th>\n",
       "      <th>CL</th>\n",
       "      <th>CW</th>\n",
       "      <th>BD</th>\n",
       "      <th>M</th>\n",
       "      <th>O</th>\n",
       "    </tr>\n",
       "  </thead>\n",
       "  <tbody>\n",
       "    <tr>\n",
       "      <th>0</th>\n",
       "      <td>0.056604</td>\n",
       "      <td>0.014599</td>\n",
       "      <td>0.042553</td>\n",
       "      <td>0.050667</td>\n",
       "      <td>0.058065</td>\n",
       "      <td>1.0</td>\n",
       "      <td>0.0</td>\n",
       "    </tr>\n",
       "    <tr>\n",
       "      <th>1</th>\n",
       "      <td>0.100629</td>\n",
       "      <td>0.087591</td>\n",
       "      <td>0.103343</td>\n",
       "      <td>0.098667</td>\n",
       "      <td>0.083871</td>\n",
       "      <td>1.0</td>\n",
       "      <td>0.0</td>\n",
       "    </tr>\n",
       "    <tr>\n",
       "      <th>2</th>\n",
       "      <td>0.125786</td>\n",
       "      <td>0.094891</td>\n",
       "      <td>0.130699</td>\n",
       "      <td>0.141333</td>\n",
       "      <td>0.103226</td>\n",
       "      <td>1.0</td>\n",
       "      <td>0.0</td>\n",
       "    </tr>\n",
       "  </tbody>\n",
       "</table>\n",
       "</div>"
      ],
      "text/plain": [
       "         FL        RW        CL        CW        BD    M    O\n",
       "0  0.056604  0.014599  0.042553  0.050667  0.058065  1.0  0.0\n",
       "1  0.100629  0.087591  0.103343  0.098667  0.083871  1.0  0.0\n",
       "2  0.125786  0.094891  0.130699  0.141333  0.103226  1.0  0.0"
      ]
     },
     "execution_count": 15,
     "metadata": {},
     "output_type": "execute_result"
    }
   ],
   "source": [
    "p_crabs_knn = pre_processing_knn_crabs()\n",
    "p_crabs_knn.head(3)"
   ]
  },
  {
   "cell_type": "markdown",
   "metadata": {},
   "source": [
    "#### 1.1.2 Naïve Bayes"
   ]
  },
  {
   "cell_type": "code",
   "execution_count": 16,
   "metadata": {},
   "outputs": [
    {
     "name": "stdout",
     "output_type": "stream",
     "text": [
      "There are 2 total levels for the categorical variable sex.\n",
      "There are 1 (n-1) columns in the dummy encoded dataframe.\n",
      "There are 2 total levels for the categorical variable sp.\n",
      "There are 1 (n-1) columns in the dummy encoded dataframe.\n"
     ]
    },
    {
     "data": {
      "text/html": [
       "<div>\n",
       "<style>\n",
       "    .dataframe thead tr:only-child th {\n",
       "        text-align: right;\n",
       "    }\n",
       "\n",
       "    .dataframe thead th {\n",
       "        text-align: left;\n",
       "    }\n",
       "\n",
       "    .dataframe tbody tr th {\n",
       "        vertical-align: top;\n",
       "    }\n",
       "</style>\n",
       "<table border=\"1\" class=\"dataframe\">\n",
       "  <thead>\n",
       "    <tr style=\"text-align: right;\">\n",
       "      <th></th>\n",
       "      <th>FL</th>\n",
       "      <th>RW</th>\n",
       "      <th>CL</th>\n",
       "      <th>CW</th>\n",
       "      <th>BD</th>\n",
       "      <th>M</th>\n",
       "      <th>O</th>\n",
       "    </tr>\n",
       "  </thead>\n",
       "  <tbody>\n",
       "    <tr>\n",
       "      <th>0</th>\n",
       "      <td>8.1</td>\n",
       "      <td>6.7</td>\n",
       "      <td>16.1</td>\n",
       "      <td>19.0</td>\n",
       "      <td>7.0</td>\n",
       "      <td>1</td>\n",
       "      <td>0</td>\n",
       "    </tr>\n",
       "    <tr>\n",
       "      <th>1</th>\n",
       "      <td>8.8</td>\n",
       "      <td>7.7</td>\n",
       "      <td>18.1</td>\n",
       "      <td>20.8</td>\n",
       "      <td>7.4</td>\n",
       "      <td>1</td>\n",
       "      <td>0</td>\n",
       "    </tr>\n",
       "    <tr>\n",
       "      <th>2</th>\n",
       "      <td>9.2</td>\n",
       "      <td>7.8</td>\n",
       "      <td>19.0</td>\n",
       "      <td>22.4</td>\n",
       "      <td>7.7</td>\n",
       "      <td>1</td>\n",
       "      <td>0</td>\n",
       "    </tr>\n",
       "  </tbody>\n",
       "</table>\n",
       "</div>"
      ],
      "text/plain": [
       "    FL   RW    CL    CW   BD  M  O\n",
       "0  8.1  6.7  16.1  19.0  7.0  1  0\n",
       "1  8.8  7.7  18.1  20.8  7.4  1  0\n",
       "2  9.2  7.8  19.0  22.4  7.7  1  0"
      ]
     },
     "execution_count": 16,
     "metadata": {},
     "output_type": "execute_result"
    }
   ],
   "source": [
    "p_crabs_naive = pre_processing_naive_crabs()\n",
    "p_crabs_naive.head(3)"
   ]
  },
  {
   "cell_type": "markdown",
   "metadata": {},
   "source": [
    "#### 1.1.3 Decision Tree"
   ]
  },
  {
   "cell_type": "code",
   "execution_count": 17,
   "metadata": {},
   "outputs": [
    {
     "name": "stdout",
     "output_type": "stream",
     "text": [
      "There are 2 total levels for the categorical variable sex.\n",
      "There are 1 (n-1) columns in the dummy encoded dataframe.\n",
      "There are 2 total levels for the categorical variable sp.\n",
      "There are 1 (n-1) columns in the dummy encoded dataframe.\n"
     ]
    },
    {
     "data": {
      "text/html": [
       "<div>\n",
       "<style>\n",
       "    .dataframe thead tr:only-child th {\n",
       "        text-align: right;\n",
       "    }\n",
       "\n",
       "    .dataframe thead th {\n",
       "        text-align: left;\n",
       "    }\n",
       "\n",
       "    .dataframe tbody tr th {\n",
       "        vertical-align: top;\n",
       "    }\n",
       "</style>\n",
       "<table border=\"1\" class=\"dataframe\">\n",
       "  <thead>\n",
       "    <tr style=\"text-align: right;\">\n",
       "      <th></th>\n",
       "      <th>FL</th>\n",
       "      <th>RW</th>\n",
       "      <th>CL</th>\n",
       "      <th>CW</th>\n",
       "      <th>BD</th>\n",
       "      <th>M</th>\n",
       "      <th>O</th>\n",
       "    </tr>\n",
       "  </thead>\n",
       "  <tbody>\n",
       "    <tr>\n",
       "      <th>0</th>\n",
       "      <td>8.1</td>\n",
       "      <td>6.7</td>\n",
       "      <td>16.1</td>\n",
       "      <td>19.0</td>\n",
       "      <td>7.0</td>\n",
       "      <td>1</td>\n",
       "      <td>0</td>\n",
       "    </tr>\n",
       "    <tr>\n",
       "      <th>1</th>\n",
       "      <td>8.8</td>\n",
       "      <td>7.7</td>\n",
       "      <td>18.1</td>\n",
       "      <td>20.8</td>\n",
       "      <td>7.4</td>\n",
       "      <td>1</td>\n",
       "      <td>0</td>\n",
       "    </tr>\n",
       "    <tr>\n",
       "      <th>2</th>\n",
       "      <td>9.2</td>\n",
       "      <td>7.8</td>\n",
       "      <td>19.0</td>\n",
       "      <td>22.4</td>\n",
       "      <td>7.7</td>\n",
       "      <td>1</td>\n",
       "      <td>0</td>\n",
       "    </tr>\n",
       "  </tbody>\n",
       "</table>\n",
       "</div>"
      ],
      "text/plain": [
       "    FL   RW    CL    CW   BD  M  O\n",
       "0  8.1  6.7  16.1  19.0  7.0  1  0\n",
       "1  8.8  7.7  18.1  20.8  7.4  1  0\n",
       "2  9.2  7.8  19.0  22.4  7.7  1  0"
      ]
     },
     "execution_count": 17,
     "metadata": {},
     "output_type": "execute_result"
    }
   ],
   "source": [
    "p_crabs_tree = pre_processing_tree_crabs()\n",
    "p_crabs_tree.head(3)"
   ]
  },
  {
   "cell_type": "code",
   "execution_count": null,
   "metadata": {},
   "outputs": [],
   "source": []
  },
  {
   "cell_type": "code",
   "execution_count": null,
   "metadata": {},
   "outputs": [],
   "source": []
  },
  {
   "cell_type": "code",
   "execution_count": null,
   "metadata": {},
   "outputs": [],
   "source": []
  },
  {
   "cell_type": "code",
   "execution_count": null,
   "metadata": {},
   "outputs": [],
   "source": []
  },
  {
   "cell_type": "code",
   "execution_count": null,
   "metadata": {},
   "outputs": [],
   "source": []
  },
  {
   "cell_type": "code",
   "execution_count": null,
   "metadata": {},
   "outputs": [],
   "source": []
  },
  {
   "cell_type": "markdown",
   "metadata": {},
   "source": [
    "### 1.2 noshows"
   ]
  },
  {
   "cell_type": "code",
   "execution_count": 18,
   "metadata": {},
   "outputs": [
    {
     "name": "stdout",
     "output_type": "stream",
     "text": [
      "There are 27 total levels for the categorical variable AppointmentDay.\n",
      "There are 26 (n-1) columns in the dummy encoded dataframe.\n",
      "There are 81 total levels for the categorical variable Neighbourhood.\n",
      "There are 80 (n-1) columns in the dummy encoded dataframe.\n"
     ]
    },
    {
     "data": {
      "text/html": [
       "<div>\n",
       "<style>\n",
       "    .dataframe thead tr:only-child th {\n",
       "        text-align: right;\n",
       "    }\n",
       "\n",
       "    .dataframe thead th {\n",
       "        text-align: left;\n",
       "    }\n",
       "\n",
       "    .dataframe tbody tr th {\n",
       "        vertical-align: top;\n",
       "    }\n",
       "</style>\n",
       "<table border=\"1\" class=\"dataframe\">\n",
       "  <thead>\n",
       "    <tr style=\"text-align: right;\">\n",
       "      <th></th>\n",
       "      <th>Gender</th>\n",
       "      <th>Age</th>\n",
       "      <th>Scholarship</th>\n",
       "      <th>Hipertension</th>\n",
       "      <th>Diabetes</th>\n",
       "      <th>Alcoholism</th>\n",
       "      <th>Handcap</th>\n",
       "      <th>SMS_received</th>\n",
       "      <th>No-show</th>\n",
       "      <th>05-02</th>\n",
       "      <th>...</th>\n",
       "      <th>SANTOS REIS</th>\n",
       "      <th>SAO BENEDITO</th>\n",
       "      <th>SAO CRISTOVAO</th>\n",
       "      <th>SAO JOSE</th>\n",
       "      <th>SAO PEDRO</th>\n",
       "      <th>SEGURANCA DO LAR</th>\n",
       "      <th>SOLON BORGES</th>\n",
       "      <th>TABUAZEIRO</th>\n",
       "      <th>UNIVERSITARIO</th>\n",
       "      <th>VILA RUBIM</th>\n",
       "    </tr>\n",
       "  </thead>\n",
       "  <tbody>\n",
       "    <tr>\n",
       "      <th>0</th>\n",
       "      <td>0</td>\n",
       "      <td>62</td>\n",
       "      <td>0</td>\n",
       "      <td>1</td>\n",
       "      <td>0</td>\n",
       "      <td>0</td>\n",
       "      <td>0</td>\n",
       "      <td>0</td>\n",
       "      <td>0</td>\n",
       "      <td>0</td>\n",
       "      <td>...</td>\n",
       "      <td>0</td>\n",
       "      <td>0</td>\n",
       "      <td>0</td>\n",
       "      <td>0</td>\n",
       "      <td>0</td>\n",
       "      <td>0</td>\n",
       "      <td>0</td>\n",
       "      <td>0</td>\n",
       "      <td>0</td>\n",
       "      <td>0</td>\n",
       "    </tr>\n",
       "    <tr>\n",
       "      <th>1</th>\n",
       "      <td>1</td>\n",
       "      <td>56</td>\n",
       "      <td>0</td>\n",
       "      <td>0</td>\n",
       "      <td>0</td>\n",
       "      <td>0</td>\n",
       "      <td>0</td>\n",
       "      <td>0</td>\n",
       "      <td>0</td>\n",
       "      <td>0</td>\n",
       "      <td>...</td>\n",
       "      <td>0</td>\n",
       "      <td>0</td>\n",
       "      <td>0</td>\n",
       "      <td>0</td>\n",
       "      <td>0</td>\n",
       "      <td>0</td>\n",
       "      <td>0</td>\n",
       "      <td>0</td>\n",
       "      <td>0</td>\n",
       "      <td>0</td>\n",
       "    </tr>\n",
       "  </tbody>\n",
       "</table>\n",
       "<p>2 rows × 115 columns</p>\n",
       "</div>"
      ],
      "text/plain": [
       "   Gender  Age  Scholarship  Hipertension  Diabetes  Alcoholism  Handcap  \\\n",
       "0       0   62            0             1         0           0        0   \n",
       "1       1   56            0             0         0           0        0   \n",
       "\n",
       "   SMS_received  No-show  05-02     ...      SANTOS REIS  SAO BENEDITO  \\\n",
       "0             0        0      0     ...                0             0   \n",
       "1             0        0      0     ...                0             0   \n",
       "\n",
       "   SAO CRISTOVAO  SAO JOSE  SAO PEDRO  SEGURANCA DO LAR  SOLON BORGES  \\\n",
       "0              0         0          0                 0             0   \n",
       "1              0         0          0                 0             0   \n",
       "\n",
       "   TABUAZEIRO  UNIVERSITARIO  VILA RUBIM  \n",
       "0           0              0           0  \n",
       "1           0              0           0  \n",
       "\n",
       "[2 rows x 115 columns]"
      ]
     },
     "execution_count": 18,
     "metadata": {},
     "output_type": "execute_result"
    }
   ],
   "source": [
    "noshows = pre_processing_knn_noshows()\n",
    "noshows.head(2)"
   ]
  },
  {
   "cell_type": "code",
   "execution_count": 19,
   "metadata": {},
   "outputs": [
    {
     "data": {
      "text/plain": [
       "Index(['Gender', 'Age', 'Scholarship', 'Hipertension', 'Diabetes',\n",
       "       'Alcoholism', 'Handcap', 'SMS_received', 'No-show', '05-02',\n",
       "       ...\n",
       "       'SANTOS REIS', 'SAO BENEDITO', 'SAO CRISTOVAO', 'SAO JOSE', 'SAO PEDRO',\n",
       "       'SEGURANCA DO LAR', 'SOLON BORGES', 'TABUAZEIRO', 'UNIVERSITARIO',\n",
       "       'VILA RUBIM'],\n",
       "      dtype='object', length=115)"
      ]
     },
     "execution_count": 19,
     "metadata": {},
     "output_type": "execute_result"
    }
   ],
   "source": [
    "noshows.columns"
   ]
  },
  {
   "cell_type": "code",
   "execution_count": 20,
   "metadata": {},
   "outputs": [
    {
     "data": {
      "text/plain": [
       "0    88208\n",
       "1    22319\n",
       "Name: No-show, dtype: int64"
      ]
     },
     "execution_count": 20,
     "metadata": {},
     "output_type": "execute_result"
    }
   ],
   "source": [
    "f_noshows = noshows.drop(['No-show'], axis=1)\n",
    "t_noshows = noshows['No-show']\n",
    "t_noshows.value_counts()"
   ]
  },
  {
   "cell_type": "code",
   "execution_count": 21,
   "metadata": {},
   "outputs": [],
   "source": [
    "x_noshows_train, x_noshows_test, y_noshows_train, y_noshows_test = train_test_split(f_noshows, t_noshows, test_size=0.3, random_state=0)"
   ]
  },
  {
   "cell_type": "code",
   "execution_count": 22,
   "metadata": {},
   "outputs": [
    {
     "data": {
      "text/html": [
       "<div>\n",
       "<style>\n",
       "    .dataframe thead tr:only-child th {\n",
       "        text-align: right;\n",
       "    }\n",
       "\n",
       "    .dataframe thead th {\n",
       "        text-align: left;\n",
       "    }\n",
       "\n",
       "    .dataframe tbody tr th {\n",
       "        vertical-align: top;\n",
       "    }\n",
       "</style>\n",
       "<table border=\"1\" class=\"dataframe\">\n",
       "  <thead>\n",
       "    <tr style=\"text-align: right;\">\n",
       "      <th></th>\n",
       "      <th>Gender</th>\n",
       "      <th>Age</th>\n",
       "      <th>Scholarship</th>\n",
       "      <th>Hipertension</th>\n",
       "      <th>Diabetes</th>\n",
       "      <th>Alcoholism</th>\n",
       "      <th>Handcap</th>\n",
       "      <th>SMS_received</th>\n",
       "      <th>05-02</th>\n",
       "      <th>05-03</th>\n",
       "      <th>...</th>\n",
       "      <th>SAO BENEDITO</th>\n",
       "      <th>SAO CRISTOVAO</th>\n",
       "      <th>SAO JOSE</th>\n",
       "      <th>SAO PEDRO</th>\n",
       "      <th>SEGURANCA DO LAR</th>\n",
       "      <th>SOLON BORGES</th>\n",
       "      <th>TABUAZEIRO</th>\n",
       "      <th>UNIVERSITARIO</th>\n",
       "      <th>VILA RUBIM</th>\n",
       "      <th>No-show</th>\n",
       "    </tr>\n",
       "  </thead>\n",
       "  <tbody>\n",
       "    <tr>\n",
       "      <th>108316</th>\n",
       "      <td>0</td>\n",
       "      <td>29</td>\n",
       "      <td>0</td>\n",
       "      <td>0</td>\n",
       "      <td>0</td>\n",
       "      <td>0</td>\n",
       "      <td>0</td>\n",
       "      <td>1</td>\n",
       "      <td>0</td>\n",
       "      <td>0</td>\n",
       "      <td>...</td>\n",
       "      <td>0</td>\n",
       "      <td>0</td>\n",
       "      <td>0</td>\n",
       "      <td>0</td>\n",
       "      <td>0</td>\n",
       "      <td>0</td>\n",
       "      <td>0</td>\n",
       "      <td>0</td>\n",
       "      <td>0</td>\n",
       "      <td>1</td>\n",
       "    </tr>\n",
       "    <tr>\n",
       "      <th>104814</th>\n",
       "      <td>1</td>\n",
       "      <td>46</td>\n",
       "      <td>0</td>\n",
       "      <td>1</td>\n",
       "      <td>0</td>\n",
       "      <td>0</td>\n",
       "      <td>0</td>\n",
       "      <td>1</td>\n",
       "      <td>0</td>\n",
       "      <td>0</td>\n",
       "      <td>...</td>\n",
       "      <td>0</td>\n",
       "      <td>0</td>\n",
       "      <td>0</td>\n",
       "      <td>1</td>\n",
       "      <td>0</td>\n",
       "      <td>0</td>\n",
       "      <td>0</td>\n",
       "      <td>0</td>\n",
       "      <td>0</td>\n",
       "      <td>1</td>\n",
       "    </tr>\n",
       "    <tr>\n",
       "      <th>57895</th>\n",
       "      <td>0</td>\n",
       "      <td>25</td>\n",
       "      <td>0</td>\n",
       "      <td>0</td>\n",
       "      <td>0</td>\n",
       "      <td>0</td>\n",
       "      <td>0</td>\n",
       "      <td>0</td>\n",
       "      <td>0</td>\n",
       "      <td>0</td>\n",
       "      <td>...</td>\n",
       "      <td>0</td>\n",
       "      <td>0</td>\n",
       "      <td>0</td>\n",
       "      <td>0</td>\n",
       "      <td>0</td>\n",
       "      <td>0</td>\n",
       "      <td>0</td>\n",
       "      <td>0</td>\n",
       "      <td>0</td>\n",
       "      <td>1</td>\n",
       "    </tr>\n",
       "    <tr>\n",
       "      <th>25669</th>\n",
       "      <td>1</td>\n",
       "      <td>12</td>\n",
       "      <td>0</td>\n",
       "      <td>0</td>\n",
       "      <td>0</td>\n",
       "      <td>0</td>\n",
       "      <td>0</td>\n",
       "      <td>1</td>\n",
       "      <td>0</td>\n",
       "      <td>0</td>\n",
       "      <td>...</td>\n",
       "      <td>0</td>\n",
       "      <td>0</td>\n",
       "      <td>0</td>\n",
       "      <td>0</td>\n",
       "      <td>0</td>\n",
       "      <td>0</td>\n",
       "      <td>0</td>\n",
       "      <td>0</td>\n",
       "      <td>0</td>\n",
       "      <td>0</td>\n",
       "    </tr>\n",
       "    <tr>\n",
       "      <th>29717</th>\n",
       "      <td>0</td>\n",
       "      <td>26</td>\n",
       "      <td>0</td>\n",
       "      <td>0</td>\n",
       "      <td>0</td>\n",
       "      <td>0</td>\n",
       "      <td>0</td>\n",
       "      <td>0</td>\n",
       "      <td>0</td>\n",
       "      <td>0</td>\n",
       "      <td>...</td>\n",
       "      <td>0</td>\n",
       "      <td>0</td>\n",
       "      <td>0</td>\n",
       "      <td>1</td>\n",
       "      <td>0</td>\n",
       "      <td>0</td>\n",
       "      <td>0</td>\n",
       "      <td>0</td>\n",
       "      <td>0</td>\n",
       "      <td>0</td>\n",
       "    </tr>\n",
       "  </tbody>\n",
       "</table>\n",
       "<p>5 rows × 115 columns</p>\n",
       "</div>"
      ],
      "text/plain": [
       "        Gender  Age  Scholarship  Hipertension  Diabetes  Alcoholism  Handcap  \\\n",
       "108316       0   29            0             0         0           0        0   \n",
       "104814       1   46            0             1         0           0        0   \n",
       "57895        0   25            0             0         0           0        0   \n",
       "25669        1   12            0             0         0           0        0   \n",
       "29717        0   26            0             0         0           0        0   \n",
       "\n",
       "        SMS_received  05-02  05-03   ...     SAO BENEDITO  SAO CRISTOVAO  \\\n",
       "108316             1      0      0   ...                0              0   \n",
       "104814             1      0      0   ...                0              0   \n",
       "57895              0      0      0   ...                0              0   \n",
       "25669              1      0      0   ...                0              0   \n",
       "29717              0      0      0   ...                0              0   \n",
       "\n",
       "        SAO JOSE  SAO PEDRO  SEGURANCA DO LAR  SOLON BORGES  TABUAZEIRO  \\\n",
       "108316         0          0                 0             0           0   \n",
       "104814         0          1                 0             0           0   \n",
       "57895          0          0                 0             0           0   \n",
       "25669          0          0                 0             0           0   \n",
       "29717          0          1                 0             0           0   \n",
       "\n",
       "        UNIVERSITARIO  VILA RUBIM  No-show  \n",
       "108316              0           0        1  \n",
       "104814              0           0        1  \n",
       "57895               0           0        1  \n",
       "25669               0           0        0  \n",
       "29717               0           0        0  \n",
       "\n",
       "[5 rows x 115 columns]"
      ]
     },
     "execution_count": 22,
     "metadata": {},
     "output_type": "execute_result"
    }
   ],
   "source": [
    "aux = pd.concat([x_noshows_train, y_noshows_train], axis=1)\n",
    "\n",
    "aux.head()"
   ]
  },
  {
   "cell_type": "code",
   "execution_count": 23,
   "metadata": {},
   "outputs": [],
   "source": [
    "sm = SMOTE(random_state=42)\n",
    "X_res, y_res = sm.fit_sample(x_noshows_train, y_noshows_train)"
   ]
  },
  {
   "cell_type": "code",
   "execution_count": 24,
   "metadata": {},
   "outputs": [
    {
     "data": {
      "text/plain": [
       "numpy.ndarray"
      ]
     },
     "execution_count": 24,
     "metadata": {},
     "output_type": "execute_result"
    }
   ],
   "source": [
    "type(X_res)"
   ]
  },
  {
   "cell_type": "code",
   "execution_count": 25,
   "metadata": {},
   "outputs": [],
   "source": [
    "x_noshows_train_sm = pd.DataFrame(data=X_res[0:,0:], columns=x_noshows_train.columns)\n",
    "y_noshows_train_sm = pd.DataFrame(data=y_res[0:],columns=['ns'])"
   ]
  },
  {
   "cell_type": "code",
   "execution_count": 26,
   "metadata": {},
   "outputs": [],
   "source": [
    "aux_xpto = pd.concat([x_noshows_train_sm, y_noshows_train], axis=1)"
   ]
  },
  {
   "cell_type": "code",
   "execution_count": 27,
   "metadata": {},
   "outputs": [],
   "source": [
    "aux_xpto.to_csv(\"noshows_smote.csv\", sep='\\t', encoding='utf-8')"
   ]
  },
  {
   "cell_type": "code",
   "execution_count": 28,
   "metadata": {},
   "outputs": [
    {
     "data": {
      "text/plain": [
       "pandas.core.frame.DataFrame"
      ]
     },
     "execution_count": 28,
     "metadata": {},
     "output_type": "execute_result"
    }
   ],
   "source": [
    "type(y_noshows_train_sm)"
   ]
  },
  {
   "cell_type": "markdown",
   "metadata": {},
   "source": [
    "## 2 - KNN\n",
    "### 2.1 crabs.csv"
   ]
  },
  {
   "cell_type": "code",
   "execution_count": 29,
   "metadata": {},
   "outputs": [],
   "source": [
    "f_crabs = p_crabs_knn.drop(['O'], axis=1)\n",
    "t_crabs = p_crabs_knn['O']"
   ]
  },
  {
   "cell_type": "code",
   "execution_count": 30,
   "metadata": {},
   "outputs": [],
   "source": [
    "x_crabs_train, x_crabs_test, y_crabs_train, y_crabs_test = train_test_split(f_crabs, t_crabs, test_size=0.3, random_state=0)"
   ]
  },
  {
   "cell_type": "code",
   "execution_count": 31,
   "metadata": {},
   "outputs": [],
   "source": [
    "grid_search_1 = get_knn_parameters(x_crabs_train,y_crabs_train)"
   ]
  },
  {
   "cell_type": "code",
   "execution_count": 32,
   "metadata": {},
   "outputs": [
    {
     "data": {
      "text/plain": [
       "{'n_neighbors': 1}"
      ]
     },
     "execution_count": 32,
     "metadata": {},
     "output_type": "execute_result"
    }
   ],
   "source": [
    "grid_search_1.best_params_"
   ]
  },
  {
   "cell_type": "code",
   "execution_count": 33,
   "metadata": {},
   "outputs": [
    {
     "data": {
      "text/plain": [
       "[1, 3, 5, 7, 9, 11]"
      ]
     },
     "execution_count": 33,
     "metadata": {},
     "output_type": "execute_result"
    }
   ],
   "source": [
    "x = grid_search_1.cv_results_['params']\n",
    "x_array = []\n",
    "for i, value in enumerate(x):\n",
    "    x_array.append(value['n_neighbors'])\n",
    "x_array"
   ]
  },
  {
   "cell_type": "code",
   "execution_count": 34,
   "metadata": {},
   "outputs": [
    {
     "data": {
      "text/plain": [
       "array([ 0.91428571,  0.86428571,  0.86428571,  0.8       ,  0.77857143,\n",
       "        0.77857143])"
      ]
     },
     "execution_count": 34,
     "metadata": {},
     "output_type": "execute_result"
    }
   ],
   "source": [
    "y = grid_search_1.cv_results_['mean_test_score']\n",
    "y"
   ]
  },
  {
   "cell_type": "code",
   "execution_count": 34,
   "metadata": {},
   "outputs": [
    {
     "data": {
      "application/javascript": [
       "/* Put everything inside the global mpl namespace */\n",
       "window.mpl = {};\n",
       "\n",
       "\n",
       "mpl.get_websocket_type = function() {\n",
       "    if (typeof(WebSocket) !== 'undefined') {\n",
       "        return WebSocket;\n",
       "    } else if (typeof(MozWebSocket) !== 'undefined') {\n",
       "        return MozWebSocket;\n",
       "    } else {\n",
       "        alert('Your browser does not have WebSocket support.' +\n",
       "              'Please try Chrome, Safari or Firefox ≥ 6. ' +\n",
       "              'Firefox 4 and 5 are also supported but you ' +\n",
       "              'have to enable WebSockets in about:config.');\n",
       "    };\n",
       "}\n",
       "\n",
       "mpl.figure = function(figure_id, websocket, ondownload, parent_element) {\n",
       "    this.id = figure_id;\n",
       "\n",
       "    this.ws = websocket;\n",
       "\n",
       "    this.supports_binary = (this.ws.binaryType != undefined);\n",
       "\n",
       "    if (!this.supports_binary) {\n",
       "        var warnings = document.getElementById(\"mpl-warnings\");\n",
       "        if (warnings) {\n",
       "            warnings.style.display = 'block';\n",
       "            warnings.textContent = (\n",
       "                \"This browser does not support binary websocket messages. \" +\n",
       "                    \"Performance may be slow.\");\n",
       "        }\n",
       "    }\n",
       "\n",
       "    this.imageObj = new Image();\n",
       "\n",
       "    this.context = undefined;\n",
       "    this.message = undefined;\n",
       "    this.canvas = undefined;\n",
       "    this.rubberband_canvas = undefined;\n",
       "    this.rubberband_context = undefined;\n",
       "    this.format_dropdown = undefined;\n",
       "\n",
       "    this.image_mode = 'full';\n",
       "\n",
       "    this.root = $('<div/>');\n",
       "    this._root_extra_style(this.root)\n",
       "    this.root.attr('style', 'display: inline-block');\n",
       "\n",
       "    $(parent_element).append(this.root);\n",
       "\n",
       "    this._init_header(this);\n",
       "    this._init_canvas(this);\n",
       "    this._init_toolbar(this);\n",
       "\n",
       "    var fig = this;\n",
       "\n",
       "    this.waiting = false;\n",
       "\n",
       "    this.ws.onopen =  function () {\n",
       "            fig.send_message(\"supports_binary\", {value: fig.supports_binary});\n",
       "            fig.send_message(\"send_image_mode\", {});\n",
       "            if (mpl.ratio != 1) {\n",
       "                fig.send_message(\"set_dpi_ratio\", {'dpi_ratio': mpl.ratio});\n",
       "            }\n",
       "            fig.send_message(\"refresh\", {});\n",
       "        }\n",
       "\n",
       "    this.imageObj.onload = function() {\n",
       "            if (fig.image_mode == 'full') {\n",
       "                // Full images could contain transparency (where diff images\n",
       "                // almost always do), so we need to clear the canvas so that\n",
       "                // there is no ghosting.\n",
       "                fig.context.clearRect(0, 0, fig.canvas.width, fig.canvas.height);\n",
       "            }\n",
       "            fig.context.drawImage(fig.imageObj, 0, 0);\n",
       "        };\n",
       "\n",
       "    this.imageObj.onunload = function() {\n",
       "        fig.ws.close();\n",
       "    }\n",
       "\n",
       "    this.ws.onmessage = this._make_on_message_function(this);\n",
       "\n",
       "    this.ondownload = ondownload;\n",
       "}\n",
       "\n",
       "mpl.figure.prototype._init_header = function() {\n",
       "    var titlebar = $(\n",
       "        '<div class=\"ui-dialog-titlebar ui-widget-header ui-corner-all ' +\n",
       "        'ui-helper-clearfix\"/>');\n",
       "    var titletext = $(\n",
       "        '<div class=\"ui-dialog-title\" style=\"width: 100%; ' +\n",
       "        'text-align: center; padding: 3px;\"/>');\n",
       "    titlebar.append(titletext)\n",
       "    this.root.append(titlebar);\n",
       "    this.header = titletext[0];\n",
       "}\n",
       "\n",
       "\n",
       "\n",
       "mpl.figure.prototype._canvas_extra_style = function(canvas_div) {\n",
       "\n",
       "}\n",
       "\n",
       "\n",
       "mpl.figure.prototype._root_extra_style = function(canvas_div) {\n",
       "\n",
       "}\n",
       "\n",
       "mpl.figure.prototype._init_canvas = function() {\n",
       "    var fig = this;\n",
       "\n",
       "    var canvas_div = $('<div/>');\n",
       "\n",
       "    canvas_div.attr('style', 'position: relative; clear: both; outline: 0');\n",
       "\n",
       "    function canvas_keyboard_event(event) {\n",
       "        return fig.key_event(event, event['data']);\n",
       "    }\n",
       "\n",
       "    canvas_div.keydown('key_press', canvas_keyboard_event);\n",
       "    canvas_div.keyup('key_release', canvas_keyboard_event);\n",
       "    this.canvas_div = canvas_div\n",
       "    this._canvas_extra_style(canvas_div)\n",
       "    this.root.append(canvas_div);\n",
       "\n",
       "    var canvas = $('<canvas/>');\n",
       "    canvas.addClass('mpl-canvas');\n",
       "    canvas.attr('style', \"left: 0; top: 0; z-index: 0; outline: 0\")\n",
       "\n",
       "    this.canvas = canvas[0];\n",
       "    this.context = canvas[0].getContext(\"2d\");\n",
       "\n",
       "    var backingStore = this.context.backingStorePixelRatio ||\n",
       "\tthis.context.webkitBackingStorePixelRatio ||\n",
       "\tthis.context.mozBackingStorePixelRatio ||\n",
       "\tthis.context.msBackingStorePixelRatio ||\n",
       "\tthis.context.oBackingStorePixelRatio ||\n",
       "\tthis.context.backingStorePixelRatio || 1;\n",
       "\n",
       "    mpl.ratio = (window.devicePixelRatio || 1) / backingStore;\n",
       "\n",
       "    var rubberband = $('<canvas/>');\n",
       "    rubberband.attr('style', \"position: absolute; left: 0; top: 0; z-index: 1;\")\n",
       "\n",
       "    var pass_mouse_events = true;\n",
       "\n",
       "    canvas_div.resizable({\n",
       "        start: function(event, ui) {\n",
       "            pass_mouse_events = false;\n",
       "        },\n",
       "        resize: function(event, ui) {\n",
       "            fig.request_resize(ui.size.width, ui.size.height);\n",
       "        },\n",
       "        stop: function(event, ui) {\n",
       "            pass_mouse_events = true;\n",
       "            fig.request_resize(ui.size.width, ui.size.height);\n",
       "        },\n",
       "    });\n",
       "\n",
       "    function mouse_event_fn(event) {\n",
       "        if (pass_mouse_events)\n",
       "            return fig.mouse_event(event, event['data']);\n",
       "    }\n",
       "\n",
       "    rubberband.mousedown('button_press', mouse_event_fn);\n",
       "    rubberband.mouseup('button_release', mouse_event_fn);\n",
       "    // Throttle sequential mouse events to 1 every 20ms.\n",
       "    rubberband.mousemove('motion_notify', mouse_event_fn);\n",
       "\n",
       "    rubberband.mouseenter('figure_enter', mouse_event_fn);\n",
       "    rubberband.mouseleave('figure_leave', mouse_event_fn);\n",
       "\n",
       "    canvas_div.on(\"wheel\", function (event) {\n",
       "        event = event.originalEvent;\n",
       "        event['data'] = 'scroll'\n",
       "        if (event.deltaY < 0) {\n",
       "            event.step = 1;\n",
       "        } else {\n",
       "            event.step = -1;\n",
       "        }\n",
       "        mouse_event_fn(event);\n",
       "    });\n",
       "\n",
       "    canvas_div.append(canvas);\n",
       "    canvas_div.append(rubberband);\n",
       "\n",
       "    this.rubberband = rubberband;\n",
       "    this.rubberband_canvas = rubberband[0];\n",
       "    this.rubberband_context = rubberband[0].getContext(\"2d\");\n",
       "    this.rubberband_context.strokeStyle = \"#000000\";\n",
       "\n",
       "    this._resize_canvas = function(width, height) {\n",
       "        // Keep the size of the canvas, canvas container, and rubber band\n",
       "        // canvas in synch.\n",
       "        canvas_div.css('width', width)\n",
       "        canvas_div.css('height', height)\n",
       "\n",
       "        canvas.attr('width', width * mpl.ratio);\n",
       "        canvas.attr('height', height * mpl.ratio);\n",
       "        canvas.attr('style', 'width: ' + width + 'px; height: ' + height + 'px;');\n",
       "\n",
       "        rubberband.attr('width', width);\n",
       "        rubberband.attr('height', height);\n",
       "    }\n",
       "\n",
       "    // Set the figure to an initial 600x600px, this will subsequently be updated\n",
       "    // upon first draw.\n",
       "    this._resize_canvas(600, 600);\n",
       "\n",
       "    // Disable right mouse context menu.\n",
       "    $(this.rubberband_canvas).bind(\"contextmenu\",function(e){\n",
       "        return false;\n",
       "    });\n",
       "\n",
       "    function set_focus () {\n",
       "        canvas.focus();\n",
       "        canvas_div.focus();\n",
       "    }\n",
       "\n",
       "    window.setTimeout(set_focus, 100);\n",
       "}\n",
       "\n",
       "mpl.figure.prototype._init_toolbar = function() {\n",
       "    var fig = this;\n",
       "\n",
       "    var nav_element = $('<div/>')\n",
       "    nav_element.attr('style', 'width: 100%');\n",
       "    this.root.append(nav_element);\n",
       "\n",
       "    // Define a callback function for later on.\n",
       "    function toolbar_event(event) {\n",
       "        return fig.toolbar_button_onclick(event['data']);\n",
       "    }\n",
       "    function toolbar_mouse_event(event) {\n",
       "        return fig.toolbar_button_onmouseover(event['data']);\n",
       "    }\n",
       "\n",
       "    for(var toolbar_ind in mpl.toolbar_items) {\n",
       "        var name = mpl.toolbar_items[toolbar_ind][0];\n",
       "        var tooltip = mpl.toolbar_items[toolbar_ind][1];\n",
       "        var image = mpl.toolbar_items[toolbar_ind][2];\n",
       "        var method_name = mpl.toolbar_items[toolbar_ind][3];\n",
       "\n",
       "        if (!name) {\n",
       "            // put a spacer in here.\n",
       "            continue;\n",
       "        }\n",
       "        var button = $('<button/>');\n",
       "        button.addClass('ui-button ui-widget ui-state-default ui-corner-all ' +\n",
       "                        'ui-button-icon-only');\n",
       "        button.attr('role', 'button');\n",
       "        button.attr('aria-disabled', 'false');\n",
       "        button.click(method_name, toolbar_event);\n",
       "        button.mouseover(tooltip, toolbar_mouse_event);\n",
       "\n",
       "        var icon_img = $('<span/>');\n",
       "        icon_img.addClass('ui-button-icon-primary ui-icon');\n",
       "        icon_img.addClass(image);\n",
       "        icon_img.addClass('ui-corner-all');\n",
       "\n",
       "        var tooltip_span = $('<span/>');\n",
       "        tooltip_span.addClass('ui-button-text');\n",
       "        tooltip_span.html(tooltip);\n",
       "\n",
       "        button.append(icon_img);\n",
       "        button.append(tooltip_span);\n",
       "\n",
       "        nav_element.append(button);\n",
       "    }\n",
       "\n",
       "    var fmt_picker_span = $('<span/>');\n",
       "\n",
       "    var fmt_picker = $('<select/>');\n",
       "    fmt_picker.addClass('mpl-toolbar-option ui-widget ui-widget-content');\n",
       "    fmt_picker_span.append(fmt_picker);\n",
       "    nav_element.append(fmt_picker_span);\n",
       "    this.format_dropdown = fmt_picker[0];\n",
       "\n",
       "    for (var ind in mpl.extensions) {\n",
       "        var fmt = mpl.extensions[ind];\n",
       "        var option = $(\n",
       "            '<option/>', {selected: fmt === mpl.default_extension}).html(fmt);\n",
       "        fmt_picker.append(option)\n",
       "    }\n",
       "\n",
       "    // Add hover states to the ui-buttons\n",
       "    $( \".ui-button\" ).hover(\n",
       "        function() { $(this).addClass(\"ui-state-hover\");},\n",
       "        function() { $(this).removeClass(\"ui-state-hover\");}\n",
       "    );\n",
       "\n",
       "    var status_bar = $('<span class=\"mpl-message\"/>');\n",
       "    nav_element.append(status_bar);\n",
       "    this.message = status_bar[0];\n",
       "}\n",
       "\n",
       "mpl.figure.prototype.request_resize = function(x_pixels, y_pixels) {\n",
       "    // Request matplotlib to resize the figure. Matplotlib will then trigger a resize in the client,\n",
       "    // which will in turn request a refresh of the image.\n",
       "    this.send_message('resize', {'width': x_pixels, 'height': y_pixels});\n",
       "}\n",
       "\n",
       "mpl.figure.prototype.send_message = function(type, properties) {\n",
       "    properties['type'] = type;\n",
       "    properties['figure_id'] = this.id;\n",
       "    this.ws.send(JSON.stringify(properties));\n",
       "}\n",
       "\n",
       "mpl.figure.prototype.send_draw_message = function() {\n",
       "    if (!this.waiting) {\n",
       "        this.waiting = true;\n",
       "        this.ws.send(JSON.stringify({type: \"draw\", figure_id: this.id}));\n",
       "    }\n",
       "}\n",
       "\n",
       "\n",
       "mpl.figure.prototype.handle_save = function(fig, msg) {\n",
       "    var format_dropdown = fig.format_dropdown;\n",
       "    var format = format_dropdown.options[format_dropdown.selectedIndex].value;\n",
       "    fig.ondownload(fig, format);\n",
       "}\n",
       "\n",
       "\n",
       "mpl.figure.prototype.handle_resize = function(fig, msg) {\n",
       "    var size = msg['size'];\n",
       "    if (size[0] != fig.canvas.width || size[1] != fig.canvas.height) {\n",
       "        fig._resize_canvas(size[0], size[1]);\n",
       "        fig.send_message(\"refresh\", {});\n",
       "    };\n",
       "}\n",
       "\n",
       "mpl.figure.prototype.handle_rubberband = function(fig, msg) {\n",
       "    var x0 = msg['x0'] / mpl.ratio;\n",
       "    var y0 = (fig.canvas.height - msg['y0']) / mpl.ratio;\n",
       "    var x1 = msg['x1'] / mpl.ratio;\n",
       "    var y1 = (fig.canvas.height - msg['y1']) / mpl.ratio;\n",
       "    x0 = Math.floor(x0) + 0.5;\n",
       "    y0 = Math.floor(y0) + 0.5;\n",
       "    x1 = Math.floor(x1) + 0.5;\n",
       "    y1 = Math.floor(y1) + 0.5;\n",
       "    var min_x = Math.min(x0, x1);\n",
       "    var min_y = Math.min(y0, y1);\n",
       "    var width = Math.abs(x1 - x0);\n",
       "    var height = Math.abs(y1 - y0);\n",
       "\n",
       "    fig.rubberband_context.clearRect(\n",
       "        0, 0, fig.canvas.width, fig.canvas.height);\n",
       "\n",
       "    fig.rubberband_context.strokeRect(min_x, min_y, width, height);\n",
       "}\n",
       "\n",
       "mpl.figure.prototype.handle_figure_label = function(fig, msg) {\n",
       "    // Updates the figure title.\n",
       "    fig.header.textContent = msg['label'];\n",
       "}\n",
       "\n",
       "mpl.figure.prototype.handle_cursor = function(fig, msg) {\n",
       "    var cursor = msg['cursor'];\n",
       "    switch(cursor)\n",
       "    {\n",
       "    case 0:\n",
       "        cursor = 'pointer';\n",
       "        break;\n",
       "    case 1:\n",
       "        cursor = 'default';\n",
       "        break;\n",
       "    case 2:\n",
       "        cursor = 'crosshair';\n",
       "        break;\n",
       "    case 3:\n",
       "        cursor = 'move';\n",
       "        break;\n",
       "    }\n",
       "    fig.rubberband_canvas.style.cursor = cursor;\n",
       "}\n",
       "\n",
       "mpl.figure.prototype.handle_message = function(fig, msg) {\n",
       "    fig.message.textContent = msg['message'];\n",
       "}\n",
       "\n",
       "mpl.figure.prototype.handle_draw = function(fig, msg) {\n",
       "    // Request the server to send over a new figure.\n",
       "    fig.send_draw_message();\n",
       "}\n",
       "\n",
       "mpl.figure.prototype.handle_image_mode = function(fig, msg) {\n",
       "    fig.image_mode = msg['mode'];\n",
       "}\n",
       "\n",
       "mpl.figure.prototype.updated_canvas_event = function() {\n",
       "    // Called whenever the canvas gets updated.\n",
       "    this.send_message(\"ack\", {});\n",
       "}\n",
       "\n",
       "// A function to construct a web socket function for onmessage handling.\n",
       "// Called in the figure constructor.\n",
       "mpl.figure.prototype._make_on_message_function = function(fig) {\n",
       "    return function socket_on_message(evt) {\n",
       "        if (evt.data instanceof Blob) {\n",
       "            /* FIXME: We get \"Resource interpreted as Image but\n",
       "             * transferred with MIME type text/plain:\" errors on\n",
       "             * Chrome.  But how to set the MIME type?  It doesn't seem\n",
       "             * to be part of the websocket stream */\n",
       "            evt.data.type = \"image/png\";\n",
       "\n",
       "            /* Free the memory for the previous frames */\n",
       "            if (fig.imageObj.src) {\n",
       "                (window.URL || window.webkitURL).revokeObjectURL(\n",
       "                    fig.imageObj.src);\n",
       "            }\n",
       "\n",
       "            fig.imageObj.src = (window.URL || window.webkitURL).createObjectURL(\n",
       "                evt.data);\n",
       "            fig.updated_canvas_event();\n",
       "            fig.waiting = false;\n",
       "            return;\n",
       "        }\n",
       "        else if (typeof evt.data === 'string' && evt.data.slice(0, 21) == \"data:image/png;base64\") {\n",
       "            fig.imageObj.src = evt.data;\n",
       "            fig.updated_canvas_event();\n",
       "            fig.waiting = false;\n",
       "            return;\n",
       "        }\n",
       "\n",
       "        var msg = JSON.parse(evt.data);\n",
       "        var msg_type = msg['type'];\n",
       "\n",
       "        // Call the  \"handle_{type}\" callback, which takes\n",
       "        // the figure and JSON message as its only arguments.\n",
       "        try {\n",
       "            var callback = fig[\"handle_\" + msg_type];\n",
       "        } catch (e) {\n",
       "            console.log(\"No handler for the '\" + msg_type + \"' message type: \", msg);\n",
       "            return;\n",
       "        }\n",
       "\n",
       "        if (callback) {\n",
       "            try {\n",
       "                // console.log(\"Handling '\" + msg_type + \"' message: \", msg);\n",
       "                callback(fig, msg);\n",
       "            } catch (e) {\n",
       "                console.log(\"Exception inside the 'handler_\" + msg_type + \"' callback:\", e, e.stack, msg);\n",
       "            }\n",
       "        }\n",
       "    };\n",
       "}\n",
       "\n",
       "// from http://stackoverflow.com/questions/1114465/getting-mouse-location-in-canvas\n",
       "mpl.findpos = function(e) {\n",
       "    //this section is from http://www.quirksmode.org/js/events_properties.html\n",
       "    var targ;\n",
       "    if (!e)\n",
       "        e = window.event;\n",
       "    if (e.target)\n",
       "        targ = e.target;\n",
       "    else if (e.srcElement)\n",
       "        targ = e.srcElement;\n",
       "    if (targ.nodeType == 3) // defeat Safari bug\n",
       "        targ = targ.parentNode;\n",
       "\n",
       "    // jQuery normalizes the pageX and pageY\n",
       "    // pageX,Y are the mouse positions relative to the document\n",
       "    // offset() returns the position of the element relative to the document\n",
       "    var x = e.pageX - $(targ).offset().left;\n",
       "    var y = e.pageY - $(targ).offset().top;\n",
       "\n",
       "    return {\"x\": x, \"y\": y};\n",
       "};\n",
       "\n",
       "/*\n",
       " * return a copy of an object with only non-object keys\n",
       " * we need this to avoid circular references\n",
       " * http://stackoverflow.com/a/24161582/3208463\n",
       " */\n",
       "function simpleKeys (original) {\n",
       "  return Object.keys(original).reduce(function (obj, key) {\n",
       "    if (typeof original[key] !== 'object')\n",
       "        obj[key] = original[key]\n",
       "    return obj;\n",
       "  }, {});\n",
       "}\n",
       "\n",
       "mpl.figure.prototype.mouse_event = function(event, name) {\n",
       "    var canvas_pos = mpl.findpos(event)\n",
       "\n",
       "    if (name === 'button_press')\n",
       "    {\n",
       "        this.canvas.focus();\n",
       "        this.canvas_div.focus();\n",
       "    }\n",
       "\n",
       "    var x = canvas_pos.x * mpl.ratio;\n",
       "    var y = canvas_pos.y * mpl.ratio;\n",
       "\n",
       "    this.send_message(name, {x: x, y: y, button: event.button,\n",
       "                             step: event.step,\n",
       "                             guiEvent: simpleKeys(event)});\n",
       "\n",
       "    /* This prevents the web browser from automatically changing to\n",
       "     * the text insertion cursor when the button is pressed.  We want\n",
       "     * to control all of the cursor setting manually through the\n",
       "     * 'cursor' event from matplotlib */\n",
       "    event.preventDefault();\n",
       "    return false;\n",
       "}\n",
       "\n",
       "mpl.figure.prototype._key_event_extra = function(event, name) {\n",
       "    // Handle any extra behaviour associated with a key event\n",
       "}\n",
       "\n",
       "mpl.figure.prototype.key_event = function(event, name) {\n",
       "\n",
       "    // Prevent repeat events\n",
       "    if (name == 'key_press')\n",
       "    {\n",
       "        if (event.which === this._key)\n",
       "            return;\n",
       "        else\n",
       "            this._key = event.which;\n",
       "    }\n",
       "    if (name == 'key_release')\n",
       "        this._key = null;\n",
       "\n",
       "    var value = '';\n",
       "    if (event.ctrlKey && event.which != 17)\n",
       "        value += \"ctrl+\";\n",
       "    if (event.altKey && event.which != 18)\n",
       "        value += \"alt+\";\n",
       "    if (event.shiftKey && event.which != 16)\n",
       "        value += \"shift+\";\n",
       "\n",
       "    value += 'k';\n",
       "    value += event.which.toString();\n",
       "\n",
       "    this._key_event_extra(event, name);\n",
       "\n",
       "    this.send_message(name, {key: value,\n",
       "                             guiEvent: simpleKeys(event)});\n",
       "    return false;\n",
       "}\n",
       "\n",
       "mpl.figure.prototype.toolbar_button_onclick = function(name) {\n",
       "    if (name == 'download') {\n",
       "        this.handle_save(this, null);\n",
       "    } else {\n",
       "        this.send_message(\"toolbar_button\", {name: name});\n",
       "    }\n",
       "};\n",
       "\n",
       "mpl.figure.prototype.toolbar_button_onmouseover = function(tooltip) {\n",
       "    this.message.textContent = tooltip;\n",
       "};\n",
       "mpl.toolbar_items = [[\"Home\", \"Reset original view\", \"fa fa-home icon-home\", \"home\"], [\"Back\", \"Back to  previous view\", \"fa fa-arrow-left icon-arrow-left\", \"back\"], [\"Forward\", \"Forward to next view\", \"fa fa-arrow-right icon-arrow-right\", \"forward\"], [\"\", \"\", \"\", \"\"], [\"Pan\", \"Pan axes with left mouse, zoom with right\", \"fa fa-arrows icon-move\", \"pan\"], [\"Zoom\", \"Zoom to rectangle\", \"fa fa-square-o icon-check-empty\", \"zoom\"], [\"\", \"\", \"\", \"\"], [\"Download\", \"Download plot\", \"fa fa-floppy-o icon-save\", \"download\"]];\n",
       "\n",
       "mpl.extensions = [\"eps\", \"jpeg\", \"pdf\", \"png\", \"ps\", \"raw\", \"svg\", \"tif\"];\n",
       "\n",
       "mpl.default_extension = \"png\";var comm_websocket_adapter = function(comm) {\n",
       "    // Create a \"websocket\"-like object which calls the given IPython comm\n",
       "    // object with the appropriate methods. Currently this is a non binary\n",
       "    // socket, so there is still some room for performance tuning.\n",
       "    var ws = {};\n",
       "\n",
       "    ws.close = function() {\n",
       "        comm.close()\n",
       "    };\n",
       "    ws.send = function(m) {\n",
       "        //console.log('sending', m);\n",
       "        comm.send(m);\n",
       "    };\n",
       "    // Register the callback with on_msg.\n",
       "    comm.on_msg(function(msg) {\n",
       "        //console.log('receiving', msg['content']['data'], msg);\n",
       "        // Pass the mpl event to the overriden (by mpl) onmessage function.\n",
       "        ws.onmessage(msg['content']['data'])\n",
       "    });\n",
       "    return ws;\n",
       "}\n",
       "\n",
       "mpl.mpl_figure_comm = function(comm, msg) {\n",
       "    // This is the function which gets called when the mpl process\n",
       "    // starts-up an IPython Comm through the \"matplotlib\" channel.\n",
       "\n",
       "    var id = msg.content.data.id;\n",
       "    // Get hold of the div created by the display call when the Comm\n",
       "    // socket was opened in Python.\n",
       "    var element = $(\"#\" + id);\n",
       "    var ws_proxy = comm_websocket_adapter(comm)\n",
       "\n",
       "    function ondownload(figure, format) {\n",
       "        window.open(figure.imageObj.src);\n",
       "    }\n",
       "\n",
       "    var fig = new mpl.figure(id, ws_proxy,\n",
       "                           ondownload,\n",
       "                           element.get(0));\n",
       "\n",
       "    // Call onopen now - mpl needs it, as it is assuming we've passed it a real\n",
       "    // web socket which is closed, not our websocket->open comm proxy.\n",
       "    ws_proxy.onopen();\n",
       "\n",
       "    fig.parent_element = element.get(0);\n",
       "    fig.cell_info = mpl.find_output_cell(\"<div id='\" + id + \"'></div>\");\n",
       "    if (!fig.cell_info) {\n",
       "        console.error(\"Failed to find cell for figure\", id, fig);\n",
       "        return;\n",
       "    }\n",
       "\n",
       "    var output_index = fig.cell_info[2]\n",
       "    var cell = fig.cell_info[0];\n",
       "\n",
       "};\n",
       "\n",
       "mpl.figure.prototype.handle_close = function(fig, msg) {\n",
       "    var width = fig.canvas.width/mpl.ratio\n",
       "    fig.root.unbind('remove')\n",
       "\n",
       "    // Update the output cell to use the data from the current canvas.\n",
       "    fig.push_to_output();\n",
       "    var dataURL = fig.canvas.toDataURL();\n",
       "    // Re-enable the keyboard manager in IPython - without this line, in FF,\n",
       "    // the notebook keyboard shortcuts fail.\n",
       "    IPython.keyboard_manager.enable()\n",
       "    $(fig.parent_element).html('<img src=\"' + dataURL + '\" width=\"' + width + '\">');\n",
       "    fig.close_ws(fig, msg);\n",
       "}\n",
       "\n",
       "mpl.figure.prototype.close_ws = function(fig, msg){\n",
       "    fig.send_message('closing', msg);\n",
       "    // fig.ws.close()\n",
       "}\n",
       "\n",
       "mpl.figure.prototype.push_to_output = function(remove_interactive) {\n",
       "    // Turn the data on the canvas into data in the output cell.\n",
       "    var width = this.canvas.width/mpl.ratio\n",
       "    var dataURL = this.canvas.toDataURL();\n",
       "    this.cell_info[1]['text/html'] = '<img src=\"' + dataURL + '\" width=\"' + width + '\">';\n",
       "}\n",
       "\n",
       "mpl.figure.prototype.updated_canvas_event = function() {\n",
       "    // Tell IPython that the notebook contents must change.\n",
       "    IPython.notebook.set_dirty(true);\n",
       "    this.send_message(\"ack\", {});\n",
       "    var fig = this;\n",
       "    // Wait a second, then push the new image to the DOM so\n",
       "    // that it is saved nicely (might be nice to debounce this).\n",
       "    setTimeout(function () { fig.push_to_output() }, 1000);\n",
       "}\n",
       "\n",
       "mpl.figure.prototype._init_toolbar = function() {\n",
       "    var fig = this;\n",
       "\n",
       "    var nav_element = $('<div/>')\n",
       "    nav_element.attr('style', 'width: 100%');\n",
       "    this.root.append(nav_element);\n",
       "\n",
       "    // Define a callback function for later on.\n",
       "    function toolbar_event(event) {\n",
       "        return fig.toolbar_button_onclick(event['data']);\n",
       "    }\n",
       "    function toolbar_mouse_event(event) {\n",
       "        return fig.toolbar_button_onmouseover(event['data']);\n",
       "    }\n",
       "\n",
       "    for(var toolbar_ind in mpl.toolbar_items){\n",
       "        var name = mpl.toolbar_items[toolbar_ind][0];\n",
       "        var tooltip = mpl.toolbar_items[toolbar_ind][1];\n",
       "        var image = mpl.toolbar_items[toolbar_ind][2];\n",
       "        var method_name = mpl.toolbar_items[toolbar_ind][3];\n",
       "\n",
       "        if (!name) { continue; };\n",
       "\n",
       "        var button = $('<button class=\"btn btn-default\" href=\"#\" title=\"' + name + '\"><i class=\"fa ' + image + ' fa-lg\"></i></button>');\n",
       "        button.click(method_name, toolbar_event);\n",
       "        button.mouseover(tooltip, toolbar_mouse_event);\n",
       "        nav_element.append(button);\n",
       "    }\n",
       "\n",
       "    // Add the status bar.\n",
       "    var status_bar = $('<span class=\"mpl-message\" style=\"text-align:right; float: right;\"/>');\n",
       "    nav_element.append(status_bar);\n",
       "    this.message = status_bar[0];\n",
       "\n",
       "    // Add the close button to the window.\n",
       "    var buttongrp = $('<div class=\"btn-group inline pull-right\"></div>');\n",
       "    var button = $('<button class=\"btn btn-mini btn-primary\" href=\"#\" title=\"Stop Interaction\"><i class=\"fa fa-power-off icon-remove icon-large\"></i></button>');\n",
       "    button.click(function (evt) { fig.handle_close(fig, {}); } );\n",
       "    button.mouseover('Stop Interaction', toolbar_mouse_event);\n",
       "    buttongrp.append(button);\n",
       "    var titlebar = this.root.find($('.ui-dialog-titlebar'));\n",
       "    titlebar.prepend(buttongrp);\n",
       "}\n",
       "\n",
       "mpl.figure.prototype._root_extra_style = function(el){\n",
       "    var fig = this\n",
       "    el.on(\"remove\", function(){\n",
       "\tfig.close_ws(fig, {});\n",
       "    });\n",
       "}\n",
       "\n",
       "mpl.figure.prototype._canvas_extra_style = function(el){\n",
       "    // this is important to make the div 'focusable\n",
       "    el.attr('tabindex', 0)\n",
       "    // reach out to IPython and tell the keyboard manager to turn it's self\n",
       "    // off when our div gets focus\n",
       "\n",
       "    // location in version 3\n",
       "    if (IPython.notebook.keyboard_manager) {\n",
       "        IPython.notebook.keyboard_manager.register_events(el);\n",
       "    }\n",
       "    else {\n",
       "        // location in version 2\n",
       "        IPython.keyboard_manager.register_events(el);\n",
       "    }\n",
       "\n",
       "}\n",
       "\n",
       "mpl.figure.prototype._key_event_extra = function(event, name) {\n",
       "    var manager = IPython.notebook.keyboard_manager;\n",
       "    if (!manager)\n",
       "        manager = IPython.keyboard_manager;\n",
       "\n",
       "    // Check for shift+enter\n",
       "    if (event.shiftKey && event.which == 13) {\n",
       "        this.canvas_div.blur();\n",
       "        event.shiftKey = false;\n",
       "        // Send a \"J\" for go to next cell\n",
       "        event.which = 74;\n",
       "        event.keyCode = 74;\n",
       "        manager.command_mode();\n",
       "        manager.handle_keydown(event);\n",
       "    }\n",
       "}\n",
       "\n",
       "mpl.figure.prototype.handle_save = function(fig, msg) {\n",
       "    fig.ondownload(fig, null);\n",
       "}\n",
       "\n",
       "\n",
       "mpl.find_output_cell = function(html_output) {\n",
       "    // Return the cell and output element which can be found *uniquely* in the notebook.\n",
       "    // Note - this is a bit hacky, but it is done because the \"notebook_saving.Notebook\"\n",
       "    // IPython event is triggered only after the cells have been serialised, which for\n",
       "    // our purposes (turning an active figure into a static one), is too late.\n",
       "    var cells = IPython.notebook.get_cells();\n",
       "    var ncells = cells.length;\n",
       "    for (var i=0; i<ncells; i++) {\n",
       "        var cell = cells[i];\n",
       "        if (cell.cell_type === 'code'){\n",
       "            for (var j=0; j<cell.output_area.outputs.length; j++) {\n",
       "                var data = cell.output_area.outputs[j];\n",
       "                if (data.data) {\n",
       "                    // IPython >= 3 moved mimebundle to data attribute of output\n",
       "                    data = data.data;\n",
       "                }\n",
       "                if (data['text/html'] == html_output) {\n",
       "                    return [cell, data, j];\n",
       "                }\n",
       "            }\n",
       "        }\n",
       "    }\n",
       "}\n",
       "\n",
       "// Register the function which deals with the matplotlib target/channel.\n",
       "// The kernel may be null if the page has been refreshed.\n",
       "if (IPython.notebook.kernel != null) {\n",
       "    IPython.notebook.kernel.comm_manager.register_target('matplotlib', mpl.mpl_figure_comm);\n",
       "}\n"
      ],
      "text/plain": [
       "<IPython.core.display.Javascript object>"
      ]
     },
     "metadata": {},
     "output_type": "display_data"
    },
    {
     "data": {
      "text/html": [
       "<img src=\"data:image/png;base64,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\" width=\"799.9999826604674\">"
      ],
      "text/plain": [
       "<IPython.core.display.HTML object>"
      ]
     },
     "metadata": {},
     "output_type": "display_data"
    },
    {
     "data": {
      "text/plain": [
       "<Container object of 6 artists>"
      ]
     },
     "execution_count": 34,
     "metadata": {},
     "output_type": "execute_result"
    }
   ],
   "source": [
    "axes = plt.gca()\n",
    "axes.set_ylim([0.79,0.93])\n",
    "plt.xticks( x_array)\n",
    "plt.bar(x_array,y)"
   ]
  },
  {
   "cell_type": "code",
   "execution_count": 35,
   "metadata": {},
   "outputs": [
    {
     "data": {
      "text/plain": [
       "0.93333333333333335"
      ]
     },
     "execution_count": 35,
     "metadata": {},
     "output_type": "execute_result"
    }
   ],
   "source": [
    "knn = KNeighborsClassifier(n_neighbors=1)\n",
    "knn.fit(x_crabs_train,y_crabs_train)\n",
    "knn.score(x_crabs_test,y_crabs_test)"
   ]
  },
  {
   "cell_type": "markdown",
   "metadata": {},
   "source": [
    "## 3 - Naive Bayes\n",
    "### 3.1 crabs.csv"
   ]
  },
  {
   "cell_type": "code",
   "execution_count": 72,
   "metadata": {},
   "outputs": [],
   "source": [
    "f_crabs = p_crabs_naive.drop(['O'], axis=1)\n",
    "t_crabs = p_crabs_naive['O']"
   ]
  },
  {
   "cell_type": "code",
   "execution_count": 73,
   "metadata": {},
   "outputs": [],
   "source": [
    "x_crabs_train, x_crabs_test, y_crabs_train, y_crabs_test = train_test_split(f_crabs, t_crabs, test_size=0.3, random_state=0)"
   ]
  },
  {
   "cell_type": "code",
   "execution_count": 74,
   "metadata": {},
   "outputs": [
    {
     "data": {
      "text/plain": [
       "0.65000000000000002"
      ]
     },
     "execution_count": 74,
     "metadata": {},
     "output_type": "execute_result"
    }
   ],
   "source": [
    "naive = GaussianNB()\n",
    "naive.fit(x_crabs_train,y_crabs_train)\n",
    "naive.score(x_crabs_test,y_crabs_test)"
   ]
  },
  {
   "cell_type": "code",
   "execution_count": 77,
   "metadata": {},
   "outputs": [
    {
     "data": {
      "text/plain": [
       "0.57499999999999996"
      ]
     },
     "execution_count": 77,
     "metadata": {},
     "output_type": "execute_result"
    }
   ],
   "source": [
    "naive = GaussianNB()\n",
    "scores = cross_val_score(naive, f_crabs, t_crabs, cv=5)\n",
    "scores.mean()"
   ]
  },
  {
   "cell_type": "raw",
   "metadata": {},
   "source": []
  },
  {
   "cell_type": "markdown",
   "metadata": {},
   "source": [
    "## 4 - Decision Tree\n",
    "### 4.1 crabs.csv"
   ]
  },
  {
   "cell_type": "code",
   "execution_count": 101,
   "metadata": {},
   "outputs": [],
   "source": [
    "f_crabs = p_crabs_tree.drop(['O'], axis=1)\n",
    "t_crabs = p_crabs_tree['O']"
   ]
  },
  {
   "cell_type": "code",
   "execution_count": 102,
   "metadata": {},
   "outputs": [],
   "source": [
    "x_crabs_train, x_crabs_test, y_crabs_train, y_crabs_test = train_test_split(f_crabs, t_crabs, test_size=0.3, random_state=0)"
   ]
  },
  {
   "cell_type": "code",
   "execution_count": 107,
   "metadata": {},
   "outputs": [
    {
     "data": {
      "text/plain": [
       "GridSearchCV(cv=5, error_score='raise',\n",
       "       estimator=DecisionTreeClassifier(class_weight=None, criterion='gini', max_depth=None,\n",
       "            max_features=None, max_leaf_nodes=None,\n",
       "            min_impurity_decrease=0.0, min_impurity_split=None,\n",
       "            min_samples_leaf=1, min_samples_split=2,\n",
       "            min_weight_fraction_leaf=0.0, presort=False, random_state=None,\n",
       "            splitter='best'),\n",
       "       fit_params=None, iid=True, n_jobs=1,\n",
       "       param_grid=[{'max_features': range(1, 6), 'max_depth': [1, 2, 3, 4, 5]}],\n",
       "       pre_dispatch='2*n_jobs', refit=True, return_train_score=True,\n",
       "       scoring=None, verbose=0)"
      ]
     },
     "execution_count": 107,
     "metadata": {},
     "output_type": "execute_result"
    }
   ],
   "source": [
    "tree_model = DecisionTreeClassifier()\n",
    "parameter_space = [{'max_depth': [1,2,3,4,5], 'max_features': range(1, 6)}]\n",
    "grid_search = GridSearchCV(tree_model, parameter_space, cv=5)\n",
    "grid_search.fit(x_crabs_train, y_crabs_train)"
   ]
  },
  {
   "cell_type": "code",
   "execution_count": 108,
   "metadata": {},
   "outputs": [
    {
     "data": {
      "text/plain": [
       "{'max_depth': 4, 'max_features': 5}"
      ]
     },
     "execution_count": 108,
     "metadata": {},
     "output_type": "execute_result"
    }
   ],
   "source": [
    "grid_search.best_params_"
   ]
  },
  {
   "cell_type": "code",
   "execution_count": 110,
   "metadata": {},
   "outputs": [
    {
     "data": {
      "text/plain": [
       "0.88209121245828692"
      ]
     },
     "execution_count": 110,
     "metadata": {},
     "output_type": "execute_result"
    }
   ],
   "source": [
    "tree_model = DecisionTreeClassifier(random_state=0,max_depth=4, max_features=5)\n",
    "\n",
    "# Fit the model\n",
    "tree_model.fit(x_crabs_train, y_crabs_train)\n",
    "\n",
    "# Make the predictions\n",
    "y_pred = tree_model.predict_proba(x_crabs_test)\n",
    "\n",
    "# Score the predictions\n",
    "score = roc_auc_score(y_crabs_test, y_pred[:,1])\n",
    "score"
   ]
  },
  {
   "cell_type": "code",
   "execution_count": 112,
   "metadata": {},
   "outputs": [],
   "source": [
    "tree.export_graphviz(tree_model,out_file='tree.dot',feature_names=['FL','RW','CL','CW','BD','M'])"
   ]
  },
  {
   "cell_type": "markdown",
   "metadata": {},
   "source": [
    "## 5 - Neural Network\n",
    "### 5.1 crabs.csv"
   ]
  },
  {
   "cell_type": "code",
   "execution_count": 126,
   "metadata": {},
   "outputs": [
    {
     "data": {
      "text/html": [
       "<div>\n",
       "<style>\n",
       "    .dataframe thead tr:only-child th {\n",
       "        text-align: right;\n",
       "    }\n",
       "\n",
       "    .dataframe thead th {\n",
       "        text-align: left;\n",
       "    }\n",
       "\n",
       "    .dataframe tbody tr th {\n",
       "        vertical-align: top;\n",
       "    }\n",
       "</style>\n",
       "<table border=\"1\" class=\"dataframe\">\n",
       "  <thead>\n",
       "    <tr style=\"text-align: right;\">\n",
       "      <th></th>\n",
       "      <th>FL</th>\n",
       "      <th>RW</th>\n",
       "      <th>CL</th>\n",
       "      <th>CW</th>\n",
       "      <th>BD</th>\n",
       "      <th>M</th>\n",
       "    </tr>\n",
       "  </thead>\n",
       "  <tbody>\n",
       "    <tr>\n",
       "      <th>131</th>\n",
       "      <td>18.0</td>\n",
       "      <td>13.4</td>\n",
       "      <td>36.7</td>\n",
       "      <td>41.3</td>\n",
       "      <td>17.1</td>\n",
       "      <td>1</td>\n",
       "    </tr>\n",
       "    <tr>\n",
       "      <th>96</th>\n",
       "      <td>16.7</td>\n",
       "      <td>16.1</td>\n",
       "      <td>36.6</td>\n",
       "      <td>41.9</td>\n",
       "      <td>15.4</td>\n",
       "      <td>0</td>\n",
       "    </tr>\n",
       "    <tr>\n",
       "      <th>181</th>\n",
       "      <td>18.8</td>\n",
       "      <td>15.2</td>\n",
       "      <td>35.8</td>\n",
       "      <td>40.5</td>\n",
       "      <td>16.6</td>\n",
       "      <td>0</td>\n",
       "    </tr>\n",
       "    <tr>\n",
       "      <th>19</th>\n",
       "      <td>13.9</td>\n",
       "      <td>11.1</td>\n",
       "      <td>29.2</td>\n",
       "      <td>33.3</td>\n",
       "      <td>12.1</td>\n",
       "      <td>1</td>\n",
       "    </tr>\n",
       "    <tr>\n",
       "      <th>153</th>\n",
       "      <td>12.6</td>\n",
       "      <td>11.5</td>\n",
       "      <td>25.0</td>\n",
       "      <td>28.1</td>\n",
       "      <td>11.5</td>\n",
       "      <td>0</td>\n",
       "    </tr>\n",
       "  </tbody>\n",
       "</table>\n",
       "</div>"
      ],
      "text/plain": [
       "       FL    RW    CL    CW    BD  M\n",
       "131  18.0  13.4  36.7  41.3  17.1  1\n",
       "96   16.7  16.1  36.6  41.9  15.4  0\n",
       "181  18.8  15.2  35.8  40.5  16.6  0\n",
       "19   13.9  11.1  29.2  33.3  12.1  1\n",
       "153  12.6  11.5  25.0  28.1  11.5  0"
      ]
     },
     "execution_count": 126,
     "metadata": {},
     "output_type": "execute_result"
    }
   ],
   "source": []
  },
  {
   "cell_type": "code",
   "execution_count": 111,
   "metadata": {},
   "outputs": [
    {
     "ename": "NameError",
     "evalue": "name 'X_train' is not defined",
     "output_type": "error",
     "traceback": [
      "\u001b[0;31m---------------------------------------------------------------------------\u001b[0m",
      "\u001b[0;31mNameError\u001b[0m                                 Traceback (most recent call last)",
      "\u001b[0;32m<ipython-input-111-b4e0e9c79407>\u001b[0m in \u001b[0;36m<module>\u001b[0;34m()\u001b[0m\n\u001b[1;32m      8\u001b[0m \u001b[0mrandom_search\u001b[0m \u001b[0;34m=\u001b[0m \u001b[0mRandomizedSearchCV\u001b[0m\u001b[0;34m(\u001b[0m\u001b[0mclassifier\u001b[0m\u001b[0;34m,\u001b[0m \u001b[0mparameter_space_dist\u001b[0m\u001b[0;34m,\u001b[0m \u001b[0mcv\u001b[0m\u001b[0;34m=\u001b[0m\u001b[0;36m5\u001b[0m\u001b[0;34m,\u001b[0m \u001b[0mn_iter\u001b[0m\u001b[0;34m=\u001b[0m\u001b[0;36m500\u001b[0m\u001b[0;34m)\u001b[0m\u001b[0;34m\u001b[0m\u001b[0m\n\u001b[1;32m      9\u001b[0m \u001b[0;34m\u001b[0m\u001b[0m\n\u001b[0;32m---> 10\u001b[0;31m \u001b[0mrandom_search\u001b[0m\u001b[0;34m.\u001b[0m\u001b[0mfit\u001b[0m\u001b[0;34m(\u001b[0m\u001b[0mX_train\u001b[0m\u001b[0;34m,\u001b[0m \u001b[0my_train\u001b[0m\u001b[0;34m)\u001b[0m\u001b[0;34m\u001b[0m\u001b[0m\n\u001b[0m",
      "\u001b[0;31mNameError\u001b[0m: name 'X_train' is not defined"
     ]
    }
   ],
   "source": []
  },
  {
   "cell_type": "code",
   "execution_count": null,
   "metadata": {},
   "outputs": [],
   "source": []
  },
  {
   "cell_type": "code",
   "execution_count": null,
   "metadata": {},
   "outputs": [],
   "source": []
  },
  {
   "cell_type": "code",
   "execution_count": null,
   "metadata": {},
   "outputs": [],
   "source": []
  },
  {
   "cell_type": "code",
   "execution_count": null,
   "metadata": {},
   "outputs": [],
   "source": []
  },
  {
   "cell_type": "code",
   "execution_count": null,
   "metadata": {},
   "outputs": [],
   "source": []
  },
  {
   "cell_type": "code",
   "execution_count": null,
   "metadata": {},
   "outputs": [],
   "source": []
  },
  {
   "cell_type": "code",
   "execution_count": null,
   "metadata": {},
   "outputs": [],
   "source": []
  },
  {
   "cell_type": "code",
   "execution_count": null,
   "metadata": {},
   "outputs": [],
   "source": []
  },
  {
   "cell_type": "code",
   "execution_count": null,
   "metadata": {},
   "outputs": [],
   "source": []
  },
  {
   "cell_type": "code",
   "execution_count": null,
   "metadata": {},
   "outputs": [],
   "source": []
  },
  {
   "cell_type": "code",
   "execution_count": null,
   "metadata": {},
   "outputs": [],
   "source": []
  },
  {
   "cell_type": "code",
   "execution_count": null,
   "metadata": {},
   "outputs": [],
   "source": []
  },
  {
   "cell_type": "code",
   "execution_count": null,
   "metadata": {},
   "outputs": [],
   "source": []
  },
  {
   "cell_type": "code",
   "execution_count": null,
   "metadata": {},
   "outputs": [],
   "source": []
  },
  {
   "cell_type": "code",
   "execution_count": null,
   "metadata": {},
   "outputs": [],
   "source": []
  },
  {
   "cell_type": "code",
   "execution_count": null,
   "metadata": {},
   "outputs": [],
   "source": []
  },
  {
   "cell_type": "code",
   "execution_count": null,
   "metadata": {},
   "outputs": [],
   "source": []
  },
  {
   "cell_type": "code",
   "execution_count": null,
   "metadata": {},
   "outputs": [],
   "source": []
  },
  {
   "cell_type": "code",
   "execution_count": null,
   "metadata": {},
   "outputs": [],
   "source": []
  },
  {
   "cell_type": "code",
   "execution_count": null,
   "metadata": {},
   "outputs": [],
   "source": []
  },
  {
   "cell_type": "code",
   "execution_count": null,
   "metadata": {},
   "outputs": [],
   "source": []
  },
  {
   "cell_type": "code",
   "execution_count": null,
   "metadata": {},
   "outputs": [],
   "source": []
  },
  {
   "cell_type": "code",
   "execution_count": null,
   "metadata": {},
   "outputs": [],
   "source": []
  },
  {
   "cell_type": "code",
   "execution_count": null,
   "metadata": {},
   "outputs": [],
   "source": []
  },
  {
   "cell_type": "code",
   "execution_count": null,
   "metadata": {},
   "outputs": [],
   "source": []
  },
  {
   "cell_type": "code",
   "execution_count": null,
   "metadata": {},
   "outputs": [],
   "source": []
  },
  {
   "cell_type": "code",
   "execution_count": null,
   "metadata": {},
   "outputs": [],
   "source": []
  },
  {
   "cell_type": "code",
   "execution_count": null,
   "metadata": {},
   "outputs": [],
   "source": []
  },
  {
   "cell_type": "code",
   "execution_count": null,
   "metadata": {},
   "outputs": [],
   "source": []
  },
  {
   "cell_type": "code",
   "execution_count": null,
   "metadata": {},
   "outputs": [],
   "source": []
  },
  {
   "cell_type": "code",
   "execution_count": null,
   "metadata": {},
   "outputs": [],
   "source": []
  },
  {
   "cell_type": "code",
   "execution_count": null,
   "metadata": {},
   "outputs": [],
   "source": []
  },
  {
   "cell_type": "code",
   "execution_count": null,
   "metadata": {},
   "outputs": [],
   "source": []
  },
  {
   "cell_type": "code",
   "execution_count": null,
   "metadata": {},
   "outputs": [],
   "source": []
  },
  {
   "cell_type": "code",
   "execution_count": null,
   "metadata": {},
   "outputs": [],
   "source": []
  },
  {
   "cell_type": "code",
   "execution_count": null,
   "metadata": {},
   "outputs": [],
   "source": []
  },
  {
   "cell_type": "code",
   "execution_count": null,
   "metadata": {},
   "outputs": [],
   "source": []
  },
  {
   "cell_type": "code",
   "execution_count": null,
   "metadata": {},
   "outputs": [],
   "source": []
  },
  {
   "cell_type": "code",
   "execution_count": null,
   "metadata": {},
   "outputs": [],
   "source": []
  },
  {
   "cell_type": "code",
   "execution_count": null,
   "metadata": {},
   "outputs": [],
   "source": []
  },
  {
   "cell_type": "code",
   "execution_count": null,
   "metadata": {},
   "outputs": [],
   "source": []
  },
  {
   "cell_type": "code",
   "execution_count": null,
   "metadata": {},
   "outputs": [],
   "source": []
  },
  {
   "cell_type": "code",
   "execution_count": null,
   "metadata": {},
   "outputs": [],
   "source": []
  },
  {
   "cell_type": "code",
   "execution_count": null,
   "metadata": {},
   "outputs": [],
   "source": []
  },
  {
   "cell_type": "code",
   "execution_count": null,
   "metadata": {},
   "outputs": [],
   "source": []
  },
  {
   "cell_type": "code",
   "execution_count": null,
   "metadata": {},
   "outputs": [],
   "source": []
  },
  {
   "cell_type": "code",
   "execution_count": null,
   "metadata": {},
   "outputs": [],
   "source": []
  },
  {
   "cell_type": "code",
   "execution_count": null,
   "metadata": {},
   "outputs": [],
   "source": []
  },
  {
   "cell_type": "code",
   "execution_count": null,
   "metadata": {},
   "outputs": [],
   "source": []
  },
  {
   "cell_type": "code",
   "execution_count": null,
   "metadata": {},
   "outputs": [],
   "source": []
  },
  {
   "cell_type": "code",
   "execution_count": null,
   "metadata": {},
   "outputs": [],
   "source": []
  },
  {
   "cell_type": "code",
   "execution_count": null,
   "metadata": {},
   "outputs": [],
   "source": []
  },
  {
   "cell_type": "code",
   "execution_count": null,
   "metadata": {},
   "outputs": [],
   "source": []
  }
 ],
 "metadata": {
  "kernelspec": {
   "display_name": "Python 3",
   "language": "python",
   "name": "python3"
  },
  "language_info": {
   "codemirror_mode": {
    "name": "ipython",
    "version": 3
   },
   "file_extension": ".py",
   "mimetype": "text/x-python",
   "name": "python",
   "nbconvert_exporter": "python",
   "pygments_lexer": "ipython3",
   "version": "3.5.3"
  }
 },
 "nbformat": 4,
 "nbformat_minor": 2
}
