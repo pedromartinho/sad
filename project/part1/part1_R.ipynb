{
 "cells": [
  {
   "cell_type": "markdown",
   "metadata": {},
   "source": [
    "## Import packages"
   ]
  },
  {
   "cell_type": "code",
   "execution_count": null,
   "metadata": {},
   "outputs": [],
   "source": [
    "install.packages(\"arules\")\n",
    "library(arules)"
   ]
  },
  {
   "cell_type": "code",
   "execution_count": null,
   "metadata": {
    "scrolled": true
   },
   "outputs": [],
   "source": [
    "install.packages(\"dplyr\")"
   ]
  },
  {
   "cell_type": "code",
   "execution_count": null,
   "metadata": {},
   "outputs": [],
   "source": [
    "discretize_all = function(table_d, type, n){\n",
    "    for (i in 1:ncol(table_d)) {\n",
    "        if (is.numeric(table_d[[i]])) {\n",
    "            table_d[[i]]  =  discretize(table_d[[i]],  method  =  type,  categories  =  n, ordered=TRUE)\n",
    "        }\n",
    "    }\n",
    "    print(summary(table_d))\n",
    "    return(table_d);\n",
    "}"
   ]
  },
  {
   "cell_type": "markdown",
   "metadata": {},
   "source": [
    "#### Change directory"
   ]
  },
  {
   "cell_type": "code",
   "execution_count": null,
   "metadata": {},
   "outputs": [],
   "source": [
    "setwd(\"~/Documents/IST/SAD/project\")"
   ]
  },
  {
   "cell_type": "markdown",
   "metadata": {},
   "source": [
    "## 1. - crabs.csv\n",
    "### a."
   ]
  },
  {
   "cell_type": "code",
   "execution_count": null,
   "metadata": {},
   "outputs": [],
   "source": [
    "library(readr)\n",
    "crabs <-read_csv(\"data/crabs.csv\")\n",
    "crabs$sp <- NULL\n",
    "crabs$index <- NULL\n",
    "class(crabs)"
   ]
  },
  {
   "cell_type": "code",
   "execution_count": null,
   "metadata": {},
   "outputs": [],
   "source": [
    "library(dplyr)\n",
    "crabs = mutate_if(crabs, is.character, as.factor)"
   ]
  },
  {
   "cell_type": "code",
   "execution_count": null,
   "metadata": {},
   "outputs": [],
   "source": [
    "head(crabs,n=2)"
   ]
  },
  {
   "cell_type": "code",
   "execution_count": null,
   "metadata": {},
   "outputs": [],
   "source": [
    "is <- apriori(crabs_int_2, parameter = list(support = 0.5, target=\"rules\"))\n",
    "is_o_2 <- as(is,\"data.frame\")\n",
    "head(is_o_2,n=4)"
   ]
  },
  {
   "cell_type": "code",
   "execution_count": null,
   "metadata": {},
   "outputs": [],
   "source": [
    "crabs_int_2 = discretize_all(crabs, \"interval\",2)\n",
    "min_sup = 87/200\n",
    "min_x_2 = min_sup\n",
    "i=0 \n",
    "\n",
    "sup_2 <- vector()\n",
    "rules_2 <- vector()\n",
    "confidence_2 <- vector()\n",
    "while (min_sup <= 1){\n",
    "    sup_2[i] <- min_sup\n",
    "    i=i+1\n",
    "    min_sup = min_sup + 0.001\n",
    "}\n",
    "i=1\n",
    "for (value in sup_2){\n",
    "    is <- apriori(crabs_int_2, parameter = list(support = value, target=\"rules\"))\n",
    "    is_o <- as(is,\"data.frame\")\n",
    "    rules_2[i]<-length(is)\n",
    "    #ruledf = data.frame(lhs = labels(lhs(is_o))$elements,rhs = labels(rhs(is_o))$elements, is_o@quality)\n",
    "    total_con=0\n",
    "    if (is.na(mean(is_o[[\"confidence\"]]))){\n",
    "        confidence_2[i] <- 0\n",
    "    } else {\n",
    "        confidence_2[i] <- mean(is_o[[\"confidence\"]])\n",
    "        \n",
    "    }\n",
    "    i=i+1\n",
    "}"
   ]
  },
  {
   "cell_type": "code",
   "execution_count": null,
   "metadata": {},
   "outputs": [],
   "source": [
    "d = data.frame(sup_2,\n",
    "           rules_2,\n",
    "           confidence_2, 2)\n",
    "par(mar = c(5,5,2,5))\n",
    "with(d\n",
    "     , plot(sup_2, rules_2, type=\"l\", col=\"red3\", \n",
    "             ylab=\"rules_2\",xlim=c(min_x_2,0.6)))\n",
    "par(new = T)\n",
    "with(d, plot(sup_2, confidence_2, axes=F, xlab=NA,ylab=NA, type=\"l\",xlim=c(min_x_2,0.6),ylim=c(0,1)))\n",
    "axis(side = 4)\n",
    "mtext(side = 4, line = 3, 'Number genes selected')\n",
    "legend(\"bottomleft\",\n",
    "       legend=c(\"rules_2\", \"confidence\"),\n",
    "       lty=c(1,1), col=c(\"red3\", \"black\"))"
   ]
  },
  {
   "cell_type": "code",
   "execution_count": null,
   "metadata": {},
   "outputs": [],
   "source": [
    "is <- apriori(crabs_int_3, parameter = list(support = 0.5, target=\"rules\"))\n",
    "is_o_3 <- as(is,\"data.frame\")\n",
    "head(is_o_3,n=2)"
   ]
  },
  {
   "cell_type": "code",
   "execution_count": null,
   "metadata": {},
   "outputs": [],
   "source": [
    "crabs_int_3 = discretize_all(crabs, \"interval\",3)\n",
    "min_sup = 31/200\n",
    "min_x_3 = min_sup\n",
    "i=0 \n",
    "sup_3 <- vector()\n",
    "rules_3 <- vector()\n",
    "confidence_3 <- vector()\n",
    "while (min_sup <= 1){\n",
    "    sup_3[i] <- min_sup\n",
    "    i=i+1\n",
    "    min_sup = min_sup + 0.001\n",
    "}\n",
    "i=1\n",
    "for (value in sup_3){\n",
    "    is <- apriori(crabs_int_3, parameter = list(support = value, target=\"rules\"))\n",
    "    rules_3[i]<-length(is)\n",
    "    is_o <- as(is,\"data.frame\")\n",
    "    \n",
    "    #ruledf = data.frame(lhs = labels(lhs(is_o))$elements,rhs = labels(rhs(is_o))$elements, is_o@quality)\n",
    "    total_con=0\n",
    "    if (is.na(mean(is_o[[\"confidence\"]]))){\n",
    "        confidence_3[i] <- 0\n",
    "    } else {\n",
    "        confidence_3[i] <- mean(is_o[[\"confidence\"]])\n",
    "        \n",
    "    }\n",
    "    i=i+1\n",
    "}\n"
   ]
  },
  {
   "cell_type": "code",
   "execution_count": null,
   "metadata": {},
   "outputs": [],
   "source": [
    "d = data.frame(sup_3,\n",
    "           rules_3,\n",
    "           confidence_3, 2)\n",
    "par(mar = c(5,5,2,5))\n",
    "with(d\n",
    "     , plot(sup_3, rules_3, type=\"l\", col=\"red3\", \n",
    "             ylab=\"rules_3\",xlim=c(min_x_3,0.6)))\n",
    "par(new = T)\n",
    "with(d, plot(sup_3, confidence_3, axes=F, xlab=NA,ylab=NA, type=\"l\",xlim=c(min_x_3,0.55),ylim=c(0,1)))\n",
    "axis(side = 4)\n",
    "mtext(side = 4, line = 3, 'Number genes selected')\n",
    "legend(\"bottomleft\",\n",
    "       legend=c(\"rules_3\", \"confidence\"),\n",
    "       lty=c(1,1), col=c(\"red3\", \"black\"))"
   ]
  },
  {
   "cell_type": "code",
   "execution_count": null,
   "metadata": {},
   "outputs": [],
   "source": [
    "crabs_int_4 = discretize_all(crabs, \"interval\",4)\n",
    "min_sup = 31/200\n",
    "min_x_4 = min_sup\n",
    "i=0 \n",
    "sup_4 <- vector()\n",
    "rules_4 <- vector()\n",
    "confidence_4 <- vector()\n",
    "while (min_sup <= 1){\n",
    "    sup_4[i] <- min_sup\n",
    "    i=i+1\n",
    "    min_sup = min_sup + 0.001\n",
    "}\n",
    "i=1\n",
    "for (value in sup_4){\n",
    "    is <- apriori(crabs_int_4, parameter = list(support = value, target=\"rules\"))\n",
    "    rules_4[i]<-length(is)\n",
    "    is_o <- as(is,\"data.frame\")\n",
    "    \n",
    "    #ruledf = data.frame(lhs = labels(lhs(is_o))$elements,rhs = labels(rhs(is_o))$elements, is_o@quality)\n",
    "    total_con=0\n",
    "    if (is.na(mean(is_o[[\"confidence\"]]))){\n",
    "        confidence_4[i] <- 0\n",
    "    } else {\n",
    "        confidence_4[i] <- mean(is_o[[\"confidence\"]])\n",
    "        \n",
    "    }\n",
    "    i=i+1\n",
    "}"
   ]
  },
  {
   "cell_type": "code",
   "execution_count": null,
   "metadata": {},
   "outputs": [],
   "source": [
    "d = data.frame(sup_4,\n",
    "           rules_4,\n",
    "           confidence_4, 2)\n",
    "par(mar = c(5,5,2,5))\n",
    "with(d\n",
    "     , plot(sup_4, rules_4, type=\"l\", col=\"red3\", \n",
    "             ylab=\"rules_4\",xlim=c(min_x_4,0.4)))\n",
    "par(new = T)\n",
    "with(d, plot(sup_4, confidence_4, axes=F, xlab=NA, ylab=NA, type=\"l\",xlim=c(min_x_4,0.4),ylim=c(0,1)))\n",
    "axis(side = 4)\n",
    "mtext(side = 4, line = 3, 'Number genes selected')\n",
    "legend(\"bottomleft\",\n",
    "       legend=c(\"rules_4\", \"confidence\"),\n",
    "       lty=c(1,1), col=c(\"red3\", \"black\"))\n"
   ]
  },
  {
   "cell_type": "code",
   "execution_count": null,
   "metadata": {},
   "outputs": [],
   "source": [
    "crabs_int_5 = discretize_all(crabs, \"interval\",5)\n",
    "min_sup = 6/200\n",
    "min_x_5 = min_sup\n",
    "i=0 \n",
    "sup_5 <- vector()\n",
    "rules_5 <- vector()\n",
    "confidence_5 <- vector()\n",
    "while (min_sup <= 1){\n",
    "    sup_5[i] <- min_sup\n",
    "    i=i+1\n",
    "    min_sup = min_sup + 0.001\n",
    "}\n",
    "i=1\n",
    "for (value in sup_5){\n",
    "    is <- apriori(crabs_int_5, parameter = list(support = value, target=\"rules\"))\n",
    "    rules_5[i]<-length(is)\n",
    "    is_o <- as(is,\"data.frame\")\n",
    "    \n",
    "    #ruledf = data.frame(lhs = labels(lhs(is_o))$elements,rhs = labels(rhs(is_o))$elements, is_o@quality)\n",
    "    total_con=0\n",
    "    if (is.na(mean(is_o[[\"confidence\"]]))){\n",
    "        confidence_5[i] <- 0\n",
    "    } else {\n",
    "        confidence_5[i] <- mean(is_o[[\"confidence\"]])\n",
    "        \n",
    "    }\n",
    "    i=i+1\n",
    "}"
   ]
  },
  {
   "cell_type": "code",
   "execution_count": null,
   "metadata": {},
   "outputs": [],
   "source": [
    "d = data.frame(sup_5,\n",
    "           rules_5,\n",
    "           confidence_5, 2)\n",
    "par(mar = c(5,5,2,5))\n",
    "with(d\n",
    "     , plot(sup_5, rules_5, type=\"l\", col=\"red3\", \n",
    "             ylab=\"rules_5\",xlim=c(min_x_5,0.57)))\n",
    "par(new = T)\n",
    "with(d, plot(sup_5, confidence_5, axes=F, xlab=NA, ylab=NA, type=\"l\",xlim=c(min_x_5,0.3),ylim=c(0,1)))\n",
    "axis(side = 4)\n",
    "mtext(side = 4, line = 3, 'Number genes selected')\n",
    "legend(\"bottomleft\",\n",
    "       legend=c(\"rules_5\", \"confidence\"),\n",
    "       lty=c(1,1), col=c(\"red3\", \"black\"))"
   ]
  },
  {
   "cell_type": "markdown",
   "metadata": {},
   "source": [
    "### b."
   ]
  },
  {
   "cell_type": "code",
   "execution_count": null,
   "metadata": {},
   "outputs": [],
   "source": [
    "adult = read.transactions(\"data/adult.csv\",format=\"basket\", sep=\",\")"
   ]
  },
  {
   "cell_type": "code",
   "execution_count": null,
   "metadata": {},
   "outputs": [],
   "source": [
    "adult_rules <- apriori(adult, parameter = list(supp = 0.5, conf = 0.9, target = \"rules\")) "
   ]
  },
  {
   "cell_type": "code",
   "execution_count": null,
   "metadata": {},
   "outputs": [],
   "source": [
    "inspect(adult_rules)"
   ]
  },
  {
   "cell_type": "markdown",
   "metadata": {},
   "source": [
    "## 2. - vote.csv\n",
    "### a."
   ]
  },
  {
   "cell_type": "code",
   "execution_count": null,
   "metadata": {},
   "outputs": [],
   "source": [
    "library(readr)\n",
    "vote <-read_csv(\"data/vote.csv\")"
   ]
  },
  {
   "cell_type": "markdown",
   "metadata": {},
   "source": [
    "#### Este comando dá erro e é previsto dar erro, pelo menos é o que a stora diz no doc de apoio. Mas não percebo bem porque é que isso acontece"
   ]
  },
  {
   "cell_type": "code",
   "execution_count": null,
   "metadata": {},
   "outputs": [],
   "source": [
    "rules_vote <-apriori(vote, parameter = list(supp = 0.1, conf = 1, target = \"rules\")"
   ]
  },
  {
   "cell_type": "code",
   "execution_count": null,
   "metadata": {},
   "outputs": [],
   "source": [
    "library(dplyr)\n",
    "vote = mutate_if(vote, is.character, as.factor)\n",
    "head(vote,n=5)"
   ]
  },
  {
   "cell_type": "code",
   "execution_count": null,
   "metadata": {},
   "outputs": [],
   "source": [
    "vote_rules_sup_0_1 <-apriori(vote, parameter = list(supp = 0.1, conf = 0.8,maxlen=100)) \n",
    "vote_rules_sup_0_2 <-apriori(vote, parameter = list(supp = 0.2, conf = 0.8,maxlen=100)) \n",
    "vote_rules_sup_0_5 <-apriori(vote, parameter = list(supp = 0.5, conf = 0.8,maxlen=100)) \n",
    "vote_rules_conf_0_1 <-apriori(vote, parameter = list(supp = 0.1, conf = 0.1,maxlen=100)) \n",
    "vote_rules_conf_0_2 <-apriori(vote, parameter = list(supp = 0.2, conf = 0.2,maxlen=100)) \n",
    "vote_rules_conf_0_5 <-apriori(vote, parameter = list(supp = 0.5, conf = 0.5,maxlen=100))  "
   ]
  },
  {
   "cell_type": "markdown",
   "metadata": {},
   "source": [
    "### b."
   ]
  },
  {
   "cell_type": "code",
   "execution_count": null,
   "metadata": {},
   "outputs": [],
   "source": [
    "inspect(head(sort(vote_rules_sup_0_1,by=\"lift\",decreasing = FALSE),n=3))"
   ]
  },
  {
   "cell_type": "code",
   "execution_count": null,
   "metadata": {},
   "outputs": [],
   "source": [
    "inspect(head(sort(vote_rules_sup_0_2,by=\"lift\",decreasing = FALSE),n=3))"
   ]
  },
  {
   "cell_type": "code",
   "execution_count": null,
   "metadata": {},
   "outputs": [],
   "source": [
    "inspect(head(sort(vote_rules_sup_0_5,by=\"lift\",decreasing = FALSE),n=3))"
   ]
  },
  {
   "cell_type": "code",
   "execution_count": null,
   "metadata": {},
   "outputs": [],
   "source": [
    "inspect(head(sort(vote_rules_conf_0_1,by=\"lift\",decreasing = FALSE),n=3))"
   ]
  },
  {
   "cell_type": "code",
   "execution_count": null,
   "metadata": {},
   "outputs": [],
   "source": [
    "inspect(head(sort(vote_rules_conf_0_2,by=\"lift\",decreasing = FALSE),n=3))"
   ]
  },
  {
   "cell_type": "code",
   "execution_count": null,
   "metadata": {},
   "outputs": [],
   "source": [
    "inspect(head(sort(vote_rules_conf_0_5,by=\"lift\",decreasing = FALSE),n=3))"
   ]
  },
  {
   "cell_type": "markdown",
   "metadata": {},
   "source": [
    "### c."
   ]
  },
  {
   "cell_type": "markdown",
   "metadata": {},
   "source": [
    "Case não funciona porque convictio = NaN"
   ]
  },
  {
   "cell_type": "code",
   "execution_count": null,
   "metadata": {},
   "outputs": [],
   "source": [
    "case1 = cbind(as(vote_rules_sup_0_1, \"data.frame\"), conviction=interestMeasure(vote_rules_sup_0_1, \"conviction\", vote))\n",
    "case1 = case1[complete.cases(case1), ]\n",
    "dim(case1)\n",
    "head(case1,n=3)\n",
    "n1 = which(case1$conviction >= 1)\n",
    "length(n1)"
   ]
  },
  {
   "cell_type": "code",
   "execution_count": null,
   "metadata": {},
   "outputs": [],
   "source": [
    "case2 = cbind(as(vote_rules_sup_0_2, \"data.frame\"), conviction=interestMeasure(vote_rules_sup_0_2, \"conviction\", vote))\n",
    "case2 = case2[complete.cases(case2), ]\n",
    "dim(case2)\n",
    "head(case2,n=3)\n",
    "n2 = which(case2$conviction >= 1)\n",
    "length(n2)"
   ]
  },
  {
   "cell_type": "code",
   "execution_count": null,
   "metadata": {},
   "outputs": [],
   "source": [
    "case3 = cbind(as(vote_rules_sup_0_5, \"data.frame\"), conviction=interestMeasure(vote_rules_sup_0_5, \"conviction\", vote))\n",
    "case3 = case1[complete.cases(case3), ]\n",
    "dim(case3)\n",
    "head(case3,n=3)\n",
    "n3 = which(case3$conviction >= 1)\n",
    "length(n3)"
   ]
  },
  {
   "cell_type": "code",
   "execution_count": null,
   "metadata": {},
   "outputs": [],
   "source": [
    "case4 = cbind(as(vote_rules_conf_0_1, \"data.frame\"), conviction=interestMeasure(vote_rules_conf_0_1, \"conviction\", vote))\n",
    "case4 = case4[complete.cases(case4), ]\n",
    "dim(case4)\n",
    "head(case4,n=3)\n",
    "n4 = which(case4$conviction >= 1)\n",
    "length(n4)"
   ]
  },
  {
   "cell_type": "code",
   "execution_count": null,
   "metadata": {},
   "outputs": [],
   "source": [
    "case5 = cbind(as(vote_rules_conf_0_2, \"data.frame\"), conviction=interestMeasure(vote_rules_conf_0_2, \"conviction\", vote))\n",
    "case5 = case5[complete.cases(case5), ]\n",
    "dim(case5)\n",
    "head(case5,n=3)\n",
    "n5 = which(case5$conviction >= 1)\n",
    "length(n5)"
   ]
  },
  {
   "cell_type": "code",
   "execution_count": null,
   "metadata": {},
   "outputs": [],
   "source": [
    "case6 = cbind(as(vote_rules_conf_0_5, \"data.frame\"), conviction=interestMeasure(vote_rules_conf_0_5, \"conviction\", vote))\n",
    "case6 = case6[complete.cases(case6), ]\n",
    "dim(case6)\n",
    "head(case6,n=3)\n",
    "n6 = which(case6$conviction >= 1)\n",
    "length(n6)"
   ]
  },
  {
   "cell_type": "markdown",
   "metadata": {},
   "source": [
    "### d."
   ]
  },
  {
   "cell_type": "markdown",
   "metadata": {},
   "source": [
    "Não sei bem o que responder aqui!"
   ]
  },
  {
   "cell_type": "markdown",
   "metadata": {},
   "source": [
    "## 3. - supermarket.csv\n",
    "### a."
   ]
  },
  {
   "cell_type": "code",
   "execution_count": null,
   "metadata": {},
   "outputs": [],
   "source": [
    "supermarket <-read_csv(\"data/supermarket.csv\")\n",
    "head(supermarket,n=5)"
   ]
  },
  {
   "cell_type": "markdown",
   "metadata": {},
   "source": [
    "#### Aqui tambem é previsto dar erro, mas também não percebo bem porquê :o\n"
   ]
  },
  {
   "cell_type": "code",
   "execution_count": null,
   "metadata": {},
   "outputs": [],
   "source": [
    "supermaket_rules <-apriori(supermarket, parameter = list(supp =0.9, conf = 1, maxlen=100, target = \"rules\")) "
   ]
  },
  {
   "cell_type": "code",
   "execution_count": null,
   "metadata": {},
   "outputs": [],
   "source": [
    "supermarket = mutate_if(supermarket, is.character, as.factor)"
   ]
  },
  {
   "cell_type": "code",
   "execution_count": null,
   "metadata": {},
   "outputs": [],
   "source": [
    "supermaket_rules <-apriori(supermarket, parameter = list(supp = 0.9, conf = 1, maxlen=10, target = \"rules\")) "
   ]
  },
  {
   "cell_type": "code",
   "execution_count": null,
   "metadata": {},
   "outputs": [],
   "source": [
    "write(supermaket_rules[1:10],\"\",sep=\"\\n \", quote=TRUE)"
   ]
  },
  {
   "cell_type": "code",
   "execution_count": null,
   "metadata": {},
   "outputs": [],
   "source": []
  },
  {
   "cell_type": "markdown",
   "metadata": {},
   "source": [
    "### b."
   ]
  },
  {
   "cell_type": "code",
   "execution_count": null,
   "metadata": {},
   "outputs": [],
   "source": []
  },
  {
   "cell_type": "markdown",
   "metadata": {},
   "source": [
    "### c."
   ]
  },
  {
   "cell_type": "code",
   "execution_count": null,
   "metadata": {},
   "outputs": [],
   "source": []
  },
  {
   "cell_type": "markdown",
   "metadata": {},
   "source": [
    "## 4. - glass.csv\n",
    "### a."
   ]
  },
  {
   "cell_type": "code",
   "execution_count": null,
   "metadata": {},
   "outputs": [],
   "source": [
    "glass <-read_csv(\"data/glass.csv\")\n",
    "head(glass,n=5)"
   ]
  },
  {
   "cell_type": "code",
   "execution_count": null,
   "metadata": {},
   "outputs": [],
   "source": [
    "glass_d_int = discretize_all(glass, \"interval\",3)\n",
    "class(glass_d_int)"
   ]
  },
  {
   "cell_type": "code",
   "execution_count": null,
   "metadata": {},
   "outputs": [],
   "source": [
    "head(glass_d_int,n=5)"
   ]
  },
  {
   "cell_type": "code",
   "execution_count": null,
   "metadata": {},
   "outputs": [],
   "source": [
    "glass_d_fr = discretize_all(glass, \"frequency\",3)"
   ]
  },
  {
   "cell_type": "code",
   "execution_count": null,
   "metadata": {},
   "outputs": [],
   "source": [
    "head(glass_d_fr,n=5)"
   ]
  },
  {
   "cell_type": "code",
   "execution_count": null,
   "metadata": {},
   "outputs": [],
   "source": [
    "rules <-apriori(supermarket, parameter = list(supp = 0.9, conf = 1, maxlen=10, target = \"rules\")) "
   ]
  }
 ],
 "metadata": {
  "kernelspec": {
   "display_name": "R",
   "language": "R",
   "name": "ir"
  },
  "language_info": {
   "codemirror_mode": "r",
   "file_extension": ".r",
   "mimetype": "text/x-r-source",
   "name": "R",
   "pygments_lexer": "r",
   "version": "3.3.2"
  }
 },
 "nbformat": 4,
 "nbformat_minor": 2
}
